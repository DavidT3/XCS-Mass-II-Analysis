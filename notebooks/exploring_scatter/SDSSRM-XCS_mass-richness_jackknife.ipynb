{
 "cells": [
  {
   "cell_type": "markdown",
   "id": "81692e5e-0d8b-4c14-85db-06ff66f516fd",
   "metadata": {},
   "source": [
    "# Explore SDSSRM-XCS Scatter: Jackknifing to assess $M_{\\rm{tot}}$-$\\lambda_{\\rm{RM}}$"
   ]
  },
  {
   "cell_type": "markdown",
   "id": "ff9fd48f-4094-4a86-9023-1112b6afcf18",
   "metadata": {},
   "source": [
    "This section of the project explores potential reasons and diagnostics of galaxy cluster/group scaling relation scatter using the new SDSSRM-XCS relations constructed in this work from the properties measured in the first paper of this series [(Turner et al. 2024)](https://ui.adsabs.harvard.edu/abs/2025MNRAS.tmp...10T/abstract).\n",
    "\n",
    "Here we particularly focus on using the common 'jackknife' re-sampling technique in an attempt to identify particular clusters that are the dominant cause of a large scatter measurement for some of our more important scaling relations. Such data points (if they are present) may be genuine measurement outliers, caused by some fitting failure or analysis problem for an individual cluster in the first paper of this series. They may also be clusters that _are_ intrinsically more scattered. \n",
    "\n",
    "Scaling relation fits were performed using the XGA interface to the R scaling-relation fitting package LIRA, see the paper for full details."
   ]
  },
  {
   "cell_type": "markdown",
   "id": "3f872958-120d-4d1a-9130-ff7faa2a5a58",
   "metadata": {},
   "source": [
    "## Main takeaways"
   ]
  },
  {
   "cell_type": "markdown",
   "id": "7ce35d3c-cd72-4b83-9532-590c26c111b0",
   "metadata": {},
   "source": [
    "In summary:\n",
    "\n",
    "* **<span style=\"color:red\">.......</span>**"
   ]
  },
  {
   "cell_type": "markdown",
   "id": "b972caff-47d5-41e2-9a67-76e65d4f373f",
   "metadata": {},
   "source": [
    "## Import Statements "
   ]
  },
  {
   "cell_type": "code",
   "execution_count": 1,
   "id": "a42eebf1-f6a5-4acc-a014-e92561cf50d1",
   "metadata": {},
   "outputs": [],
   "source": [
    "import pandas as pd\n",
    "pd.set_option('display.max_columns', 500)\n",
    "import numpy as np\n",
    "from astropy.units import Quantity\n",
    "from astropy.cosmology import LambdaCDM\n",
    "import pickle\n",
    "import matplotlib\n",
    "from matplotlib import pyplot as plt\n",
    "from matplotlib.colors import LinearSegmentedColormap\n",
    "from tqdm import tqdm\n",
    "\n",
    "# This adds the directory above to the path, allowing me to import the common functions that I've written in\n",
    "#  common.py - this just saves me repeating boring code and makes sure its all consistent\n",
    "import sys\n",
    "sys.path.insert(0, '..')\n",
    "from common import xcs_cosmo, m_norm, rich_norm, leave_one_jackknife\n",
    "\n",
    "import xga\n",
    "from xga.relations.fit import scaling_relation_lira\n",
    "\n",
    "# Setting up this constant that controls the confidence intervals calculated for the scatter change\n",
    "#  distributions - makes it much easier to change the exact value later if we need too. This is \n",
    "#  what is going to be used to define the scatter-dominating clusters.\n",
    "CONF_PERC = 90"
   ]
  },
  {
   "cell_type": "markdown",
   "id": "d9853dfe-61be-403c-b0e7-a6a3f3997372",
   "metadata": {},
   "source": [
    "## Loading data files and relations"
   ]
  },
  {
   "cell_type": "markdown",
   "id": "b9a0b8f8-e5c0-461c-b46d-196b5c7ab62e",
   "metadata": {},
   "source": [
    "We load the 'base' SDSSRM-XCS sample file, containing some basic information about galaxy cluster names, positions, and redshifts. We also load the SDSSRM-XCS cluster property results files from the first paper of this series. \n",
    "\n",
    "The scaling relations which we are performing our bootstrapping scatter assessment on are also loaded in here."
   ]
  },
  {
   "cell_type": "markdown",
   "id": "1a193200-1275-498b-90ad-baf0033a8354",
   "metadata": {},
   "source": [
    "### SDSSRM-XCS base sample"
   ]
  },
  {
   "cell_type": "code",
   "execution_count": 2,
   "id": "160d3018-815f-4308-8790-9c092493bb58",
   "metadata": {},
   "outputs": [
    {
     "data": {
      "text/html": [
       "<div>\n",
       "<style scoped>\n",
       "    .dataframe tbody tr th:only-of-type {\n",
       "        vertical-align: middle;\n",
       "    }\n",
       "\n",
       "    .dataframe tbody tr th {\n",
       "        vertical-align: top;\n",
       "    }\n",
       "\n",
       "    .dataframe thead th {\n",
       "        text-align: right;\n",
       "    }\n",
       "</style>\n",
       "<table border=\"1\" class=\"dataframe\">\n",
       "  <thead>\n",
       "    <tr style=\"text-align: right;\">\n",
       "      <th></th>\n",
       "      <th>name</th>\n",
       "      <th>MEM_MATCH_ID</th>\n",
       "      <th>xapa_ra</th>\n",
       "      <th>xapa_dec</th>\n",
       "      <th>rm_ra</th>\n",
       "      <th>rm_dec</th>\n",
       "      <th>z</th>\n",
       "      <th>r500</th>\n",
       "      <th>r500-</th>\n",
       "      <th>r500+</th>\n",
       "      <th>richness</th>\n",
       "      <th>richness_err</th>\n",
       "      <th>XCS_NAME</th>\n",
       "      <th>R_LAMBDA</th>\n",
       "      <th>xmm_targeted</th>\n",
       "      <th>xmm_serendipitous</th>\n",
       "    </tr>\n",
       "  </thead>\n",
       "  <tbody>\n",
       "    <tr>\n",
       "      <th>0</th>\n",
       "      <td>SDSSXCS-124</td>\n",
       "      <td>124</td>\n",
       "      <td>0.80058</td>\n",
       "      <td>-6.09182</td>\n",
       "      <td>0.798261</td>\n",
       "      <td>-6.091694</td>\n",
       "      <td>0.2475</td>\n",
       "      <td>1181.028</td>\n",
       "      <td>21.202</td>\n",
       "      <td>23.203</td>\n",
       "      <td>109.550</td>\n",
       "      <td>4.490</td>\n",
       "      <td>XMMXCS J000312.1-060530.5</td>\n",
       "      <td>1.018410</td>\n",
       "      <td>True</td>\n",
       "      <td>False</td>\n",
       "    </tr>\n",
       "    <tr>\n",
       "      <th>1</th>\n",
       "      <td>SDSSXCS-2789</td>\n",
       "      <td>2789</td>\n",
       "      <td>0.95554</td>\n",
       "      <td>2.06802</td>\n",
       "      <td>0.956981</td>\n",
       "      <td>2.066469</td>\n",
       "      <td>0.1053</td>\n",
       "      <td>1007.861</td>\n",
       "      <td>17.194</td>\n",
       "      <td>17.202</td>\n",
       "      <td>38.904</td>\n",
       "      <td>2.830</td>\n",
       "      <td>XMMXCS J000349.3+020404.8</td>\n",
       "      <td>0.827942</td>\n",
       "      <td>True</td>\n",
       "      <td>False</td>\n",
       "    </tr>\n",
       "    <tr>\n",
       "      <th>2</th>\n",
       "      <td>SDSSXCS-290</td>\n",
       "      <td>290</td>\n",
       "      <td>2.72264</td>\n",
       "      <td>29.16102</td>\n",
       "      <td>2.714137</td>\n",
       "      <td>29.161154</td>\n",
       "      <td>0.3485</td>\n",
       "      <td>913.052</td>\n",
       "      <td>30.879</td>\n",
       "      <td>31.210</td>\n",
       "      <td>105.096</td>\n",
       "      <td>5.994</td>\n",
       "      <td>XMMXCS J001053.4+290939.6</td>\n",
       "      <td>1.009990</td>\n",
       "      <td>True</td>\n",
       "      <td>False</td>\n",
       "    </tr>\n",
       "    <tr>\n",
       "      <th>3</th>\n",
       "      <td>SDSSXCS-1018</td>\n",
       "      <td>1018</td>\n",
       "      <td>4.40633</td>\n",
       "      <td>-0.87619</td>\n",
       "      <td>4.406711</td>\n",
       "      <td>-0.878340</td>\n",
       "      <td>0.2144</td>\n",
       "      <td>902.259</td>\n",
       "      <td>22.445</td>\n",
       "      <td>23.366</td>\n",
       "      <td>56.997</td>\n",
       "      <td>3.219</td>\n",
       "      <td>XMMXCS J001737.5-005234.2</td>\n",
       "      <td>0.893655</td>\n",
       "      <td>False</td>\n",
       "      <td>True</td>\n",
       "    </tr>\n",
       "    <tr>\n",
       "      <th>4</th>\n",
       "      <td>SDSSXCS-134</td>\n",
       "      <td>134</td>\n",
       "      <td>4.90839</td>\n",
       "      <td>3.60982</td>\n",
       "      <td>4.911069</td>\n",
       "      <td>3.599257</td>\n",
       "      <td>0.2773</td>\n",
       "      <td>1123.321</td>\n",
       "      <td>19.219</td>\n",
       "      <td>19.226</td>\n",
       "      <td>108.604</td>\n",
       "      <td>4.792</td>\n",
       "      <td>XMMXCS J001938.0+033635.3</td>\n",
       "      <td>1.016645</td>\n",
       "      <td>True</td>\n",
       "      <td>False</td>\n",
       "    </tr>\n",
       "    <tr>\n",
       "      <th>5</th>\n",
       "      <td>SDSSXCS-119</td>\n",
       "      <td>119</td>\n",
       "      <td>8.46470</td>\n",
       "      <td>-7.86290</td>\n",
       "      <td>8.471426</td>\n",
       "      <td>-7.869543</td>\n",
       "      <td>0.3042</td>\n",
       "      <td>944.275</td>\n",
       "      <td>46.422</td>\n",
       "      <td>46.747</td>\n",
       "      <td>128.192</td>\n",
       "      <td>5.697</td>\n",
       "      <td>XMMXCS J003351.5-075146.4</td>\n",
       "      <td>1.050926</td>\n",
       "      <td>True</td>\n",
       "      <td>False</td>\n",
       "    </tr>\n",
       "  </tbody>\n",
       "</table>\n",
       "</div>"
      ],
      "text/plain": [
       "           name  MEM_MATCH_ID  xapa_ra  xapa_dec     rm_ra     rm_dec       z  \\\n",
       "0   SDSSXCS-124           124  0.80058  -6.09182  0.798261  -6.091694  0.2475   \n",
       "1  SDSSXCS-2789          2789  0.95554   2.06802  0.956981   2.066469  0.1053   \n",
       "2   SDSSXCS-290           290  2.72264  29.16102  2.714137  29.161154  0.3485   \n",
       "3  SDSSXCS-1018          1018  4.40633  -0.87619  4.406711  -0.878340  0.2144   \n",
       "4   SDSSXCS-134           134  4.90839   3.60982  4.911069   3.599257  0.2773   \n",
       "5   SDSSXCS-119           119  8.46470  -7.86290  8.471426  -7.869543  0.3042   \n",
       "\n",
       "       r500   r500-   r500+  richness  richness_err  \\\n",
       "0  1181.028  21.202  23.203   109.550         4.490   \n",
       "1  1007.861  17.194  17.202    38.904         2.830   \n",
       "2   913.052  30.879  31.210   105.096         5.994   \n",
       "3   902.259  22.445  23.366    56.997         3.219   \n",
       "4  1123.321  19.219  19.226   108.604         4.792   \n",
       "5   944.275  46.422  46.747   128.192         5.697   \n",
       "\n",
       "                    XCS_NAME  R_LAMBDA  xmm_targeted  xmm_serendipitous  \n",
       "0  XMMXCS J000312.1-060530.5  1.018410          True              False  \n",
       "1  XMMXCS J000349.3+020404.8  0.827942          True              False  \n",
       "2  XMMXCS J001053.4+290939.6  1.009990          True              False  \n",
       "3  XMMXCS J001737.5-005234.2  0.893655         False               True  \n",
       "4  XMMXCS J001938.0+033635.3  1.016645          True              False  \n",
       "5  XMMXCS J003351.5-075146.4  1.050926          True              False  "
      ]
     },
     "execution_count": 2,
     "metadata": {},
     "output_type": "execute_result"
    }
   ],
   "source": [
    "sdssxcs_base = pd.read_csv(\"../../sample_files/SDSSRM-XCS_base_sample.csv\")\n",
    "sdssxcs_base.head(6)"
   ]
  },
  {
   "cell_type": "markdown",
   "id": "511f8384-c62d-427c-9123-30bff50a97e0",
   "metadata": {},
   "source": [
    "Calculating E(z) values for these clusters:"
   ]
  },
  {
   "cell_type": "code",
   "execution_count": 3,
   "id": "4329835d-c807-40eb-8e95-821cd25f271d",
   "metadata": {},
   "outputs": [],
   "source": [
    "sdssxcs_base['E'] = xcs_cosmo.efunc(sdssxcs_base['z'].values)"
   ]
  },
  {
   "cell_type": "markdown",
   "id": "ff3aafe4-ce67-4060-b763-d1cee7da6acf",
   "metadata": {},
   "source": [
    "### SDSSRM-XCS $T_{\\rm{X}}$ and $L_{\\rm{X}}$"
   ]
  },
  {
   "cell_type": "code",
   "execution_count": 4,
   "id": "e64a06bb-94ed-4f75-a5d6-e3a063947907",
   "metadata": {},
   "outputs": [
    {
     "data": {
      "text/html": [
       "<div>\n",
       "<style scoped>\n",
       "    .dataframe tbody tr th:only-of-type {\n",
       "        vertical-align: middle;\n",
       "    }\n",
       "\n",
       "    .dataframe tbody tr th {\n",
       "        vertical-align: top;\n",
       "    }\n",
       "\n",
       "    .dataframe thead th {\n",
       "        text-align: right;\n",
       "    }\n",
       "</style>\n",
       "<table border=\"1\" class=\"dataframe\">\n",
       "  <thead>\n",
       "    <tr style=\"text-align: right;\">\n",
       "      <th></th>\n",
       "      <th>name</th>\n",
       "      <th>Tx_500</th>\n",
       "      <th>Tx_500-</th>\n",
       "      <th>Tx_500+</th>\n",
       "      <th>Lx52_500</th>\n",
       "      <th>Lx52_500-</th>\n",
       "      <th>Lx52_500+</th>\n",
       "      <th>Lxbol_500</th>\n",
       "      <th>Lxbol_500-</th>\n",
       "      <th>Lxbol_500+</th>\n",
       "      <th>Tx_2500</th>\n",
       "      <th>Tx_2500-</th>\n",
       "      <th>Tx_2500+</th>\n",
       "      <th>Lx52_2500</th>\n",
       "      <th>Lx52_2500-</th>\n",
       "      <th>Lx52_2500+</th>\n",
       "      <th>Lxbol_2500</th>\n",
       "      <th>Lxbol_2500-</th>\n",
       "      <th>Lxbol_2500+</th>\n",
       "      <th>Tx_500ce</th>\n",
       "      <th>Tx_500ce-</th>\n",
       "      <th>Tx_500ce+</th>\n",
       "      <th>Lx52_500ce</th>\n",
       "      <th>Lx52_500ce-</th>\n",
       "      <th>Lx52_500ce+</th>\n",
       "      <th>Lxbol_500ce</th>\n",
       "      <th>Lxbol_500ce-</th>\n",
       "      <th>Lxbol_500ce+</th>\n",
       "    </tr>\n",
       "  </thead>\n",
       "  <tbody>\n",
       "    <tr>\n",
       "      <th>0</th>\n",
       "      <td>SDSSXCS-124</td>\n",
       "      <td>6.92000</td>\n",
       "      <td>0.116389</td>\n",
       "      <td>0.111642</td>\n",
       "      <td>5.310408e+44</td>\n",
       "      <td>2.494586e+42</td>\n",
       "      <td>3.193270e+42</td>\n",
       "      <td>2.039754e+45</td>\n",
       "      <td>2.082091e+43</td>\n",
       "      <td>1.712354e+43</td>\n",
       "      <td>7.08946</td>\n",
       "      <td>0.097823</td>\n",
       "      <td>0.097929</td>\n",
       "      <td>4.008461e+44</td>\n",
       "      <td>2.163312e+42</td>\n",
       "      <td>1.887667e+42</td>\n",
       "      <td>1.557705e+45</td>\n",
       "      <td>1.278003e+43</td>\n",
       "      <td>1.166420e+43</td>\n",
       "      <td>6.78098</td>\n",
       "      <td>0.134306</td>\n",
       "      <td>0.158223</td>\n",
       "      <td>3.684827e+44</td>\n",
       "      <td>2.702225e+42</td>\n",
       "      <td>2.572964e+42</td>\n",
       "      <td>1.401501e+45</td>\n",
       "      <td>1.425781e+43</td>\n",
       "      <td>1.280567e+43</td>\n",
       "    </tr>\n",
       "    <tr>\n",
       "      <th>1</th>\n",
       "      <td>SDSSXCS-2789</td>\n",
       "      <td>4.54033</td>\n",
       "      <td>0.073600</td>\n",
       "      <td>0.074023</td>\n",
       "      <td>1.029575e+44</td>\n",
       "      <td>5.149604e+41</td>\n",
       "      <td>6.858712e+41</td>\n",
       "      <td>3.213527e+44</td>\n",
       "      <td>3.914562e+42</td>\n",
       "      <td>3.124017e+42</td>\n",
       "      <td>4.44237</td>\n",
       "      <td>0.057404</td>\n",
       "      <td>0.057774</td>\n",
       "      <td>7.125319e+43</td>\n",
       "      <td>4.164749e+41</td>\n",
       "      <td>3.793543e+41</td>\n",
       "      <td>2.201238e+44</td>\n",
       "      <td>1.767406e+42</td>\n",
       "      <td>1.642524e+42</td>\n",
       "      <td>4.65452</td>\n",
       "      <td>0.108600</td>\n",
       "      <td>0.113677</td>\n",
       "      <td>6.943669e+43</td>\n",
       "      <td>6.482835e+41</td>\n",
       "      <td>5.773788e+41</td>\n",
       "      <td>2.192642e+44</td>\n",
       "      <td>2.960496e+42</td>\n",
       "      <td>2.652251e+42</td>\n",
       "    </tr>\n",
       "    <tr>\n",
       "      <th>2</th>\n",
       "      <td>SDSSXCS-290</td>\n",
       "      <td>5.31681</td>\n",
       "      <td>0.297854</td>\n",
       "      <td>0.336308</td>\n",
       "      <td>2.856695e+44</td>\n",
       "      <td>5.917234e+42</td>\n",
       "      <td>7.322989e+42</td>\n",
       "      <td>9.632533e+44</td>\n",
       "      <td>4.005991e+43</td>\n",
       "      <td>3.207763e+43</td>\n",
       "      <td>5.41431</td>\n",
       "      <td>0.259989</td>\n",
       "      <td>0.309605</td>\n",
       "      <td>2.033267e+44</td>\n",
       "      <td>4.662931e+42</td>\n",
       "      <td>4.169953e+42</td>\n",
       "      <td>6.920658e+44</td>\n",
       "      <td>2.211700e+43</td>\n",
       "      <td>1.983518e+43</td>\n",
       "      <td>5.44819</td>\n",
       "      <td>0.407899</td>\n",
       "      <td>0.486340</td>\n",
       "      <td>1.972104e+44</td>\n",
       "      <td>6.434636e+42</td>\n",
       "      <td>6.092122e+42</td>\n",
       "      <td>6.734043e+44</td>\n",
       "      <td>3.038773e+43</td>\n",
       "      <td>2.687861e+43</td>\n",
       "    </tr>\n",
       "    <tr>\n",
       "      <th>3</th>\n",
       "      <td>SDSSXCS-1018</td>\n",
       "      <td>3.90154</td>\n",
       "      <td>0.143544</td>\n",
       "      <td>0.151498</td>\n",
       "      <td>8.044819e+43</td>\n",
       "      <td>1.441322e+42</td>\n",
       "      <td>9.241468e+41</td>\n",
       "      <td>2.335851e+44</td>\n",
       "      <td>6.385493e+42</td>\n",
       "      <td>4.924304e+42</td>\n",
       "      <td>4.09555</td>\n",
       "      <td>0.108381</td>\n",
       "      <td>0.115430</td>\n",
       "      <td>6.395952e+43</td>\n",
       "      <td>8.467201e+41</td>\n",
       "      <td>7.602523e+41</td>\n",
       "      <td>1.899850e+44</td>\n",
       "      <td>3.436098e+42</td>\n",
       "      <td>3.542190e+42</td>\n",
       "      <td>3.93098</td>\n",
       "      <td>0.207281</td>\n",
       "      <td>0.230478</td>\n",
       "      <td>5.048987e+43</td>\n",
       "      <td>1.253282e+42</td>\n",
       "      <td>1.066663e+42</td>\n",
       "      <td>1.471118e+44</td>\n",
       "      <td>5.740520e+42</td>\n",
       "      <td>4.871391e+42</td>\n",
       "    </tr>\n",
       "    <tr>\n",
       "      <th>4</th>\n",
       "      <td>SDSSXCS-134</td>\n",
       "      <td>6.72622</td>\n",
       "      <td>0.116523</td>\n",
       "      <td>0.116565</td>\n",
       "      <td>4.811899e+44</td>\n",
       "      <td>2.458557e+42</td>\n",
       "      <td>3.050440e+42</td>\n",
       "      <td>1.825296e+45</td>\n",
       "      <td>2.068757e+43</td>\n",
       "      <td>1.639058e+43</td>\n",
       "      <td>7.04643</td>\n",
       "      <td>0.104430</td>\n",
       "      <td>0.104760</td>\n",
       "      <td>3.813160e+44</td>\n",
       "      <td>2.170963e+42</td>\n",
       "      <td>1.872005e+42</td>\n",
       "      <td>1.479760e+45</td>\n",
       "      <td>1.263153e+43</td>\n",
       "      <td>1.208755e+43</td>\n",
       "      <td>6.37686</td>\n",
       "      <td>0.135837</td>\n",
       "      <td>0.153820</td>\n",
       "      <td>3.447715e+44</td>\n",
       "      <td>2.713877e+42</td>\n",
       "      <td>2.497416e+42</td>\n",
       "      <td>1.273855e+45</td>\n",
       "      <td>1.415497e+43</td>\n",
       "      <td>1.228583e+43</td>\n",
       "    </tr>\n",
       "    <tr>\n",
       "      <th>5</th>\n",
       "      <td>SDSSXCS-119</td>\n",
       "      <td>4.93456</td>\n",
       "      <td>0.400268</td>\n",
       "      <td>0.456173</td>\n",
       "      <td>2.049789e+44</td>\n",
       "      <td>5.182032e+42</td>\n",
       "      <td>6.885075e+42</td>\n",
       "      <td>6.654626e+44</td>\n",
       "      <td>4.141700e+43</td>\n",
       "      <td>3.282061e+43</td>\n",
       "      <td>5.41255</td>\n",
       "      <td>0.397709</td>\n",
       "      <td>0.448294</td>\n",
       "      <td>1.239172e+44</td>\n",
       "      <td>3.785057e+42</td>\n",
       "      <td>3.735144e+42</td>\n",
       "      <td>4.215892e+44</td>\n",
       "      <td>2.155310e+43</td>\n",
       "      <td>1.870703e+43</td>\n",
       "      <td>4.91222</td>\n",
       "      <td>0.432241</td>\n",
       "      <td>0.503558</td>\n",
       "      <td>1.821676e+44</td>\n",
       "      <td>5.522211e+42</td>\n",
       "      <td>5.714386e+42</td>\n",
       "      <td>5.900648e+44</td>\n",
       "      <td>3.822404e+43</td>\n",
       "      <td>2.772960e+43</td>\n",
       "    </tr>\n",
       "  </tbody>\n",
       "</table>\n",
       "</div>"
      ],
      "text/plain": [
       "           name   Tx_500   Tx_500-   Tx_500+      Lx52_500     Lx52_500-  \\\n",
       "0   SDSSXCS-124  6.92000  0.116389  0.111642  5.310408e+44  2.494586e+42   \n",
       "1  SDSSXCS-2789  4.54033  0.073600  0.074023  1.029575e+44  5.149604e+41   \n",
       "2   SDSSXCS-290  5.31681  0.297854  0.336308  2.856695e+44  5.917234e+42   \n",
       "3  SDSSXCS-1018  3.90154  0.143544  0.151498  8.044819e+43  1.441322e+42   \n",
       "4   SDSSXCS-134  6.72622  0.116523  0.116565  4.811899e+44  2.458557e+42   \n",
       "5   SDSSXCS-119  4.93456  0.400268  0.456173  2.049789e+44  5.182032e+42   \n",
       "\n",
       "      Lx52_500+     Lxbol_500    Lxbol_500-    Lxbol_500+  Tx_2500  Tx_2500-  \\\n",
       "0  3.193270e+42  2.039754e+45  2.082091e+43  1.712354e+43  7.08946  0.097823   \n",
       "1  6.858712e+41  3.213527e+44  3.914562e+42  3.124017e+42  4.44237  0.057404   \n",
       "2  7.322989e+42  9.632533e+44  4.005991e+43  3.207763e+43  5.41431  0.259989   \n",
       "3  9.241468e+41  2.335851e+44  6.385493e+42  4.924304e+42  4.09555  0.108381   \n",
       "4  3.050440e+42  1.825296e+45  2.068757e+43  1.639058e+43  7.04643  0.104430   \n",
       "5  6.885075e+42  6.654626e+44  4.141700e+43  3.282061e+43  5.41255  0.397709   \n",
       "\n",
       "   Tx_2500+     Lx52_2500    Lx52_2500-    Lx52_2500+    Lxbol_2500  \\\n",
       "0  0.097929  4.008461e+44  2.163312e+42  1.887667e+42  1.557705e+45   \n",
       "1  0.057774  7.125319e+43  4.164749e+41  3.793543e+41  2.201238e+44   \n",
       "2  0.309605  2.033267e+44  4.662931e+42  4.169953e+42  6.920658e+44   \n",
       "3  0.115430  6.395952e+43  8.467201e+41  7.602523e+41  1.899850e+44   \n",
       "4  0.104760  3.813160e+44  2.170963e+42  1.872005e+42  1.479760e+45   \n",
       "5  0.448294  1.239172e+44  3.785057e+42  3.735144e+42  4.215892e+44   \n",
       "\n",
       "    Lxbol_2500-   Lxbol_2500+  Tx_500ce  Tx_500ce-  Tx_500ce+    Lx52_500ce  \\\n",
       "0  1.278003e+43  1.166420e+43   6.78098   0.134306   0.158223  3.684827e+44   \n",
       "1  1.767406e+42  1.642524e+42   4.65452   0.108600   0.113677  6.943669e+43   \n",
       "2  2.211700e+43  1.983518e+43   5.44819   0.407899   0.486340  1.972104e+44   \n",
       "3  3.436098e+42  3.542190e+42   3.93098   0.207281   0.230478  5.048987e+43   \n",
       "4  1.263153e+43  1.208755e+43   6.37686   0.135837   0.153820  3.447715e+44   \n",
       "5  2.155310e+43  1.870703e+43   4.91222   0.432241   0.503558  1.821676e+44   \n",
       "\n",
       "    Lx52_500ce-   Lx52_500ce+   Lxbol_500ce  Lxbol_500ce-  Lxbol_500ce+  \n",
       "0  2.702225e+42  2.572964e+42  1.401501e+45  1.425781e+43  1.280567e+43  \n",
       "1  6.482835e+41  5.773788e+41  2.192642e+44  2.960496e+42  2.652251e+42  \n",
       "2  6.434636e+42  6.092122e+42  6.734043e+44  3.038773e+43  2.687861e+43  \n",
       "3  1.253282e+42  1.066663e+42  1.471118e+44  5.740520e+42  4.871391e+42  \n",
       "4  2.713877e+42  2.497416e+42  1.273855e+45  1.415497e+43  1.228583e+43  \n",
       "5  5.522211e+42  5.714386e+42  5.900648e+44  3.822404e+43  2.772960e+43  "
      ]
     },
     "execution_count": 4,
     "metadata": {},
     "output_type": "execute_result"
    }
   ],
   "source": [
    "sdssxcs_txlx = pd.read_csv(\"../../sample_files/paper_one_results/sdssrm-xcs_txlx_v1.0.0.csv\")\n",
    "sdssxcs_txlx.head(6)"
   ]
  },
  {
   "cell_type": "markdown",
   "id": "b3aa002a-0b64-4485-80db-4a7c05c9297b",
   "metadata": {},
   "source": [
    "### SDSSRM-XCS masses"
   ]
  },
  {
   "cell_type": "code",
   "execution_count": 5,
   "id": "586b0c3a-9163-49f1-af04-7afaeee247cf",
   "metadata": {},
   "outputs": [
    {
     "data": {
      "text/html": [
       "<div>\n",
       "<style scoped>\n",
       "    .dataframe tbody tr th:only-of-type {\n",
       "        vertical-align: middle;\n",
       "    }\n",
       "\n",
       "    .dataframe tbody tr th {\n",
       "        vertical-align: top;\n",
       "    }\n",
       "\n",
       "    .dataframe thead th {\n",
       "        text-align: right;\n",
       "    }\n",
       "</style>\n",
       "<table border=\"1\" class=\"dataframe\">\n",
       "  <thead>\n",
       "    <tr style=\"text-align: right;\">\n",
       "      <th></th>\n",
       "      <th>name</th>\n",
       "      <th>Mhy500</th>\n",
       "      <th>Mhy500-</th>\n",
       "      <th>Mhy500+</th>\n",
       "      <th>Mg500</th>\n",
       "      <th>Mg500-</th>\n",
       "      <th>Mg500+</th>\n",
       "      <th>Mhy2500</th>\n",
       "      <th>Mhy2500-</th>\n",
       "      <th>Mhy2500+</th>\n",
       "      <th>Mg2500</th>\n",
       "      <th>Mg2500-</th>\n",
       "      <th>Mg2500+</th>\n",
       "      <th>Mhy500_wraderr</th>\n",
       "      <th>Mhy500_wraderr-</th>\n",
       "      <th>Mhy500_wraderr+</th>\n",
       "      <th>Mg500_wraderr</th>\n",
       "      <th>Mg500_wraderr-</th>\n",
       "      <th>Mg500_wraderr+</th>\n",
       "      <th>Mhy2500_wraderr</th>\n",
       "      <th>Mhy2500_wraderr-</th>\n",
       "      <th>Mhy2500_wraderr+</th>\n",
       "      <th>Mg2500_wraderr</th>\n",
       "      <th>Mg2500_wraderr-</th>\n",
       "      <th>Mg2500_wraderr+</th>\n",
       "    </tr>\n",
       "  </thead>\n",
       "  <tbody>\n",
       "    <tr>\n",
       "      <th>0</th>\n",
       "      <td>SDSSXCS-124</td>\n",
       "      <td>7.634491</td>\n",
       "      <td>1.286289</td>\n",
       "      <td>1.029318</td>\n",
       "      <td>0.869914</td>\n",
       "      <td>0.002841</td>\n",
       "      <td>0.005951</td>\n",
       "      <td>2.621329</td>\n",
       "      <td>0.112240</td>\n",
       "      <td>0.137975</td>\n",
       "      <td>0.321744</td>\n",
       "      <td>0.000722</td>\n",
       "      <td>0.000734</td>\n",
       "      <td>7.635562</td>\n",
       "      <td>1.285474</td>\n",
       "      <td>1.041261</td>\n",
       "      <td>0.870390</td>\n",
       "      <td>0.015662</td>\n",
       "      <td>0.016223</td>\n",
       "      <td>2.621462</td>\n",
       "      <td>0.113380</td>\n",
       "      <td>0.138668</td>\n",
       "      <td>0.321697</td>\n",
       "      <td>0.007076</td>\n",
       "      <td>0.007250</td>\n",
       "    </tr>\n",
       "    <tr>\n",
       "      <th>1</th>\n",
       "      <td>SDSSXCS-2789</td>\n",
       "      <td>7.820374</td>\n",
       "      <td>1.259755</td>\n",
       "      <td>1.447212</td>\n",
       "      <td>0.218603</td>\n",
       "      <td>0.002491</td>\n",
       "      <td>0.002496</td>\n",
       "      <td>1.602926</td>\n",
       "      <td>0.101929</td>\n",
       "      <td>0.109311</td>\n",
       "      <td>0.097414</td>\n",
       "      <td>0.000324</td>\n",
       "      <td>0.000329</td>\n",
       "      <td>7.823912</td>\n",
       "      <td>1.268244</td>\n",
       "      <td>1.456225</td>\n",
       "      <td>0.218499</td>\n",
       "      <td>0.002874</td>\n",
       "      <td>0.002963</td>\n",
       "      <td>1.602810</td>\n",
       "      <td>0.102195</td>\n",
       "      <td>0.110153</td>\n",
       "      <td>0.097399</td>\n",
       "      <td>0.001819</td>\n",
       "      <td>0.001737</td>\n",
       "    </tr>\n",
       "    <tr>\n",
       "      <th>2</th>\n",
       "      <td>SDSSXCS-290</td>\n",
       "      <td>2.961604</td>\n",
       "      <td>0.369827</td>\n",
       "      <td>0.382523</td>\n",
       "      <td>0.427969</td>\n",
       "      <td>0.002132</td>\n",
       "      <td>0.002098</td>\n",
       "      <td>1.467429</td>\n",
       "      <td>0.175603</td>\n",
       "      <td>0.290465</td>\n",
       "      <td>0.134154</td>\n",
       "      <td>0.000759</td>\n",
       "      <td>0.000773</td>\n",
       "      <td>2.959792</td>\n",
       "      <td>0.390293</td>\n",
       "      <td>0.420849</td>\n",
       "      <td>0.427478</td>\n",
       "      <td>0.019454</td>\n",
       "      <td>0.019887</td>\n",
       "      <td>1.469441</td>\n",
       "      <td>0.177871</td>\n",
       "      <td>0.288247</td>\n",
       "      <td>0.134133</td>\n",
       "      <td>0.005839</td>\n",
       "      <td>0.005993</td>\n",
       "    </tr>\n",
       "    <tr>\n",
       "      <th>3</th>\n",
       "      <td>SDSSXCS-1018</td>\n",
       "      <td>5.067958</td>\n",
       "      <td>1.015270</td>\n",
       "      <td>0.969362</td>\n",
       "      <td>0.210208</td>\n",
       "      <td>0.001929</td>\n",
       "      <td>0.001917</td>\n",
       "      <td>1.128892</td>\n",
       "      <td>0.103503</td>\n",
       "      <td>0.149913</td>\n",
       "      <td>0.084371</td>\n",
       "      <td>0.000350</td>\n",
       "      <td>0.000359</td>\n",
       "      <td>5.072697</td>\n",
       "      <td>1.030805</td>\n",
       "      <td>0.973924</td>\n",
       "      <td>0.210059</td>\n",
       "      <td>0.003374</td>\n",
       "      <td>0.003431</td>\n",
       "      <td>1.128619</td>\n",
       "      <td>0.104011</td>\n",
       "      <td>0.149860</td>\n",
       "      <td>0.084350</td>\n",
       "      <td>0.002327</td>\n",
       "      <td>0.002330</td>\n",
       "    </tr>\n",
       "    <tr>\n",
       "      <th>4</th>\n",
       "      <td>SDSSXCS-134</td>\n",
       "      <td>6.802619</td>\n",
       "      <td>0.782566</td>\n",
       "      <td>0.772819</td>\n",
       "      <td>0.767290</td>\n",
       "      <td>0.002149</td>\n",
       "      <td>0.002170</td>\n",
       "      <td>3.043225</td>\n",
       "      <td>0.113304</td>\n",
       "      <td>0.110341</td>\n",
       "      <td>0.313945</td>\n",
       "      <td>0.000359</td>\n",
       "      <td>0.000367</td>\n",
       "      <td>6.803511</td>\n",
       "      <td>0.788996</td>\n",
       "      <td>0.781372</td>\n",
       "      <td>0.767157</td>\n",
       "      <td>0.010866</td>\n",
       "      <td>0.010814</td>\n",
       "      <td>3.042067</td>\n",
       "      <td>0.125878</td>\n",
       "      <td>0.124549</td>\n",
       "      <td>0.313911</td>\n",
       "      <td>0.007265</td>\n",
       "      <td>0.007068</td>\n",
       "    </tr>\n",
       "    <tr>\n",
       "      <th>5</th>\n",
       "      <td>SDSSXCS-119</td>\n",
       "      <td>NaN</td>\n",
       "      <td>NaN</td>\n",
       "      <td>NaN</td>\n",
       "      <td>NaN</td>\n",
       "      <td>NaN</td>\n",
       "      <td>NaN</td>\n",
       "      <td>NaN</td>\n",
       "      <td>NaN</td>\n",
       "      <td>NaN</td>\n",
       "      <td>NaN</td>\n",
       "      <td>NaN</td>\n",
       "      <td>NaN</td>\n",
       "      <td>NaN</td>\n",
       "      <td>NaN</td>\n",
       "      <td>NaN</td>\n",
       "      <td>NaN</td>\n",
       "      <td>NaN</td>\n",
       "      <td>NaN</td>\n",
       "      <td>NaN</td>\n",
       "      <td>NaN</td>\n",
       "      <td>NaN</td>\n",
       "      <td>NaN</td>\n",
       "      <td>NaN</td>\n",
       "      <td>NaN</td>\n",
       "    </tr>\n",
       "  </tbody>\n",
       "</table>\n",
       "</div>"
      ],
      "text/plain": [
       "           name    Mhy500   Mhy500-   Mhy500+     Mg500    Mg500-    Mg500+  \\\n",
       "0   SDSSXCS-124  7.634491  1.286289  1.029318  0.869914  0.002841  0.005951   \n",
       "1  SDSSXCS-2789  7.820374  1.259755  1.447212  0.218603  0.002491  0.002496   \n",
       "2   SDSSXCS-290  2.961604  0.369827  0.382523  0.427969  0.002132  0.002098   \n",
       "3  SDSSXCS-1018  5.067958  1.015270  0.969362  0.210208  0.001929  0.001917   \n",
       "4   SDSSXCS-134  6.802619  0.782566  0.772819  0.767290  0.002149  0.002170   \n",
       "5   SDSSXCS-119       NaN       NaN       NaN       NaN       NaN       NaN   \n",
       "\n",
       "    Mhy2500  Mhy2500-  Mhy2500+    Mg2500   Mg2500-   Mg2500+  Mhy500_wraderr  \\\n",
       "0  2.621329  0.112240  0.137975  0.321744  0.000722  0.000734        7.635562   \n",
       "1  1.602926  0.101929  0.109311  0.097414  0.000324  0.000329        7.823912   \n",
       "2  1.467429  0.175603  0.290465  0.134154  0.000759  0.000773        2.959792   \n",
       "3  1.128892  0.103503  0.149913  0.084371  0.000350  0.000359        5.072697   \n",
       "4  3.043225  0.113304  0.110341  0.313945  0.000359  0.000367        6.803511   \n",
       "5       NaN       NaN       NaN       NaN       NaN       NaN             NaN   \n",
       "\n",
       "   Mhy500_wraderr-  Mhy500_wraderr+  Mg500_wraderr  Mg500_wraderr-  \\\n",
       "0         1.285474         1.041261       0.870390        0.015662   \n",
       "1         1.268244         1.456225       0.218499        0.002874   \n",
       "2         0.390293         0.420849       0.427478        0.019454   \n",
       "3         1.030805         0.973924       0.210059        0.003374   \n",
       "4         0.788996         0.781372       0.767157        0.010866   \n",
       "5              NaN              NaN            NaN             NaN   \n",
       "\n",
       "   Mg500_wraderr+  Mhy2500_wraderr  Mhy2500_wraderr-  Mhy2500_wraderr+  \\\n",
       "0        0.016223         2.621462          0.113380          0.138668   \n",
       "1        0.002963         1.602810          0.102195          0.110153   \n",
       "2        0.019887         1.469441          0.177871          0.288247   \n",
       "3        0.003431         1.128619          0.104011          0.149860   \n",
       "4        0.010814         3.042067          0.125878          0.124549   \n",
       "5             NaN              NaN               NaN               NaN   \n",
       "\n",
       "   Mg2500_wraderr  Mg2500_wraderr-  Mg2500_wraderr+  \n",
       "0        0.321697         0.007076         0.007250  \n",
       "1        0.097399         0.001819         0.001737  \n",
       "2        0.134133         0.005839         0.005993  \n",
       "3        0.084350         0.002327         0.002330  \n",
       "4        0.313911         0.007265         0.007068  \n",
       "5             NaN              NaN              NaN  "
      ]
     },
     "execution_count": 5,
     "metadata": {},
     "output_type": "execute_result"
    }
   ],
   "source": [
    "sdssxcs_mass = pd.read_csv(\"../../sample_files/paper_one_results/sdssrm-xcs_mass_v1.0.0.csv\")\n",
    "sdssxcs_mass.head(6)"
   ]
  },
  {
   "cell_type": "markdown",
   "id": "0492b9b1-6e41-489b-acdb-4b0524166a47",
   "metadata": {},
   "source": [
    "### Combining tables"
   ]
  },
  {
   "cell_type": "code",
   "execution_count": 6,
   "id": "3ec7a04e-eff4-4dff-b599-3c6c653a033c",
   "metadata": {},
   "outputs": [],
   "source": [
    "sdssxcs_samp = pd.merge(sdssxcs_base, sdssxcs_txlx, left_on='name', right_on='name', how='outer')\n",
    "sdssxcs_samp = pd.merge(sdssxcs_samp, sdssxcs_mass, left_on='name', right_on='name', how='outer')"
   ]
  },
  {
   "cell_type": "markdown",
   "id": "495007b0-a500-4773-ac2b-0f02454cb7c9",
   "metadata": {},
   "source": [
    "### $M^{\\rm{tot}}_{500}$-$\\lambda_{\\rm{RM}}$"
   ]
  },
  {
   "cell_type": "code",
   "execution_count": 7,
   "id": "591fc5e2-ab36-4501-8c3b-abecc13eac90",
   "metadata": {},
   "outputs": [],
   "source": [
    "with open('../../outputs/scaling_relations/sdssrm-xcs_new/mtot-richness/turner2025_mtot500_richness.xgarel', 'rb') as scalo:\n",
    "    mtot500_rich = pickle.load(scalo)"
   ]
  },
  {
   "cell_type": "markdown",
   "id": "1cc7b0c7-76a8-4e11-9160-097a7ce6777f",
   "metadata": {},
   "source": [
    "### $M^{\\rm{tot}}_{2500}$-$\\lambda_{\\rm{RM}}$ "
   ]
  },
  {
   "cell_type": "code",
   "execution_count": 8,
   "id": "01c7d6f4-72cc-46ca-b0f5-7bf93e9472db",
   "metadata": {},
   "outputs": [],
   "source": [
    "with open('../../outputs/scaling_relations/sdssrm-xcs_new/mtot-richness/turner2025_mtot2500_richness.xgarel', 'rb') as scalo:\n",
    "    mtot2500_rich = pickle.load(scalo)"
   ]
  },
  {
   "cell_type": "markdown",
   "id": "3bddc514-b130-4ec5-b4ae-2ae592584a80",
   "metadata": {},
   "source": [
    "## Searching for scatter-dominating-clusters using \"leave-one-out\" jack-knifing"
   ]
  },
  {
   "cell_type": "markdown",
   "id": "d774e8c1-81af-484d-bc27-bc78ccd7a680",
   "metadata": {},
   "source": [
    "The goal of this notebook is to measure a set of jackknifed scaling relations - this will be achieved by iteratively excluding every single cluster from the sample, one at a time, and fitting those sub-samples in the same was as the original scaling relation  - any large changes in normalisation, slope, or scatter (from the original values measured with whole sample, and from each other) of these relations will help to inform us which clusters (if any) are the dominant source of overall scatter in the relations."
   ]
  },
  {
   "cell_type": "markdown",
   "id": "e942829f-cbbd-4de8-a2e1-66a0b2828d90",
   "metadata": {},
   "source": [
    "### Setting up input samples"
   ]
  },
  {
   "cell_type": "markdown",
   "id": "4767e5b4-24a3-4570-8a72-c6f8a7ed4f2d",
   "metadata": {},
   "source": [
    "We want to make sure we're only using the clusters which have measurements of the properties we're interested in - **104** of the sample have an $M^{\\rm{tot}}_{500}$ measurement, and **91** have a $M^{\\rm{tot}}_{2500}$ measurement, for instance. To make this more sample selection more generally useful, as it will be used in other jack-knifing notebooks, we use $M_{\\rm{gas}}$ measurements as the test for whether a cluster will be included in a particular sample or not."
   ]
  },
  {
   "cell_type": "markdown",
   "id": "f75b2f4d-e018-4ba0-a5a3-3b6932f9355a",
   "metadata": {},
   "source": [
    "#### Clusters with $R_{500}$ properties"
   ]
  },
  {
   "cell_type": "code",
   "execution_count": 9,
   "id": "2f6f6b47-fcce-43fe-a469-9ef5cd807132",
   "metadata": {},
   "outputs": [],
   "source": [
    "# This is the set of SDSSRM-XCS clusters with R500 gas masses - there will not be a hydrostatic mass if there is no gas mass, and\n",
    "#  we will be using at least one type of mass in all the scaling relations we're assessing\n",
    "sdssxcs_samp_with_gm500 = sdssxcs_samp[np.isfinite(sdssxcs_samp['Mg500_wraderr'])]"
   ]
  },
  {
   "cell_type": "markdown",
   "id": "9953d65d-f94c-4344-b043-b7ff3d01c7c6",
   "metadata": {},
   "source": [
    "#### Clusters with $R_{2500}$ properties"
   ]
  },
  {
   "cell_type": "code",
   "execution_count": 10,
   "id": "0b5fa9b6-79fc-4813-9025-3d0bdf662e9f",
   "metadata": {},
   "outputs": [],
   "source": [
    "# This is the set of SDSSRM-XCS clusters with R2500 gas masses - there will not be a hydrostatic mass if there is no gas mass, and\n",
    "#  we will be using at least one type of mass in all the scaling relations we're assessing\n",
    "sdssxcs_samp_with_gm2500 = sdssxcs_samp[np.isfinite(sdssxcs_samp['Mg2500_wraderr'])]"
   ]
  },
  {
   "cell_type": "markdown",
   "id": "2fe0027c-b92f-4e22-a7a0-76fa88cef279",
   "metadata": {},
   "source": [
    "### Assessing the $M^{\\rm{tot}}_{500}$-$\\lambda_{\\rm{RM}}$ relation"
   ]
  },
  {
   "cell_type": "code",
   "execution_count": 11,
   "id": "8b675523-6d82-4070-aef9-07a9e54d30bd",
   "metadata": {},
   "outputs": [
    {
     "name": "stderr",
     "output_type": "stream",
     "text": [
      "Fitting sub-sample scaling relations:   0%|                                           | 0/104 [00:00<?, ?it/s]R[write to console]: module mix loaded\n",
      "\n"
     ]
    },
    {
     "name": "stdout",
     "output_type": "stream",
     "text": [
      "  |**************************************************| 100%\n"
     ]
    },
    {
     "name": "stderr",
     "output_type": "stream",
     "text": [
      "Fitting sub-sample scaling relations:   1%|▎                                  | 1/104 [00:31<53:45, 31.32s/it]"
     ]
    },
    {
     "name": "stdout",
     "output_type": "stream",
     "text": [
      "  |**************************************************| 100%\n"
     ]
    },
    {
     "name": "stderr",
     "output_type": "stream",
     "text": [
      "Fitting sub-sample scaling relations:   2%|▋                                  | 2/104 [01:01<52:22, 30.81s/it]"
     ]
    },
    {
     "name": "stdout",
     "output_type": "stream",
     "text": [
      "  |**************************************************| 100%\n"
     ]
    },
    {
     "name": "stderr",
     "output_type": "stream",
     "text": [
      "Fitting sub-sample scaling relations:   3%|█                                  | 3/104 [01:32<51:31, 30.61s/it]"
     ]
    },
    {
     "name": "stdout",
     "output_type": "stream",
     "text": [
      "  |**************************************************| 100%\n"
     ]
    },
    {
     "name": "stderr",
     "output_type": "stream",
     "text": [
      "Fitting sub-sample scaling relations:   4%|█▎                                 | 4/104 [02:02<50:37, 30.37s/it]"
     ]
    },
    {
     "name": "stdout",
     "output_type": "stream",
     "text": [
      "  |**************************************************| 100%\n"
     ]
    },
    {
     "name": "stderr",
     "output_type": "stream",
     "text": [
      "Fitting sub-sample scaling relations:   5%|█▋                                 | 5/104 [02:32<50:03, 30.34s/it]"
     ]
    },
    {
     "name": "stdout",
     "output_type": "stream",
     "text": [
      "  |**************************************************| 100%\n"
     ]
    },
    {
     "name": "stderr",
     "output_type": "stream",
     "text": [
      "Fitting sub-sample scaling relations:   6%|██                                 | 6/104 [03:02<49:33, 30.34s/it]"
     ]
    },
    {
     "name": "stdout",
     "output_type": "stream",
     "text": [
      "  |**************************************************| 100%\n"
     ]
    },
    {
     "name": "stderr",
     "output_type": "stream",
     "text": [
      "Fitting sub-sample scaling relations:   7%|██▎                                | 7/104 [03:32<48:58, 30.30s/it]"
     ]
    },
    {
     "name": "stdout",
     "output_type": "stream",
     "text": [
      "  |**************************************************| 100%\n"
     ]
    },
    {
     "name": "stderr",
     "output_type": "stream",
     "text": [
      "Fitting sub-sample scaling relations:   8%|██▋                                | 8/104 [04:03<48:23, 30.25s/it]"
     ]
    },
    {
     "name": "stdout",
     "output_type": "stream",
     "text": [
      "  |**************************************************| 100%\n"
     ]
    },
    {
     "name": "stderr",
     "output_type": "stream",
     "text": [
      "Fitting sub-sample scaling relations:   9%|███                                | 9/104 [04:33<47:49, 30.20s/it]"
     ]
    },
    {
     "name": "stdout",
     "output_type": "stream",
     "text": [
      "  |**************************************************| 100%\n"
     ]
    },
    {
     "name": "stderr",
     "output_type": "stream",
     "text": [
      "Fitting sub-sample scaling relations:  10%|███▎                              | 10/104 [05:03<47:22, 30.24s/it]"
     ]
    },
    {
     "name": "stdout",
     "output_type": "stream",
     "text": [
      "  |**************************************************| 100%\n"
     ]
    },
    {
     "name": "stderr",
     "output_type": "stream",
     "text": [
      "Fitting sub-sample scaling relations:  11%|███▌                              | 11/104 [05:33<46:47, 30.19s/it]"
     ]
    },
    {
     "name": "stdout",
     "output_type": "stream",
     "text": [
      "  |**************************************************| 100%\n"
     ]
    },
    {
     "name": "stderr",
     "output_type": "stream",
     "text": [
      "Fitting sub-sample scaling relations:  12%|███▉                              | 12/104 [06:03<46:17, 30.19s/it]"
     ]
    },
    {
     "name": "stdout",
     "output_type": "stream",
     "text": [
      "  |**************************************************| 100%\n"
     ]
    },
    {
     "name": "stderr",
     "output_type": "stream",
     "text": [
      "Fitting sub-sample scaling relations:  12%|████▎                             | 13/104 [06:34<45:50, 30.23s/it]"
     ]
    },
    {
     "name": "stdout",
     "output_type": "stream",
     "text": [
      "  |**************************************************| 100%\n"
     ]
    },
    {
     "name": "stderr",
     "output_type": "stream",
     "text": [
      "Fitting sub-sample scaling relations:  13%|████▌                             | 14/104 [07:04<45:30, 30.34s/it]"
     ]
    },
    {
     "name": "stdout",
     "output_type": "stream",
     "text": [
      "  |**************************************************| 100%\n"
     ]
    },
    {
     "name": "stderr",
     "output_type": "stream",
     "text": [
      "Fitting sub-sample scaling relations:  14%|████▉                             | 15/104 [07:35<45:15, 30.51s/it]"
     ]
    },
    {
     "name": "stdout",
     "output_type": "stream",
     "text": [
      "  |**************************************************| 100%\n"
     ]
    },
    {
     "name": "stderr",
     "output_type": "stream",
     "text": [
      "Fitting sub-sample scaling relations:  15%|█████▏                            | 16/104 [08:06<44:51, 30.58s/it]"
     ]
    },
    {
     "name": "stdout",
     "output_type": "stream",
     "text": [
      "  |**************************************************| 100%\n"
     ]
    },
    {
     "name": "stderr",
     "output_type": "stream",
     "text": [
      "Fitting sub-sample scaling relations:  16%|█████▌                            | 17/104 [08:37<44:39, 30.80s/it]"
     ]
    },
    {
     "name": "stdout",
     "output_type": "stream",
     "text": [
      "  |**************************************************| 100%\n"
     ]
    },
    {
     "name": "stderr",
     "output_type": "stream",
     "text": [
      "Fitting sub-sample scaling relations:  17%|█████▉                            | 18/104 [09:08<44:06, 30.77s/it]"
     ]
    },
    {
     "name": "stdout",
     "output_type": "stream",
     "text": [
      "  |**************************************************| 100%\n"
     ]
    },
    {
     "name": "stderr",
     "output_type": "stream",
     "text": [
      "Fitting sub-sample scaling relations:  18%|██████▏                           | 19/104 [09:39<43:36, 30.78s/it]"
     ]
    },
    {
     "name": "stdout",
     "output_type": "stream",
     "text": [
      "  |**************************************************| 100%\n"
     ]
    },
    {
     "name": "stderr",
     "output_type": "stream",
     "text": [
      "Fitting sub-sample scaling relations:  19%|██████▌                           | 20/104 [10:10<43:16, 30.91s/it]"
     ]
    },
    {
     "name": "stdout",
     "output_type": "stream",
     "text": [
      "  |**************************************************| 100%\n"
     ]
    },
    {
     "name": "stderr",
     "output_type": "stream",
     "text": [
      "Fitting sub-sample scaling relations:  20%|██████▊                           | 21/104 [10:41<42:38, 30.82s/it]"
     ]
    },
    {
     "name": "stdout",
     "output_type": "stream",
     "text": [
      "  |**************************************************| 100%\n"
     ]
    },
    {
     "name": "stderr",
     "output_type": "stream",
     "text": [
      "Fitting sub-sample scaling relations:  21%|███████▏                          | 22/104 [11:11<42:01, 30.74s/it]"
     ]
    },
    {
     "name": "stdout",
     "output_type": "stream",
     "text": [
      "  |**************************************************| 100%\n"
     ]
    },
    {
     "name": "stderr",
     "output_type": "stream",
     "text": [
      "Fitting sub-sample scaling relations:  22%|███████▌                          | 23/104 [11:42<41:29, 30.74s/it]"
     ]
    },
    {
     "name": "stdout",
     "output_type": "stream",
     "text": [
      "  |**************************************************| 100%\n"
     ]
    },
    {
     "name": "stderr",
     "output_type": "stream",
     "text": [
      "Fitting sub-sample scaling relations:  23%|███████▊                          | 24/104 [12:13<40:58, 30.73s/it]"
     ]
    },
    {
     "name": "stdout",
     "output_type": "stream",
     "text": [
      "  |**************************************************| 100%\n"
     ]
    },
    {
     "name": "stderr",
     "output_type": "stream",
     "text": [
      "Fitting sub-sample scaling relations:  24%|████████▏                         | 25/104 [12:44<40:33, 30.81s/it]"
     ]
    },
    {
     "name": "stdout",
     "output_type": "stream",
     "text": [
      "  |**************************************************| 100%\n"
     ]
    },
    {
     "name": "stderr",
     "output_type": "stream",
     "text": [
      "Fitting sub-sample scaling relations:  25%|████████▌                         | 26/104 [13:14<39:54, 30.70s/it]"
     ]
    },
    {
     "name": "stdout",
     "output_type": "stream",
     "text": [
      "  |**************************************************| 100%\n"
     ]
    },
    {
     "name": "stderr",
     "output_type": "stream",
     "text": [
      "Fitting sub-sample scaling relations:  26%|████████▊                         | 27/104 [13:44<39:12, 30.55s/it]"
     ]
    },
    {
     "name": "stdout",
     "output_type": "stream",
     "text": [
      "  |**************************************************| 100%\n"
     ]
    },
    {
     "name": "stderr",
     "output_type": "stream",
     "text": [
      "Fitting sub-sample scaling relations:  27%|█████████▏                        | 28/104 [14:15<38:47, 30.62s/it]"
     ]
    },
    {
     "name": "stdout",
     "output_type": "stream",
     "text": [
      "  |**************************************************| 100%\n"
     ]
    },
    {
     "name": "stderr",
     "output_type": "stream",
     "text": [
      "Fitting sub-sample scaling relations:  28%|█████████▍                        | 29/104 [14:46<38:33, 30.84s/it]"
     ]
    },
    {
     "name": "stdout",
     "output_type": "stream",
     "text": [
      "  |**************************************************| 100%\n"
     ]
    },
    {
     "name": "stderr",
     "output_type": "stream",
     "text": [
      "Fitting sub-sample scaling relations:  29%|█████████▊                        | 30/104 [15:18<38:15, 31.02s/it]"
     ]
    },
    {
     "name": "stdout",
     "output_type": "stream",
     "text": [
      "  |**************************************************| 100%\n"
     ]
    },
    {
     "name": "stderr",
     "output_type": "stream",
     "text": [
      "Fitting sub-sample scaling relations:  30%|██████████▏                       | 31/104 [15:49<37:46, 31.04s/it]"
     ]
    },
    {
     "name": "stdout",
     "output_type": "stream",
     "text": [
      "  |**************************************************| 100%\n"
     ]
    },
    {
     "name": "stderr",
     "output_type": "stream",
     "text": [
      "Fitting sub-sample scaling relations:  31%|██████████▍                       | 32/104 [16:20<37:20, 31.12s/it]"
     ]
    },
    {
     "name": "stdout",
     "output_type": "stream",
     "text": [
      "  |**************************************************| 100%\n"
     ]
    },
    {
     "name": "stderr",
     "output_type": "stream",
     "text": [
      "Fitting sub-sample scaling relations:  32%|██████████▊                       | 33/104 [16:51<36:42, 31.02s/it]"
     ]
    },
    {
     "name": "stdout",
     "output_type": "stream",
     "text": [
      "  |**************************************************| 100%\n"
     ]
    },
    {
     "name": "stderr",
     "output_type": "stream",
     "text": [
      "Fitting sub-sample scaling relations:  33%|███████████                       | 34/104 [17:22<36:04, 30.92s/it]"
     ]
    },
    {
     "name": "stdout",
     "output_type": "stream",
     "text": [
      "  |**************************************************| 100%\n"
     ]
    },
    {
     "name": "stderr",
     "output_type": "stream",
     "text": [
      "Fitting sub-sample scaling relations:  34%|███████████▍                      | 35/104 [17:52<35:29, 30.86s/it]"
     ]
    },
    {
     "name": "stdout",
     "output_type": "stream",
     "text": [
      "  |**************************************************| 100%\n"
     ]
    },
    {
     "name": "stderr",
     "output_type": "stream",
     "text": [
      "Fitting sub-sample scaling relations:  35%|███████████▊                      | 36/104 [18:23<34:56, 30.84s/it]"
     ]
    },
    {
     "name": "stdout",
     "output_type": "stream",
     "text": [
      "  |**************************************************| 100%\n"
     ]
    },
    {
     "name": "stderr",
     "output_type": "stream",
     "text": [
      "Fitting sub-sample scaling relations:  36%|████████████                      | 37/104 [18:54<34:28, 30.88s/it]"
     ]
    },
    {
     "name": "stdout",
     "output_type": "stream",
     "text": [
      "  |**************************************************| 100%\n"
     ]
    },
    {
     "name": "stderr",
     "output_type": "stream",
     "text": [
      "Fitting sub-sample scaling relations:  37%|████████████▍                     | 38/104 [19:25<33:58, 30.89s/it]"
     ]
    },
    {
     "name": "stdout",
     "output_type": "stream",
     "text": [
      "  |**************************************************| 100%\n"
     ]
    },
    {
     "name": "stderr",
     "output_type": "stream",
     "text": [
      "Fitting sub-sample scaling relations:  38%|████████████▊                     | 39/104 [19:56<33:27, 30.88s/it]"
     ]
    },
    {
     "name": "stdout",
     "output_type": "stream",
     "text": [
      "  |**************************************************| 100%\n"
     ]
    },
    {
     "name": "stderr",
     "output_type": "stream",
     "text": [
      "Fitting sub-sample scaling relations:  38%|█████████████                     | 40/104 [20:27<32:52, 30.82s/it]"
     ]
    },
    {
     "name": "stdout",
     "output_type": "stream",
     "text": [
      "  |**************************************************| 100%\n"
     ]
    },
    {
     "name": "stderr",
     "output_type": "stream",
     "text": [
      "Fitting sub-sample scaling relations:  39%|█████████████▍                    | 41/104 [20:58<32:25, 30.89s/it]"
     ]
    },
    {
     "name": "stdout",
     "output_type": "stream",
     "text": [
      "  |**************************************************| 100%\n"
     ]
    },
    {
     "name": "stderr",
     "output_type": "stream",
     "text": [
      "Fitting sub-sample scaling relations:  40%|█████████████▋                    | 42/104 [21:28<31:54, 30.87s/it]"
     ]
    },
    {
     "name": "stdout",
     "output_type": "stream",
     "text": [
      "  |**************************************************| 100%\n"
     ]
    },
    {
     "name": "stderr",
     "output_type": "stream",
     "text": [
      "Fitting sub-sample scaling relations:  41%|██████████████                    | 43/104 [21:59<31:23, 30.87s/it]"
     ]
    },
    {
     "name": "stdout",
     "output_type": "stream",
     "text": [
      "  |**************************************************| 100%\n"
     ]
    },
    {
     "name": "stderr",
     "output_type": "stream",
     "text": [
      "Fitting sub-sample scaling relations:  42%|██████████████▍                   | 44/104 [22:31<31:02, 31.04s/it]"
     ]
    },
    {
     "name": "stdout",
     "output_type": "stream",
     "text": [
      "  |**************************************************| 100%\n"
     ]
    },
    {
     "name": "stderr",
     "output_type": "stream",
     "text": [
      "Fitting sub-sample scaling relations:  43%|██████████████▋                   | 45/104 [23:02<30:30, 31.03s/it]"
     ]
    },
    {
     "name": "stdout",
     "output_type": "stream",
     "text": [
      "  |**************************************************| 100%\n"
     ]
    },
    {
     "name": "stderr",
     "output_type": "stream",
     "text": [
      "Fitting sub-sample scaling relations:  44%|███████████████                   | 46/104 [23:32<29:49, 30.85s/it]"
     ]
    },
    {
     "name": "stdout",
     "output_type": "stream",
     "text": [
      "  |**************************************************| 100%\n"
     ]
    },
    {
     "name": "stderr",
     "output_type": "stream",
     "text": [
      "Fitting sub-sample scaling relations:  45%|███████████████▎                  | 47/104 [24:03<29:19, 30.86s/it]"
     ]
    },
    {
     "name": "stdout",
     "output_type": "stream",
     "text": [
      "  |**************************************************| 100%\n"
     ]
    },
    {
     "name": "stderr",
     "output_type": "stream",
     "text": [
      "Fitting sub-sample scaling relations:  46%|███████████████▋                  | 48/104 [24:35<28:59, 31.05s/it]"
     ]
    },
    {
     "name": "stdout",
     "output_type": "stream",
     "text": [
      "  |**************************************************| 100%\n"
     ]
    },
    {
     "name": "stderr",
     "output_type": "stream",
     "text": [
      "Fitting sub-sample scaling relations:  47%|████████████████                  | 49/104 [25:05<28:23, 30.98s/it]"
     ]
    },
    {
     "name": "stdout",
     "output_type": "stream",
     "text": [
      "  |**************************************************| 100%\n"
     ]
    },
    {
     "name": "stderr",
     "output_type": "stream",
     "text": [
      "Fitting sub-sample scaling relations:  48%|████████████████▎                 | 50/104 [25:36<27:45, 30.84s/it]"
     ]
    },
    {
     "name": "stdout",
     "output_type": "stream",
     "text": [
      "  |**************************************************| 100%\n"
     ]
    },
    {
     "name": "stderr",
     "output_type": "stream",
     "text": [
      "Fitting sub-sample scaling relations:  49%|████████████████▋                 | 51/104 [26:07<27:19, 30.93s/it]"
     ]
    },
    {
     "name": "stdout",
     "output_type": "stream",
     "text": [
      "  |**************************************************| 100%\n"
     ]
    },
    {
     "name": "stderr",
     "output_type": "stream",
     "text": [
      "Fitting sub-sample scaling relations:  50%|█████████████████                 | 52/104 [26:38<26:43, 30.83s/it]"
     ]
    },
    {
     "name": "stdout",
     "output_type": "stream",
     "text": [
      "  |**************************************************| 100%\n"
     ]
    },
    {
     "name": "stderr",
     "output_type": "stream",
     "text": [
      "Fitting sub-sample scaling relations:  51%|█████████████████▎                | 53/104 [27:08<26:12, 30.84s/it]"
     ]
    },
    {
     "name": "stdout",
     "output_type": "stream",
     "text": [
      "  |**************************************************| 100%\n"
     ]
    },
    {
     "name": "stderr",
     "output_type": "stream",
     "text": [
      "Fitting sub-sample scaling relations:  52%|█████████████████▋                | 54/104 [27:39<25:43, 30.87s/it]"
     ]
    },
    {
     "name": "stdout",
     "output_type": "stream",
     "text": [
      "  |**************************************************| 100%\n"
     ]
    },
    {
     "name": "stderr",
     "output_type": "stream",
     "text": [
      "Fitting sub-sample scaling relations:  53%|█████████████████▉                | 55/104 [28:10<25:04, 30.71s/it]"
     ]
    },
    {
     "name": "stdout",
     "output_type": "stream",
     "text": [
      "  |**************************************************| 100%\n"
     ]
    },
    {
     "name": "stderr",
     "output_type": "stream",
     "text": [
      "Fitting sub-sample scaling relations:  54%|██████████████████▎               | 56/104 [28:41<24:37, 30.78s/it]"
     ]
    },
    {
     "name": "stdout",
     "output_type": "stream",
     "text": [
      "  |**************************************************| 100%\n"
     ]
    },
    {
     "name": "stderr",
     "output_type": "stream",
     "text": [
      "Fitting sub-sample scaling relations:  55%|██████████████████▋               | 57/104 [29:12<24:13, 30.93s/it]"
     ]
    },
    {
     "name": "stdout",
     "output_type": "stream",
     "text": [
      "  |**************************************************| 100%\n"
     ]
    },
    {
     "name": "stderr",
     "output_type": "stream",
     "text": [
      "Fitting sub-sample scaling relations:  56%|██████████████████▉               | 58/104 [29:42<23:36, 30.80s/it]"
     ]
    },
    {
     "name": "stdout",
     "output_type": "stream",
     "text": [
      "  |**************************************************| 100%\n"
     ]
    },
    {
     "name": "stderr",
     "output_type": "stream",
     "text": [
      "Fitting sub-sample scaling relations:  57%|███████████████████▎              | 59/104 [30:13<23:04, 30.77s/it]"
     ]
    },
    {
     "name": "stdout",
     "output_type": "stream",
     "text": [
      "  |**************************************************| 100%\n"
     ]
    },
    {
     "name": "stderr",
     "output_type": "stream",
     "text": [
      "Fitting sub-sample scaling relations:  58%|███████████████████▌              | 60/104 [30:44<22:41, 30.93s/it]"
     ]
    },
    {
     "name": "stdout",
     "output_type": "stream",
     "text": [
      "  |**************************************************| 100%\n"
     ]
    },
    {
     "name": "stderr",
     "output_type": "stream",
     "text": [
      "Fitting sub-sample scaling relations:  59%|███████████████████▉              | 61/104 [31:16<22:16, 31.07s/it]"
     ]
    },
    {
     "name": "stdout",
     "output_type": "stream",
     "text": [
      "  |**************************************************| 100%\n"
     ]
    },
    {
     "name": "stderr",
     "output_type": "stream",
     "text": [
      "Fitting sub-sample scaling relations:  60%|████████████████████▎             | 62/104 [31:48<22:00, 31.45s/it]"
     ]
    },
    {
     "name": "stdout",
     "output_type": "stream",
     "text": [
      "  |**************************************************| 100%\n"
     ]
    },
    {
     "name": "stderr",
     "output_type": "stream",
     "text": [
      "Fitting sub-sample scaling relations:  61%|████████████████████▌             | 63/104 [32:19<21:27, 31.40s/it]"
     ]
    },
    {
     "name": "stdout",
     "output_type": "stream",
     "text": [
      "  |**************************************************| 100%\n"
     ]
    },
    {
     "name": "stderr",
     "output_type": "stream",
     "text": [
      "Fitting sub-sample scaling relations:  62%|████████████████████▉             | 64/104 [32:51<20:57, 31.45s/it]"
     ]
    },
    {
     "name": "stdout",
     "output_type": "stream",
     "text": [
      "  |**************************************************| 100%\n"
     ]
    },
    {
     "name": "stderr",
     "output_type": "stream",
     "text": [
      "Fitting sub-sample scaling relations:  62%|█████████████████████▎            | 65/104 [33:22<20:20, 31.31s/it]"
     ]
    },
    {
     "name": "stdout",
     "output_type": "stream",
     "text": [
      "  |**************************************************| 100%\n"
     ]
    },
    {
     "name": "stderr",
     "output_type": "stream",
     "text": [
      "Fitting sub-sample scaling relations:  63%|█████████████████████▌            | 66/104 [33:53<19:49, 31.29s/it]"
     ]
    },
    {
     "name": "stdout",
     "output_type": "stream",
     "text": [
      "  |**************************************************| 100%\n"
     ]
    },
    {
     "name": "stderr",
     "output_type": "stream",
     "text": [
      "Fitting sub-sample scaling relations:  64%|█████████████████████▉            | 67/104 [34:24<19:16, 31.25s/it]"
     ]
    },
    {
     "name": "stdout",
     "output_type": "stream",
     "text": [
      "  |**************************************************| 100%\n"
     ]
    },
    {
     "name": "stderr",
     "output_type": "stream",
     "text": [
      "Fitting sub-sample scaling relations:  65%|██████████████████████▏           | 68/104 [34:55<18:40, 31.13s/it]"
     ]
    },
    {
     "name": "stdout",
     "output_type": "stream",
     "text": [
      "  |**************************************************| 100%\n"
     ]
    },
    {
     "name": "stderr",
     "output_type": "stream",
     "text": [
      "Fitting sub-sample scaling relations:  66%|██████████████████████▌           | 69/104 [35:26<18:08, 31.11s/it]"
     ]
    },
    {
     "name": "stdout",
     "output_type": "stream",
     "text": [
      "  |**************************************************| 100%\n"
     ]
    },
    {
     "name": "stderr",
     "output_type": "stream",
     "text": [
      "Fitting sub-sample scaling relations:  67%|██████████████████████▉           | 70/104 [35:58<17:41, 31.21s/it]"
     ]
    },
    {
     "name": "stdout",
     "output_type": "stream",
     "text": [
      "  |**************************************************| 100%\n"
     ]
    },
    {
     "name": "stderr",
     "output_type": "stream",
     "text": [
      "Fitting sub-sample scaling relations:  68%|███████████████████████▏          | 71/104 [36:29<17:08, 31.16s/it]"
     ]
    },
    {
     "name": "stdout",
     "output_type": "stream",
     "text": [
      "  |**************************************************| 100%\n"
     ]
    },
    {
     "name": "stderr",
     "output_type": "stream",
     "text": [
      "Fitting sub-sample scaling relations:  69%|███████████████████████▌          | 72/104 [37:00<16:37, 31.17s/it]"
     ]
    },
    {
     "name": "stdout",
     "output_type": "stream",
     "text": [
      "  |**************************************************| 100%\n"
     ]
    },
    {
     "name": "stderr",
     "output_type": "stream",
     "text": [
      "Fitting sub-sample scaling relations:  70%|███████████████████████▊          | 73/104 [37:31<16:05, 31.13s/it]"
     ]
    },
    {
     "name": "stdout",
     "output_type": "stream",
     "text": [
      "  |**************************************************| 100%\n"
     ]
    },
    {
     "name": "stderr",
     "output_type": "stream",
     "text": [
      "Fitting sub-sample scaling relations:  71%|████████████████████████▏         | 74/104 [38:02<15:33, 31.13s/it]"
     ]
    },
    {
     "name": "stdout",
     "output_type": "stream",
     "text": [
      "  |**************************************************| 100%\n"
     ]
    },
    {
     "name": "stderr",
     "output_type": "stream",
     "text": [
      "Fitting sub-sample scaling relations:  72%|████████████████████████▌         | 75/104 [38:33<15:02, 31.13s/it]"
     ]
    },
    {
     "name": "stdout",
     "output_type": "stream",
     "text": [
      "  |**************************************************| 100%\n"
     ]
    },
    {
     "name": "stderr",
     "output_type": "stream",
     "text": [
      "Fitting sub-sample scaling relations:  73%|████████████████████████▊         | 76/104 [39:04<14:31, 31.13s/it]"
     ]
    },
    {
     "name": "stdout",
     "output_type": "stream",
     "text": [
      "  |**************************************************| 100%\n"
     ]
    },
    {
     "name": "stderr",
     "output_type": "stream",
     "text": [
      "Fitting sub-sample scaling relations:  74%|█████████████████████████▏        | 77/104 [39:36<14:03, 31.24s/it]"
     ]
    },
    {
     "name": "stdout",
     "output_type": "stream",
     "text": [
      "  |**************************************************| 100%\n"
     ]
    },
    {
     "name": "stderr",
     "output_type": "stream",
     "text": [
      "Fitting sub-sample scaling relations:  75%|█████████████████████████▌        | 78/104 [40:07<13:30, 31.15s/it]"
     ]
    },
    {
     "name": "stdout",
     "output_type": "stream",
     "text": [
      "  |**************************************************| 100%\n"
     ]
    },
    {
     "name": "stderr",
     "output_type": "stream",
     "text": [
      "Fitting sub-sample scaling relations:  76%|█████████████████████████▊        | 79/104 [40:39<13:02, 31.30s/it]"
     ]
    },
    {
     "name": "stdout",
     "output_type": "stream",
     "text": [
      "  |**************************************************| 100%\n"
     ]
    },
    {
     "name": "stderr",
     "output_type": "stream",
     "text": [
      "Fitting sub-sample scaling relations:  77%|██████████████████████████▏       | 80/104 [41:10<12:35, 31.49s/it]"
     ]
    },
    {
     "name": "stdout",
     "output_type": "stream",
     "text": [
      "  |**************************************************| 100%\n"
     ]
    },
    {
     "name": "stderr",
     "output_type": "stream",
     "text": [
      "Fitting sub-sample scaling relations:  78%|██████████████████████████▍       | 81/104 [41:41<11:59, 31.28s/it]"
     ]
    },
    {
     "name": "stdout",
     "output_type": "stream",
     "text": [
      "  |**************************************************| 100%\n"
     ]
    },
    {
     "name": "stderr",
     "output_type": "stream",
     "text": [
      "Fitting sub-sample scaling relations:  79%|██████████████████████████▊       | 82/104 [42:13<11:32, 31.49s/it]"
     ]
    },
    {
     "name": "stdout",
     "output_type": "stream",
     "text": [
      "  |**************************************************| 100%\n"
     ]
    },
    {
     "name": "stderr",
     "output_type": "stream",
     "text": [
      "Fitting sub-sample scaling relations:  80%|███████████████████████████▏      | 83/104 [42:45<11:00, 31.44s/it]"
     ]
    },
    {
     "name": "stdout",
     "output_type": "stream",
     "text": [
      "  |**************************************************| 100%\n"
     ]
    },
    {
     "name": "stderr",
     "output_type": "stream",
     "text": [
      "Fitting sub-sample scaling relations:  81%|███████████████████████████▍      | 84/104 [43:15<10:24, 31.23s/it]"
     ]
    },
    {
     "name": "stdout",
     "output_type": "stream",
     "text": [
      "  |**************************************************| 100%\n"
     ]
    },
    {
     "name": "stderr",
     "output_type": "stream",
     "text": [
      "Fitting sub-sample scaling relations:  82%|███████████████████████████▊      | 85/104 [43:47<09:53, 31.22s/it]"
     ]
    },
    {
     "name": "stdout",
     "output_type": "stream",
     "text": [
      "  |**************************************************| 100%\n"
     ]
    },
    {
     "name": "stderr",
     "output_type": "stream",
     "text": [
      "Fitting sub-sample scaling relations:  83%|████████████████████████████      | 86/104 [44:18<09:21, 31.21s/it]"
     ]
    },
    {
     "name": "stdout",
     "output_type": "stream",
     "text": [
      "  |**************************************************| 100%\n"
     ]
    },
    {
     "name": "stderr",
     "output_type": "stream",
     "text": [
      "Fitting sub-sample scaling relations:  84%|████████████████████████████▍     | 87/104 [44:49<08:48, 31.10s/it]"
     ]
    },
    {
     "name": "stdout",
     "output_type": "stream",
     "text": [
      "  |**************************************************| 100%\n"
     ]
    },
    {
     "name": "stderr",
     "output_type": "stream",
     "text": [
      "Fitting sub-sample scaling relations:  85%|████████████████████████████▊     | 88/104 [45:19<08:13, 30.87s/it]"
     ]
    },
    {
     "name": "stdout",
     "output_type": "stream",
     "text": [
      "  |**************************************************| 100%\n"
     ]
    },
    {
     "name": "stderr",
     "output_type": "stream",
     "text": [
      "Fitting sub-sample scaling relations:  86%|█████████████████████████████     | 89/104 [45:50<07:43, 30.90s/it]"
     ]
    },
    {
     "name": "stdout",
     "output_type": "stream",
     "text": [
      "  |**************************************************| 100%\n"
     ]
    },
    {
     "name": "stderr",
     "output_type": "stream",
     "text": [
      "Fitting sub-sample scaling relations:  87%|█████████████████████████████▍    | 90/104 [46:21<07:14, 31.02s/it]"
     ]
    },
    {
     "name": "stdout",
     "output_type": "stream",
     "text": [
      "  |**************************************************| 100%\n"
     ]
    },
    {
     "name": "stderr",
     "output_type": "stream",
     "text": [
      "Fitting sub-sample scaling relations:  88%|█████████████████████████████▊    | 91/104 [46:52<06:44, 31.11s/it]"
     ]
    },
    {
     "name": "stdout",
     "output_type": "stream",
     "text": [
      "  |**************************************************| 100%\n"
     ]
    },
    {
     "name": "stderr",
     "output_type": "stream",
     "text": [
      "Fitting sub-sample scaling relations:  88%|██████████████████████████████    | 92/104 [47:24<06:14, 31.18s/it]"
     ]
    },
    {
     "name": "stdout",
     "output_type": "stream",
     "text": [
      "  |**************************************************| 100%\n"
     ]
    },
    {
     "name": "stderr",
     "output_type": "stream",
     "text": [
      "Fitting sub-sample scaling relations:  89%|██████████████████████████████▍   | 93/104 [47:55<05:42, 31.13s/it]"
     ]
    },
    {
     "name": "stdout",
     "output_type": "stream",
     "text": [
      "  |**************************************************| 100%\n"
     ]
    },
    {
     "name": "stderr",
     "output_type": "stream",
     "text": [
      "Fitting sub-sample scaling relations:  90%|██████████████████████████████▋   | 94/104 [48:26<05:12, 31.25s/it]"
     ]
    },
    {
     "name": "stdout",
     "output_type": "stream",
     "text": [
      "  |**************************************************| 100%\n"
     ]
    },
    {
     "name": "stderr",
     "output_type": "stream",
     "text": [
      "Fitting sub-sample scaling relations:  91%|███████████████████████████████   | 95/104 [48:58<04:43, 31.45s/it]"
     ]
    },
    {
     "name": "stdout",
     "output_type": "stream",
     "text": [
      "  |**************************************************| 100%\n"
     ]
    },
    {
     "name": "stderr",
     "output_type": "stream",
     "text": [
      "Fitting sub-sample scaling relations:  92%|███████████████████████████████▍  | 96/104 [49:29<04:10, 31.32s/it]"
     ]
    },
    {
     "name": "stdout",
     "output_type": "stream",
     "text": [
      "  |**************************************************| 100%\n"
     ]
    },
    {
     "name": "stderr",
     "output_type": "stream",
     "text": [
      "Fitting sub-sample scaling relations:  93%|███████████████████████████████▋  | 97/104 [50:00<03:37, 31.04s/it]"
     ]
    },
    {
     "name": "stdout",
     "output_type": "stream",
     "text": [
      "  |**************************************************| 100%\n"
     ]
    },
    {
     "name": "stderr",
     "output_type": "stream",
     "text": [
      "Fitting sub-sample scaling relations:  94%|████████████████████████████████  | 98/104 [50:30<03:05, 30.97s/it]"
     ]
    },
    {
     "name": "stdout",
     "output_type": "stream",
     "text": [
      "  |**************************************************| 100%\n"
     ]
    },
    {
     "name": "stderr",
     "output_type": "stream",
     "text": [
      "Fitting sub-sample scaling relations:  95%|████████████████████████████████▎ | 99/104 [51:02<02:35, 31.13s/it]"
     ]
    },
    {
     "name": "stdout",
     "output_type": "stream",
     "text": [
      "  |**************************************************| 100%\n"
     ]
    },
    {
     "name": "stderr",
     "output_type": "stream",
     "text": [
      "Fitting sub-sample scaling relations:  96%|███████████████████████████████▋ | 100/104 [51:34<02:05, 31.40s/it]"
     ]
    },
    {
     "name": "stdout",
     "output_type": "stream",
     "text": [
      "  |**************************************************| 100%\n"
     ]
    },
    {
     "name": "stderr",
     "output_type": "stream",
     "text": [
      "Fitting sub-sample scaling relations:  97%|████████████████████████████████ | 101/104 [52:05<01:34, 31.41s/it]"
     ]
    },
    {
     "name": "stdout",
     "output_type": "stream",
     "text": [
      "  |**************************************************| 100%\n"
     ]
    },
    {
     "name": "stderr",
     "output_type": "stream",
     "text": [
      "Fitting sub-sample scaling relations:  98%|████████████████████████████████▎| 102/104 [52:36<01:02, 31.19s/it]"
     ]
    },
    {
     "name": "stdout",
     "output_type": "stream",
     "text": [
      "  |**************************************************| 100%\n"
     ]
    },
    {
     "name": "stderr",
     "output_type": "stream",
     "text": [
      "Fitting sub-sample scaling relations:  99%|████████████████████████████████▋| 103/104 [53:07<00:31, 31.17s/it]"
     ]
    },
    {
     "name": "stdout",
     "output_type": "stream",
     "text": [
      "  |**************************************************| 100%\n"
     ]
    },
    {
     "name": "stderr",
     "output_type": "stream",
     "text": [
      "Fitting sub-sample scaling relations: 100%|█████████████████████████████████| 104/104 [53:39<00:00, 30.95s/it]\n"
     ]
    }
   ],
   "source": [
    "l1_mtot500_rich_rels, l1_mtot500_rich_res = leave_one_jackknife(sdssxcs_samp_with_gm500, mtot500_rich, \n",
    "                                                                x_cols=['richness', 'richness_err', 'richness_err'], \n",
    "                                                                x_name=r\"$\\lambda_{\\rm{RM}}$\", x_norm=rich_norm, dim_hubb_ind=0,\n",
    "                                                                y_name=r\"$M^{\\rm{tot}}_{500}$\")"
   ]
  },
  {
   "cell_type": "markdown",
   "id": "55f866d3-0189-47cb-9a16-12a320653e92",
   "metadata": {},
   "source": [
    "One of the outputs of the jackknifing function is a dataframe containing the relation parameters linked to the name of the cluster that was excluded in each case - we save them to disk as well as making use of them later to measure scaling relations with the scatter-dominating clusters removed."
   ]
  },
  {
   "cell_type": "code",
   "execution_count": 12,
   "id": "0d3530b8-fb1d-434a-8c83-6b4228277552",
   "metadata": {},
   "outputs": [
    {
     "data": {
      "text/html": [
       "<div>\n",
       "<style scoped>\n",
       "    .dataframe tbody tr th:only-of-type {\n",
       "        vertical-align: middle;\n",
       "    }\n",
       "\n",
       "    .dataframe tbody tr th {\n",
       "        vertical-align: top;\n",
       "    }\n",
       "\n",
       "    .dataframe thead th {\n",
       "        text-align: right;\n",
       "    }\n",
       "</style>\n",
       "<table border=\"1\" class=\"dataframe\">\n",
       "  <thead>\n",
       "    <tr style=\"text-align: right;\">\n",
       "      <th></th>\n",
       "      <th>dropped_cluster</th>\n",
       "      <th>slope</th>\n",
       "      <th>slope+-</th>\n",
       "      <th>norm</th>\n",
       "      <th>norm+-</th>\n",
       "      <th>scatter</th>\n",
       "      <th>scatter+-</th>\n",
       "      <th>scatter_perc_change</th>\n",
       "    </tr>\n",
       "  </thead>\n",
       "  <tbody>\n",
       "    <tr>\n",
       "      <th>0</th>\n",
       "      <td>SDSSXCS-1018</td>\n",
       "      <td>0.6589</td>\n",
       "      <td>0.1024</td>\n",
       "      <td>5.5183</td>\n",
       "      <td>0.3956</td>\n",
       "      <td>0.2458</td>\n",
       "      <td>0.0201</td>\n",
       "      <td>0.430</td>\n",
       "    </tr>\n",
       "    <tr>\n",
       "      <th>1</th>\n",
       "      <td>SDSSXCS-10401</td>\n",
       "      <td>0.6281</td>\n",
       "      <td>0.1029</td>\n",
       "      <td>5.5250</td>\n",
       "      <td>0.3904</td>\n",
       "      <td>0.2419</td>\n",
       "      <td>0.0199</td>\n",
       "      <td>-1.127</td>\n",
       "    </tr>\n",
       "    <tr>\n",
       "      <th>2</th>\n",
       "      <td>SDSSXCS-110</td>\n",
       "      <td>0.6551</td>\n",
       "      <td>0.1023</td>\n",
       "      <td>5.4820</td>\n",
       "      <td>0.3920</td>\n",
       "      <td>0.2434</td>\n",
       "      <td>0.0200</td>\n",
       "      <td>-0.521</td>\n",
       "    </tr>\n",
       "    <tr>\n",
       "      <th>3</th>\n",
       "      <td>SDSSXCS-11154</td>\n",
       "      <td>0.6638</td>\n",
       "      <td>0.1039</td>\n",
       "      <td>5.5321</td>\n",
       "      <td>0.3972</td>\n",
       "      <td>0.2461</td>\n",
       "      <td>0.0201</td>\n",
       "      <td>0.553</td>\n",
       "    </tr>\n",
       "    <tr>\n",
       "      <th>4</th>\n",
       "      <td>SDSSXCS-1131</td>\n",
       "      <td>0.6570</td>\n",
       "      <td>0.1023</td>\n",
       "      <td>5.5407</td>\n",
       "      <td>0.3957</td>\n",
       "      <td>0.2448</td>\n",
       "      <td>0.0199</td>\n",
       "      <td>0.048</td>\n",
       "    </tr>\n",
       "    <tr>\n",
       "      <th>5</th>\n",
       "      <td>SDSSXCS-11331</td>\n",
       "      <td>0.6563</td>\n",
       "      <td>0.1037</td>\n",
       "      <td>5.5312</td>\n",
       "      <td>0.3969</td>\n",
       "      <td>0.2463</td>\n",
       "      <td>0.0201</td>\n",
       "      <td>0.638</td>\n",
       "    </tr>\n",
       "  </tbody>\n",
       "</table>\n",
       "</div>"
      ],
      "text/plain": [
       "  dropped_cluster   slope  slope+-    norm  norm+-  scatter  scatter+-  \\\n",
       "0    SDSSXCS-1018  0.6589   0.1024  5.5183  0.3956   0.2458     0.0201   \n",
       "1   SDSSXCS-10401  0.6281   0.1029  5.5250  0.3904   0.2419     0.0199   \n",
       "2     SDSSXCS-110  0.6551   0.1023  5.4820  0.3920   0.2434     0.0200   \n",
       "3   SDSSXCS-11154  0.6638   0.1039  5.5321  0.3972   0.2461     0.0201   \n",
       "4    SDSSXCS-1131  0.6570   0.1023  5.5407  0.3957   0.2448     0.0199   \n",
       "5   SDSSXCS-11331  0.6563   0.1037  5.5312  0.3969   0.2463     0.0201   \n",
       "\n",
       "   scatter_perc_change  \n",
       "0                0.430  \n",
       "1               -1.127  \n",
       "2               -0.521  \n",
       "3                0.553  \n",
       "4                0.048  \n",
       "5                0.638  "
      ]
     },
     "execution_count": 12,
     "metadata": {},
     "output_type": "execute_result"
    }
   ],
   "source": [
    "l1_mtot500_rich_res.to_csv(\"../../outputs/result_files/exploring_scatter/leave_one_jackknife/mtot-richness/\"\\\n",
    "                           \"mtot500_richness_l1_jackknife_rel_pars.csv\")\n",
    "l1_mtot500_rich_res.head(6)"
   ]
  },
  {
   "cell_type": "markdown",
   "id": "755f2a45-5ded-4303-bb84-f31f1d086049",
   "metadata": {},
   "source": [
    "#### Diagnostic distribution of percentage change of scatter"
   ]
  },
  {
   "cell_type": "code",
   "execution_count": 13,
   "id": "544e00fd-4b89-46d8-a5d5-fecdeb2ef546",
   "metadata": {},
   "outputs": [
    {
     "data": {
      "image/png": "[encoded data removed]",
      "text/plain": [
       "<Figure size 500x500 with 1 Axes>"
      ]
     },
     "metadata": {},
     "output_type": "display_data"
    },
    {
     "name": "stdout",
     "output_type": "stream",
     "text": [
      "Median percentage change in scatter of 0.36%\n",
      "90% confidence limits on percentage change in scatter of -1.47% to 0.64%\n",
      "\n"
     ]
    }
   ],
   "source": [
    "plt.figure(figsize=(5, 5))\n",
    "\n",
    "plt.minorticks_on()\n",
    "plt.tick_params(which='both', direction='in', top=True, right=True)\n",
    "\n",
    "# Plotting the distribution of percentage change in scatter values\n",
    "plt.hist(l1_mtot500_rich_res['scatter_perc_change'].values, bins='auto', color='seagreen', alpha=0.65, \n",
    "         label=r\"$\\sigma$ change distribution\", histtype='step', linewidth=3)\n",
    "\n",
    "# Calculating the median and specified confidence intervals\n",
    "cur_med = np.median(l1_mtot500_rich_res['scatter_perc_change'].values)\n",
    "cur_low = np.percentile(l1_mtot500_rich_res['scatter_perc_change'].values, (50-(CONF_PERC/2)))\n",
    "cur_upp = np.percentile(l1_mtot500_rich_res['scatter_perc_change'].values, (50+(CONF_PERC/2)))\n",
    "\n",
    "plt.axvline(cur_med, color='black', label='Median')\n",
    "plt.axvline(cur_low, color='black', linestyle='dashed', label='{}% limits'.format(CONF_PERC))\n",
    "plt.axvline(cur_upp, color='black', linestyle='dashed')\n",
    "\n",
    "\n",
    "plt.title(r'$M^{\\rm{tot}}_{500}$-$\\lambda_{\\rm{RM}}$ scatter change with jackknife')\n",
    "plt.ylabel('N', fontsize=14)\n",
    "plt.xlabel(r'$\\dfrac{\\sigma_{\\rm{jackknife}}-\\sigma_{\\rm{original}}}{\\sigma_{\\rm{original}}}$ [%]', fontsize=14)\n",
    "\n",
    "plt.legend()\n",
    "plt.tight_layout()\n",
    "plt.show()\n",
    "\n",
    "print(\"Median percentage change in scatter of {v:.2f}%\".format(v=cur_med))\n",
    "print(\"{c}% confidence limits on percentage change in scatter of {l:.2f}% to \"\\\n",
    "      \"{u:.2f}%\\n\".format(c=CONF_PERC, l=cur_low, u=cur_upp))"
   ]
  },
  {
   "cell_type": "markdown",
   "id": "585e0bb1-4709-4637-8385-dfb8c0b3fbbe",
   "metadata": {},
   "source": [
    "#### Selecting 'scatter-dominating' clusters"
   ]
  },
  {
   "cell_type": "code",
   "execution_count": 14,
   "id": "a5c68d41-eefc-4d4e-9e20-03d13d86e3b8",
   "metadata": {},
   "outputs": [
    {
     "data": {
      "text/html": [
       "<div>\n",
       "<style scoped>\n",
       "    .dataframe tbody tr th:only-of-type {\n",
       "        vertical-align: middle;\n",
       "    }\n",
       "\n",
       "    .dataframe tbody tr th {\n",
       "        vertical-align: top;\n",
       "    }\n",
       "\n",
       "    .dataframe thead th {\n",
       "        text-align: right;\n",
       "    }\n",
       "</style>\n",
       "<table border=\"1\" class=\"dataframe\">\n",
       "  <thead>\n",
       "    <tr style=\"text-align: right;\">\n",
       "      <th></th>\n",
       "      <th>dropped_cluster</th>\n",
       "      <th>slope</th>\n",
       "      <th>slope+-</th>\n",
       "      <th>norm</th>\n",
       "      <th>norm+-</th>\n",
       "      <th>scatter</th>\n",
       "      <th>scatter+-</th>\n",
       "      <th>scatter_perc_change</th>\n",
       "    </tr>\n",
       "  </thead>\n",
       "  <tbody>\n",
       "    <tr>\n",
       "      <th>32</th>\n",
       "      <td>SDSSXCS-210</td>\n",
       "      <td>0.6724</td>\n",
       "      <td>0.1005</td>\n",
       "      <td>5.6338</td>\n",
       "      <td>0.3970</td>\n",
       "      <td>0.2396</td>\n",
       "      <td>0.0196</td>\n",
       "      <td>-2.092</td>\n",
       "    </tr>\n",
       "    <tr>\n",
       "      <th>34</th>\n",
       "      <td>SDSSXCS-22</td>\n",
       "      <td>0.6949</td>\n",
       "      <td>0.0963</td>\n",
       "      <td>5.7418</td>\n",
       "      <td>0.3851</td>\n",
       "      <td>0.2258</td>\n",
       "      <td>0.0191</td>\n",
       "      <td>-7.742</td>\n",
       "    </tr>\n",
       "    <tr>\n",
       "      <th>36</th>\n",
       "      <td>SDSSXCS-2282</td>\n",
       "      <td>0.6345</td>\n",
       "      <td>0.1014</td>\n",
       "      <td>5.5498</td>\n",
       "      <td>0.3886</td>\n",
       "      <td>0.2400</td>\n",
       "      <td>0.0197</td>\n",
       "      <td>-1.938</td>\n",
       "    </tr>\n",
       "    <tr>\n",
       "      <th>79</th>\n",
       "      <td>SDSSXCS-586</td>\n",
       "      <td>0.6618</td>\n",
       "      <td>0.1009</td>\n",
       "      <td>5.6006</td>\n",
       "      <td>0.3947</td>\n",
       "      <td>0.2411</td>\n",
       "      <td>0.0197</td>\n",
       "      <td>-1.491</td>\n",
       "    </tr>\n",
       "    <tr>\n",
       "      <th>86</th>\n",
       "      <td>SDSSXCS-6955</td>\n",
       "      <td>0.6285</td>\n",
       "      <td>0.1010</td>\n",
       "      <td>5.5454</td>\n",
       "      <td>0.3886</td>\n",
       "      <td>0.2386</td>\n",
       "      <td>0.0195</td>\n",
       "      <td>-2.491</td>\n",
       "    </tr>\n",
       "    <tr>\n",
       "      <th>94</th>\n",
       "      <td>SDSSXCS-8060</td>\n",
       "      <td>0.6982</td>\n",
       "      <td>0.1020</td>\n",
       "      <td>5.5437</td>\n",
       "      <td>0.3870</td>\n",
       "      <td>0.2387</td>\n",
       "      <td>0.0197</td>\n",
       "      <td>-2.459</td>\n",
       "    </tr>\n",
       "  </tbody>\n",
       "</table>\n",
       "</div>"
      ],
      "text/plain": [
       "   dropped_cluster   slope  slope+-    norm  norm+-  scatter  scatter+-  \\\n",
       "32     SDSSXCS-210  0.6724   0.1005  5.6338  0.3970   0.2396     0.0196   \n",
       "34      SDSSXCS-22  0.6949   0.0963  5.7418  0.3851   0.2258     0.0191   \n",
       "36    SDSSXCS-2282  0.6345   0.1014  5.5498  0.3886   0.2400     0.0197   \n",
       "79     SDSSXCS-586  0.6618   0.1009  5.6006  0.3947   0.2411     0.0197   \n",
       "86    SDSSXCS-6955  0.6285   0.1010  5.5454  0.3886   0.2386     0.0195   \n",
       "94    SDSSXCS-8060  0.6982   0.1020  5.5437  0.3870   0.2387     0.0197   \n",
       "\n",
       "    scatter_perc_change  \n",
       "32               -2.092  \n",
       "34               -7.742  \n",
       "36               -1.938  \n",
       "79               -1.491  \n",
       "86               -2.491  \n",
       "94               -2.459  "
      ]
     },
     "execution_count": 14,
     "metadata": {},
     "output_type": "execute_result"
    }
   ],
   "source": [
    "l1_mtot500_rich_domin = l1_mtot500_rich_res[l1_mtot500_rich_res['scatter_perc_change'] < cur_low]\n",
    "l1_mtot500_rich_domin"
   ]
  },
  {
   "cell_type": "markdown",
   "id": "3082cdab-3138-432a-999f-6ce6954bb5a1",
   "metadata": {},
   "source": [
    "#### Fitting a new version of the relation without the 'scatter-dominating' clusters"
   ]
  },
  {
   "cell_type": "code",
   "execution_count": 15,
   "id": "17bfe02d-432a-4616-a279-13fd32a45d39",
   "metadata": {},
   "outputs": [
    {
     "name": "stdout",
     "output_type": "stream",
     "text": [
      "  |**************************************************| 100%\n"
     ]
    }
   ],
   "source": [
    "cur_samp_wo_domin = sdssxcs_samp_with_gm500[~sdssxcs_samp_with_gm500['name'].isin(l1_mtot500_rich_domin['dropped_cluster'].values)]\n",
    "\n",
    "# Setting up property variables in astropy quantity objects\n",
    "mtot500 = Quantity(cur_samp_wo_domin[['Mhy500_wraderr', 'Mhy500_wraderr-', 'Mhy500_wraderr+']].values*1e+14, 'Msun')\n",
    "rich = Quantity(cur_samp_wo_domin[['richness', 'richness_err','richness_err']].values, '')\n",
    "\n",
    "mtot500_rich_wo_domin = scaling_relation_lira(mtot500[:, 0], mtot500[:, 1:], rich[:, 0], rich[:, 1:], m_norm, rich_norm, \n",
    "                                              y_name=r\"$M^{\\rm{tot}}_{500}$\", x_name=r\"$\\lambda_{\\rm{RM}}$\", \n",
    "                                              point_names=cur_samp_wo_domin['name'].values)\n",
    "mtot500_rich_wo_domin.model_colour = 'goldenrod'\n",
    "mtot500_rich_wo_domin.author = 'Turner et al.'\n",
    "mtot500_rich_wo_domin.year = 2025\n",
    "mtot500_rich_wo_domin.name = r\"Turner et al. '$\\sigma$ dominating excluded' $M^{\\rm{tot}}_{500}$-$\\lambda_{\\rm{RM}}$\""
   ]
  },
  {
   "cell_type": "code",
   "execution_count": 16,
   "id": "5231724a-4220-42f8-8e6d-948bcdb1a80b",
   "metadata": {},
   "outputs": [
    {
     "name": "stdout",
     "output_type": "stream",
     "text": [
      "Slope of 0.702 ± 0.087\n",
      "\n",
      "Normalisation of 5.976 ± 0.353\n",
      "\n",
      "Scatter of 0.193 ± 0.017\n"
     ]
    }
   ],
   "source": [
    "print(\"Slope of {v:.3f} ± {e:.3f}\\n\".format(v=mtot500_rich_wo_domin.pars[0][0], e=mtot500_rich_wo_domin.pars[0][1]))\n",
    "print(\"Normalisation of {v:.3f} ± {e:.3f}\\n\".format(v=mtot500_rich_wo_domin.pars[1][0], e=mtot500_rich_wo_domin.pars[1][1]))\n",
    "print(\"Scatter of {v:.3f} ± {e:.3f}\".format(v=mtot500_rich_wo_domin.scatter_par[0], e=mtot500_rich_wo_domin.scatter_par[1]))"
   ]
  },
  {
   "cell_type": "markdown",
   "id": "6bd40f57-add0-4db6-9d16-3191b81fc934",
   "metadata": {},
   "source": [
    "### Assessing the $M^{\\rm{tot}}_{2500}$-$\\lambda_{\\rm{RM}}$ relation"
   ]
  },
  {
   "cell_type": "code",
   "execution_count": 17,
   "id": "6dc74d5a-b82e-45da-832a-85414c153ff4",
   "metadata": {},
   "outputs": [
    {
     "name": "stderr",
     "output_type": "stream",
     "text": [
      "Fitting sub-sample scaling relations:   0%|                                            | 0/91 [00:00<?, ?it/s]"
     ]
    },
    {
     "name": "stdout",
     "output_type": "stream",
     "text": [
      "  |**************************************************| 100%\n"
     ]
    },
    {
     "name": "stderr",
     "output_type": "stream",
     "text": [
      "Fitting sub-sample scaling relations:   1%|▍                                   | 1/91 [00:26<39:47, 26.53s/it]"
     ]
    },
    {
     "name": "stdout",
     "output_type": "stream",
     "text": [
      "  |**************************************************| 100%\n"
     ]
    },
    {
     "name": "stderr",
     "output_type": "stream",
     "text": [
      "Fitting sub-sample scaling relations:   2%|▊                                   | 2/91 [00:53<39:22, 26.55s/it]"
     ]
    },
    {
     "name": "stdout",
     "output_type": "stream",
     "text": [
      "  |**************************************************| 100%\n"
     ]
    },
    {
     "name": "stderr",
     "output_type": "stream",
     "text": [
      "Fitting sub-sample scaling relations:   3%|█▏                                  | 3/91 [01:19<38:54, 26.53s/it]"
     ]
    },
    {
     "name": "stdout",
     "output_type": "stream",
     "text": [
      "  |**************************************************| 100%\n"
     ]
    },
    {
     "name": "stderr",
     "output_type": "stream",
     "text": [
      "Fitting sub-sample scaling relations:   4%|█▌                                  | 4/91 [01:46<38:27, 26.52s/it]"
     ]
    },
    {
     "name": "stdout",
     "output_type": "stream",
     "text": [
      "  |**************************************************| 100%\n"
     ]
    },
    {
     "name": "stderr",
     "output_type": "stream",
     "text": [
      "Fitting sub-sample scaling relations:   5%|█▉                                  | 5/91 [02:13<38:12, 26.66s/it]"
     ]
    },
    {
     "name": "stdout",
     "output_type": "stream",
     "text": [
      "  |**************************************************| 100%\n"
     ]
    },
    {
     "name": "stderr",
     "output_type": "stream",
     "text": [
      "Fitting sub-sample scaling relations:   7%|██▎                                 | 6/91 [02:39<37:54, 26.76s/it]"
     ]
    },
    {
     "name": "stdout",
     "output_type": "stream",
     "text": [
      "  |**************************************************| 100%\n"
     ]
    },
    {
     "name": "stderr",
     "output_type": "stream",
     "text": [
      "Fitting sub-sample scaling relations:   8%|██▊                                 | 7/91 [03:07<37:48, 27.01s/it]"
     ]
    },
    {
     "name": "stdout",
     "output_type": "stream",
     "text": [
      "  |**************************************************| 100%\n"
     ]
    },
    {
     "name": "stderr",
     "output_type": "stream",
     "text": [
      "Fitting sub-sample scaling relations:   9%|███▏                                | 8/91 [03:34<37:21, 27.01s/it]"
     ]
    },
    {
     "name": "stdout",
     "output_type": "stream",
     "text": [
      "  |**************************************************| 100%\n"
     ]
    },
    {
     "name": "stderr",
     "output_type": "stream",
     "text": [
      "Fitting sub-sample scaling relations:  10%|███▌                                | 9/91 [04:01<36:49, 26.94s/it]"
     ]
    },
    {
     "name": "stdout",
     "output_type": "stream",
     "text": [
      "  |**************************************************| 100%\n"
     ]
    },
    {
     "name": "stderr",
     "output_type": "stream",
     "text": [
      "Fitting sub-sample scaling relations:  11%|███▊                               | 10/91 [04:28<36:32, 27.06s/it]"
     ]
    },
    {
     "name": "stdout",
     "output_type": "stream",
     "text": [
      "  |**************************************************| 100%\n"
     ]
    },
    {
     "name": "stderr",
     "output_type": "stream",
     "text": [
      "Fitting sub-sample scaling relations:  12%|████▏                              | 11/91 [04:55<36:04, 27.05s/it]"
     ]
    },
    {
     "name": "stdout",
     "output_type": "stream",
     "text": [
      "  |**************************************************| 100%\n"
     ]
    },
    {
     "name": "stderr",
     "output_type": "stream",
     "text": [
      "Fitting sub-sample scaling relations:  13%|████▌                              | 12/91 [05:22<35:28, 26.94s/it]"
     ]
    },
    {
     "name": "stdout",
     "output_type": "stream",
     "text": [
      "  |**************************************************| 100%\n"
     ]
    },
    {
     "name": "stderr",
     "output_type": "stream",
     "text": [
      "Fitting sub-sample scaling relations:  14%|█████                              | 13/91 [05:49<35:11, 27.06s/it]"
     ]
    },
    {
     "name": "stdout",
     "output_type": "stream",
     "text": [
      "  |**************************************************| 100%\n"
     ]
    },
    {
     "name": "stderr",
     "output_type": "stream",
     "text": [
      "Fitting sub-sample scaling relations:  15%|█████▍                             | 14/91 [06:17<34:58, 27.25s/it]"
     ]
    },
    {
     "name": "stdout",
     "output_type": "stream",
     "text": [
      "  |**************************************************| 100%\n"
     ]
    },
    {
     "name": "stderr",
     "output_type": "stream",
     "text": [
      "Fitting sub-sample scaling relations:  16%|█████▊                             | 15/91 [06:45<34:45, 27.44s/it]"
     ]
    },
    {
     "name": "stdout",
     "output_type": "stream",
     "text": [
      "  |**************************************************| 100%\n"
     ]
    },
    {
     "name": "stderr",
     "output_type": "stream",
     "text": [
      "Fitting sub-sample scaling relations:  18%|██████▏                            | 16/91 [07:13<34:25, 27.54s/it]"
     ]
    },
    {
     "name": "stdout",
     "output_type": "stream",
     "text": [
      "  |**************************************************| 100%\n"
     ]
    },
    {
     "name": "stderr",
     "output_type": "stream",
     "text": [
      "Fitting sub-sample scaling relations:  19%|██████▌                            | 17/91 [07:40<33:50, 27.44s/it]"
     ]
    },
    {
     "name": "stdout",
     "output_type": "stream",
     "text": [
      "  |**************************************************| 100%\n"
     ]
    },
    {
     "name": "stderr",
     "output_type": "stream",
     "text": [
      "Fitting sub-sample scaling relations:  20%|██████▉                            | 18/91 [08:07<33:22, 27.44s/it]"
     ]
    },
    {
     "name": "stdout",
     "output_type": "stream",
     "text": [
      "  |**************************************************| 100%\n"
     ]
    },
    {
     "name": "stderr",
     "output_type": "stream",
     "text": [
      "Fitting sub-sample scaling relations:  21%|███████▎                           | 19/91 [08:34<32:50, 27.37s/it]"
     ]
    },
    {
     "name": "stdout",
     "output_type": "stream",
     "text": [
      "  |**************************************************| 100%\n"
     ]
    },
    {
     "name": "stderr",
     "output_type": "stream",
     "text": [
      "Fitting sub-sample scaling relations:  22%|███████▋                           | 20/91 [09:02<32:25, 27.40s/it]"
     ]
    },
    {
     "name": "stdout",
     "output_type": "stream",
     "text": [
      "  |**************************************************| 100%\n"
     ]
    },
    {
     "name": "stderr",
     "output_type": "stream",
     "text": [
      "Fitting sub-sample scaling relations:  23%|████████                           | 21/91 [09:30<32:04, 27.50s/it]"
     ]
    },
    {
     "name": "stdout",
     "output_type": "stream",
     "text": [
      "  |**************************************************| 100%\n"
     ]
    },
    {
     "name": "stderr",
     "output_type": "stream",
     "text": [
      "Fitting sub-sample scaling relations:  24%|████████▍                          | 22/91 [09:57<31:34, 27.45s/it]"
     ]
    },
    {
     "name": "stdout",
     "output_type": "stream",
     "text": [
      "  |**************************************************| 100%\n"
     ]
    },
    {
     "name": "stderr",
     "output_type": "stream",
     "text": [
      "Fitting sub-sample scaling relations:  25%|████████▊                          | 23/91 [10:24<31:07, 27.46s/it]"
     ]
    },
    {
     "name": "stdout",
     "output_type": "stream",
     "text": [
      "  |**************************************************| 100%\n"
     ]
    },
    {
     "name": "stderr",
     "output_type": "stream",
     "text": [
      "Fitting sub-sample scaling relations:  26%|█████████▏                         | 24/91 [10:52<30:37, 27.43s/it]"
     ]
    },
    {
     "name": "stdout",
     "output_type": "stream",
     "text": [
      "  |**************************************************| 100%\n"
     ]
    },
    {
     "name": "stderr",
     "output_type": "stream",
     "text": [
      "Fitting sub-sample scaling relations:  27%|█████████▌                         | 25/91 [11:19<30:08, 27.41s/it]"
     ]
    },
    {
     "name": "stdout",
     "output_type": "stream",
     "text": [
      "  |**************************************************| 100%\n"
     ]
    },
    {
     "name": "stderr",
     "output_type": "stream",
     "text": [
      "Fitting sub-sample scaling relations:  29%|██████████                         | 26/91 [11:47<29:44, 27.46s/it]"
     ]
    },
    {
     "name": "stdout",
     "output_type": "stream",
     "text": [
      "  |**************************************************| 100%\n"
     ]
    },
    {
     "name": "stderr",
     "output_type": "stream",
     "text": [
      "Fitting sub-sample scaling relations:  30%|██████████▍                        | 27/91 [12:15<29:30, 27.66s/it]"
     ]
    },
    {
     "name": "stdout",
     "output_type": "stream",
     "text": [
      "  |**************************************************| 100%\n"
     ]
    },
    {
     "name": "stderr",
     "output_type": "stream",
     "text": [
      "Fitting sub-sample scaling relations:  31%|██████████▊                        | 28/91 [12:42<29:00, 27.62s/it]"
     ]
    },
    {
     "name": "stdout",
     "output_type": "stream",
     "text": [
      "  |**************************************************| 100%\n"
     ]
    },
    {
     "name": "stderr",
     "output_type": "stream",
     "text": [
      "Fitting sub-sample scaling relations:  32%|███████████▏                       | 29/91 [13:10<28:29, 27.57s/it]"
     ]
    },
    {
     "name": "stdout",
     "output_type": "stream",
     "text": [
      "  |**************************************************| 100%\n"
     ]
    },
    {
     "name": "stderr",
     "output_type": "stream",
     "text": [
      "Fitting sub-sample scaling relations:  33%|███████████▌                       | 30/91 [13:37<27:55, 27.46s/it]"
     ]
    },
    {
     "name": "stdout",
     "output_type": "stream",
     "text": [
      "  |**************************************************| 100%\n"
     ]
    },
    {
     "name": "stderr",
     "output_type": "stream",
     "text": [
      "Fitting sub-sample scaling relations:  34%|███████████▉                       | 31/91 [14:04<27:23, 27.39s/it]"
     ]
    },
    {
     "name": "stdout",
     "output_type": "stream",
     "text": [
      "  |**************************************************| 100%\n"
     ]
    },
    {
     "name": "stderr",
     "output_type": "stream",
     "text": [
      "Fitting sub-sample scaling relations:  35%|████████████▎                      | 32/91 [14:32<27:03, 27.52s/it]"
     ]
    },
    {
     "name": "stdout",
     "output_type": "stream",
     "text": [
      "  |**************************************************| 100%\n"
     ]
    },
    {
     "name": "stderr",
     "output_type": "stream",
     "text": [
      "Fitting sub-sample scaling relations:  36%|████████████▋                      | 33/91 [14:59<26:32, 27.47s/it]"
     ]
    },
    {
     "name": "stdout",
     "output_type": "stream",
     "text": [
      "  |**************************************************| 100%\n"
     ]
    },
    {
     "name": "stderr",
     "output_type": "stream",
     "text": [
      "Fitting sub-sample scaling relations:  37%|█████████████                      | 34/91 [15:27<26:05, 27.47s/it]"
     ]
    },
    {
     "name": "stdout",
     "output_type": "stream",
     "text": [
      "  |**************************************************| 100%\n"
     ]
    },
    {
     "name": "stderr",
     "output_type": "stream",
     "text": [
      "Fitting sub-sample scaling relations:  38%|█████████████▍                     | 35/91 [15:55<25:44, 27.59s/it]"
     ]
    },
    {
     "name": "stdout",
     "output_type": "stream",
     "text": [
      "  |**************************************************| 100%\n"
     ]
    },
    {
     "name": "stderr",
     "output_type": "stream",
     "text": [
      "Fitting sub-sample scaling relations:  40%|█████████████▊                     | 36/91 [16:22<25:18, 27.61s/it]"
     ]
    },
    {
     "name": "stdout",
     "output_type": "stream",
     "text": [
      "  |**************************************************| 100%\n"
     ]
    },
    {
     "name": "stderr",
     "output_type": "stream",
     "text": [
      "Fitting sub-sample scaling relations:  41%|██████████████▏                    | 37/91 [16:50<24:43, 27.47s/it]"
     ]
    },
    {
     "name": "stdout",
     "output_type": "stream",
     "text": [
      "  |**************************************************| 100%\n"
     ]
    },
    {
     "name": "stderr",
     "output_type": "stream",
     "text": [
      "Fitting sub-sample scaling relations:  42%|██████████████▌                    | 38/91 [17:17<24:19, 27.55s/it]"
     ]
    },
    {
     "name": "stdout",
     "output_type": "stream",
     "text": [
      "  |**************************************************| 100%\n"
     ]
    },
    {
     "name": "stderr",
     "output_type": "stream",
     "text": [
      "Fitting sub-sample scaling relations:  43%|███████████████                    | 39/91 [17:46<24:09, 27.87s/it]"
     ]
    },
    {
     "name": "stdout",
     "output_type": "stream",
     "text": [
      "  |**************************************************| 100%\n"
     ]
    },
    {
     "name": "stderr",
     "output_type": "stream",
     "text": [
      "Fitting sub-sample scaling relations:  44%|███████████████▍                   | 40/91 [18:13<23:32, 27.70s/it]"
     ]
    },
    {
     "name": "stdout",
     "output_type": "stream",
     "text": [
      "  |**************************************************| 100%\n"
     ]
    },
    {
     "name": "stderr",
     "output_type": "stream",
     "text": [
      "Fitting sub-sample scaling relations:  45%|███████████████▊                   | 41/91 [18:40<22:58, 27.57s/it]"
     ]
    },
    {
     "name": "stdout",
     "output_type": "stream",
     "text": [
      "  |**************************************************| 100%\n"
     ]
    },
    {
     "name": "stderr",
     "output_type": "stream",
     "text": [
      "Fitting sub-sample scaling relations:  46%|████████████████▏                  | 42/91 [19:08<22:31, 27.59s/it]"
     ]
    },
    {
     "name": "stdout",
     "output_type": "stream",
     "text": [
      "  |**************************************************| 100%\n"
     ]
    },
    {
     "name": "stderr",
     "output_type": "stream",
     "text": [
      "Fitting sub-sample scaling relations:  47%|████████████████▌                  | 43/91 [19:35<21:59, 27.49s/it]"
     ]
    },
    {
     "name": "stdout",
     "output_type": "stream",
     "text": [
      "  |**************************************************| 100%\n"
     ]
    },
    {
     "name": "stderr",
     "output_type": "stream",
     "text": [
      "Fitting sub-sample scaling relations:  48%|████████████████▉                  | 44/91 [20:03<21:37, 27.61s/it]"
     ]
    },
    {
     "name": "stdout",
     "output_type": "stream",
     "text": [
      "  |**************************************************| 100%\n"
     ]
    },
    {
     "name": "stderr",
     "output_type": "stream",
     "text": [
      "Fitting sub-sample scaling relations:  49%|█████████████████▎                 | 45/91 [20:31<21:18, 27.80s/it]"
     ]
    },
    {
     "name": "stdout",
     "output_type": "stream",
     "text": [
      "  |**************************************************| 100%\n"
     ]
    },
    {
     "name": "stderr",
     "output_type": "stream",
     "text": [
      "Fitting sub-sample scaling relations:  51%|█████████████████▋                 | 46/91 [21:00<20:56, 27.93s/it]"
     ]
    },
    {
     "name": "stdout",
     "output_type": "stream",
     "text": [
      "  |**************************************************| 100%\n"
     ]
    },
    {
     "name": "stderr",
     "output_type": "stream",
     "text": [
      "Fitting sub-sample scaling relations:  52%|██████████████████                 | 47/91 [21:27<20:19, 27.71s/it]"
     ]
    },
    {
     "name": "stdout",
     "output_type": "stream",
     "text": [
      "  |**************************************************| 100%\n"
     ]
    },
    {
     "name": "stderr",
     "output_type": "stream",
     "text": [
      "Fitting sub-sample scaling relations:  53%|██████████████████▍                | 48/91 [21:55<19:50, 27.69s/it]"
     ]
    },
    {
     "name": "stdout",
     "output_type": "stream",
     "text": [
      "  |**************************************************| 100%\n"
     ]
    },
    {
     "name": "stderr",
     "output_type": "stream",
     "text": [
      "Fitting sub-sample scaling relations:  54%|██████████████████▊                | 49/91 [22:23<19:32, 27.91s/it]"
     ]
    },
    {
     "name": "stdout",
     "output_type": "stream",
     "text": [
      "  |**************************************************| 100%\n"
     ]
    },
    {
     "name": "stderr",
     "output_type": "stream",
     "text": [
      "Fitting sub-sample scaling relations:  55%|███████████████████▏               | 50/91 [22:51<19:07, 27.99s/it]"
     ]
    },
    {
     "name": "stdout",
     "output_type": "stream",
     "text": [
      "  |**************************************************| 100%\n"
     ]
    },
    {
     "name": "stderr",
     "output_type": "stream",
     "text": [
      "Fitting sub-sample scaling relations:  56%|███████████████████▌               | 51/91 [23:19<18:40, 28.02s/it]"
     ]
    },
    {
     "name": "stdout",
     "output_type": "stream",
     "text": [
      "  |**************************************************| 100%\n"
     ]
    },
    {
     "name": "stderr",
     "output_type": "stream",
     "text": [
      "Fitting sub-sample scaling relations:  57%|████████████████████               | 52/91 [23:47<18:07, 27.89s/it]"
     ]
    },
    {
     "name": "stdout",
     "output_type": "stream",
     "text": [
      "  |**************************************************| 100%\n"
     ]
    },
    {
     "name": "stderr",
     "output_type": "stream",
     "text": [
      "Fitting sub-sample scaling relations:  58%|████████████████████▍              | 53/91 [24:15<17:44, 28.00s/it]"
     ]
    },
    {
     "name": "stdout",
     "output_type": "stream",
     "text": [
      "  |**************************************************| 100%\n"
     ]
    },
    {
     "name": "stderr",
     "output_type": "stream",
     "text": [
      "Fitting sub-sample scaling relations:  59%|████████████████████▊              | 54/91 [24:42<17:08, 27.79s/it]"
     ]
    },
    {
     "name": "stdout",
     "output_type": "stream",
     "text": [
      "  |**************************************************| 100%\n"
     ]
    },
    {
     "name": "stderr",
     "output_type": "stream",
     "text": [
      "Fitting sub-sample scaling relations:  60%|█████████████████████▏             | 55/91 [25:10<16:35, 27.65s/it]"
     ]
    },
    {
     "name": "stdout",
     "output_type": "stream",
     "text": [
      "  |**************************************************| 100%\n"
     ]
    },
    {
     "name": "stderr",
     "output_type": "stream",
     "text": [
      "Fitting sub-sample scaling relations:  62%|█████████████████████▌             | 56/91 [25:37<16:05, 27.57s/it]"
     ]
    },
    {
     "name": "stdout",
     "output_type": "stream",
     "text": [
      "  |**************************************************| 100%\n"
     ]
    },
    {
     "name": "stderr",
     "output_type": "stream",
     "text": [
      "Fitting sub-sample scaling relations:  63%|█████████████████████▉             | 57/91 [26:04<15:30, 27.37s/it]"
     ]
    },
    {
     "name": "stdout",
     "output_type": "stream",
     "text": [
      "  |**************************************************| 100%\n"
     ]
    },
    {
     "name": "stderr",
     "output_type": "stream",
     "text": [
      "Fitting sub-sample scaling relations:  64%|██████████████████████▎            | 58/91 [26:31<15:00, 27.30s/it]"
     ]
    },
    {
     "name": "stdout",
     "output_type": "stream",
     "text": [
      "  |**************************************************| 100%\n"
     ]
    },
    {
     "name": "stderr",
     "output_type": "stream",
     "text": [
      "Fitting sub-sample scaling relations:  65%|██████████████████████▋            | 59/91 [26:58<14:29, 27.17s/it]"
     ]
    },
    {
     "name": "stdout",
     "output_type": "stream",
     "text": [
      "  |**************************************************| 100%\n"
     ]
    },
    {
     "name": "stderr",
     "output_type": "stream",
     "text": [
      "Fitting sub-sample scaling relations:  66%|███████████████████████            | 60/91 [27:25<13:57, 27.01s/it]"
     ]
    },
    {
     "name": "stdout",
     "output_type": "stream",
     "text": [
      "  |**************************************************| 100%\n"
     ]
    },
    {
     "name": "stderr",
     "output_type": "stream",
     "text": [
      "Fitting sub-sample scaling relations:  67%|███████████████████████▍           | 61/91 [27:51<13:28, 26.94s/it]"
     ]
    },
    {
     "name": "stdout",
     "output_type": "stream",
     "text": [
      "  |**************************************************| 100%\n"
     ]
    },
    {
     "name": "stderr",
     "output_type": "stream",
     "text": [
      "Fitting sub-sample scaling relations:  68%|███████████████████████▊           | 62/91 [28:20<13:12, 27.31s/it]"
     ]
    },
    {
     "name": "stdout",
     "output_type": "stream",
     "text": [
      "  |**************************************************| 100%\n"
     ]
    },
    {
     "name": "stderr",
     "output_type": "stream",
     "text": [
      "Fitting sub-sample scaling relations:  69%|████████████████████████▏          | 63/91 [28:47<12:43, 27.28s/it]"
     ]
    },
    {
     "name": "stdout",
     "output_type": "stream",
     "text": [
      "  |**************************************************| 100%\n"
     ]
    },
    {
     "name": "stderr",
     "output_type": "stream",
     "text": [
      "Fitting sub-sample scaling relations:  70%|████████████████████████▌          | 64/91 [29:14<12:18, 27.36s/it]"
     ]
    },
    {
     "name": "stdout",
     "output_type": "stream",
     "text": [
      "  |**************************************************| 100%\n"
     ]
    },
    {
     "name": "stderr",
     "output_type": "stream",
     "text": [
      "Fitting sub-sample scaling relations:  71%|█████████████████████████          | 65/91 [29:41<11:48, 27.24s/it]"
     ]
    },
    {
     "name": "stdout",
     "output_type": "stream",
     "text": [
      "  |**************************************************| 100%\n"
     ]
    },
    {
     "name": "stderr",
     "output_type": "stream",
     "text": [
      "Fitting sub-sample scaling relations:  73%|█████████████████████████▍         | 66/91 [30:09<11:21, 27.25s/it]"
     ]
    },
    {
     "name": "stdout",
     "output_type": "stream",
     "text": [
      "  |**************************************************| 100%\n"
     ]
    },
    {
     "name": "stderr",
     "output_type": "stream",
     "text": [
      "Fitting sub-sample scaling relations:  74%|█████████████████████████▊         | 67/91 [30:35<10:50, 27.12s/it]"
     ]
    },
    {
     "name": "stdout",
     "output_type": "stream",
     "text": [
      "  |**************************************************| 100%\n"
     ]
    },
    {
     "name": "stderr",
     "output_type": "stream",
     "text": [
      "Fitting sub-sample scaling relations:  75%|██████████████████████████▏        | 68/91 [31:03<10:24, 27.14s/it]"
     ]
    },
    {
     "name": "stdout",
     "output_type": "stream",
     "text": [
      "  |**************************************************| 100%\n"
     ]
    },
    {
     "name": "stderr",
     "output_type": "stream",
     "text": [
      "Fitting sub-sample scaling relations:  76%|██████████████████████████▌        | 69/91 [31:30<09:57, 27.17s/it]"
     ]
    },
    {
     "name": "stdout",
     "output_type": "stream",
     "text": [
      "  |**************************************************| 100%\n"
     ]
    },
    {
     "name": "stderr",
     "output_type": "stream",
     "text": [
      "Fitting sub-sample scaling relations:  77%|██████████████████████████▉        | 70/91 [31:57<09:29, 27.13s/it]"
     ]
    },
    {
     "name": "stdout",
     "output_type": "stream",
     "text": [
      "  |**************************************************| 100%\n"
     ]
    },
    {
     "name": "stderr",
     "output_type": "stream",
     "text": [
      "Fitting sub-sample scaling relations:  78%|███████████████████████████▎       | 71/91 [32:24<09:01, 27.05s/it]"
     ]
    },
    {
     "name": "stdout",
     "output_type": "stream",
     "text": [
      "  |**************************************************| 100%\n"
     ]
    },
    {
     "name": "stderr",
     "output_type": "stream",
     "text": [
      "Fitting sub-sample scaling relations:  79%|███████████████████████████▋       | 72/91 [32:51<08:36, 27.20s/it]"
     ]
    },
    {
     "name": "stdout",
     "output_type": "stream",
     "text": [
      "  |**************************************************| 100%\n"
     ]
    },
    {
     "name": "stderr",
     "output_type": "stream",
     "text": [
      "Fitting sub-sample scaling relations:  80%|████████████████████████████       | 73/91 [33:18<08:07, 27.06s/it]"
     ]
    },
    {
     "name": "stdout",
     "output_type": "stream",
     "text": [
      "  |**************************************************| 100%\n"
     ]
    },
    {
     "name": "stderr",
     "output_type": "stream",
     "text": [
      "Fitting sub-sample scaling relations:  81%|████████████████████████████▍      | 74/91 [33:45<07:39, 27.01s/it]"
     ]
    },
    {
     "name": "stdout",
     "output_type": "stream",
     "text": [
      "  |**************************************************| 100%\n"
     ]
    },
    {
     "name": "stderr",
     "output_type": "stream",
     "text": [
      "Fitting sub-sample scaling relations:  82%|████████████████████████████▊      | 75/91 [34:12<07:13, 27.11s/it]"
     ]
    },
    {
     "name": "stdout",
     "output_type": "stream",
     "text": [
      "  |**************************************************| 100%\n"
     ]
    },
    {
     "name": "stderr",
     "output_type": "stream",
     "text": [
      "Fitting sub-sample scaling relations:  84%|█████████████████████████████▏     | 76/91 [34:39<06:45, 27.03s/it]"
     ]
    },
    {
     "name": "stdout",
     "output_type": "stream",
     "text": [
      "  |**************************************************| 100%\n"
     ]
    },
    {
     "name": "stderr",
     "output_type": "stream",
     "text": [
      "Fitting sub-sample scaling relations:  85%|█████████████████████████████▌     | 77/91 [35:06<06:19, 27.08s/it]"
     ]
    },
    {
     "name": "stdout",
     "output_type": "stream",
     "text": [
      "  |**************************************************| 100%\n"
     ]
    },
    {
     "name": "stderr",
     "output_type": "stream",
     "text": [
      "Fitting sub-sample scaling relations:  86%|██████████████████████████████     | 78/91 [35:33<05:51, 27.07s/it]"
     ]
    },
    {
     "name": "stdout",
     "output_type": "stream",
     "text": [
      "  |**************************************************| 100%\n"
     ]
    },
    {
     "name": "stderr",
     "output_type": "stream",
     "text": [
      "Fitting sub-sample scaling relations:  87%|██████████████████████████████▍    | 79/91 [36:00<05:24, 27.00s/it]"
     ]
    },
    {
     "name": "stdout",
     "output_type": "stream",
     "text": [
      "  |**************************************************| 100%\n"
     ]
    },
    {
     "name": "stderr",
     "output_type": "stream",
     "text": [
      "Fitting sub-sample scaling relations:  88%|██████████████████████████████▊    | 80/91 [36:27<04:57, 27.01s/it]"
     ]
    },
    {
     "name": "stdout",
     "output_type": "stream",
     "text": [
      "  |**************************************************| 100%\n"
     ]
    },
    {
     "name": "stderr",
     "output_type": "stream",
     "text": [
      "Fitting sub-sample scaling relations:  89%|███████████████████████████████▏   | 81/91 [36:54<04:30, 27.04s/it]"
     ]
    },
    {
     "name": "stdout",
     "output_type": "stream",
     "text": [
      "  |**************************************************| 100%\n"
     ]
    },
    {
     "name": "stderr",
     "output_type": "stream",
     "text": [
      "Fitting sub-sample scaling relations:  90%|███████████████████████████████▌   | 82/91 [37:22<04:03, 27.10s/it]"
     ]
    },
    {
     "name": "stdout",
     "output_type": "stream",
     "text": [
      "  |**************************************************| 100%\n"
     ]
    },
    {
     "name": "stderr",
     "output_type": "stream",
     "text": [
      "Fitting sub-sample scaling relations:  91%|███████████████████████████████▉   | 83/91 [37:49<03:37, 27.13s/it]"
     ]
    },
    {
     "name": "stdout",
     "output_type": "stream",
     "text": [
      "  |**************************************************| 100%\n"
     ]
    },
    {
     "name": "stderr",
     "output_type": "stream",
     "text": [
      "Fitting sub-sample scaling relations:  92%|████████████████████████████████▎  | 84/91 [38:16<03:09, 27.05s/it]"
     ]
    },
    {
     "name": "stdout",
     "output_type": "stream",
     "text": [
      "  |**************************************************| 100%\n"
     ]
    },
    {
     "name": "stderr",
     "output_type": "stream",
     "text": [
      "Fitting sub-sample scaling relations:  93%|████████████████████████████████▋  | 85/91 [38:43<02:42, 27.04s/it]"
     ]
    },
    {
     "name": "stdout",
     "output_type": "stream",
     "text": [
      "  |**************************************************| 100%\n"
     ]
    },
    {
     "name": "stderr",
     "output_type": "stream",
     "text": [
      "Fitting sub-sample scaling relations:  95%|█████████████████████████████████  | 86/91 [39:10<02:15, 27.04s/it]"
     ]
    },
    {
     "name": "stdout",
     "output_type": "stream",
     "text": [
      "  |**************************************************| 100%\n"
     ]
    },
    {
     "name": "stderr",
     "output_type": "stream",
     "text": [
      "Fitting sub-sample scaling relations:  96%|█████████████████████████████████▍ | 87/91 [39:37<01:48, 27.08s/it]"
     ]
    },
    {
     "name": "stdout",
     "output_type": "stream",
     "text": [
      "  |**************************************************| 100%\n"
     ]
    },
    {
     "name": "stderr",
     "output_type": "stream",
     "text": [
      "Fitting sub-sample scaling relations:  97%|█████████████████████████████████▊ | 88/91 [40:04<01:21, 27.08s/it]"
     ]
    },
    {
     "name": "stdout",
     "output_type": "stream",
     "text": [
      "  |**************************************************| 100%\n"
     ]
    },
    {
     "name": "stderr",
     "output_type": "stream",
     "text": [
      "Fitting sub-sample scaling relations:  98%|██████████████████████████████████▏| 89/91 [40:31<00:53, 27.00s/it]"
     ]
    },
    {
     "name": "stdout",
     "output_type": "stream",
     "text": [
      "  |**************************************************| 100%\n"
     ]
    },
    {
     "name": "stderr",
     "output_type": "stream",
     "text": [
      "Fitting sub-sample scaling relations:  99%|██████████████████████████████████▌| 90/91 [40:58<00:26, 26.98s/it]"
     ]
    },
    {
     "name": "stdout",
     "output_type": "stream",
     "text": [
      "  |**************************************************| 100%\n"
     ]
    },
    {
     "name": "stderr",
     "output_type": "stream",
     "text": [
      "Fitting sub-sample scaling relations: 100%|███████████████████████████████████| 91/91 [41:25<00:00, 27.32s/it]\n"
     ]
    }
   ],
   "source": [
    "l1_mtot2500_rich_rels, l1_mtot2500_rich_res = leave_one_jackknife(sdssxcs_samp_with_gm2500, mtot2500_rich, \n",
    "                                                                  x_cols=['richness', 'richness_err', 'richness_err'], \n",
    "                                                                  x_name=r\"$\\lambda_{\\rm{RM}}$\", x_norm=rich_norm, dim_hubb_ind=0,\n",
    "                                                                  y_name=r\"$M^{\\rm{tot}}_{2500}$\")"
   ]
  },
  {
   "cell_type": "markdown",
   "id": "d1feb065-ed60-4b99-a78f-f31b652338aa",
   "metadata": {},
   "source": [
    "One of the outputs of the jackknifing function is a dataframe containing the relation parameters linked to the name of the cluster that was excluded in each case - we save them to disk as well as making use of them later to measure scaling relations with the scatter-dominating clusters removed."
   ]
  },
  {
   "cell_type": "code",
   "execution_count": 18,
   "id": "f338020d-01bb-46ed-bac1-d7003a0b4fd7",
   "metadata": {},
   "outputs": [
    {
     "data": {
      "text/html": [
       "<div>\n",
       "<style scoped>\n",
       "    .dataframe tbody tr th:only-of-type {\n",
       "        vertical-align: middle;\n",
       "    }\n",
       "\n",
       "    .dataframe tbody tr th {\n",
       "        vertical-align: top;\n",
       "    }\n",
       "\n",
       "    .dataframe thead th {\n",
       "        text-align: right;\n",
       "    }\n",
       "</style>\n",
       "<table border=\"1\" class=\"dataframe\">\n",
       "  <thead>\n",
       "    <tr style=\"text-align: right;\">\n",
       "      <th></th>\n",
       "      <th>dropped_cluster</th>\n",
       "      <th>slope</th>\n",
       "      <th>slope+-</th>\n",
       "      <th>norm</th>\n",
       "      <th>norm+-</th>\n",
       "      <th>scatter</th>\n",
       "      <th>scatter+-</th>\n",
       "      <th>scatter_perc_change</th>\n",
       "    </tr>\n",
       "  </thead>\n",
       "  <tbody>\n",
       "    <tr>\n",
       "      <th>0</th>\n",
       "      <td>SDSSXCS-1018</td>\n",
       "      <td>0.6623</td>\n",
       "      <td>0.1153</td>\n",
       "      <td>5.4218</td>\n",
       "      <td>0.4549</td>\n",
       "      <td>0.2630</td>\n",
       "      <td>0.0228</td>\n",
       "      <td>30.527</td>\n",
       "    </tr>\n",
       "    <tr>\n",
       "      <th>1</th>\n",
       "      <td>SDSSXCS-10401</td>\n",
       "      <td>0.6302</td>\n",
       "      <td>0.1158</td>\n",
       "      <td>5.4296</td>\n",
       "      <td>0.4495</td>\n",
       "      <td>0.2590</td>\n",
       "      <td>0.0226</td>\n",
       "      <td>28.553</td>\n",
       "    </tr>\n",
       "    <tr>\n",
       "      <th>2</th>\n",
       "      <td>SDSSXCS-110</td>\n",
       "      <td>0.6586</td>\n",
       "      <td>0.1146</td>\n",
       "      <td>5.3822</td>\n",
       "      <td>0.4499</td>\n",
       "      <td>0.2604</td>\n",
       "      <td>0.0226</td>\n",
       "      <td>29.214</td>\n",
       "    </tr>\n",
       "    <tr>\n",
       "      <th>3</th>\n",
       "      <td>SDSSXCS-11154</td>\n",
       "      <td>0.6687</td>\n",
       "      <td>0.1168</td>\n",
       "      <td>5.4380</td>\n",
       "      <td>0.4556</td>\n",
       "      <td>0.2632</td>\n",
       "      <td>0.0228</td>\n",
       "      <td>30.601</td>\n",
       "    </tr>\n",
       "    <tr>\n",
       "      <th>4</th>\n",
       "      <td>SDSSXCS-1131</td>\n",
       "      <td>0.6614</td>\n",
       "      <td>0.1150</td>\n",
       "      <td>5.4521</td>\n",
       "      <td>0.4564</td>\n",
       "      <td>0.2618</td>\n",
       "      <td>0.0226</td>\n",
       "      <td>29.922</td>\n",
       "    </tr>\n",
       "    <tr>\n",
       "      <th>5</th>\n",
       "      <td>SDSSXCS-11331</td>\n",
       "      <td>0.6609</td>\n",
       "      <td>0.1166</td>\n",
       "      <td>5.4374</td>\n",
       "      <td>0.4557</td>\n",
       "      <td>0.2635</td>\n",
       "      <td>0.0228</td>\n",
       "      <td>30.769</td>\n",
       "    </tr>\n",
       "  </tbody>\n",
       "</table>\n",
       "</div>"
      ],
      "text/plain": [
       "  dropped_cluster   slope  slope+-    norm  norm+-  scatter  scatter+-  \\\n",
       "0    SDSSXCS-1018  0.6623   0.1153  5.4218  0.4549   0.2630     0.0228   \n",
       "1   SDSSXCS-10401  0.6302   0.1158  5.4296  0.4495   0.2590     0.0226   \n",
       "2     SDSSXCS-110  0.6586   0.1146  5.3822  0.4499   0.2604     0.0226   \n",
       "3   SDSSXCS-11154  0.6687   0.1168  5.4380  0.4556   0.2632     0.0228   \n",
       "4    SDSSXCS-1131  0.6614   0.1150  5.4521  0.4564   0.2618     0.0226   \n",
       "5   SDSSXCS-11331  0.6609   0.1166  5.4374  0.4557   0.2635     0.0228   \n",
       "\n",
       "   scatter_perc_change  \n",
       "0               30.527  \n",
       "1               28.553  \n",
       "2               29.214  \n",
       "3               30.601  \n",
       "4               29.922  \n",
       "5               30.769  "
      ]
     },
     "execution_count": 18,
     "metadata": {},
     "output_type": "execute_result"
    }
   ],
   "source": [
    "l1_mtot2500_rich_res.to_csv(\"../../outputs/result_files/exploring_scatter/leave_one_jackknife/mtot-richness/\"\\\n",
    "                            \"mtot2500_richness_l1_jackknife_rel_pars.csv\")\n",
    "l1_mtot2500_rich_res.head(6)"
   ]
  },
  {
   "cell_type": "markdown",
   "id": "22f534ed-4a3c-430e-a07d-2eaaa2674127",
   "metadata": {},
   "source": [
    "#### Diagnostic distribution of percentage change of scatter"
   ]
  },
  {
   "cell_type": "code",
   "execution_count": 19,
   "id": "82f641f6-39a4-443a-96d1-158fdda82035",
   "metadata": {},
   "outputs": [
    {
     "data": {
      "image/png": "[encoded data removed]",
      "text/plain": [
       "<Figure size 500x500 with 1 Axes>"
      ]
     },
     "metadata": {},
     "output_type": "display_data"
    },
    {
     "name": "stdout",
     "output_type": "stream",
     "text": [
      "Median percentage change in scatter of 30.33%\n",
      "90% confidence limits on percentage change in scatter of 27.68% to 30.76%\n",
      "\n"
     ]
    }
   ],
   "source": [
    "plt.figure(figsize=(5, 5))\n",
    "\n",
    "plt.minorticks_on()\n",
    "plt.tick_params(which='both', direction='in', top=True, right=True)\n",
    "\n",
    "# Plotting the distribution of percentage change in scatter values\n",
    "plt.hist(l1_mtot2500_rich_res['scatter_perc_change'].values, bins='auto', color='seagreen', alpha=0.65, \n",
    "         label=r\"$\\sigma$ change distribution\", histtype='step', linewidth=3)\n",
    "\n",
    "# Calculating the median and specified confidence intervals\n",
    "cur_med = np.median(l1_mtot2500_rich_res['scatter_perc_change'].values)\n",
    "cur_low = np.percentile(l1_mtot2500_rich_res['scatter_perc_change'].values, (50-(CONF_PERC/2)))\n",
    "cur_upp = np.percentile(l1_mtot2500_rich_res['scatter_perc_change'].values, (50+(CONF_PERC/2)))\n",
    "\n",
    "plt.axvline(cur_med, color='black', label='Median')\n",
    "plt.axvline(cur_low, color='black', linestyle='dashed', label='{}% limits'.format(CONF_PERC))\n",
    "plt.axvline(cur_upp, color='black', linestyle='dashed')\n",
    "\n",
    "\n",
    "plt.title(r'$M^{\\rm{tot}}_{2500}$-$\\lambda_{\\rm{RM}}$ scatter change with jackknife')\n",
    "plt.ylabel('N', fontsize=14)\n",
    "plt.xlabel(r'$\\dfrac{\\sigma_{\\rm{jackknife}}-\\sigma_{\\rm{original}}}{\\sigma_{\\rm{original}}}$ [%]', fontsize=14)\n",
    "\n",
    "plt.legend()\n",
    "plt.tight_layout()\n",
    "plt.show()\n",
    "\n",
    "print(\"Median percentage change in scatter of {v:.2f}%\".format(v=cur_med))\n",
    "print(\"{c}% confidence limits on percentage change in scatter of {l:.2f}% to \"\\\n",
    "      \"{u:.2f}%\\n\".format(c=CONF_PERC, l=cur_low, u=cur_upp))"
   ]
  },
  {
   "cell_type": "markdown",
   "id": "7a8e1a02-6db5-4b87-92aa-3f724c6529d3",
   "metadata": {},
   "source": [
    "#### Selecting 'scatter-dominating' clusters"
   ]
  },
  {
   "cell_type": "code",
   "execution_count": 20,
   "id": "5ed1c3ec-992b-48a0-b095-876ff2634f16",
   "metadata": {},
   "outputs": [
    {
     "data": {
      "text/html": [
       "<div>\n",
       "<style scoped>\n",
       "    .dataframe tbody tr th:only-of-type {\n",
       "        vertical-align: middle;\n",
       "    }\n",
       "\n",
       "    .dataframe tbody tr th {\n",
       "        vertical-align: top;\n",
       "    }\n",
       "\n",
       "    .dataframe thead th {\n",
       "        text-align: right;\n",
       "    }\n",
       "</style>\n",
       "<table border=\"1\" class=\"dataframe\">\n",
       "  <thead>\n",
       "    <tr style=\"text-align: right;\">\n",
       "      <th></th>\n",
       "      <th>dropped_cluster</th>\n",
       "      <th>slope</th>\n",
       "      <th>slope+-</th>\n",
       "      <th>norm</th>\n",
       "      <th>norm+-</th>\n",
       "      <th>scatter</th>\n",
       "      <th>scatter+-</th>\n",
       "      <th>scatter_perc_change</th>\n",
       "    </tr>\n",
       "  </thead>\n",
       "  <tbody>\n",
       "    <tr>\n",
       "      <th>26</th>\n",
       "      <td>SDSSXCS-210</td>\n",
       "      <td>0.6801</td>\n",
       "      <td>0.1128</td>\n",
       "      <td>5.5621</td>\n",
       "      <td>0.4581</td>\n",
       "      <td>0.2562</td>\n",
       "      <td>0.0222</td>\n",
       "      <td>27.138</td>\n",
       "    </tr>\n",
       "    <tr>\n",
       "      <th>28</th>\n",
       "      <td>SDSSXCS-22</td>\n",
       "      <td>0.7041</td>\n",
       "      <td>0.1082</td>\n",
       "      <td>5.6814</td>\n",
       "      <td>0.4470</td>\n",
       "      <td>0.2420</td>\n",
       "      <td>0.0217</td>\n",
       "      <td>20.117</td>\n",
       "    </tr>\n",
       "    <tr>\n",
       "      <th>30</th>\n",
       "      <td>SDSSXCS-2282</td>\n",
       "      <td>0.6379</td>\n",
       "      <td>0.1135</td>\n",
       "      <td>5.4591</td>\n",
       "      <td>0.4469</td>\n",
       "      <td>0.2569</td>\n",
       "      <td>0.0224</td>\n",
       "      <td>27.490</td>\n",
       "    </tr>\n",
       "    <tr>\n",
       "      <th>74</th>\n",
       "      <td>SDSSXCS-6955</td>\n",
       "      <td>0.6305</td>\n",
       "      <td>0.1130</td>\n",
       "      <td>5.4528</td>\n",
       "      <td>0.4445</td>\n",
       "      <td>0.2552</td>\n",
       "      <td>0.0221</td>\n",
       "      <td>26.654</td>\n",
       "    </tr>\n",
       "    <tr>\n",
       "      <th>82</th>\n",
       "      <td>SDSSXCS-8060</td>\n",
       "      <td>0.7068</td>\n",
       "      <td>0.1143</td>\n",
       "      <td>5.4590</td>\n",
       "      <td>0.4441</td>\n",
       "      <td>0.2550</td>\n",
       "      <td>0.0223</td>\n",
       "      <td>26.542</td>\n",
       "    </tr>\n",
       "  </tbody>\n",
       "</table>\n",
       "</div>"
      ],
      "text/plain": [
       "   dropped_cluster   slope  slope+-    norm  norm+-  scatter  scatter+-  \\\n",
       "26     SDSSXCS-210  0.6801   0.1128  5.5621  0.4581   0.2562     0.0222   \n",
       "28      SDSSXCS-22  0.7041   0.1082  5.6814  0.4470   0.2420     0.0217   \n",
       "30    SDSSXCS-2282  0.6379   0.1135  5.4591  0.4469   0.2569     0.0224   \n",
       "74    SDSSXCS-6955  0.6305   0.1130  5.4528  0.4445   0.2552     0.0221   \n",
       "82    SDSSXCS-8060  0.7068   0.1143  5.4590  0.4441   0.2550     0.0223   \n",
       "\n",
       "    scatter_perc_change  \n",
       "26               27.138  \n",
       "28               20.117  \n",
       "30               27.490  \n",
       "74               26.654  \n",
       "82               26.542  "
      ]
     },
     "execution_count": 20,
     "metadata": {},
     "output_type": "execute_result"
    }
   ],
   "source": [
    "l1_mtot2500_rich_domin = l1_mtot2500_rich_res[l1_mtot2500_rich_res['scatter_perc_change'] < cur_low]\n",
    "l1_mtot2500_rich_domin"
   ]
  },
  {
   "cell_type": "markdown",
   "id": "875ce93d-dee5-4d90-a7ff-5ace5361b986",
   "metadata": {},
   "source": [
    "#### Fitting a new version of the relation without the 'scatter-dominating' clusters"
   ]
  },
  {
   "cell_type": "code",
   "execution_count": 21,
   "id": "faa8851b-4650-4586-93e1-6637d4bc5d30",
   "metadata": {},
   "outputs": [
    {
     "name": "stderr",
     "output_type": "stream",
     "text": [
      "/Users/dt237/software/anaconda3/envs/xga_env/lib/python3.12/site-packages/xga/relations/fit.py:414: UserWarning: 13 sources have NaN values or negative uncertainties and have been excluded\n",
      "  third_dim_info = _fit_initialise(y_values, y_errs, x_values, x_errs, y_norm, x_norm, True, point_names,\n"
     ]
    },
    {
     "name": "stdout",
     "output_type": "stream",
     "text": [
      "  |**************************************************| 100%\n"
     ]
    },
    {
     "name": "stderr",
     "output_type": "stream",
     "text": [
      "/Users/dt237/software/anaconda3/envs/xga_env/lib/python3.12/site-packages/xga/relations/fit.py:450: UserWarning: 13 sources have NaN values or negative uncertainties and have been excluded\n",
      "  throw_away, sec_throw_away = _fit_initialise(y_values, y_errs, x_values, x_errs, y_norm, x_norm)\n"
     ]
    }
   ],
   "source": [
    "cur_samp_wo_domin = sdssxcs_samp_with_gm500[~sdssxcs_samp_with_gm500['name'].isin(l1_mtot2500_rich_domin['dropped_cluster'].values)]\n",
    "\n",
    "# Setting up property variables in astropy quantity objects\n",
    "mtot2500 = Quantity(cur_samp_wo_domin[['Mhy2500_wraderr', 'Mhy2500_wraderr-', 'Mhy2500_wraderr+']].values*1e+14, 'Msun')\n",
    "rich = Quantity(cur_samp_wo_domin[['richness', 'richness_err','richness_err']].values, '')\n",
    "\n",
    "mtot2500_rich_wo_domin = scaling_relation_lira(mtot2500[:, 0], mtot2500[:, 1:], rich[:, 0], rich[:, 1:], m_norm, rich_norm, \n",
    "                                               y_name=r\"$M^{\\rm{tot}}_{2500}$\", x_name=r\"$\\lambda_{\\rm{RM}}$\", \n",
    "                                               point_names=cur_samp_wo_domin['name'].values)\n",
    "mtot2500_rich_wo_domin.model_colour = 'dodgerblue'\n",
    "mtot2500_rich_wo_domin.author = 'Turner et al.'\n",
    "mtot2500_rich_wo_domin.year = 2025\n",
    "mtot2500_rich_wo_domin.name = r\"Turner et al. '$\\sigma$ dominating excluded' $M^{\\rm{tot}}_{2500}$-$\\lambda_{\\rm{RM}}$\""
   ]
  },
  {
   "cell_type": "code",
   "execution_count": 22,
   "id": "08dee6be-bb0e-4dba-814a-29beccb2d460",
   "metadata": {},
   "outputs": [
    {
     "name": "stdout",
     "output_type": "stream",
     "text": [
      "Slope of 0.690 ± 0.090\n",
      "\n",
      "Normalisation of 1.927 ± 0.124\n",
      "\n",
      "Scatter of 0.199 ± 0.018\n"
     ]
    }
   ],
   "source": [
    "print(\"Slope of {v:.3f} ± {e:.3f}\\n\".format(v=mtot2500_rich_wo_domin.pars[0][0], e=mtot2500_rich_wo_domin.pars[0][1]))\n",
    "print(\"Normalisation of {v:.3f} ± {e:.3f}\\n\".format(v=mtot2500_rich_wo_domin.pars[1][0], e=mtot2500_rich_wo_domin.pars[1][1]))\n",
    "print(\"Scatter of {v:.3f} ± {e:.3f}\".format(v=mtot2500_rich_wo_domin.scatter_par[0], e=mtot2500_rich_wo_domin.scatter_par[1]))"
   ]
  }
 ],
 "metadata": {
  "kernelspec": {
   "display_name": "Python 3 (ipykernel)",
   "language": "python",
   "name": "python3"
  },
  "language_info": {
   "codemirror_mode": {
    "name": "ipython",
    "version": 3
   },
   "file_extension": ".py",
   "mimetype": "text/x-python",
   "name": "python",
   "nbconvert_exporter": "python",
   "pygments_lexer": "ipython3",
   "version": "3.12.5"
  }
 },
 "nbformat": 4,
 "nbformat_minor": 5
}
