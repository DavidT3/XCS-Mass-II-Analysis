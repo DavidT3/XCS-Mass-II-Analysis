{
 "cells": [
  {
   "cell_type": "markdown",
   "id": "81692e5e-0d8b-4c14-85db-06ff66f516fd",
   "metadata": {},
   "source": [
    "# Explore SDSSRM-XCS Scatter: $M_{\\rm{gas}}$-$L_{\\rm{X}}$ a diagnostic for scatter in other relations?"
   ]
  },
  {
   "cell_type": "markdown",
   "id": "ff9fd48f-4094-4a86-9023-1112b6afcf18",
   "metadata": {},
   "source": [
    "This section of the project explores potential reasons and diagnostics of galaxy cluster/group scaling relation scatter using the new SDSSRM-XCS relations constructed in this work from the properties measured in the first paper of this series [(Turner et al. 2024)](https://ui.adsabs.harvard.edu/abs/2025MNRAS.tmp...10T/abstract).\n",
    "\n",
    "Here we focus on the relationship between the hot gas mass of galaxy clusters and groups ($M_{\\rm{gas}}$, or $M^{\\rm{gas}}_{\\\\Delta}$ within an overdensity radius $R_{\\Delta}$), and the X-ray luminosity of that same hot gas. The density of ICM within an aperture is set by the total containing gas mass, and as the X-ray luminosity of galaxy clusters is most strongly dependent on the square of the density (it is more complicated than this of course, there is a temperature dependence as well), these quantities should be very closely correlated.\n",
    "\n",
    "As such, we ask the question of whether any outliers/scattered clusters in the $M_{\\rm{gas}}$-$L_{\\rm{X}}$ relation might be predictive of scatter in other scaling relations, and if we can use $M_{\\rm{gas}}$-$L_{\\rm{X}}$ relations to define a metric that describes whether the hot gas in a cluster is in a 'typical' state, or is some way unusual.\n",
    "\n",
    "Scaling relation fits were performed using the XGA interface to the R scaling-relation fitting package LIRA, see the paper for full details."
   ]
  },
  {
   "cell_type": "markdown",
   "id": "3f872958-120d-4d1a-9130-ff7faa2a5a58",
   "metadata": {},
   "source": [
    "## Main takeaways"
   ]
  },
  {
   "cell_type": "markdown",
   "id": "7ce35d3c-cd72-4b83-9532-590c26c111b0",
   "metadata": {},
   "source": [
    "In summary:\n",
    "\n",
    "* The"
   ]
  },
  {
   "cell_type": "markdown",
   "id": "b972caff-47d5-41e2-9a67-76e65d4f373f",
   "metadata": {},
   "source": [
    "## Import Statements "
   ]
  },
  {
   "cell_type": "code",
   "execution_count": 1,
   "id": "a42eebf1-f6a5-4acc-a014-e92561cf50d1",
   "metadata": {},
   "outputs": [],
   "source": [
    "import pandas as pd\n",
    "pd.set_option('display.max_columns', 500)\n",
    "import numpy as np\n",
    "from astropy.units import Quantity\n",
    "from astropy.cosmology import LambdaCDM\n",
    "import pickle\n",
    "import matplotlib\n",
    "from matplotlib import pyplot as plt\n",
    "from matplotlib.colors import LinearSegmentedColormap\n",
    "\n",
    "# This adds the directory above to the path, allowing me to import the common functions that I've written in\n",
    "#  common.py - this just saves me repeating boring code and makes sure its all consistent\n",
    "import sys\n",
    "sys.path.insert(0, '..')\n",
    "from common import xcs_cosmo, lx_norm, mgas_norm, m_norm, rich_norm, tx_norm\n",
    "\n",
    "import xga\n",
    "from xga.relations.fit import scaling_relation_lira"
   ]
  },
  {
   "cell_type": "markdown",
   "id": "42491721-fde3-4901-8997-a76eccff41c8",
   "metadata": {},
   "source": [
    "## Setting up colour maps to add more information to data points"
   ]
  },
  {
   "cell_type": "markdown",
   "id": "31290394-f559-4aa7-8368-cf53a2cd9bd3",
   "metadata": {},
   "source": [
    "### Binary colour map"
   ]
  },
  {
   "cell_type": "code",
   "execution_count": 2,
   "id": "a0de00c4-ded8-47db-91a8-995f3908cc3a",
   "metadata": {},
   "outputs": [
    {
     "data": {
      "image/png": "[encoded data removed]",
      "text/html": [
       "<div style=\"vertical-align: middle;\"><strong>binary</strong> </div><div class=\"cmap\"><img alt=\"binary colormap\" title=\"binary\" style=\"border: 1px solid #555;\" src=\"data:image/png;base64,iVBORw0KGgoAAAANSUhEUgAAAgAAAABACAYAAABsv8+/AAAAFXRFWHRUaXRsZQBiaW5hcnkgY29sb3JtYXDgovmoAAAAG3RFWHREZXNjcmlwdGlvbgBiaW5hcnkgY29sb3JtYXCpNeFMAAAANnRFWHRBdXRob3IATWF0cGxvdGxpYiB2My45LjEucG9zdDEsIGh0dHBzOi8vbWF0cGxvdGxpYi5vcmfzuh2DAAAAOHRFWHRTb2Z0d2FyZQBNYXRwbG90bGliIHYzLjkuMS5wb3N0MSwgaHR0cHM6Ly9tYXRwbG90bGliLm9yZ+CWtf8AAAEvSURBVHic7dYxAYAwEMDAAr6whE9MFRf8kDsFGXOsde0FJL33M50ADDmnAwCA/xkAAAgyAAAQZAAAIMgAAECQAQCAIAMAAEEGAACCDAAABBkAAAgyAAAQZAAAIMgAAECQAQCAIAMAAEEGAACCDAAABBkAAAgyAAAQZAAAIMgAAECQAQCAIAMAAEEGAACCDAAABBkAAAgyAAAQZAAAIMgAAECQAQCAIAMAAEEGAACCDAAABBkAAAgyAAAQZAAAIMgAAECQAQCAIAMAAEEGAACCDAAABBkAAAgyAAAQZAAAIMgAAECQAQCAIAMAAEEGAACCDAAABBkAAAgyAAAQZAAAIMgAAECQAQCAIAMAAEEGAACCDAAABBkAAAgyAAAQZAAAIMgAAECQAQCAIAMAAEEfHWkC+WI72EMAAAAASUVORK5CYII=\"></div><div style=\"vertical-align: middle; max-width: 514px; display: flex; justify-content: space-between;\"><div style=\"float: left;\"><div title=\"#000004ff\" style=\"display: inline-block; width: 1em; height: 1em; margin: 0; vertical-align: middle; border: 1px solid #555; background-color: #000004ff;\"></div> under</div><div style=\"margin: 0 auto; display: inline-block;\">bad <div title=\"#00000000\" style=\"display: inline-block; width: 1em; height: 1em; margin: 0; vertical-align: middle; border: 1px solid #555; background-color: #00000000;\"></div></div><div style=\"float: right;\">over <div title=\"#ca3e72ff\" style=\"display: inline-block; width: 1em; height: 1em; margin: 0; vertical-align: middle; border: 1px solid #555; background-color: #ca3e72ff;\"></div></div>"
      ],
      "text/plain": [
       "<matplotlib.colors.LinearSegmentedColormap at 0x280812660>"
      ]
     },
     "execution_count": 2,
     "metadata": {},
     "output_type": "execute_result"
    }
   ],
   "source": [
    "donor_cmap = matplotlib.colormaps['magma']\n",
    "binary_cmap = LinearSegmentedColormap.from_list('binary', donor_cmap([0.0, 0.55]), N=2)\n",
    "binary_cmap"
   ]
  },
  {
   "cell_type": "markdown",
   "id": "d9853dfe-61be-403c-b0e7-a6a3f3997372",
   "metadata": {},
   "source": [
    "## Loading data files and relations"
   ]
  },
  {
   "cell_type": "markdown",
   "id": "b9a0b8f8-e5c0-461c-b46d-196b5c7ab62e",
   "metadata": {},
   "source": [
    "We load the 'base' SDSSRM-XCS sample file, containing some basic information about galaxy cluster names, positions, and redshifts. We also load the SDSSRM-XCS cluster property results files from the first paper of this series.\n",
    "\n",
    "The new SDSSRM-XCS scaling relations (constructed in the course of this work) that relate the hot gas mass and X-ray luminosity are also loaded in here - though we do not necessarily load and use _all_ of those relations. The relation data points and scatters will help to identify particular galaxy clusters to investigate, and to consider if this type of scaling relation can act as a diagnostic of likely scatter in _other_ scaling relations. We also load some relations between other properties, which we will assess with the help of the $M_{\\rm{gas}}$-$L_{\\rm{X}}$ relations."
   ]
  },
  {
   "cell_type": "markdown",
   "id": "1a193200-1275-498b-90ad-baf0033a8354",
   "metadata": {},
   "source": [
    "### SDSSRM-XCS base sample"
   ]
  },
  {
   "cell_type": "code",
   "execution_count": 3,
   "id": "160d3018-815f-4308-8790-9c092493bb58",
   "metadata": {},
   "outputs": [
    {
     "data": {
      "text/html": [
       "<div>\n",
       "<style scoped>\n",
       "    .dataframe tbody tr th:only-of-type {\n",
       "        vertical-align: middle;\n",
       "    }\n",
       "\n",
       "    .dataframe tbody tr th {\n",
       "        vertical-align: top;\n",
       "    }\n",
       "\n",
       "    .dataframe thead th {\n",
       "        text-align: right;\n",
       "    }\n",
       "</style>\n",
       "<table border=\"1\" class=\"dataframe\">\n",
       "  <thead>\n",
       "    <tr style=\"text-align: right;\">\n",
       "      <th></th>\n",
       "      <th>name</th>\n",
       "      <th>MEM_MATCH_ID</th>\n",
       "      <th>xapa_ra</th>\n",
       "      <th>xapa_dec</th>\n",
       "      <th>rm_ra</th>\n",
       "      <th>rm_dec</th>\n",
       "      <th>z</th>\n",
       "      <th>r500</th>\n",
       "      <th>r500-</th>\n",
       "      <th>r500+</th>\n",
       "      <th>richness</th>\n",
       "      <th>richness_err</th>\n",
       "      <th>XCS_NAME</th>\n",
       "      <th>R_LAMBDA</th>\n",
       "      <th>xmm_targeted</th>\n",
       "      <th>xmm_serendipitous</th>\n",
       "    </tr>\n",
       "  </thead>\n",
       "  <tbody>\n",
       "    <tr>\n",
       "      <th>0</th>\n",
       "      <td>SDSSXCS-124</td>\n",
       "      <td>124</td>\n",
       "      <td>0.80058</td>\n",
       "      <td>-6.09182</td>\n",
       "      <td>0.798261</td>\n",
       "      <td>-6.091694</td>\n",
       "      <td>0.2475</td>\n",
       "      <td>1181.028</td>\n",
       "      <td>21.202</td>\n",
       "      <td>23.203</td>\n",
       "      <td>109.550</td>\n",
       "      <td>4.490</td>\n",
       "      <td>XMMXCS J000312.1-060530.5</td>\n",
       "      <td>1.018410</td>\n",
       "      <td>True</td>\n",
       "      <td>False</td>\n",
       "    </tr>\n",
       "    <tr>\n",
       "      <th>1</th>\n",
       "      <td>SDSSXCS-2789</td>\n",
       "      <td>2789</td>\n",
       "      <td>0.95554</td>\n",
       "      <td>2.06802</td>\n",
       "      <td>0.956981</td>\n",
       "      <td>2.066469</td>\n",
       "      <td>0.1053</td>\n",
       "      <td>1007.861</td>\n",
       "      <td>17.194</td>\n",
       "      <td>17.202</td>\n",
       "      <td>38.904</td>\n",
       "      <td>2.830</td>\n",
       "      <td>XMMXCS J000349.3+020404.8</td>\n",
       "      <td>0.827942</td>\n",
       "      <td>True</td>\n",
       "      <td>False</td>\n",
       "    </tr>\n",
       "    <tr>\n",
       "      <th>2</th>\n",
       "      <td>SDSSXCS-290</td>\n",
       "      <td>290</td>\n",
       "      <td>2.72264</td>\n",
       "      <td>29.16102</td>\n",
       "      <td>2.714137</td>\n",
       "      <td>29.161154</td>\n",
       "      <td>0.3485</td>\n",
       "      <td>913.052</td>\n",
       "      <td>30.879</td>\n",
       "      <td>31.210</td>\n",
       "      <td>105.096</td>\n",
       "      <td>5.994</td>\n",
       "      <td>XMMXCS J001053.4+290939.6</td>\n",
       "      <td>1.009990</td>\n",
       "      <td>True</td>\n",
       "      <td>False</td>\n",
       "    </tr>\n",
       "    <tr>\n",
       "      <th>3</th>\n",
       "      <td>SDSSXCS-1018</td>\n",
       "      <td>1018</td>\n",
       "      <td>4.40633</td>\n",
       "      <td>-0.87619</td>\n",
       "      <td>4.406711</td>\n",
       "      <td>-0.878340</td>\n",
       "      <td>0.2144</td>\n",
       "      <td>902.259</td>\n",
       "      <td>22.445</td>\n",
       "      <td>23.366</td>\n",
       "      <td>56.997</td>\n",
       "      <td>3.219</td>\n",
       "      <td>XMMXCS J001737.5-005234.2</td>\n",
       "      <td>0.893655</td>\n",
       "      <td>False</td>\n",
       "      <td>True</td>\n",
       "    </tr>\n",
       "    <tr>\n",
       "      <th>4</th>\n",
       "      <td>SDSSXCS-134</td>\n",
       "      <td>134</td>\n",
       "      <td>4.90839</td>\n",
       "      <td>3.60982</td>\n",
       "      <td>4.911069</td>\n",
       "      <td>3.599257</td>\n",
       "      <td>0.2773</td>\n",
       "      <td>1123.321</td>\n",
       "      <td>19.219</td>\n",
       "      <td>19.226</td>\n",
       "      <td>108.604</td>\n",
       "      <td>4.792</td>\n",
       "      <td>XMMXCS J001938.0+033635.3</td>\n",
       "      <td>1.016645</td>\n",
       "      <td>True</td>\n",
       "      <td>False</td>\n",
       "    </tr>\n",
       "    <tr>\n",
       "      <th>5</th>\n",
       "      <td>SDSSXCS-119</td>\n",
       "      <td>119</td>\n",
       "      <td>8.46470</td>\n",
       "      <td>-7.86290</td>\n",
       "      <td>8.471426</td>\n",
       "      <td>-7.869543</td>\n",
       "      <td>0.3042</td>\n",
       "      <td>944.275</td>\n",
       "      <td>46.422</td>\n",
       "      <td>46.747</td>\n",
       "      <td>128.192</td>\n",
       "      <td>5.697</td>\n",
       "      <td>XMMXCS J003351.5-075146.4</td>\n",
       "      <td>1.050926</td>\n",
       "      <td>True</td>\n",
       "      <td>False</td>\n",
       "    </tr>\n",
       "  </tbody>\n",
       "</table>\n",
       "</div>"
      ],
      "text/plain": [
       "           name  MEM_MATCH_ID  xapa_ra  xapa_dec     rm_ra     rm_dec       z  \\\n",
       "0   SDSSXCS-124           124  0.80058  -6.09182  0.798261  -6.091694  0.2475   \n",
       "1  SDSSXCS-2789          2789  0.95554   2.06802  0.956981   2.066469  0.1053   \n",
       "2   SDSSXCS-290           290  2.72264  29.16102  2.714137  29.161154  0.3485   \n",
       "3  SDSSXCS-1018          1018  4.40633  -0.87619  4.406711  -0.878340  0.2144   \n",
       "4   SDSSXCS-134           134  4.90839   3.60982  4.911069   3.599257  0.2773   \n",
       "5   SDSSXCS-119           119  8.46470  -7.86290  8.471426  -7.869543  0.3042   \n",
       "\n",
       "       r500   r500-   r500+  richness  richness_err  \\\n",
       "0  1181.028  21.202  23.203   109.550         4.490   \n",
       "1  1007.861  17.194  17.202    38.904         2.830   \n",
       "2   913.052  30.879  31.210   105.096         5.994   \n",
       "3   902.259  22.445  23.366    56.997         3.219   \n",
       "4  1123.321  19.219  19.226   108.604         4.792   \n",
       "5   944.275  46.422  46.747   128.192         5.697   \n",
       "\n",
       "                    XCS_NAME  R_LAMBDA  xmm_targeted  xmm_serendipitous  \n",
       "0  XMMXCS J000312.1-060530.5  1.018410          True              False  \n",
       "1  XMMXCS J000349.3+020404.8  0.827942          True              False  \n",
       "2  XMMXCS J001053.4+290939.6  1.009990          True              False  \n",
       "3  XMMXCS J001737.5-005234.2  0.893655         False               True  \n",
       "4  XMMXCS J001938.0+033635.3  1.016645          True              False  \n",
       "5  XMMXCS J003351.5-075146.4  1.050926          True              False  "
      ]
     },
     "execution_count": 3,
     "metadata": {},
     "output_type": "execute_result"
    }
   ],
   "source": [
    "sdssxcs_base = pd.read_csv(\"../../sample_files/SDSSRM-XCS_base_sample.csv\")\n",
    "sdssxcs_base.head(6)"
   ]
  },
  {
   "cell_type": "markdown",
   "id": "511f8384-c62d-427c-9123-30bff50a97e0",
   "metadata": {},
   "source": [
    "Calculating E(z) values for these clusters:"
   ]
  },
  {
   "cell_type": "code",
   "execution_count": 4,
   "id": "4329835d-c807-40eb-8e95-821cd25f271d",
   "metadata": {},
   "outputs": [],
   "source": [
    "sdssxcs_base['E'] = xcs_cosmo.efunc(sdssxcs_base['z'].values)"
   ]
  },
  {
   "cell_type": "markdown",
   "id": "ff3aafe4-ce67-4060-b763-d1cee7da6acf",
   "metadata": {},
   "source": [
    "### SDSSRM-XCS $T_{\\rm{X}}$ and $L_{\\rm{X}}$"
   ]
  },
  {
   "cell_type": "code",
   "execution_count": 5,
   "id": "e64a06bb-94ed-4f75-a5d6-e3a063947907",
   "metadata": {},
   "outputs": [
    {
     "data": {
      "text/html": [
       "<div>\n",
       "<style scoped>\n",
       "    .dataframe tbody tr th:only-of-type {\n",
       "        vertical-align: middle;\n",
       "    }\n",
       "\n",
       "    .dataframe tbody tr th {\n",
       "        vertical-align: top;\n",
       "    }\n",
       "\n",
       "    .dataframe thead th {\n",
       "        text-align: right;\n",
       "    }\n",
       "</style>\n",
       "<table border=\"1\" class=\"dataframe\">\n",
       "  <thead>\n",
       "    <tr style=\"text-align: right;\">\n",
       "      <th></th>\n",
       "      <th>name</th>\n",
       "      <th>Tx_500</th>\n",
       "      <th>Tx_500-</th>\n",
       "      <th>Tx_500+</th>\n",
       "      <th>Lx52_500</th>\n",
       "      <th>Lx52_500-</th>\n",
       "      <th>Lx52_500+</th>\n",
       "      <th>Lxbol_500</th>\n",
       "      <th>Lxbol_500-</th>\n",
       "      <th>Lxbol_500+</th>\n",
       "      <th>Tx_2500</th>\n",
       "      <th>Tx_2500-</th>\n",
       "      <th>Tx_2500+</th>\n",
       "      <th>Lx52_2500</th>\n",
       "      <th>Lx52_2500-</th>\n",
       "      <th>Lx52_2500+</th>\n",
       "      <th>Lxbol_2500</th>\n",
       "      <th>Lxbol_2500-</th>\n",
       "      <th>Lxbol_2500+</th>\n",
       "      <th>Tx_500ce</th>\n",
       "      <th>Tx_500ce-</th>\n",
       "      <th>Tx_500ce+</th>\n",
       "      <th>Lx52_500ce</th>\n",
       "      <th>Lx52_500ce-</th>\n",
       "      <th>Lx52_500ce+</th>\n",
       "      <th>Lxbol_500ce</th>\n",
       "      <th>Lxbol_500ce-</th>\n",
       "      <th>Lxbol_500ce+</th>\n",
       "    </tr>\n",
       "  </thead>\n",
       "  <tbody>\n",
       "    <tr>\n",
       "      <th>0</th>\n",
       "      <td>SDSSXCS-124</td>\n",
       "      <td>6.92000</td>\n",
       "      <td>0.116389</td>\n",
       "      <td>0.111642</td>\n",
       "      <td>5.310408e+44</td>\n",
       "      <td>2.494586e+42</td>\n",
       "      <td>3.193270e+42</td>\n",
       "      <td>2.039754e+45</td>\n",
       "      <td>2.082091e+43</td>\n",
       "      <td>1.712354e+43</td>\n",
       "      <td>7.08946</td>\n",
       "      <td>0.097823</td>\n",
       "      <td>0.097929</td>\n",
       "      <td>4.008461e+44</td>\n",
       "      <td>2.163312e+42</td>\n",
       "      <td>1.887667e+42</td>\n",
       "      <td>1.557705e+45</td>\n",
       "      <td>1.278003e+43</td>\n",
       "      <td>1.166420e+43</td>\n",
       "      <td>6.78098</td>\n",
       "      <td>0.134306</td>\n",
       "      <td>0.158223</td>\n",
       "      <td>3.684827e+44</td>\n",
       "      <td>2.702225e+42</td>\n",
       "      <td>2.572964e+42</td>\n",
       "      <td>1.401501e+45</td>\n",
       "      <td>1.425781e+43</td>\n",
       "      <td>1.280567e+43</td>\n",
       "    </tr>\n",
       "    <tr>\n",
       "      <th>1</th>\n",
       "      <td>SDSSXCS-2789</td>\n",
       "      <td>4.54033</td>\n",
       "      <td>0.073600</td>\n",
       "      <td>0.074023</td>\n",
       "      <td>1.029575e+44</td>\n",
       "      <td>5.149604e+41</td>\n",
       "      <td>6.858712e+41</td>\n",
       "      <td>3.213527e+44</td>\n",
       "      <td>3.914562e+42</td>\n",
       "      <td>3.124017e+42</td>\n",
       "      <td>4.44237</td>\n",
       "      <td>0.057404</td>\n",
       "      <td>0.057774</td>\n",
       "      <td>7.125319e+43</td>\n",
       "      <td>4.164749e+41</td>\n",
       "      <td>3.793543e+41</td>\n",
       "      <td>2.201238e+44</td>\n",
       "      <td>1.767406e+42</td>\n",
       "      <td>1.642524e+42</td>\n",
       "      <td>4.65452</td>\n",
       "      <td>0.108600</td>\n",
       "      <td>0.113677</td>\n",
       "      <td>6.943669e+43</td>\n",
       "      <td>6.482835e+41</td>\n",
       "      <td>5.773788e+41</td>\n",
       "      <td>2.192642e+44</td>\n",
       "      <td>2.960496e+42</td>\n",
       "      <td>2.652251e+42</td>\n",
       "    </tr>\n",
       "    <tr>\n",
       "      <th>2</th>\n",
       "      <td>SDSSXCS-290</td>\n",
       "      <td>5.31681</td>\n",
       "      <td>0.297854</td>\n",
       "      <td>0.336308</td>\n",
       "      <td>2.856695e+44</td>\n",
       "      <td>5.917234e+42</td>\n",
       "      <td>7.322989e+42</td>\n",
       "      <td>9.632533e+44</td>\n",
       "      <td>4.005991e+43</td>\n",
       "      <td>3.207763e+43</td>\n",
       "      <td>5.41431</td>\n",
       "      <td>0.259989</td>\n",
       "      <td>0.309605</td>\n",
       "      <td>2.033267e+44</td>\n",
       "      <td>4.662931e+42</td>\n",
       "      <td>4.169953e+42</td>\n",
       "      <td>6.920658e+44</td>\n",
       "      <td>2.211700e+43</td>\n",
       "      <td>1.983518e+43</td>\n",
       "      <td>5.44819</td>\n",
       "      <td>0.407899</td>\n",
       "      <td>0.486340</td>\n",
       "      <td>1.972104e+44</td>\n",
       "      <td>6.434636e+42</td>\n",
       "      <td>6.092122e+42</td>\n",
       "      <td>6.734043e+44</td>\n",
       "      <td>3.038773e+43</td>\n",
       "      <td>2.687861e+43</td>\n",
       "    </tr>\n",
       "    <tr>\n",
       "      <th>3</th>\n",
       "      <td>SDSSXCS-1018</td>\n",
       "      <td>3.90154</td>\n",
       "      <td>0.143544</td>\n",
       "      <td>0.151498</td>\n",
       "      <td>8.044819e+43</td>\n",
       "      <td>1.441322e+42</td>\n",
       "      <td>9.241468e+41</td>\n",
       "      <td>2.335851e+44</td>\n",
       "      <td>6.385493e+42</td>\n",
       "      <td>4.924304e+42</td>\n",
       "      <td>4.09555</td>\n",
       "      <td>0.108381</td>\n",
       "      <td>0.115430</td>\n",
       "      <td>6.395952e+43</td>\n",
       "      <td>8.467201e+41</td>\n",
       "      <td>7.602523e+41</td>\n",
       "      <td>1.899850e+44</td>\n",
       "      <td>3.436098e+42</td>\n",
       "      <td>3.542190e+42</td>\n",
       "      <td>3.93098</td>\n",
       "      <td>0.207281</td>\n",
       "      <td>0.230478</td>\n",
       "      <td>5.048987e+43</td>\n",
       "      <td>1.253282e+42</td>\n",
       "      <td>1.066663e+42</td>\n",
       "      <td>1.471118e+44</td>\n",
       "      <td>5.740520e+42</td>\n",
       "      <td>4.871391e+42</td>\n",
       "    </tr>\n",
       "    <tr>\n",
       "      <th>4</th>\n",
       "      <td>SDSSXCS-134</td>\n",
       "      <td>6.72622</td>\n",
       "      <td>0.116523</td>\n",
       "      <td>0.116565</td>\n",
       "      <td>4.811899e+44</td>\n",
       "      <td>2.458557e+42</td>\n",
       "      <td>3.050440e+42</td>\n",
       "      <td>1.825296e+45</td>\n",
       "      <td>2.068757e+43</td>\n",
       "      <td>1.639058e+43</td>\n",
       "      <td>7.04643</td>\n",
       "      <td>0.104430</td>\n",
       "      <td>0.104760</td>\n",
       "      <td>3.813160e+44</td>\n",
       "      <td>2.170963e+42</td>\n",
       "      <td>1.872005e+42</td>\n",
       "      <td>1.479760e+45</td>\n",
       "      <td>1.263153e+43</td>\n",
       "      <td>1.208755e+43</td>\n",
       "      <td>6.37686</td>\n",
       "      <td>0.135837</td>\n",
       "      <td>0.153820</td>\n",
       "      <td>3.447715e+44</td>\n",
       "      <td>2.713877e+42</td>\n",
       "      <td>2.497416e+42</td>\n",
       "      <td>1.273855e+45</td>\n",
       "      <td>1.415497e+43</td>\n",
       "      <td>1.228583e+43</td>\n",
       "    </tr>\n",
       "    <tr>\n",
       "      <th>5</th>\n",
       "      <td>SDSSXCS-119</td>\n",
       "      <td>4.93456</td>\n",
       "      <td>0.400268</td>\n",
       "      <td>0.456173</td>\n",
       "      <td>2.049789e+44</td>\n",
       "      <td>5.182032e+42</td>\n",
       "      <td>6.885075e+42</td>\n",
       "      <td>6.654626e+44</td>\n",
       "      <td>4.141700e+43</td>\n",
       "      <td>3.282061e+43</td>\n",
       "      <td>5.41255</td>\n",
       "      <td>0.397709</td>\n",
       "      <td>0.448294</td>\n",
       "      <td>1.239172e+44</td>\n",
       "      <td>3.785057e+42</td>\n",
       "      <td>3.735144e+42</td>\n",
       "      <td>4.215892e+44</td>\n",
       "      <td>2.155310e+43</td>\n",
       "      <td>1.870703e+43</td>\n",
       "      <td>4.91222</td>\n",
       "      <td>0.432241</td>\n",
       "      <td>0.503558</td>\n",
       "      <td>1.821676e+44</td>\n",
       "      <td>5.522211e+42</td>\n",
       "      <td>5.714386e+42</td>\n",
       "      <td>5.900648e+44</td>\n",
       "      <td>3.822404e+43</td>\n",
       "      <td>2.772960e+43</td>\n",
       "    </tr>\n",
       "  </tbody>\n",
       "</table>\n",
       "</div>"
      ],
      "text/plain": [
       "           name   Tx_500   Tx_500-   Tx_500+      Lx52_500     Lx52_500-  \\\n",
       "0   SDSSXCS-124  6.92000  0.116389  0.111642  5.310408e+44  2.494586e+42   \n",
       "1  SDSSXCS-2789  4.54033  0.073600  0.074023  1.029575e+44  5.149604e+41   \n",
       "2   SDSSXCS-290  5.31681  0.297854  0.336308  2.856695e+44  5.917234e+42   \n",
       "3  SDSSXCS-1018  3.90154  0.143544  0.151498  8.044819e+43  1.441322e+42   \n",
       "4   SDSSXCS-134  6.72622  0.116523  0.116565  4.811899e+44  2.458557e+42   \n",
       "5   SDSSXCS-119  4.93456  0.400268  0.456173  2.049789e+44  5.182032e+42   \n",
       "\n",
       "      Lx52_500+     Lxbol_500    Lxbol_500-    Lxbol_500+  Tx_2500  Tx_2500-  \\\n",
       "0  3.193270e+42  2.039754e+45  2.082091e+43  1.712354e+43  7.08946  0.097823   \n",
       "1  6.858712e+41  3.213527e+44  3.914562e+42  3.124017e+42  4.44237  0.057404   \n",
       "2  7.322989e+42  9.632533e+44  4.005991e+43  3.207763e+43  5.41431  0.259989   \n",
       "3  9.241468e+41  2.335851e+44  6.385493e+42  4.924304e+42  4.09555  0.108381   \n",
       "4  3.050440e+42  1.825296e+45  2.068757e+43  1.639058e+43  7.04643  0.104430   \n",
       "5  6.885075e+42  6.654626e+44  4.141700e+43  3.282061e+43  5.41255  0.397709   \n",
       "\n",
       "   Tx_2500+     Lx52_2500    Lx52_2500-    Lx52_2500+    Lxbol_2500  \\\n",
       "0  0.097929  4.008461e+44  2.163312e+42  1.887667e+42  1.557705e+45   \n",
       "1  0.057774  7.125319e+43  4.164749e+41  3.793543e+41  2.201238e+44   \n",
       "2  0.309605  2.033267e+44  4.662931e+42  4.169953e+42  6.920658e+44   \n",
       "3  0.115430  6.395952e+43  8.467201e+41  7.602523e+41  1.899850e+44   \n",
       "4  0.104760  3.813160e+44  2.170963e+42  1.872005e+42  1.479760e+45   \n",
       "5  0.448294  1.239172e+44  3.785057e+42  3.735144e+42  4.215892e+44   \n",
       "\n",
       "    Lxbol_2500-   Lxbol_2500+  Tx_500ce  Tx_500ce-  Tx_500ce+    Lx52_500ce  \\\n",
       "0  1.278003e+43  1.166420e+43   6.78098   0.134306   0.158223  3.684827e+44   \n",
       "1  1.767406e+42  1.642524e+42   4.65452   0.108600   0.113677  6.943669e+43   \n",
       "2  2.211700e+43  1.983518e+43   5.44819   0.407899   0.486340  1.972104e+44   \n",
       "3  3.436098e+42  3.542190e+42   3.93098   0.207281   0.230478  5.048987e+43   \n",
       "4  1.263153e+43  1.208755e+43   6.37686   0.135837   0.153820  3.447715e+44   \n",
       "5  2.155310e+43  1.870703e+43   4.91222   0.432241   0.503558  1.821676e+44   \n",
       "\n",
       "    Lx52_500ce-   Lx52_500ce+   Lxbol_500ce  Lxbol_500ce-  Lxbol_500ce+  \n",
       "0  2.702225e+42  2.572964e+42  1.401501e+45  1.425781e+43  1.280567e+43  \n",
       "1  6.482835e+41  5.773788e+41  2.192642e+44  2.960496e+42  2.652251e+42  \n",
       "2  6.434636e+42  6.092122e+42  6.734043e+44  3.038773e+43  2.687861e+43  \n",
       "3  1.253282e+42  1.066663e+42  1.471118e+44  5.740520e+42  4.871391e+42  \n",
       "4  2.713877e+42  2.497416e+42  1.273855e+45  1.415497e+43  1.228583e+43  \n",
       "5  5.522211e+42  5.714386e+42  5.900648e+44  3.822404e+43  2.772960e+43  "
      ]
     },
     "execution_count": 5,
     "metadata": {},
     "output_type": "execute_result"
    }
   ],
   "source": [
    "sdssxcs_txlx = pd.read_csv(\"../../sample_files/paper_one_results/sdssrm-xcs_txlx_v1.0.0.csv\")\n",
    "sdssxcs_txlx.head(6)"
   ]
  },
  {
   "cell_type": "markdown",
   "id": "b3aa002a-0b64-4485-80db-4a7c05c9297b",
   "metadata": {},
   "source": [
    "### SDSSRM-XCS masses"
   ]
  },
  {
   "cell_type": "code",
   "execution_count": 6,
   "id": "586b0c3a-9163-49f1-af04-7afaeee247cf",
   "metadata": {},
   "outputs": [
    {
     "data": {
      "text/html": [
       "<div>\n",
       "<style scoped>\n",
       "    .dataframe tbody tr th:only-of-type {\n",
       "        vertical-align: middle;\n",
       "    }\n",
       "\n",
       "    .dataframe tbody tr th {\n",
       "        vertical-align: top;\n",
       "    }\n",
       "\n",
       "    .dataframe thead th {\n",
       "        text-align: right;\n",
       "    }\n",
       "</style>\n",
       "<table border=\"1\" class=\"dataframe\">\n",
       "  <thead>\n",
       "    <tr style=\"text-align: right;\">\n",
       "      <th></th>\n",
       "      <th>name</th>\n",
       "      <th>Mhy500</th>\n",
       "      <th>Mhy500-</th>\n",
       "      <th>Mhy500+</th>\n",
       "      <th>Mg500</th>\n",
       "      <th>Mg500-</th>\n",
       "      <th>Mg500+</th>\n",
       "      <th>Mhy2500</th>\n",
       "      <th>Mhy2500-</th>\n",
       "      <th>Mhy2500+</th>\n",
       "      <th>Mg2500</th>\n",
       "      <th>Mg2500-</th>\n",
       "      <th>Mg2500+</th>\n",
       "      <th>Mhy500_wraderr</th>\n",
       "      <th>Mhy500_wraderr-</th>\n",
       "      <th>Mhy500_wraderr+</th>\n",
       "      <th>Mg500_wraderr</th>\n",
       "      <th>Mg500_wraderr-</th>\n",
       "      <th>Mg500_wraderr+</th>\n",
       "      <th>Mhy2500_wraderr</th>\n",
       "      <th>Mhy2500_wraderr-</th>\n",
       "      <th>Mhy2500_wraderr+</th>\n",
       "      <th>Mg2500_wraderr</th>\n",
       "      <th>Mg2500_wraderr-</th>\n",
       "      <th>Mg2500_wraderr+</th>\n",
       "    </tr>\n",
       "  </thead>\n",
       "  <tbody>\n",
       "    <tr>\n",
       "      <th>0</th>\n",
       "      <td>SDSSXCS-124</td>\n",
       "      <td>7.634491</td>\n",
       "      <td>1.286289</td>\n",
       "      <td>1.029318</td>\n",
       "      <td>0.869914</td>\n",
       "      <td>0.002841</td>\n",
       "      <td>0.005951</td>\n",
       "      <td>2.621329</td>\n",
       "      <td>0.112240</td>\n",
       "      <td>0.137975</td>\n",
       "      <td>0.321744</td>\n",
       "      <td>0.000722</td>\n",
       "      <td>0.000734</td>\n",
       "      <td>7.635562</td>\n",
       "      <td>1.285474</td>\n",
       "      <td>1.041261</td>\n",
       "      <td>0.870390</td>\n",
       "      <td>0.015662</td>\n",
       "      <td>0.016223</td>\n",
       "      <td>2.621462</td>\n",
       "      <td>0.113380</td>\n",
       "      <td>0.138668</td>\n",
       "      <td>0.321697</td>\n",
       "      <td>0.007076</td>\n",
       "      <td>0.007250</td>\n",
       "    </tr>\n",
       "    <tr>\n",
       "      <th>1</th>\n",
       "      <td>SDSSXCS-2789</td>\n",
       "      <td>7.820374</td>\n",
       "      <td>1.259755</td>\n",
       "      <td>1.447212</td>\n",
       "      <td>0.218603</td>\n",
       "      <td>0.002491</td>\n",
       "      <td>0.002496</td>\n",
       "      <td>1.602926</td>\n",
       "      <td>0.101929</td>\n",
       "      <td>0.109311</td>\n",
       "      <td>0.097414</td>\n",
       "      <td>0.000324</td>\n",
       "      <td>0.000329</td>\n",
       "      <td>7.823912</td>\n",
       "      <td>1.268244</td>\n",
       "      <td>1.456225</td>\n",
       "      <td>0.218499</td>\n",
       "      <td>0.002874</td>\n",
       "      <td>0.002963</td>\n",
       "      <td>1.602810</td>\n",
       "      <td>0.102195</td>\n",
       "      <td>0.110153</td>\n",
       "      <td>0.097399</td>\n",
       "      <td>0.001819</td>\n",
       "      <td>0.001737</td>\n",
       "    </tr>\n",
       "    <tr>\n",
       "      <th>2</th>\n",
       "      <td>SDSSXCS-290</td>\n",
       "      <td>2.961604</td>\n",
       "      <td>0.369827</td>\n",
       "      <td>0.382523</td>\n",
       "      <td>0.427969</td>\n",
       "      <td>0.002132</td>\n",
       "      <td>0.002098</td>\n",
       "      <td>1.467429</td>\n",
       "      <td>0.175603</td>\n",
       "      <td>0.290465</td>\n",
       "      <td>0.134154</td>\n",
       "      <td>0.000759</td>\n",
       "      <td>0.000773</td>\n",
       "      <td>2.959792</td>\n",
       "      <td>0.390293</td>\n",
       "      <td>0.420849</td>\n",
       "      <td>0.427478</td>\n",
       "      <td>0.019454</td>\n",
       "      <td>0.019887</td>\n",
       "      <td>1.469441</td>\n",
       "      <td>0.177871</td>\n",
       "      <td>0.288247</td>\n",
       "      <td>0.134133</td>\n",
       "      <td>0.005839</td>\n",
       "      <td>0.005993</td>\n",
       "    </tr>\n",
       "    <tr>\n",
       "      <th>3</th>\n",
       "      <td>SDSSXCS-1018</td>\n",
       "      <td>5.067958</td>\n",
       "      <td>1.015270</td>\n",
       "      <td>0.969362</td>\n",
       "      <td>0.210208</td>\n",
       "      <td>0.001929</td>\n",
       "      <td>0.001917</td>\n",
       "      <td>1.128892</td>\n",
       "      <td>0.103503</td>\n",
       "      <td>0.149913</td>\n",
       "      <td>0.084371</td>\n",
       "      <td>0.000350</td>\n",
       "      <td>0.000359</td>\n",
       "      <td>5.072697</td>\n",
       "      <td>1.030805</td>\n",
       "      <td>0.973924</td>\n",
       "      <td>0.210059</td>\n",
       "      <td>0.003374</td>\n",
       "      <td>0.003431</td>\n",
       "      <td>1.128619</td>\n",
       "      <td>0.104011</td>\n",
       "      <td>0.149860</td>\n",
       "      <td>0.084350</td>\n",
       "      <td>0.002327</td>\n",
       "      <td>0.002330</td>\n",
       "    </tr>\n",
       "    <tr>\n",
       "      <th>4</th>\n",
       "      <td>SDSSXCS-134</td>\n",
       "      <td>6.802619</td>\n",
       "      <td>0.782566</td>\n",
       "      <td>0.772819</td>\n",
       "      <td>0.767290</td>\n",
       "      <td>0.002149</td>\n",
       "      <td>0.002170</td>\n",
       "      <td>3.043225</td>\n",
       "      <td>0.113304</td>\n",
       "      <td>0.110341</td>\n",
       "      <td>0.313945</td>\n",
       "      <td>0.000359</td>\n",
       "      <td>0.000367</td>\n",
       "      <td>6.803511</td>\n",
       "      <td>0.788996</td>\n",
       "      <td>0.781372</td>\n",
       "      <td>0.767157</td>\n",
       "      <td>0.010866</td>\n",
       "      <td>0.010814</td>\n",
       "      <td>3.042067</td>\n",
       "      <td>0.125878</td>\n",
       "      <td>0.124549</td>\n",
       "      <td>0.313911</td>\n",
       "      <td>0.007265</td>\n",
       "      <td>0.007068</td>\n",
       "    </tr>\n",
       "    <tr>\n",
       "      <th>5</th>\n",
       "      <td>SDSSXCS-119</td>\n",
       "      <td>NaN</td>\n",
       "      <td>NaN</td>\n",
       "      <td>NaN</td>\n",
       "      <td>NaN</td>\n",
       "      <td>NaN</td>\n",
       "      <td>NaN</td>\n",
       "      <td>NaN</td>\n",
       "      <td>NaN</td>\n",
       "      <td>NaN</td>\n",
       "      <td>NaN</td>\n",
       "      <td>NaN</td>\n",
       "      <td>NaN</td>\n",
       "      <td>NaN</td>\n",
       "      <td>NaN</td>\n",
       "      <td>NaN</td>\n",
       "      <td>NaN</td>\n",
       "      <td>NaN</td>\n",
       "      <td>NaN</td>\n",
       "      <td>NaN</td>\n",
       "      <td>NaN</td>\n",
       "      <td>NaN</td>\n",
       "      <td>NaN</td>\n",
       "      <td>NaN</td>\n",
       "      <td>NaN</td>\n",
       "    </tr>\n",
       "  </tbody>\n",
       "</table>\n",
       "</div>"
      ],
      "text/plain": [
       "           name    Mhy500   Mhy500-   Mhy500+     Mg500    Mg500-    Mg500+  \\\n",
       "0   SDSSXCS-124  7.634491  1.286289  1.029318  0.869914  0.002841  0.005951   \n",
       "1  SDSSXCS-2789  7.820374  1.259755  1.447212  0.218603  0.002491  0.002496   \n",
       "2   SDSSXCS-290  2.961604  0.369827  0.382523  0.427969  0.002132  0.002098   \n",
       "3  SDSSXCS-1018  5.067958  1.015270  0.969362  0.210208  0.001929  0.001917   \n",
       "4   SDSSXCS-134  6.802619  0.782566  0.772819  0.767290  0.002149  0.002170   \n",
       "5   SDSSXCS-119       NaN       NaN       NaN       NaN       NaN       NaN   \n",
       "\n",
       "    Mhy2500  Mhy2500-  Mhy2500+    Mg2500   Mg2500-   Mg2500+  Mhy500_wraderr  \\\n",
       "0  2.621329  0.112240  0.137975  0.321744  0.000722  0.000734        7.635562   \n",
       "1  1.602926  0.101929  0.109311  0.097414  0.000324  0.000329        7.823912   \n",
       "2  1.467429  0.175603  0.290465  0.134154  0.000759  0.000773        2.959792   \n",
       "3  1.128892  0.103503  0.149913  0.084371  0.000350  0.000359        5.072697   \n",
       "4  3.043225  0.113304  0.110341  0.313945  0.000359  0.000367        6.803511   \n",
       "5       NaN       NaN       NaN       NaN       NaN       NaN             NaN   \n",
       "\n",
       "   Mhy500_wraderr-  Mhy500_wraderr+  Mg500_wraderr  Mg500_wraderr-  \\\n",
       "0         1.285474         1.041261       0.870390        0.015662   \n",
       "1         1.268244         1.456225       0.218499        0.002874   \n",
       "2         0.390293         0.420849       0.427478        0.019454   \n",
       "3         1.030805         0.973924       0.210059        0.003374   \n",
       "4         0.788996         0.781372       0.767157        0.010866   \n",
       "5              NaN              NaN            NaN             NaN   \n",
       "\n",
       "   Mg500_wraderr+  Mhy2500_wraderr  Mhy2500_wraderr-  Mhy2500_wraderr+  \\\n",
       "0        0.016223         2.621462          0.113380          0.138668   \n",
       "1        0.002963         1.602810          0.102195          0.110153   \n",
       "2        0.019887         1.469441          0.177871          0.288247   \n",
       "3        0.003431         1.128619          0.104011          0.149860   \n",
       "4        0.010814         3.042067          0.125878          0.124549   \n",
       "5             NaN              NaN               NaN               NaN   \n",
       "\n",
       "   Mg2500_wraderr  Mg2500_wraderr-  Mg2500_wraderr+  \n",
       "0        0.321697         0.007076         0.007250  \n",
       "1        0.097399         0.001819         0.001737  \n",
       "2        0.134133         0.005839         0.005993  \n",
       "3        0.084350         0.002327         0.002330  \n",
       "4        0.313911         0.007265         0.007068  \n",
       "5             NaN              NaN              NaN  "
      ]
     },
     "execution_count": 6,
     "metadata": {},
     "output_type": "execute_result"
    }
   ],
   "source": [
    "sdssxcs_mass = pd.read_csv(\"../../sample_files/paper_one_results/sdssrm-xcs_mass_v1.0.0.csv\")\n",
    "sdssxcs_mass.head(6)"
   ]
  },
  {
   "cell_type": "markdown",
   "id": "0492b9b1-6e41-489b-acdb-4b0524166a47",
   "metadata": {},
   "source": [
    "### Combining tables"
   ]
  },
  {
   "cell_type": "code",
   "execution_count": 7,
   "id": "3ec7a04e-eff4-4dff-b599-3c6c653a033c",
   "metadata": {},
   "outputs": [],
   "source": [
    "sdssxcs_samp = pd.merge(sdssxcs_base, sdssxcs_txlx, left_on='name', right_on='name', how='outer')\n",
    "sdssxcs_samp = pd.merge(sdssxcs_samp, sdssxcs_mass, left_on='name', right_on='name', how='outer')"
   ]
  },
  {
   "cell_type": "markdown",
   "id": "74563967-ff0b-4c83-8c4e-3e9388f381ce",
   "metadata": {},
   "source": [
    "### $M^{\\rm{gas}}_{2500}$-$L^{\\rm{bol}}_{\\rm{X,2500}}$"
   ]
  },
  {
   "cell_type": "code",
   "execution_count": 8,
   "id": "a6539377-9090-4d35-9afe-82b300b1b834",
   "metadata": {},
   "outputs": [],
   "source": [
    "with open('../../outputs/scaling_relations/sdssrm-xcs_new/mgas-lx/turner2025_mgas2500_lxbol_2500.xgarel', 'rb') as scalo:\n",
    "    mgas2500_lxbol_2500 = pickle.load(scalo)"
   ]
  },
  {
   "cell_type": "markdown",
   "id": "f707261f-708b-472f-a0ad-4b482ffee76c",
   "metadata": {},
   "source": [
    "### $M^{\\rm{gas}}_{2500}$-$L^{\\rm{0.5-2.0}}_{\\rm{X,2500}}$"
   ]
  },
  {
   "cell_type": "code",
   "execution_count": 9,
   "id": "973d0725-3379-4128-87ed-e0deca10a015",
   "metadata": {},
   "outputs": [],
   "source": [
    "with open('../../outputs/scaling_relations/sdssrm-xcs_new/mgas-lx/turner2025_mgas2500_lx52_2500.xgarel', 'rb') as scalo:\n",
    "    mgas2500_lx52_2500 = pickle.load(scalo)"
   ]
  },
  {
   "cell_type": "markdown",
   "id": "50443210-0df1-4877-8b99-ec2a4beb7c75",
   "metadata": {},
   "source": [
    "### $M^{\\rm{gas}}_{500}$-$L^{\\rm{bol}}_{\\rm{X,500}}$"
   ]
  },
  {
   "cell_type": "code",
   "execution_count": 10,
   "id": "dbb7f2e7-f31f-4548-8bf3-b4261355f706",
   "metadata": {},
   "outputs": [],
   "source": [
    "with open('../../outputs/scaling_relations/sdssrm-xcs_new/mgas-lx/turner2025_mgas500_lxbol_500.xgarel', 'rb') as scalo:\n",
    "    mgas500_lxbol_500 = pickle.load(scalo)"
   ]
  },
  {
   "cell_type": "markdown",
   "id": "646571a8-3e33-40f4-8862-a0db7ccb23a3",
   "metadata": {},
   "source": [
    "### $M^{\\rm{gas}}_{500}$-$L^{\\rm{bol}}_{\\rm{X,500ce}}$"
   ]
  },
  {
   "cell_type": "code",
   "execution_count": 11,
   "id": "eef8b660-f459-41ae-84d1-b157b2342ad9",
   "metadata": {},
   "outputs": [],
   "source": [
    "with open('../../outputs/scaling_relations/sdssrm-xcs_new/mgas-lx/turner2025_mgas500_lxbol_500ce.xgarel', 'rb') as scalo:\n",
    "    mgas500_lxbol_500ce = pickle.load(scalo)"
   ]
  },
  {
   "cell_type": "markdown",
   "id": "30bdd10f-c80b-47b2-bda1-bd3b444e2520",
   "metadata": {},
   "source": [
    "## Deviations from the 'typical' state of the hot ICM"
   ]
  },
  {
   "cell_type": "markdown",
   "id": "7024e7d0-10cd-4f19-89a1-971a32ce01ca",
   "metadata": {},
   "source": [
    "Here we will re-examine the new SDSSRM-XCS $M_{\\rm{gas}}$ and $L_{\\rm{X}}$ constraints, with a particular focus on the data points furthest away from the scaling relation line (what we will describe as the 'typical' state of the ICM, though with a whole host of caveats ranging from statistical selection functions to the slightly circular nature of this process). \n",
    "\n",
    "The hypothesis here is that more extreme examples of cool-core and unrelaxed clusters will make themselves known by significant deviations from the trend of the overall sample (which was selected from optical cluster catalogs, rather than from a larger X-ray sample, and should be somewhat free of the common selection effects of preferentially selecting bright cool cores - though this argument is slightly foiled by the fact that we were only able to examine those optically selected clusters that had an XMM observation). \n",
    "\n",
    "If our hypothesis is correct, we will be able to define a simple metric that side-steps the cool-core/non-cool-core labels (though of course still contains much of the same information) and instead can be used to ask: 'how strongly affected by its own astrophysics is a particular cluster?' We hope that the quantities used will be simple enough to measure that it will be feasible to do this at a large scale, in support of LSST-DESC cluster cosmology for instance, as more focus is now being put on the effect of the baryon content of clusters on things like weak-lensing measurements."
   ]
  },
  {
   "cell_type": "markdown",
   "id": "90dff511-5108-4a81-a6ad-2592dd1648b0",
   "metadata": {},
   "source": [
    "### Reminding ourselves of the $M^{\\rm{gas}}_{2500}$-$L^{\\rm{bol}}_{\\rm{X,2500}}$ relation"
   ]
  },
  {
   "cell_type": "markdown",
   "id": "a759cdb2-e307-4698-8c3d-9c46e8ea806c",
   "metadata": {},
   "source": [
    "We show a visualisation of the $M^{\\rm{gas}}_{2500}$-$L^{\\rm{bol}}_{\\rm{X,2500}}$ relation, as it has the lowest intrinsic scatter of the six different $M_{\\rm{gas}}$-$L_{\\rm{X}}$ relations we constructed. As such, we hope that extreme outliers will be more obvious. Initially focusing on the gas in the core region of the cluster is also interesting because many of the signatures of astrophysical processes in clusters can be found there.\n",
    "\n",
    "A first examination of this scaling relation led us to notice a clump of data points (in red) that lay quite far underneath the fit line, while exhibiting small uncertainties - their X-ray luminosity was quite high compared to their hot gas mass, at least relative to the overall behaviours of this sample. "
   ]
  },
  {
   "cell_type": "code",
   "execution_count": 12,
   "id": "1df52e2f-7fcc-4371-8cf0-0b1fd59fa94c",
   "metadata": {},
   "outputs": [
    {
     "data": {
      "image/png": "[encoded data removed]",
      "text/plain": [
       "<Figure size 800x700 with 2 Axes>"
      ]
     },
     "metadata": {},
     "output_type": "display_data"
    }
   ],
   "source": [
    "clump_names = ['SDSSXCS-11331', 'SDSSXCS-7783', 'SDSSXCS-572', 'SDSSXCS-9803', 'SDSSXCS-1628', 'SDSSXCS-2288', 'SDSSXCS-2032']\n",
    "point_colour = np.zeros(len(mgas2500_lxbol_2500.x_data[:, 0]))\n",
    "point_colour[np.where(np.isin(mgas2500_lxbol_2500.point_names, clump_names))[0]] = 1\n",
    "\n",
    "mgas2500_lxbol_2500._third_dim_info = point_colour\n",
    "mgas2500_lxbol_2500._third_dim_name = ''\n",
    "mgas2500_lxbol_2500.view(figsize=(8, 7), y_lims=Quantity([0.8e+12, 1e+14], 'Msun'), label_points=False, \n",
    "                         point_label_offset=(0.01, 0.001), third_dim_cmap=binary_cmap)"
   ]
  },
  {
   "cell_type": "markdown",
   "id": "9323e94a-a7fe-43a3-97e9-94f87b4f9aa6",
   "metadata": {},
   "source": [
    "We believed that the most likely physical explanation for this 'clump' of data points were galaxy clusters with abnormally low temperatures relative to their density in the $R_{2500}$ region - the increased radiative cooling would then be the cause of the higher than expected luminosity. The other possibility we considered was that the metallicity of the gas was abnormally high, and thus more emission line radiative cooling was occuring than is usual. In other words, we suspect that the gas in the core of these clusters will have very low central entropy.\n",
    "\n",
    "This initial assessment is supported by how these particular clusters look in the XMM data we used to constrain temperature, density, and mass profiles in the first paper of this series [(Turner et al. 2024)](https://ui.adsabs.harvard.edu/abs/2025MNRAS.tmp...10T/abstract) - though visual inspection is not a fool-proof scientific method for identifying galaxy clusters with low central entropy, their appearance is highly characteristic of such systems. They are all very similar in appearance:"
   ]
  },
  {
   "cell_type": "markdown",
   "id": "7f7b03df-0ac7-4632-a4a8-4a91ec985d4a",
   "metadata": {},
   "source": [
    "#### SDSSXCS-11331 and SDSSXCS-7783"
   ]
  },
  {
   "cell_type": "markdown",
   "id": "c2ad2777-88d5-4c94-849b-d30b75ca9379",
   "metadata": {},
   "source": [
    "<table><tr>\n",
    "<td> <img src = \"https://github.com/DavidT3/XCS-Mass-Paper-I-Analysis/blob/master/outputs/cluster_visualisations/sdssrm-xcs/SDSSXCS-11331.png?raw=true\" width = \"500\" height = \"500\"> </td>\n",
    "<td> <img src = \"https://github.com/DavidT3/XCS-Mass-Paper-I-Analysis/blob/master/outputs/cluster_visualisations/sdssrm-xcs/SDSSXCS-7783.png?raw=true\" width = \"500\" height = \"500\">  </td>\n",
    "</tr></table>"
   ]
  },
  {
   "cell_type": "markdown",
   "id": "498539bb-d2dd-4554-9652-dd71581f1c71",
   "metadata": {},
   "source": [
    "#### SDSSXCS-572 and SDSSXCS-9803"
   ]
  },
  {
   "cell_type": "markdown",
   "id": "757cb6f0-0e83-41cc-a3d1-39e651a5bf72",
   "metadata": {},
   "source": [
    "<table><tr>\n",
    "<td> <img src = \"https://github.com/DavidT3/XCS-Mass-Paper-I-Analysis/blob/master/outputs/cluster_visualisations/sdssrm-xcs/SDSSXCS-572.png?raw=true\" width = \"500\" height = \"500\"> </td>\n",
    "<td> <img src = \"https://github.com/DavidT3/XCS-Mass-Paper-I-Analysis/blob/master/outputs/cluster_visualisations/sdssrm-xcs/SDSSXCS-9803.png?raw=true\" width = \"500\" height = \"500\">  </td>\n",
    "</tr></table>"
   ]
  },
  {
   "cell_type": "markdown",
   "id": "9a001a92-4fd5-4af4-9694-2252939b3e47",
   "metadata": {},
   "source": [
    "#### SDSSXCS-1628, SDSSXCS-2288, and SDSSXCS-2032 "
   ]
  },
  {
   "cell_type": "markdown",
   "id": "dbf869cc-d422-442a-95d5-c7966bade386",
   "metadata": {},
   "source": [
    "<table><tr>\n",
    "<td> <img src = \"https://github.com/DavidT3/XCS-Mass-Paper-I-Analysis/blob/master/outputs/cluster_visualisations/sdssrm-xcs/SDSSXCS-1628.png?raw=true\" width = \"500\" height = \"500\"> </td>\n",
    "<td> <img src = \"https://github.com/DavidT3/XCS-Mass-Paper-I-Analysis/blob/master/outputs/cluster_visualisations/sdssrm-xcs/SDSSXCS-2288.png?raw=true\" width = \"500\" height = \"500\">  </td>\n",
    "<td> <img src = \"https://github.com/DavidT3/XCS-Mass-Paper-I-Analysis/blob/master/outputs/cluster_visualisations/sdssrm-xcs/SDSSXCS-2032.png?raw=true\" width = \"500\" height = \"500\">  </td>\n",
    "</tr></table>"
   ]
  },
  {
   "cell_type": "markdown",
   "id": "71303ee8-542d-42a7-8bf4-077f7e65f726",
   "metadata": {},
   "source": [
    "We identify the common names of these clusters to enable us to search the Archive of Chandra Cluster Entropy Profile Tables (ACCEPT) - currently the largest and most well-regarded set of ICM-entropy-related measurements. The ACCEPT analyses were performed using Chandra data, which, as Chandra's angular resolution is much better than XMM's, means it is better placed to constrain core entropy than the temperature and density profiles we measured in our first paper.\n",
    "\n",
    "The first four clusters are **in** ACCEPT, and the last three are not: \n",
    "\n",
    "* SDSSXCS-572 - **Abell 383**\n",
    "* SDSSXCS-9803 - **ZwCl 0857.9+2107**\n",
    "* SDSSXCS-1628 - **Abell 1068**\n",
    "* SDSSXCS-2288 - **MS 1455.0+2232**\n",
    "----------\n",
    "\n",
    "* SDSSXCS-11331 - **MCXC J0106.8+0103**\n",
    "* SDSSXCS-7783 - **Abell 291**\n",
    "* SDSSXCS-2032 - Doesn't really have a more common name, it wasn't in MCXC, but was found by ACT (and obviously by redMaPPer and XCS).\n",
    "\n",
    "----------\n",
    "\n",
    "The clusters with ACCEPT counterparts all have very low central entropies - ZwCl 0857.9+2107 has the highest $K_{0}$ value at 24.25 keV cm$^{2}$ (still **very** low), and the other three all have $K_{0}$~10 keV cm$^{2}$. This is consistent with our hypothesis, and means that we may now have a new metric for identifying low central entropy clusters using relatively-simple-to-acquire X-ray properties."
   ]
  },
  {
   "cell_type": "markdown",
   "id": "2f8ad6e3-4b9f-4de8-9f2c-b069a0dd7970",
   "metadata": {},
   "source": [
    "## Metric for deviation from the 'typical' $M^{\\rm{gas}}_{2500}$-$L^{\\rm{bol}}_{\\rm{X,2500}}$"
   ]
  },
  {
   "cell_type": "markdown",
   "id": "f4f4f3c3-fe5b-4613-8a51-db45d0728a35",
   "metadata": {},
   "source": [
    "To formalise this insight a little more, we define the following metric:\n",
    "\n",
    "$\\delta_{\\rm{GML}} = \\dfrac{M^{\\rm{gas,meas}}_{2500} - M^{\\rm{gas,pred}}_{2500}}{M^{\\rm{gas,pred}}_{2500}}$,\n",
    "\n",
    "which is a characterisation of how scattered an individual cluster is from the 'typical' (here defined as the scaling relation that we have measured using this sample, though really more careful work including selection functions would be needed to this properly) relationship between gas mass and X-ray luminosity, as a fraction of what the 'typical' gas mass would be based on measured luminosity (this is to put different mass systems on an even footing).\n",
    "\n",
    "We hypothesise that the extremes of the $\\delta_{\\rm{GML}}$ distribution should be populated by very strong cool core/highly disturbed clusters respectively - this may be a useful numerical metric for characterising those types of clusters, rather than the standard labels. The information required for this metric also requires much lower data quality than directly measuring a temperature profile, and may even be accessible for eRASS clusters."
   ]
  },
  {
   "cell_type": "code",
   "execution_count": 65,
   "id": "ac5ac35c-27ab-4ce2-9a48-e0bf35c80c53",
   "metadata": {},
   "outputs": [],
   "source": [
    "sort_rel_names = np.argsort(sdssxcs_samp['name'].values)\n",
    "pnt_samp_ind = sort_rel_names[np.searchsorted(sdssxcs_samp['name'].values, mgas2500_lxbol_2500.point_names, sorter=sort_rel_names)]\n",
    "\n",
    "# Reads out gas masses in two apertures, in the right order!\n",
    "z = sdssxcs_samp.loc[pnt_samp_ind, 'z'].values\n",
    "mgas2500 = Quantity(sdssxcs_samp.loc[pnt_samp_ind, 'Mg2500_wraderr'].values*1e+14, 'Msun')\n",
    "\n",
    "# Predict gas masses from each cluster's measured luminosity from the overall population trend represented by the\n",
    "#  scaling relation\n",
    "pred_mgas2500_lxbol = mgas2500_lxbol_2500.predict(mgas2500_lxbol_2500.x_data[:, 0], x_errors=mgas2500_lxbol_2500.x_data[:, 1], \n",
    "                                                  redshift=z, cosmo=xcs_cosmo)\n",
    "\n",
    "# The deviation metric from Lxbol predictions\n",
    "delta_gml_lxbol = ((mgas2500 - pred_mgas2500_lxbol[:, 0]) / pred_mgas2500_lxbol[:, 0])\n",
    "\n",
    "# We also calculate the same values based on the 0.5-2.0 keV gasmass-Lx relation, and reselect the data points from the \n",
    "#  overall sample file in an overabundance of caution\n",
    "sort_rel_names = np.argsort(sdssxcs_samp['name'].values)\n",
    "pnt_samp_ind = sort_rel_names[np.searchsorted(sdssxcs_samp['name'].values, mgas2500_lx52_2500.point_names, sorter=sort_rel_names)]\n",
    "\n",
    "# Reads out gas masses in two apertures, in the right order!\n",
    "z = sdssxcs_samp.loc[pnt_samp_ind, 'z'].values\n",
    "mgas2500 = Quantity(sdssxcs_samp.loc[pnt_samp_ind, 'Mg2500_wraderr'].values*1e+14, 'Msun')\n",
    "\n",
    "pred_mgas2500_lx52 = mgas2500_lx52_2500.predict(mgas2500_lx52_2500.x_data[:, 0], x_errors=mgas2500_lx52_2500.x_data[:, 1], \n",
    "                                                redshift=z, cosmo=xcs_cosmo)\n",
    "delta_gml_lx52 = ((mgas2500 - pred_mgas2500_lx52[:, 0]) / pred_mgas2500_lx52[:, 0])"
   ]
  },
  {
   "cell_type": "markdown",
   "id": "b4923eaf-6fa7-4908-9eae-408e15131744",
   "metadata": {},
   "source": [
    "### Visualising the deviation distributions for the $M^{\\rm{gas}}_{2500}$-$L^{\\rm{bol}}_{\\rm{X,2500}}$ and $M^{\\rm{gas}}_{2500}$-$L^{\\rm{bol}}_{\\rm{X,2500}}$ relations"
   ]
  },
  {
   "cell_type": "code",
   "execution_count": 117,
   "id": "3583fd12-db05-4df9-97ac-3b9fa3d630af",
   "metadata": {},
   "outputs": [
    {
     "data": {
      "image/png": "[encoded data removed]",
      "text/plain": [
       "<Figure size 600x600 with 1 Axes>"
      ]
     },
     "metadata": {},
     "output_type": "display_data"
    }
   ],
   "source": [
    "min_delta_gml = min(delta_gml_lxbol.min(), delta_gml_lx52.min())\n",
    "max_delta_gml = max(delta_gml_lxbol.max(), delta_gml_lx52.max())\n",
    "\n",
    "# print(\"Lowest value is {}\\n\".format(min_delta_gml.round(4)), \n",
    "#       \"Highest value is {}\".format(max_delta_gml.round(4)), sep='')\n",
    "\n",
    "# Setting up the bounds for the distribution histogram, size of 0.05\n",
    "bin_bnds = np.linspace(-1, 1, 41)\n",
    "\n",
    "plt.figure(figsize=(6, 6))\n",
    "plt.minorticks_on()\n",
    "plt.tick_params(which='both', direction='in', top=True, right=True)\n",
    "\n",
    "# Distribution using the mgas-Lxbol relation\n",
    "plt.hist(delta_gml_lxbol, bins=bin_bnds, color='goldenrod', histtype=\"stepfilled\", alpha=0.8, \n",
    "         label=r'$L^{\\rm{bol}}_{\\rm{X,2500}}$')\n",
    "# Distribution using the mgas-Lx52 relation\n",
    "plt.hist(delta_gml_lx52, bins=bin_bnds, color='slategrey', hatch='/', histtype=\"stepfilled\", edgecolor='slategrey', alpha=0.3, lw=2.4, \n",
    "         label=r'$L^{\\rm{0.5-2.0}}_{\\rm{X,2500}}$')\n",
    "\n",
    "# plt.axvline(np.median(plotto), color='red')\n",
    "# plt.axvline(np.percentile(plotto, 84.1), color='red', linestyle='dashed')\n",
    "# plt.axvline(np.percentile(plotto, 15.9), color='red', linestyle='dashed')\n",
    "\n",
    "# Shrink the x-bounds of the histogram a little, to fit the actual data we're plotting\n",
    "plt.xlim((np.floor(min_delta_gml*10)/10)*1.3, \n",
    "         (np.ceil(max_delta_gml*10)/10)*1.3)\n",
    "\n",
    "plt.ylabel('N', fontsize=15)\n",
    "plt.xlabel(r'$\\delta_{\\rm{GML}}$', fontsize=15)\n",
    "\n",
    "plt.title(r\"Deviation from typical $M_{\\rm{gas}}$-$L_{\\rm{X}}$ relationship\", fontsize=16)\n",
    "\n",
    "plt.legend(fontsize=14)\n",
    "plt.tight_layout()\n",
    "plt.savefig(\"../../outputs/figures/exploring_scatter/mgas-lx_dev_dist.pdf\")\n",
    "plt.show()"
   ]
  },
  {
   "cell_type": "markdown",
   "id": "1ec41686-70f7-4214-ab76-5d6aa435c591",
   "metadata": {},
   "source": [
    "### Where are those low central entropy clusters from earlier?"
   ]
  },
  {
   "cell_type": "markdown",
   "id": "509861e6-9a03-4bc3-aebf-a62da86b18d7",
   "metadata": {},
   "source": [
    "We fetch the $\\delta_{\\rm{GML}}$ values calculated from the bolometric luminosity for the clump of galaxy clusters well below the relation that we discussed earlier. Looking at the values we see that, not unsurprisingly given how $\\delta_{\\rm{GML}}$ is defined, they are all at the extreme edge of the distribution, with very low $\\delta_{\\rm{GML}}$ values:"
   ]
  },
  {
   "cell_type": "code",
   "execution_count": 131,
   "id": "ad722615-cd5d-4650-bfe6-44afb3c283a4",
   "metadata": {},
   "outputs": [
    {
     "data": {
      "text/plain": [
       "{'SDSSXCS-11331': -0.4519,\n",
       " 'SDSSXCS-7783': -0.3535,\n",
       " 'SDSSXCS-572': -0.3391,\n",
       " 'SDSSXCS-9803': -0.4044,\n",
       " 'SDSSXCS-1628': -0.3837,\n",
       " 'SDSSXCS-2288': -0.3743,\n",
       " 'SDSSXCS-2032': -0.2695}"
      ]
     },
     "execution_count": 131,
     "metadata": {},
     "output_type": "execute_result"
    }
   ],
   "source": [
    "delta_gml_lxbol[np.where(np.isin(mgas2500_lxbol_2500.point_names, clump_names))[0]].value\n",
    "{n: float(delta_gml_lxbol[np.where(mgas2500_lxbol_2500.point_names == n)[0][0]].value.round(4)) for n in clump_names}"
   ]
  },
  {
   "cell_type": "markdown",
   "id": "dd4c10ac-89ee-4104-bccd-ed4e2b617f12",
   "metadata": {},
   "source": [
    "### Are there other similar clusters?"
   ]
  },
  {
   "cell_type": "markdown",
   "id": "1a6647ac-889c-430b-bb2d-f097af44d44d",
   "metadata": {},
   "source": [
    "If we preliminarily define that clusters with $\\delta^{\\rm{bol}}_{\\rm{GML,2500}}<-0.25$ (specifically for the bolometric luminosity version) have ultra-cool-cores/very low central entropy, and apply this to the distribution above do we select any **other** clusters (remember that we just visually selected the low central entropy clusters earlier on)?"
   ]
  },
  {
   "cell_type": "code",
   "execution_count": 144,
   "id": "5a3de43f-413f-4ced-a250-9abbba1d188a",
   "metadata": {},
   "outputs": [
    {
     "data": {
      "text/plain": [
       "{'SDSSXCS-2836': -0.3564, 'SDSSXCS-5159': -0.4615}"
      ]
     },
     "execution_count": 144,
     "metadata": {},
     "output_type": "execute_result"
    }
   ],
   "source": [
    "oth_low_delta_gmlbol = mgas2500_lxbol_2500.point_names[((delta_gml_lxbol < -0.25) &  \n",
    "                                                        (~np.isin(mgas2500_lxbol_2500.point_names, clump_names)))]\n",
    "\n",
    "{n: float(delta_gml_lxbol[np.where(mgas2500_lxbol_2500.point_names == n)[0][0]].value.round(4)) for n in oth_low_delta_gmlbol}"
   ]
  },
  {
   "cell_type": "markdown",
   "id": "0e2e67be-e4a2-45e6-b6f5-7e858bcc00b3",
   "metadata": {},
   "source": [
    "#### Identifying common names"
   ]
  },
  {
   "cell_type": "markdown",
   "id": "6ebbb373-db4f-4bdd-a22e-d46e0a2a60f3",
   "metadata": {},
   "source": [
    "We search NED to see if these galaxy clusters have more commonly used names (if they were in an Abell catalog for instance) - neither cluster seems to be particularly famous, but have been present in some influential cluster catalogs. \n",
    "\n",
    "* SDSSXCS-2836 - **MCXC J1442.3+2218/ZwCl 1439.5+2225/RBS 1419**\n",
    "* SDSSXCS-5159 - Doesn't really have a more common name\n",
    "\n",
    "We also make sure to search the ACCEPT dataset, and find that neither of these clusters were processed as part of that work."
   ]
  },
  {
   "cell_type": "markdown",
   "id": "c1b6c466-8c64-424b-b972-3ce0fe97c8d7",
   "metadata": {},
   "source": [
    "#### Visualising SDSSXCS-2836 and SDSSXCS-5159"
   ]
  },
  {
   "cell_type": "markdown",
   "id": "cdd9830b-6d71-46f7-a501-0de5c52cf1c5",
   "metadata": {},
   "source": [
    "<table><tr>\n",
    "<td> <img src = \"https://github.com/DavidT3/XCS-Mass-Paper-I-Analysis/blob/master/outputs/cluster_visualisations/sdssrm-xcs/SDSSXCS-2836.png?raw=true\" width = \"500\" height = \"500\"> </td>\n",
    "<td> <img src = \"https://github.com/DavidT3/XCS-Mass-Paper-I-Analysis/blob/master/outputs/cluster_visualisations/sdssrm-xcs/SDSSXCS-5159.png?raw=true\" width = \"500\" height = \"500\">  </td>\n",
    "</tr></table>"
   ]
  },
  {
   "cell_type": "markdown",
   "id": "ffa25287-834d-41dd-b95e-77b01290df9b",
   "metadata": {},
   "source": [
    "### What are the clusters on the extreme upper end of the $\\delta_{\\rm{GML}}$ distribution like?"
   ]
  },
  {
   "cell_type": "markdown",
   "id": "9badaaea-21f0-4625-a3f9-455084d9c006",
   "metadata": {},
   "source": [
    "We sort the clusters by descending $\\delta_{\\rm{GML}}$ - we hypothesise that the clusters with high $\\delta_{\\rm{GML}}$ values will have lower than typical density compared to temperature due to astrophysical processes that heat the gas in the core/whole volume of the cluster:"
   ]
  },
  {
   "cell_type": "code",
   "execution_count": 176,
   "id": "244b330a-08eb-46b5-b671-3022fa74fbef",
   "metadata": {},
   "outputs": [
    {
     "data": {
      "text/plain": [
       "array(['SDSSXCS-2282', 'SDSSXCS-23', 'SDSSXCS-325', 'SDSSXCS-1131',\n",
       "       'SDSSXCS-155', 'SDSSXCS-457', 'SDSSXCS-15', 'SDSSXCS-765',\n",
       "       'SDSSXCS-309', 'SDSSXCS-6955', 'SDSSXCS-31', 'SDSSXCS-71',\n",
       "       'SDSSXCS-209', 'SDSSXCS-944', 'SDSSXCS-586', 'SDSSXCS-9313',\n",
       "       'SDSSXCS-147', 'SDSSXCS-123', 'SDSSXCS-487', 'SDSSXCS-890',\n",
       "       'SDSSXCS-2', 'SDSSXCS-7432', 'SDSSXCS-75', 'SDSSXCS-110',\n",
       "       'SDSSXCS-11881', 'SDSSXCS-314', 'SDSSXCS-1645', 'SDSSXCS-7416',\n",
       "       'SDSSXCS-55', 'SDSSXCS-13', 'SDSSXCS-16286', 'SDSSXCS-907',\n",
       "       'SDSSXCS-34', 'SDSSXCS-134', 'SDSSXCS-236', 'SDSSXCS-298',\n",
       "       'SDSSXCS-41', 'SDSSXCS-51', 'SDSSXCS-3312', 'SDSSXCS-29',\n",
       "       'SDSSXCS-395', 'SDSSXCS-68', 'SDSSXCS-124', 'SDSSXCS-3672',\n",
       "       'SDSSXCS-19', 'SDSSXCS-226', 'SDSSXCS-1018', 'SDSSXCS-6',\n",
       "       'SDSSXCS-2347', 'SDSSXCS-9', 'SDSSXCS-189', 'SDSSXCS-575',\n",
       "       'SDSSXCS-65', 'SDSSXCS-64824', 'SDSSXCS-5830', 'SDSSXCS-10401',\n",
       "       'SDSSXCS-165', 'SDSSXCS-2789', 'SDSSXCS-22', 'SDSSXCS-893',\n",
       "       'SDSSXCS-11154', 'SDSSXCS-5', 'SDSSXCS-455', 'SDSSXCS-15984',\n",
       "       'SDSSXCS-382', 'SDSSXCS-574', 'SDSSXCS-32', 'SDSSXCS-78',\n",
       "       'SDSSXCS-8060', 'SDSSXCS-4003', 'SDSSXCS-239', 'SDSSXCS-286',\n",
       "       'SDSSXCS-5527', 'SDSSXCS-593', 'SDSSXCS-210', 'SDSSXCS-290',\n",
       "       'SDSSXCS-176', 'SDSSXCS-1884', 'SDSSXCS-9258', 'SDSSXCS-5020',\n",
       "       'SDSSXCS-5225', 'SDSSXCS-212', 'SDSSXCS-2032', 'SDSSXCS-572',\n",
       "       'SDSSXCS-7783', 'SDSSXCS-2836', 'SDSSXCS-2288', 'SDSSXCS-1628',\n",
       "       'SDSSXCS-9803', 'SDSSXCS-11331', 'SDSSXCS-5159'], dtype=object)"
      ]
     },
     "execution_count": 176,
     "metadata": {},
     "output_type": "execute_result"
    }
   ],
   "source": [
    "sort_names = mgas2500_lxbol_2500.point_names[np.argsort(delta_gml_lxbol)[::-1]]\n",
    "sort_names"
   ]
  },
  {
   "cell_type": "markdown",
   "id": "cab78add-d6ce-4578-af05-a2a67f2f2ac9",
   "metadata": {},
   "source": [
    "We select the clusters with the top nine highest $\\delta_{\\rm{GML}}$ values, and examine their XMM count-rate maps:"
   ]
  },
  {
   "cell_type": "markdown",
   "id": "378b9efd-fb0d-427f-a1aa-b70b2a85abe7",
   "metadata": {},
   "source": [
    "#### SDSSXCS-2282, SDSSXCS-23, and SDSSXCS-325 "
   ]
  },
  {
   "cell_type": "markdown",
   "id": "d20699b2-afe0-44c1-9276-ff40150177e0",
   "metadata": {},
   "source": [
    "<table><tr>\n",
    "<td> <img src = \"https://github.com/DavidT3/XCS-Mass-Paper-I-Analysis/blob/master/outputs/cluster_visualisations/sdssrm-xcs/SDSSXCS-2282.png?raw=true\" width = \"500\" height = \"500\"> </td>\n",
    "<td> <img src = \"https://github.com/DavidT3/XCS-Mass-Paper-I-Analysis/blob/master/outputs/cluster_visualisations/sdssrm-xcs/SDSSXCS-23.png?raw=true\" width = \"500\" height = \"500\">  </td>\n",
    "<td> <img src = \"https://github.com/DavidT3/XCS-Mass-Paper-I-Analysis/blob/master/outputs/cluster_visualisations/sdssrm-xcs/SDSSXCS-325.png?raw=true\" width = \"500\" height = \"500\">  </td>\n",
    "</tr></table>"
   ]
  },
  {
   "cell_type": "markdown",
   "id": "5fc36ba7-4a5d-48fd-a64d-7d1e314b1157",
   "metadata": {},
   "source": [
    "#### SDSSXCS-1131, SDSSXCS-155, and SDSSXCS-457"
   ]
  },
  {
   "cell_type": "markdown",
   "id": "9bb18388-7695-49d6-9ad3-a490afa48994",
   "metadata": {},
   "source": [
    "<table><tr>\n",
    "<td> <img src = \"https://github.com/DavidT3/XCS-Mass-Paper-I-Analysis/blob/master/outputs/cluster_visualisations/sdssrm-xcs/SDSSXCS-1131.png?raw=true\" width = \"500\" height = \"500\"> </td>\n",
    "<td> <img src = \"https://github.com/DavidT3/XCS-Mass-Paper-I-Analysis/blob/master/outputs/cluster_visualisations/sdssrm-xcs/SDSSXCS-155.png?raw=true\" width = \"500\" height = \"500\">  </td>\n",
    "<td> <img src = \"https://github.com/DavidT3/XCS-Mass-Paper-I-Analysis/blob/master/outputs/cluster_visualisations/sdssrm-xcs/SDSSXCS-457.png?raw=true\" width = \"500\" height = \"500\">  </td>\n",
    "</tr></table>"
   ]
  },
  {
   "cell_type": "markdown",
   "id": "9722e0f3-fc22-47e9-a3a9-56f4cf4b6f43",
   "metadata": {},
   "source": [
    "#### SDSSXCS-15, SDSSXCS-765, and SDSSXCS-309"
   ]
  },
  {
   "cell_type": "markdown",
   "id": "a8195427-62dc-44c8-a2c6-82a490192874",
   "metadata": {},
   "source": [
    "<table><tr>\n",
    "<td> <img src = \"https://github.com/DavidT3/XCS-Mass-Paper-I-Analysis/blob/master/outputs/cluster_visualisations/sdssrm-xcs/SDSSXCS-15.png?raw=true\" width = \"500\" height = \"500\"> </td>\n",
    "<td> <img src = \"https://github.com/DavidT3/XCS-Mass-Paper-I-Analysis/blob/master/outputs/cluster_visualisations/sdssrm-xcs/SDSSXCS-765.png?raw=true\" width = \"500\" height = \"500\">  </td>\n",
    "<td> <img src = \"https://github.com/DavidT3/XCS-Mass-Paper-I-Analysis/blob/master/outputs/cluster_visualisations/sdssrm-xcs/SDSSXCS-309.png?raw=true\" width = \"500\" height = \"500\">  </td>\n",
    "</tr></table>"
   ]
  },
  {
   "cell_type": "markdown",
   "id": "64870a38-817d-4ef4-9e6f-296cf44c7a76",
   "metadata": {},
   "source": [
    "We note that the X-ray appearances of these galaxy clusters are in some cases quite different from the low-$\\delta_{\\rm{GML}}$ clusters earlier. In general the surface brightness distributions are much less peaked, and the clusters look more like a 'puffed up' ball of gas (quite characteristic of disturbed clusters). Some of the systems are appear to be currently interacting with another cluster (or soon will be; with the possibility of projection ignored for the moment). \n",
    "\n",
    "Unfortunately none of these clusters is part of the ACCEPT I sample, so we cannot use them to examine the central entropy of these systems. The immediate utility of this higher extreme of the $\\delta_{\\rm{GML}}$ distribution is currently less clear to us than the lower extreme, but could be a hint of high-temperature shock-regions in these galaxy clusters - future work will examine this idea more carefully."
   ]
  },
  {
   "cell_type": "markdown",
   "id": "0f4c32a5-88f2-4767-80f4-eae8e9703dd8",
   "metadata": {},
   "source": [
    "## "
   ]
  },
  {
   "cell_type": "code",
   "execution_count": null,
   "id": "1d37e7d0-f1bd-4c7a-ab8e-ade98bf721fa",
   "metadata": {},
   "outputs": [],
   "source": [
    "stop"
   ]
  },
  {
   "cell_type": "code",
   "execution_count": null,
   "id": "fd7425ba-6f10-472a-a676-4de1f999c655",
   "metadata": {},
   "outputs": [],
   "source": [
    "np.median(plotto)"
   ]
  },
  {
   "cell_type": "code",
   "execution_count": null,
   "id": "995bc8dd-5bbf-4f59-b06a-e1a7e0c29b40",
   "metadata": {},
   "outputs": [],
   "source": [
    "np.percentile(plotto, 84.1) - np.median(plotto)"
   ]
  },
  {
   "cell_type": "code",
   "execution_count": null,
   "id": "ba0f022f-c60b-4a5c-8e54-65a7c0772726",
   "metadata": {},
   "outputs": [],
   "source": [
    "np.median(plotto) - np.percentile(plotto, (50-34.1))"
   ]
  },
  {
   "cell_type": "markdown",
   "id": "5abdaf7d-c181-4cde-adc1-525cdb487cbb",
   "metadata": {},
   "source": [
    "SDSSXCS-5159 is a false entry here I think - still a bit flared to my chagrin"
   ]
  },
  {
   "cell_type": "code",
   "execution_count": null,
   "id": "5822240f-a17e-4095-ac03-573e0b69c4e6",
   "metadata": {},
   "outputs": [],
   "source": [
    "sdssxcs_base[sdssxcs_base['name'].isin(['SDSSXCS-2836', 'SDSSXCS-5159'])]"
   ]
  },
  {
   "cell_type": "code",
   "execution_count": null,
   "id": "8e9abc00-264a-4d7a-9a36-c54336c3965c",
   "metadata": {},
   "outputs": [],
   "source": [
    "mgas2500_lxbol_2500.point_names[np.argwhere(plotto > 0.25)]"
   ]
  },
  {
   "cell_type": "code",
   "execution_count": null,
   "id": "fabe1481-c5de-407c-b1f9-21614a5d113c",
   "metadata": {},
   "outputs": [],
   "source": [
    "ns = mgas2500_lxbol_2500.point_names[np.argwhere((plotto > -0.3) & (plotto < -0.2))]\n",
    "ns"
   ]
  },
  {
   "cell_type": "code",
   "execution_count": null,
   "id": "8615b175-87a3-408a-9b0a-ef1daf5a65e4",
   "metadata": {},
   "outputs": [],
   "source": [
    "sdssxcs_base[sdssxcs_base['name'].isin(ns.flatten())]"
   ]
  },
  {
   "cell_type": "code",
   "execution_count": null,
   "id": "455c11f3-e1bf-4678-9a1d-4c905b200535",
   "metadata": {},
   "outputs": [],
   "source": [
    "cc_half = np.argwhere(plotto < -0.1).flatten()\n",
    "ncc_half = np.argwhere(plotto >= -0.1).flatten()"
   ]
  },
  {
   "cell_type": "code",
   "execution_count": null,
   "id": "c9d9360d-4005-4a0b-8896-a0f6db402d95",
   "metadata": {},
   "outputs": [],
   "source": [
    "slim_chos = np.argwhere((plotto > -0.2) & (plotto < 0.2)).flatten()\n",
    "slim_chos"
   ]
  },
  {
   "cell_type": "code",
   "execution_count": null,
   "id": "9c9b7983-0c9a-4ad2-86ab-2fa09f5bd602",
   "metadata": {},
   "outputs": [],
   "source": [
    "with open('../../outputs/scaling_relations/sdssrm-xcs_new/mtot-tx/turner2025_mtot2500_tx2500.xgarel', 'rb') as scalo:\n",
    "    mtot2500_tx2500 = pickle.load(scalo)"
   ]
  },
  {
   "cell_type": "code",
   "execution_count": null,
   "id": "1ad696bf-8df6-439b-bda0-4e7c0012cc4e",
   "metadata": {},
   "outputs": [],
   "source": [
    "print(\"Slope of {v:.3f} ± {e:.3f}\\n\".format(v=mtot2500_tx2500.pars[0][0], e=mtot2500_tx2500.pars[0][1]))\n",
    "print(\"Normalisation of {v:.3f} ± {e:.3f}\\n\".format(v=mtot2500_tx2500.pars[1][0], e=mtot2500_tx2500.pars[1][1]))\n",
    "print(\"Scatter of {v:.3f} ± {e:.3f}\".format(v=mtot2500_tx2500.scatter_par[0], e=mtot2500_tx2500.scatter_par[1]))"
   ]
  },
  {
   "cell_type": "code",
   "execution_count": null,
   "id": "5f1e39ea-26c7-4eb2-a9dc-b90e3b44dfb8",
   "metadata": {},
   "outputs": [],
   "source": [
    "mtot2500_tx2500.view(figsize=(7.3, 7), y_lims=Quantity([1e+13, 9e+14], 'Msun'))"
   ]
  },
  {
   "cell_type": "code",
   "execution_count": null,
   "id": "7fe7d906-4876-4eee-af39-2a657a4b7956",
   "metadata": {},
   "outputs": [],
   "source": [
    "sel_mtot2500 = mtot2500_tx2500.y_data[slim_chos, :]\n",
    "sel_mtot2500 = np.concatenate((sel_mtot2500, sel_mtot2500[:, 1, None]), axis=1)\n",
    "sel_tx2500 = mtot2500_tx2500.x_data[slim_chos, :]\n",
    "sel_tx2500 = np.concatenate((sel_tx2500, sel_tx2500[:, 1, None]), axis=1)\n",
    "\n",
    "mtot2500_tx2500_sub = scaling_relation_lira(sel_mtot2500[:, 0], sel_mtot2500[:, 1:], sel_tx2500[:, 0], sel_tx2500[:, 1:], \n",
    "                                            m_norm, tx_norm, y_name=r\"$E(z)M^{\\rm{tot}}_{2500}$\", x_name=r\"$T_{\\rm{X,2500}}$\", \n",
    "                                            dim_hubb_ind=1, point_names=sdssxcs_samp['name'].values)\n",
    "mtot2500_tx2500_sub.model_colour = 'navajowhite'\n",
    "mtot2500_tx2500_sub.author = 'Turner et al.'\n",
    "mtot2500_tx2500_sub.year = 2025\n",
    "mtot2500_tx2500_sub.name = r'Turner et al. $E(z)M^{\\rm{tot}}_{2500}$-$T_{\\rm{X,2500}}$'"
   ]
  },
  {
   "cell_type": "code",
   "execution_count": null,
   "id": "ec8d064c-af27-4ddc-84c6-67087edfdd25",
   "metadata": {},
   "outputs": [],
   "source": [
    "print(\"Slope of {v:.3f} ± {e:.3f}\\n\".format(v=mtot2500_tx2500_sub.pars[0][0], e=mtot2500_tx2500_sub.pars[0][1]))\n",
    "print(\"Normalisation of {v:.3f} ± {e:.3f}\\n\".format(v=mtot2500_tx2500_sub.pars[1][0], e=mtot2500_tx2500_sub.pars[1][1]))\n",
    "print(\"Scatter of {v:.3f} ± {e:.3f}\".format(v=mtot2500_tx2500_sub.scatter_par[0], e=mtot2500_tx2500_sub.scatter_par[1]))"
   ]
  },
  {
   "cell_type": "code",
   "execution_count": null,
   "id": "3acf830c-a773-4da8-bd0c-63c34ab443fd",
   "metadata": {},
   "outputs": [],
   "source": [
    "mtot2500_tx2500_sub.view(figsize=(7.3, 7), y_lims=Quantity([1e+13, 9e+14], 'Msun'))"
   ]
  },
  {
   "cell_type": "code",
   "execution_count": null,
   "id": "061931eb-6785-43f3-9327-4f94a683ad0d",
   "metadata": {},
   "outputs": [],
   "source": [
    "with open('../../outputs/scaling_relations/sdssrm-xcs_new/mtot-richness/turner2025_mtot2500_richness.xgarel', 'rb') as scalo:\n",
    "    mtot2500_rich = pickle.load(scalo)"
   ]
  },
  {
   "cell_type": "code",
   "execution_count": null,
   "id": "b478e53a-c180-4e98-a784-9428ab41fad2",
   "metadata": {},
   "outputs": [],
   "source": [
    "print(\"Slope of {v:.3f} ± {e:.3f}\\n\".format(v=mtot2500_rich.pars[0][0], e=mtot2500_rich.pars[0][1]))\n",
    "print(\"Normalisation of {v:.3f} ± {e:.3f}\\n\".format(v=mtot2500_rich.pars[1][0], e=mtot2500_rich.pars[1][1]))\n",
    "print(\"Scatter of {v:.3f} ± {e:.3f}\".format(v=mtot2500_rich.scatter_par[0], e=mtot2500_rich.scatter_par[1]))"
   ]
  },
  {
   "cell_type": "code",
   "execution_count": null,
   "id": "97c3fbf6-a3a1-4033-a45a-6c228f0e5246",
   "metadata": {},
   "outputs": [],
   "source": [
    "mtot2500_rich.view(figsize=(7.3, 7), y_lims=Quantity([1e+13, 9e+14], 'Msun'))"
   ]
  },
  {
   "cell_type": "code",
   "execution_count": null,
   "id": "72057e97-cabb-44d0-924c-50264ac15aae",
   "metadata": {},
   "outputs": [],
   "source": [
    "sel_mtot2500 = mtot2500_rich.y_data[slim_chos, :]\n",
    "sel_mtot2500 = np.concatenate((sel_mtot2500, sel_mtot2500[:, 1, None]), axis=1)\n",
    "sel_rich = mtot2500_rich.x_data[slim_chos, :]\n",
    "sel_rich = np.concatenate((sel_rich, sel_rich[:, 1, None]), axis=1)\n",
    "\n",
    "mtot2500_rich_sub = scaling_relation_lira(sel_mtot2500[:, 0], sel_mtot2500[:, 1:], sel_rich[:, 0], sel_rich[:, 1:], \n",
    "                                          m_norm, rich_norm, y_name=r\"$M^{\\rm{tot}}_{2500}$\", x_name=r\"$\\lambda_{\\rm{RM}}$\", \n",
    "                                          point_names=sdssxcs_samp['name'].values)\n",
    "mtot2500_rich_sub.model_colour = 'dodgerblue'\n",
    "mtot2500_rich_sub.author = 'Turner et al.'\n",
    "mtot2500_rich_sub.year = 2025\n",
    "mtot2500_rich_sub.name = r'Turner et al. Slim $M^{\\rm{tot}}_{2500}$-$\\lambda_{\\rm{RM}}$'"
   ]
  },
  {
   "cell_type": "code",
   "execution_count": null,
   "id": "2d5f09d0-1660-4ab1-8fbb-45b1fc596cec",
   "metadata": {},
   "outputs": [],
   "source": [
    "print(\"Slope of {v:.3f} ± {e:.3f}\\n\".format(v=mtot2500_rich_sub.pars[0][0], e=mtot2500_rich_sub.pars[0][1]))\n",
    "print(\"Normalisation of {v:.3f} ± {e:.3f}\\n\".format(v=mtot2500_rich_sub.pars[1][0], e=mtot2500_rich_sub.pars[1][1]))\n",
    "print(\"Scatter of {v:.3f} ± {e:.3f}\".format(v=mtot2500_rich_sub.scatter_par[0], e=mtot2500_rich_sub.scatter_par[1]))"
   ]
  },
  {
   "cell_type": "code",
   "execution_count": null,
   "id": "385b110a-c138-4357-9e50-b07fb0f472db",
   "metadata": {},
   "outputs": [],
   "source": [
    "mtot2500_rich_sub.view(figsize=(7.3, 7), y_lims=Quantity([1e+13, 9e+14], 'Msun'))"
   ]
  },
  {
   "cell_type": "code",
   "execution_count": null,
   "id": "c07c2d26-663e-46ed-8be4-58d113bb4fc9",
   "metadata": {},
   "outputs": [],
   "source": [
    "sel_mtot2500 = mtot2500_rich.y_data[cc_half, :]\n",
    "sel_mtot2500 = np.concatenate((sel_mtot2500, sel_mtot2500[:, 1, None]), axis=1)\n",
    "sel_rich = mtot2500_rich.x_data[cc_half, :]\n",
    "sel_rich = np.concatenate((sel_rich, sel_rich[:, 1, None]), axis=1)\n",
    "\n",
    "mtot2500_rich_cchalf = scaling_relation_lira(sel_mtot2500[:, 0], sel_mtot2500[:, 1:], sel_rich[:, 0], sel_rich[:, 1:], \n",
    "                                             m_norm, rich_norm, y_name=r\"$M^{\\rm{tot}}_{2500}$\", x_name=r\"$\\lambda_{\\rm{RM}}$\", \n",
    "                                             point_names=sdssxcs_samp['name'].values)\n",
    "mtot2500_rich_cchalf.model_colour = 'dodgerblue'\n",
    "mtot2500_rich_cchalf.author = 'Turner et al.'\n",
    "mtot2500_rich_cchalf.year = 2025\n",
    "mtot2500_rich_cchalf.name = r'Turner et al. CC Half $M^{\\rm{tot}}_{2500}$-$\\lambda_{\\rm{RM}}$'"
   ]
  },
  {
   "cell_type": "code",
   "execution_count": null,
   "id": "9eaffcdb-30a3-4f91-87f6-1f38b5b010db",
   "metadata": {},
   "outputs": [],
   "source": [
    "print(\"Slope of {v:.3f} ± {e:.3f}\\n\".format(v=mtot2500_rich_cchalf.pars[0][0], e=mtot2500_rich_cchalf.pars[0][1]))\n",
    "print(\"Normalisation of {v:.3f} ± {e:.3f}\\n\".format(v=mtot2500_rich_cchalf.pars[1][0], e=mtot2500_rich_cchalf.pars[1][1]))\n",
    "print(\"Scatter of {v:.3f} ± {e:.3f}\".format(v=mtot2500_rich_cchalf.scatter_par[0], e=mtot2500_rich_cchalf.scatter_par[1]))"
   ]
  },
  {
   "cell_type": "code",
   "execution_count": null,
   "id": "e1434cb3-c8f0-401d-81cf-f63a73abe14f",
   "metadata": {},
   "outputs": [],
   "source": [
    "mtot2500_rich_cchalf.view(figsize=(7.3, 7), y_lims=Quantity([1e+13, 9e+14], 'Msun'))"
   ]
  },
  {
   "cell_type": "code",
   "execution_count": null,
   "id": "62174daf-f0d3-414c-a7b0-40732f9b4fcd",
   "metadata": {},
   "outputs": [],
   "source": [
    "sel_mtot2500 = mtot2500_rich.y_data[ncc_half, :]\n",
    "sel_mtot2500 = np.concatenate((sel_mtot2500, sel_mtot2500[:, 1, None]), axis=1)\n",
    "sel_rich = mtot2500_rich.x_data[ncc_half, :]\n",
    "sel_rich = np.concatenate((sel_rich, sel_rich[:, 1, None]), axis=1)\n",
    "\n",
    "mtot2500_rich_ncchalf = scaling_relation_lira(sel_mtot2500[:, 0], sel_mtot2500[:, 1:], sel_rich[:, 0], sel_rich[:, 1:], \n",
    "                                              m_norm, rich_norm, y_name=r\"$M^{\\rm{tot}}_{2500}$\", x_name=r\"$\\lambda_{\\rm{RM}}$\", \n",
    "                                              point_names=sdssxcs_samp['name'].values)\n",
    "mtot2500_rich_ncchalf.model_colour = 'dodgerblue'\n",
    "mtot2500_rich_ncchalf.author = 'Turner et al.'\n",
    "mtot2500_rich_ncchalf.year = 2025\n",
    "mtot2500_rich_ncchalf.name = r'Turner et al. NCC Half $M^{\\rm{tot}}_{2500}$-$\\lambda_{\\rm{RM}}$'"
   ]
  },
  {
   "cell_type": "code",
   "execution_count": null,
   "id": "af482d95-a787-4cfb-9616-ea27057f758c",
   "metadata": {},
   "outputs": [],
   "source": [
    "print(\"Slope of {v:.3f} ± {e:.3f}\\n\".format(v=mtot2500_rich_ncchalf.pars[0][0], e=mtot2500_rich_ncchalf.pars[0][1]))\n",
    "print(\"Normalisation of {v:.3f} ± {e:.3f}\\n\".format(v=mtot2500_rich_ncchalf.pars[1][0], e=mtot2500_rich_ncchalf.pars[1][1]))\n",
    "print(\"Scatter of {v:.3f} ± {e:.3f}\".format(v=mtot2500_rich_ncchalf.scatter_par[0], e=mtot2500_rich_ncchalf.scatter_par[1]))"
   ]
  },
  {
   "cell_type": "code",
   "execution_count": null,
   "id": "7dae8c93-a4a7-4a4f-af3a-df6e56b07d0f",
   "metadata": {},
   "outputs": [],
   "source": [
    "mtot2500_rich_ncchalf.view(figsize=(7.3, 7), y_lims=Quantity([1e+13, 9e+14], 'Msun'))"
   ]
  },
  {
   "cell_type": "code",
   "execution_count": null,
   "id": "26657e47-92c6-4f61-84ee-4aa134088fb1",
   "metadata": {},
   "outputs": [],
   "source": [
    "(mtot2500_rich_sub + mtot2500_rich_cchalf + mtot2500_rich_ncchalf).view(figsize=(7.3, 7), y_lims=Quantity([1e+13, 9e+14], 'Msun'))"
   ]
  },
  {
   "cell_type": "code",
   "execution_count": null,
   "id": "90f7637f-e0df-4c5d-bdf6-e9d916fcbb68",
   "metadata": {},
   "outputs": [],
   "source": [
    "(mtot2500_rich + mtot2500_rich_sub + mtot2500_rich_cchalf + mtot2500_rich_ncchalf).view_corner()"
   ]
  },
  {
   "cell_type": "markdown",
   "id": "7b8ae9c0-50ec-4c9d-be06-7b4213229c69",
   "metadata": {},
   "source": [
    "### Richess R500 mass"
   ]
  },
  {
   "cell_type": "markdown",
   "id": "7478852c-db3f-44ed-9c71-312c1fd9b67f",
   "metadata": {},
   "source": [
    "### OG"
   ]
  },
  {
   "cell_type": "code",
   "execution_count": null,
   "id": "4d36ef52-231e-4c7e-8b62-cd0809d97d6a",
   "metadata": {},
   "outputs": [],
   "source": [
    "with open('../../outputs/scaling_relations/sdssrm-xcs_new/mtot-richness/turner2025_mtot500_richness.xgarel', 'rb') as scalo:\n",
    "    mtot500_rich = pickle.load(scalo)"
   ]
  },
  {
   "cell_type": "code",
   "execution_count": null,
   "id": "8a9ac89d-04f7-46d5-aa9a-bc0fdbddd5f8",
   "metadata": {},
   "outputs": [],
   "source": [
    "print(\"Slope of {v:.3f} ± {e:.3f}\\n\".format(v=mtot500_rich.pars[0][0], e=mtot500_rich.pars[0][1]))\n",
    "print(\"Normalisation of {v:.3f} ± {e:.3f}\\n\".format(v=mtot500_rich.pars[1][0], e=mtot500_rich.pars[1][1]))\n",
    "print(\"Scatter of {v:.3f} ± {e:.3f}\".format(v=mtot500_rich.scatter_par[0], e=mtot500_rich.scatter_par[1]))"
   ]
  },
  {
   "cell_type": "code",
   "execution_count": null,
   "id": "4996ad80-6e16-4a20-bfb0-24260f0efe95",
   "metadata": {},
   "outputs": [],
   "source": [
    "mtot500_rich.view(figsize=(7.3, 7), y_lims=Quantity([1e+13, 4e+15], 'Msun'))"
   ]
  },
  {
   "cell_type": "markdown",
   "id": "58c8c5fa-2005-46fe-a8e8-2c3062ff1b0e",
   "metadata": {},
   "source": [
    "### Refit but only clusters with R2500 info"
   ]
  },
  {
   "cell_type": "code",
   "execution_count": null,
   "id": "6d2d39c9-2dd0-4012-b2a7-d570d5f4fbdc",
   "metadata": {},
   "outputs": [],
   "source": [
    "sort_rel_names = np.argsort(sdssxcs_samp['name'].values)\n",
    "pnt_samp_ind = sort_rel_names[np.searchsorted(sdssxcs_samp['name'].values, mgas2500_lxbol_2500.point_names, sorter=sort_rel_names)]\n",
    "\n",
    "# Reads out gas masses in two apertures, in the right order!\n",
    "z = sdssxcs_samp.loc[pnt_samp_ind, 'z'].values\n",
    "mgas2500 = Quantity(sdssxcs_samp.loc[pnt_samp_ind, 'Mg2500_wraderr'].values*1e+14, 'Msun')"
   ]
  },
  {
   "cell_type": "code",
   "execution_count": null,
   "id": "71fa32a2-9205-47d4-b2df-2fb91bb5d7f3",
   "metadata": {},
   "outputs": [],
   "source": [
    "# Setting up property variables in astropy quantity objects\n",
    "sdssxcs_samp_wR2500 = sdssxcs_samp[sdssxcs_samp['name'].isin(mgas2500_lxbol_2500.point_names)]\n",
    "\n",
    "mtot500 = Quantity(sdssxcs_samp_wR2500[['Mhy500_wraderr', 'Mhy500_wraderr-', 'Mhy500_wraderr+']].values*1e+14, 'Msun')\n",
    "rich = Quantity(sdssxcs_samp_wR2500[['richness', 'richness_err','richness_err']].values, '')\n",
    "\n",
    "mtot500_rich_wr2500 = scaling_relation_lira(mtot500[:, 0], mtot500[:, 1:], rich[:, 0], rich[:, 1:], m_norm, rich_norm, \n",
    "                                     y_name=r\"$M^{\\rm{tot}}_{500}$\", x_name=r\"$\\lambda_{\\rm{RM}}$\", \n",
    "                                     point_names=sdssxcs_samp_wR2500['name'].values)\n",
    "mtot500_rich_wr2500.model_colour = 'goldenrod'\n",
    "mtot500_rich_wr2500.author = 'Turner et al.'\n",
    "mtot500_rich_wr2500.year = 2025\n",
    "mtot500_rich_wr2500.name = r'Turner et al. $M^{\\rm{tot}}_{500}$-$\\lambda_{\\rm{RM}}$'"
   ]
  },
  {
   "cell_type": "code",
   "execution_count": null,
   "id": "04a8a81a-473f-491b-8e89-d0e47f40dc7f",
   "metadata": {},
   "outputs": [],
   "source": [
    "print(\"Slope of {v:.3f} ± {e:.3f}\\n\".format(v=mtot500_rich_wr2500.pars[0][0], e=mtot500_rich_wr2500.pars[0][1]))\n",
    "print(\"Normalisation of {v:.3f} ± {e:.3f}\\n\".format(v=mtot500_rich_wr2500.pars[1][0], e=mtot500_rich_wr2500.pars[1][1]))\n",
    "print(\"Scatter of {v:.3f} ± {e:.3f}\".format(v=mtot500_rich_wr2500.scatter_par[0], e=mtot500_rich_wr2500.scatter_par[1]))"
   ]
  },
  {
   "cell_type": "code",
   "execution_count": null,
   "id": "f50eae5b-ea01-42ff-869e-55aa8dc4e5bd",
   "metadata": {},
   "outputs": [],
   "source": [
    "mtot500_rich_wr2500.view(figsize=(7.3, 7), y_lims=Quantity([1e+13, 4e+15], 'Msun'))"
   ]
  },
  {
   "cell_type": "markdown",
   "id": "e409fba7-0c58-45e0-98dc-bcbff864e5cf",
   "metadata": {},
   "source": [
    "### 'Slim' selection"
   ]
  },
  {
   "cell_type": "code",
   "execution_count": null,
   "id": "cd473981-9397-4a16-91a7-2cc090e4c886",
   "metadata": {},
   "outputs": [],
   "source": [
    "sel_mtot500 = mtot500_rich_wr2500.y_data[slim_chos, :]\n",
    "sel_mtot500 = np.concatenate((sel_mtot500, sel_mtot500[:, 1, None]), axis=1)\n",
    "sel_rich = mtot500_rich_wr2500.x_data[slim_chos, :]\n",
    "sel_rich = np.concatenate((sel_rich, sel_rich[:, 1, None]), axis=1)\n",
    "\n",
    "mtot500_rich_wr2500_sub = scaling_relation_lira(sel_mtot500[:, 0], sel_mtot500[:, 1:], sel_rich[:, 0], sel_rich[:, 1:], \n",
    "                                          m_norm, rich_norm, y_name=r\"$M^{\\rm{tot}}_{500}$\", x_name=r\"$\\lambda_{\\rm{RM}}$\", \n",
    "                                          point_names=mtot500_rich_wr2500.point_names[slim_chos])\n",
    "mtot500_rich_wr2500_sub.model_colour = 'goldenrod'\n",
    "mtot500_rich_wr2500_sub.author = 'Turner et al.'\n",
    "mtot500_rich_wr2500_sub.year = 2025\n",
    "mtot500_rich_wr2500_sub.name = r'Turner et al. Slim $M^{\\rm{tot}}_{500}$-$\\lambda_{\\rm{RM}}$'"
   ]
  },
  {
   "cell_type": "code",
   "execution_count": null,
   "id": "5dd6c40b-44f4-43f5-b4bc-f7b4174bc959",
   "metadata": {},
   "outputs": [],
   "source": [
    "print(\"Slope of {v:.3f} ± {e:.3f}\\n\".format(v=mtot500_rich_wr2500_sub.pars[0][0], e=mtot500_rich_wr2500_sub.pars[0][1]))\n",
    "print(\"Normalisation of {v:.3f} ± {e:.3f}\\n\".format(v=mtot500_rich_wr2500_sub.pars[1][0], e=mtot500_rich_wr2500_sub.pars[1][1]))\n",
    "print(\"Scatter of {v:.3f} ± {e:.3f}\".format(v=mtot500_rich_wr2500_sub.scatter_par[0], e=mtot500_rich_wr2500_sub.scatter_par[1]))"
   ]
  },
  {
   "cell_type": "code",
   "execution_count": null,
   "id": "a457e0ca-b0e7-41ab-b55b-7dcbd3e6da68",
   "metadata": {},
   "outputs": [],
   "source": [
    "mtot500_rich_wr2500.view(figsize=(7.3, 7), y_lims=Quantity([1e+13, 4e+15], 'Msun'))"
   ]
  },
  {
   "cell_type": "markdown",
   "id": "a50a2bd6-ab17-4a65-8b14-6d548ee0b3ef",
   "metadata": {},
   "source": [
    "### 'CC Half' Selection"
   ]
  },
  {
   "cell_type": "code",
   "execution_count": null,
   "id": "382ef23e-7ffd-45a3-9981-526b24259c4b",
   "metadata": {},
   "outputs": [],
   "source": [
    "sel_mtot500 = mtot500_rich_wr2500.y_data[cc_half, :]\n",
    "sel_mtot500 = np.concatenate((sel_mtot500, sel_mtot500[:, 1, None]), axis=1)\n",
    "sel_rich = mtot500_rich_wr2500.x_data[cc_half, :]\n",
    "sel_rich = np.concatenate((sel_rich, sel_rich[:, 1, None]), axis=1)\n",
    "\n",
    "mtot500_rich_wr2500_cchalf = scaling_relation_lira(sel_mtot500[:, 0], sel_mtot500[:, 1:], sel_rich[:, 0], sel_rich[:, 1:], \n",
    "                                          m_norm, rich_norm, y_name=r\"$M^{\\rm{tot}}_{500}$\", x_name=r\"$\\lambda_{\\rm{RM}}$\", \n",
    "                                          point_names=mtot500_rich_wr2500.point_names[cc_half])\n",
    "mtot500_rich_wr2500_cchalf.model_colour = 'goldenrod'\n",
    "mtot500_rich_wr2500_cchalf.author = 'Turner et al.'\n",
    "mtot500_rich_wr2500_cchalf.year = 2025\n",
    "mtot500_rich_wr2500_cchalf.name = r'Turner et al. CC Half $M^{\\rm{tot}}_{500}$-$\\lambda_{\\rm{RM}}$'"
   ]
  },
  {
   "cell_type": "code",
   "execution_count": null,
   "id": "e8678f0b-c012-4b12-b1a3-b9c1daa1bbee",
   "metadata": {},
   "outputs": [],
   "source": [
    "print(\"Slope of {v:.3f} ± {e:.3f}\\n\".format(v=mtot500_rich_wr2500_cchalf.pars[0][0], e=mtot500_rich_wr2500_cchalf.pars[0][1]))\n",
    "print(\"Normalisation of {v:.3f} ± {e:.3f}\\n\".format(v=mtot500_rich_wr2500_cchalf.pars[1][0], e=mtot500_rich_wr2500_cchalf.pars[1][1]))\n",
    "print(\"Scatter of {v:.3f} ± {e:.3f}\".format(v=mtot500_rich_wr2500_cchalf.scatter_par[0], e=mtot500_rich_wr2500_cchalf.scatter_par[1]))"
   ]
  },
  {
   "cell_type": "code",
   "execution_count": null,
   "id": "ff2350cd-3916-4a11-a9ee-755ff20d1113",
   "metadata": {},
   "outputs": [],
   "source": [
    "mtot500_rich_wr2500_cchalf.view(figsize=(7.3, 7), y_lims=Quantity([1e+13, 4e+15], 'Msun'), label_points=True)"
   ]
  },
  {
   "cell_type": "code",
   "execution_count": null,
   "id": "6e589d15-f9cb-4648-8fcb-c91f3faf73d6",
   "metadata": {},
   "outputs": [],
   "source": [
    "mtot500_rich_wr2500_cchalf.point_names"
   ]
  },
  {
   "cell_type": "markdown",
   "id": "3bda6b1e-dfde-47d9-bac2-6d149b71a495",
   "metadata": {},
   "source": [
    "### 'NCC Half' Selection"
   ]
  },
  {
   "cell_type": "code",
   "execution_count": null,
   "id": "cf880888-ade9-45e3-8e6e-d322d30e49ef",
   "metadata": {},
   "outputs": [],
   "source": [
    "sel_mtot500 = mtot500_rich_wr2500.y_data[ncc_half, :]\n",
    "sel_mtot500 = np.concatenate((sel_mtot500, sel_mtot500[:, 1, None]), axis=1)\n",
    "sel_rich = mtot500_rich_wr2500.x_data[ncc_half, :]\n",
    "sel_rich = np.concatenate((sel_rich, sel_rich[:, 1, None]), axis=1)\n",
    "\n",
    "mtot500_rich_wr2500_ncchalf = scaling_relation_lira(sel_mtot500[:, 0], sel_mtot500[:, 1:], sel_rich[:, 0], sel_rich[:, 1:], \n",
    "                                          m_norm, rich_norm, y_name=r\"$M^{\\rm{tot}}_{500}$\", x_name=r\"$\\lambda_{\\rm{RM}}$\", \n",
    "                                          point_names=mtot500_rich_wr2500.point_names[ncc_half])\n",
    "mtot500_rich_wr2500_ncchalf.model_colour = 'goldenrod'\n",
    "mtot500_rich_wr2500_ncchalf.author = 'Turner et al.'\n",
    "mtot500_rich_wr2500_ncchalf.year = 2025\n",
    "mtot500_rich_wr2500_ncchalf.name = r'Turner et al. NCC Half $M^{\\rm{tot}}_{500}$-$\\lambda_{\\rm{RM}}$'"
   ]
  },
  {
   "cell_type": "code",
   "execution_count": null,
   "id": "5cd85f37-8d60-4a09-80e5-67eb10e2d687",
   "metadata": {},
   "outputs": [],
   "source": [
    "print(\"Slope of {v:.3f} ± {e:.3f}\\n\".format(v=mtot500_rich_wr2500_ncchalf.pars[0][0], e=mtot500_rich_wr2500_ncchalf.pars[0][1]))\n",
    "print(\"Normalisation of {v:.3f} ± {e:.3f}\\n\".format(v=mtot500_rich_wr2500_ncchalf.pars[1][0], e=mtot500_rich_wr2500_ncchalf.pars[1][1]))\n",
    "print(\"Scatter of {v:.3f} ± {e:.3f}\".format(v=mtot500_rich_wr2500_ncchalf.scatter_par[0], e=mtot500_rich_wr2500_ncchalf.scatter_par[1]))"
   ]
  },
  {
   "cell_type": "code",
   "execution_count": null,
   "id": "06363d26-8cf4-46f0-9b00-a1e0fe5c1185",
   "metadata": {},
   "outputs": [],
   "source": [
    "mtot500_rich_wr2500_ncchalf.view(figsize=(7.3, 7), y_lims=Quantity([1e+13, 4e+15], 'Msun'))"
   ]
  },
  {
   "cell_type": "code",
   "execution_count": null,
   "id": "49043ebe-9d97-4d99-9128-62e8b8d943cd",
   "metadata": {},
   "outputs": [],
   "source": [
    "(mtot500_rich_wr2500 + mtot500_rich_wr2500_sub + mtot500_rich_wr2500_cchalf + mtot500_rich_wr2500_ncchalf).view_corner()"
   ]
  },
  {
   "cell_type": "code",
   "execution_count": null,
   "id": "c0b21719-5687-4155-b2c3-1cf5d84ac105",
   "metadata": {},
   "outputs": [],
   "source": [
    "(mtot500_rich_wr2500_cchalf + mtot500_rich_wr2500_ncchalf).view(figsize=(7.3, 7), y_lims=Quantity([1e+13, 4e+15], 'Msun'))"
   ]
  },
  {
   "cell_type": "markdown",
   "id": "557d2325-0b0d-4ca1-9f6e-6f43ffc03ff0",
   "metadata": {},
   "source": [
    "Mark helped me get my head around this - I couldn't understand this as a physical effect, couldn't make that make sense, why would cool-cores have an almost flat relation of mass to richness? - Mark pointed out that the dynamic range in richness is actually pretty different, so it was something super basic in the end! The relations can't be compared as they are, and there is no physical meaning "
   ]
  },
  {
   "cell_type": "code",
   "execution_count": null,
   "id": "3193f13e-c007-4549-9369-baabe3dd78dc",
   "metadata": {},
   "outputs": [],
   "source": [
    "mtot"
   ]
  }
 ],
 "metadata": {
  "kernelspec": {
   "display_name": "Python 3 (ipykernel)",
   "language": "python",
   "name": "python3"
  },
  "language_info": {
   "codemirror_mode": {
    "name": "ipython",
    "version": 3
   },
   "file_extension": ".py",
   "mimetype": "text/x-python",
   "name": "python",
   "nbconvert_exporter": "python",
   "pygments_lexer": "ipython3",
   "version": "3.12.5"
  }
 },
 "nbformat": 4,
 "nbformat_minor": 5
}
