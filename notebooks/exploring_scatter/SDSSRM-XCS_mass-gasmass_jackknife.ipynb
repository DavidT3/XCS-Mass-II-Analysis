{
 "cells": [
  {
   "cell_type": "markdown",
   "id": "81692e5e-0d8b-4c14-85db-06ff66f516fd",
   "metadata": {},
   "source": [
    "# Explore SDSSRM-XCS Scatter: Jackknifing to assess $M_{\\rm{tot}}$-$M_{\\rm{gas}}$"
   ]
  },
  {
   "cell_type": "markdown",
   "id": "ff9fd48f-4094-4a86-9023-1112b6afcf18",
   "metadata": {},
   "source": [
    "This section of the project explores potential reasons and diagnostics of galaxy cluster/group scaling relation scatter using the new SDSSRM-XCS relations constructed in this work from the properties measured in the first paper of this series [(Turner et al. 2024)](https://ui.adsabs.harvard.edu/abs/2025MNRAS.tmp...10T/abstract).\n",
    "\n",
    "Here we particularly focus on using the common 'jackknife' re-sampling technique in an attempt to identify particular clusters that are the dominant cause of a large scatter measurement for some of our more important scaling relations. Such data points (if they are present) may be genuine measurement outliers, caused by some fitting failure or analysis problem for an individual cluster in the first paper of this series. They may also be clusters that _are_ intrinsically more scattered. \n",
    "\n",
    "Scaling relation fits were performed using the XGA interface to the R scaling-relation fitting package LIRA, see the paper for full details."
   ]
  },
  {
   "cell_type": "markdown",
   "id": "3f872958-120d-4d1a-9130-ff7faa2a5a58",
   "metadata": {},
   "source": [
    "## Main takeaways"
   ]
  },
  {
   "cell_type": "markdown",
   "id": "7ce35d3c-cd72-4b83-9532-590c26c111b0",
   "metadata": {},
   "source": [
    "In summary:\n",
    "\n",
    "* **<span style=\"color:red\">.......</span>**"
   ]
  },
  {
   "cell_type": "markdown",
   "id": "b972caff-47d5-41e2-9a67-76e65d4f373f",
   "metadata": {},
   "source": [
    "## Import Statements "
   ]
  },
  {
   "cell_type": "code",
   "execution_count": 1,
   "id": "a42eebf1-f6a5-4acc-a014-e92561cf50d1",
   "metadata": {},
   "outputs": [],
   "source": [
    "import pandas as pd\n",
    "pd.set_option('display.max_columns', 500)\n",
    "import numpy as np\n",
    "from astropy.units import Quantity\n",
    "from astropy.cosmology import LambdaCDM\n",
    "import pickle\n",
    "import matplotlib\n",
    "from matplotlib import pyplot as plt\n",
    "from matplotlib.colors import LinearSegmentedColormap\n",
    "from tqdm import tqdm\n",
    "\n",
    "# This adds the directory above to the path, allowing me to import the common functions that I've written in\n",
    "#  common.py - this just saves me repeating boring code and makes sure its all consistent\n",
    "import sys\n",
    "sys.path.insert(0, '..')\n",
    "from common import xcs_cosmo, m_norm, mgas_norm, leave_one_jackknife\n",
    "\n",
    "import xga\n",
    "from xga.relations.fit import scaling_relation_lira\n",
    "\n",
    "# Setting up this constant that controls the confidence intervals calculated for the scatter change\n",
    "#  distributions - makes it much easier to change the exact value later if we need too. This is \n",
    "#  what is going to be used to define the scatter-dominating clusters.\n",
    "CONF_PERC = 90"
   ]
  },
  {
   "cell_type": "markdown",
   "id": "d9853dfe-61be-403c-b0e7-a6a3f3997372",
   "metadata": {},
   "source": [
    "## Loading data files and relations"
   ]
  },
  {
   "cell_type": "markdown",
   "id": "b9a0b8f8-e5c0-461c-b46d-196b5c7ab62e",
   "metadata": {},
   "source": [
    "We load the 'base' SDSSRM-XCS sample file, containing some basic information about galaxy cluster names, positions, and redshifts. We also load the SDSSRM-XCS cluster property results files from the first paper of this series. \n",
    "\n",
    "The scaling relations which we are performing our bootstrapping scatter assessment on are also loaded in here."
   ]
  },
  {
   "cell_type": "markdown",
   "id": "1a193200-1275-498b-90ad-baf0033a8354",
   "metadata": {},
   "source": [
    "### SDSSRM-XCS base sample"
   ]
  },
  {
   "cell_type": "code",
   "execution_count": 2,
   "id": "160d3018-815f-4308-8790-9c092493bb58",
   "metadata": {},
   "outputs": [
    {
     "data": {
      "text/html": [
       "<div>\n",
       "<style scoped>\n",
       "    .dataframe tbody tr th:only-of-type {\n",
       "        vertical-align: middle;\n",
       "    }\n",
       "\n",
       "    .dataframe tbody tr th {\n",
       "        vertical-align: top;\n",
       "    }\n",
       "\n",
       "    .dataframe thead th {\n",
       "        text-align: right;\n",
       "    }\n",
       "</style>\n",
       "<table border=\"1\" class=\"dataframe\">\n",
       "  <thead>\n",
       "    <tr style=\"text-align: right;\">\n",
       "      <th></th>\n",
       "      <th>name</th>\n",
       "      <th>MEM_MATCH_ID</th>\n",
       "      <th>xapa_ra</th>\n",
       "      <th>xapa_dec</th>\n",
       "      <th>rm_ra</th>\n",
       "      <th>rm_dec</th>\n",
       "      <th>z</th>\n",
       "      <th>r500</th>\n",
       "      <th>r500-</th>\n",
       "      <th>r500+</th>\n",
       "      <th>richness</th>\n",
       "      <th>richness_err</th>\n",
       "      <th>XCS_NAME</th>\n",
       "      <th>R_LAMBDA</th>\n",
       "      <th>xmm_targeted</th>\n",
       "      <th>xmm_serendipitous</th>\n",
       "    </tr>\n",
       "  </thead>\n",
       "  <tbody>\n",
       "    <tr>\n",
       "      <th>0</th>\n",
       "      <td>SDSSXCS-124</td>\n",
       "      <td>124</td>\n",
       "      <td>0.80058</td>\n",
       "      <td>-6.09182</td>\n",
       "      <td>0.798261</td>\n",
       "      <td>-6.091694</td>\n",
       "      <td>0.2475</td>\n",
       "      <td>1181.028</td>\n",
       "      <td>21.202</td>\n",
       "      <td>23.203</td>\n",
       "      <td>109.550</td>\n",
       "      <td>4.490</td>\n",
       "      <td>XMMXCS J000312.1-060530.5</td>\n",
       "      <td>1.018410</td>\n",
       "      <td>True</td>\n",
       "      <td>False</td>\n",
       "    </tr>\n",
       "    <tr>\n",
       "      <th>1</th>\n",
       "      <td>SDSSXCS-2789</td>\n",
       "      <td>2789</td>\n",
       "      <td>0.95554</td>\n",
       "      <td>2.06802</td>\n",
       "      <td>0.956981</td>\n",
       "      <td>2.066469</td>\n",
       "      <td>0.1053</td>\n",
       "      <td>1007.861</td>\n",
       "      <td>17.194</td>\n",
       "      <td>17.202</td>\n",
       "      <td>38.904</td>\n",
       "      <td>2.830</td>\n",
       "      <td>XMMXCS J000349.3+020404.8</td>\n",
       "      <td>0.827942</td>\n",
       "      <td>True</td>\n",
       "      <td>False</td>\n",
       "    </tr>\n",
       "    <tr>\n",
       "      <th>2</th>\n",
       "      <td>SDSSXCS-290</td>\n",
       "      <td>290</td>\n",
       "      <td>2.72264</td>\n",
       "      <td>29.16102</td>\n",
       "      <td>2.714137</td>\n",
       "      <td>29.161154</td>\n",
       "      <td>0.3485</td>\n",
       "      <td>913.052</td>\n",
       "      <td>30.879</td>\n",
       "      <td>31.210</td>\n",
       "      <td>105.096</td>\n",
       "      <td>5.994</td>\n",
       "      <td>XMMXCS J001053.4+290939.6</td>\n",
       "      <td>1.009990</td>\n",
       "      <td>True</td>\n",
       "      <td>False</td>\n",
       "    </tr>\n",
       "    <tr>\n",
       "      <th>3</th>\n",
       "      <td>SDSSXCS-1018</td>\n",
       "      <td>1018</td>\n",
       "      <td>4.40633</td>\n",
       "      <td>-0.87619</td>\n",
       "      <td>4.406711</td>\n",
       "      <td>-0.878340</td>\n",
       "      <td>0.2144</td>\n",
       "      <td>902.259</td>\n",
       "      <td>22.445</td>\n",
       "      <td>23.366</td>\n",
       "      <td>56.997</td>\n",
       "      <td>3.219</td>\n",
       "      <td>XMMXCS J001737.5-005234.2</td>\n",
       "      <td>0.893655</td>\n",
       "      <td>False</td>\n",
       "      <td>True</td>\n",
       "    </tr>\n",
       "    <tr>\n",
       "      <th>4</th>\n",
       "      <td>SDSSXCS-134</td>\n",
       "      <td>134</td>\n",
       "      <td>4.90839</td>\n",
       "      <td>3.60982</td>\n",
       "      <td>4.911069</td>\n",
       "      <td>3.599257</td>\n",
       "      <td>0.2773</td>\n",
       "      <td>1123.321</td>\n",
       "      <td>19.219</td>\n",
       "      <td>19.226</td>\n",
       "      <td>108.604</td>\n",
       "      <td>4.792</td>\n",
       "      <td>XMMXCS J001938.0+033635.3</td>\n",
       "      <td>1.016645</td>\n",
       "      <td>True</td>\n",
       "      <td>False</td>\n",
       "    </tr>\n",
       "    <tr>\n",
       "      <th>5</th>\n",
       "      <td>SDSSXCS-119</td>\n",
       "      <td>119</td>\n",
       "      <td>8.46470</td>\n",
       "      <td>-7.86290</td>\n",
       "      <td>8.471426</td>\n",
       "      <td>-7.869543</td>\n",
       "      <td>0.3042</td>\n",
       "      <td>944.275</td>\n",
       "      <td>46.422</td>\n",
       "      <td>46.747</td>\n",
       "      <td>128.192</td>\n",
       "      <td>5.697</td>\n",
       "      <td>XMMXCS J003351.5-075146.4</td>\n",
       "      <td>1.050926</td>\n",
       "      <td>True</td>\n",
       "      <td>False</td>\n",
       "    </tr>\n",
       "  </tbody>\n",
       "</table>\n",
       "</div>"
      ],
      "text/plain": [
       "           name  MEM_MATCH_ID  xapa_ra  xapa_dec     rm_ra     rm_dec       z  \\\n",
       "0   SDSSXCS-124           124  0.80058  -6.09182  0.798261  -6.091694  0.2475   \n",
       "1  SDSSXCS-2789          2789  0.95554   2.06802  0.956981   2.066469  0.1053   \n",
       "2   SDSSXCS-290           290  2.72264  29.16102  2.714137  29.161154  0.3485   \n",
       "3  SDSSXCS-1018          1018  4.40633  -0.87619  4.406711  -0.878340  0.2144   \n",
       "4   SDSSXCS-134           134  4.90839   3.60982  4.911069   3.599257  0.2773   \n",
       "5   SDSSXCS-119           119  8.46470  -7.86290  8.471426  -7.869543  0.3042   \n",
       "\n",
       "       r500   r500-   r500+  richness  richness_err  \\\n",
       "0  1181.028  21.202  23.203   109.550         4.490   \n",
       "1  1007.861  17.194  17.202    38.904         2.830   \n",
       "2   913.052  30.879  31.210   105.096         5.994   \n",
       "3   902.259  22.445  23.366    56.997         3.219   \n",
       "4  1123.321  19.219  19.226   108.604         4.792   \n",
       "5   944.275  46.422  46.747   128.192         5.697   \n",
       "\n",
       "                    XCS_NAME  R_LAMBDA  xmm_targeted  xmm_serendipitous  \n",
       "0  XMMXCS J000312.1-060530.5  1.018410          True              False  \n",
       "1  XMMXCS J000349.3+020404.8  0.827942          True              False  \n",
       "2  XMMXCS J001053.4+290939.6  1.009990          True              False  \n",
       "3  XMMXCS J001737.5-005234.2  0.893655         False               True  \n",
       "4  XMMXCS J001938.0+033635.3  1.016645          True              False  \n",
       "5  XMMXCS J003351.5-075146.4  1.050926          True              False  "
      ]
     },
     "execution_count": 2,
     "metadata": {},
     "output_type": "execute_result"
    }
   ],
   "source": [
    "sdssxcs_base = pd.read_csv(\"../../sample_files/SDSSRM-XCS_base_sample.csv\")\n",
    "sdssxcs_base.head(6)"
   ]
  },
  {
   "cell_type": "markdown",
   "id": "511f8384-c62d-427c-9123-30bff50a97e0",
   "metadata": {},
   "source": [
    "Calculating E(z) values for these clusters:"
   ]
  },
  {
   "cell_type": "code",
   "execution_count": 3,
   "id": "4329835d-c807-40eb-8e95-821cd25f271d",
   "metadata": {},
   "outputs": [],
   "source": [
    "sdssxcs_base['E'] = xcs_cosmo.efunc(sdssxcs_base['z'].values)"
   ]
  },
  {
   "cell_type": "markdown",
   "id": "ff3aafe4-ce67-4060-b763-d1cee7da6acf",
   "metadata": {},
   "source": [
    "### SDSSRM-XCS $T_{\\rm{X}}$ and $L_{\\rm{X}}$"
   ]
  },
  {
   "cell_type": "code",
   "execution_count": 4,
   "id": "e64a06bb-94ed-4f75-a5d6-e3a063947907",
   "metadata": {},
   "outputs": [
    {
     "data": {
      "text/html": [
       "<div>\n",
       "<style scoped>\n",
       "    .dataframe tbody tr th:only-of-type {\n",
       "        vertical-align: middle;\n",
       "    }\n",
       "\n",
       "    .dataframe tbody tr th {\n",
       "        vertical-align: top;\n",
       "    }\n",
       "\n",
       "    .dataframe thead th {\n",
       "        text-align: right;\n",
       "    }\n",
       "</style>\n",
       "<table border=\"1\" class=\"dataframe\">\n",
       "  <thead>\n",
       "    <tr style=\"text-align: right;\">\n",
       "      <th></th>\n",
       "      <th>name</th>\n",
       "      <th>Tx_500</th>\n",
       "      <th>Tx_500-</th>\n",
       "      <th>Tx_500+</th>\n",
       "      <th>Lx52_500</th>\n",
       "      <th>Lx52_500-</th>\n",
       "      <th>Lx52_500+</th>\n",
       "      <th>Lxbol_500</th>\n",
       "      <th>Lxbol_500-</th>\n",
       "      <th>Lxbol_500+</th>\n",
       "      <th>Tx_2500</th>\n",
       "      <th>Tx_2500-</th>\n",
       "      <th>Tx_2500+</th>\n",
       "      <th>Lx52_2500</th>\n",
       "      <th>Lx52_2500-</th>\n",
       "      <th>Lx52_2500+</th>\n",
       "      <th>Lxbol_2500</th>\n",
       "      <th>Lxbol_2500-</th>\n",
       "      <th>Lxbol_2500+</th>\n",
       "      <th>Tx_500ce</th>\n",
       "      <th>Tx_500ce-</th>\n",
       "      <th>Tx_500ce+</th>\n",
       "      <th>Lx52_500ce</th>\n",
       "      <th>Lx52_500ce-</th>\n",
       "      <th>Lx52_500ce+</th>\n",
       "      <th>Lxbol_500ce</th>\n",
       "      <th>Lxbol_500ce-</th>\n",
       "      <th>Lxbol_500ce+</th>\n",
       "    </tr>\n",
       "  </thead>\n",
       "  <tbody>\n",
       "    <tr>\n",
       "      <th>0</th>\n",
       "      <td>SDSSXCS-124</td>\n",
       "      <td>6.92000</td>\n",
       "      <td>0.116389</td>\n",
       "      <td>0.111642</td>\n",
       "      <td>5.310408e+44</td>\n",
       "      <td>2.494586e+42</td>\n",
       "      <td>3.193270e+42</td>\n",
       "      <td>2.039754e+45</td>\n",
       "      <td>2.082091e+43</td>\n",
       "      <td>1.712354e+43</td>\n",
       "      <td>7.08946</td>\n",
       "      <td>0.097823</td>\n",
       "      <td>0.097929</td>\n",
       "      <td>4.008461e+44</td>\n",
       "      <td>2.163312e+42</td>\n",
       "      <td>1.887667e+42</td>\n",
       "      <td>1.557705e+45</td>\n",
       "      <td>1.278003e+43</td>\n",
       "      <td>1.166420e+43</td>\n",
       "      <td>6.78098</td>\n",
       "      <td>0.134306</td>\n",
       "      <td>0.158223</td>\n",
       "      <td>3.684827e+44</td>\n",
       "      <td>2.702225e+42</td>\n",
       "      <td>2.572964e+42</td>\n",
       "      <td>1.401501e+45</td>\n",
       "      <td>1.425781e+43</td>\n",
       "      <td>1.280567e+43</td>\n",
       "    </tr>\n",
       "    <tr>\n",
       "      <th>1</th>\n",
       "      <td>SDSSXCS-2789</td>\n",
       "      <td>4.54033</td>\n",
       "      <td>0.073600</td>\n",
       "      <td>0.074023</td>\n",
       "      <td>1.029575e+44</td>\n",
       "      <td>5.149604e+41</td>\n",
       "      <td>6.858712e+41</td>\n",
       "      <td>3.213527e+44</td>\n",
       "      <td>3.914562e+42</td>\n",
       "      <td>3.124017e+42</td>\n",
       "      <td>4.44237</td>\n",
       "      <td>0.057404</td>\n",
       "      <td>0.057774</td>\n",
       "      <td>7.125319e+43</td>\n",
       "      <td>4.164749e+41</td>\n",
       "      <td>3.793543e+41</td>\n",
       "      <td>2.201238e+44</td>\n",
       "      <td>1.767406e+42</td>\n",
       "      <td>1.642524e+42</td>\n",
       "      <td>4.65452</td>\n",
       "      <td>0.108600</td>\n",
       "      <td>0.113677</td>\n",
       "      <td>6.943669e+43</td>\n",
       "      <td>6.482835e+41</td>\n",
       "      <td>5.773788e+41</td>\n",
       "      <td>2.192642e+44</td>\n",
       "      <td>2.960496e+42</td>\n",
       "      <td>2.652251e+42</td>\n",
       "    </tr>\n",
       "    <tr>\n",
       "      <th>2</th>\n",
       "      <td>SDSSXCS-290</td>\n",
       "      <td>5.31681</td>\n",
       "      <td>0.297854</td>\n",
       "      <td>0.336308</td>\n",
       "      <td>2.856695e+44</td>\n",
       "      <td>5.917234e+42</td>\n",
       "      <td>7.322989e+42</td>\n",
       "      <td>9.632533e+44</td>\n",
       "      <td>4.005991e+43</td>\n",
       "      <td>3.207763e+43</td>\n",
       "      <td>5.41431</td>\n",
       "      <td>0.259989</td>\n",
       "      <td>0.309605</td>\n",
       "      <td>2.033267e+44</td>\n",
       "      <td>4.662931e+42</td>\n",
       "      <td>4.169953e+42</td>\n",
       "      <td>6.920658e+44</td>\n",
       "      <td>2.211700e+43</td>\n",
       "      <td>1.983518e+43</td>\n",
       "      <td>5.44819</td>\n",
       "      <td>0.407899</td>\n",
       "      <td>0.486340</td>\n",
       "      <td>1.972104e+44</td>\n",
       "      <td>6.434636e+42</td>\n",
       "      <td>6.092122e+42</td>\n",
       "      <td>6.734043e+44</td>\n",
       "      <td>3.038773e+43</td>\n",
       "      <td>2.687861e+43</td>\n",
       "    </tr>\n",
       "    <tr>\n",
       "      <th>3</th>\n",
       "      <td>SDSSXCS-1018</td>\n",
       "      <td>3.90154</td>\n",
       "      <td>0.143544</td>\n",
       "      <td>0.151498</td>\n",
       "      <td>8.044819e+43</td>\n",
       "      <td>1.441322e+42</td>\n",
       "      <td>9.241468e+41</td>\n",
       "      <td>2.335851e+44</td>\n",
       "      <td>6.385493e+42</td>\n",
       "      <td>4.924304e+42</td>\n",
       "      <td>4.09555</td>\n",
       "      <td>0.108381</td>\n",
       "      <td>0.115430</td>\n",
       "      <td>6.395952e+43</td>\n",
       "      <td>8.467201e+41</td>\n",
       "      <td>7.602523e+41</td>\n",
       "      <td>1.899850e+44</td>\n",
       "      <td>3.436098e+42</td>\n",
       "      <td>3.542190e+42</td>\n",
       "      <td>3.93098</td>\n",
       "      <td>0.207281</td>\n",
       "      <td>0.230478</td>\n",
       "      <td>5.048987e+43</td>\n",
       "      <td>1.253282e+42</td>\n",
       "      <td>1.066663e+42</td>\n",
       "      <td>1.471118e+44</td>\n",
       "      <td>5.740520e+42</td>\n",
       "      <td>4.871391e+42</td>\n",
       "    </tr>\n",
       "    <tr>\n",
       "      <th>4</th>\n",
       "      <td>SDSSXCS-134</td>\n",
       "      <td>6.72622</td>\n",
       "      <td>0.116523</td>\n",
       "      <td>0.116565</td>\n",
       "      <td>4.811899e+44</td>\n",
       "      <td>2.458557e+42</td>\n",
       "      <td>3.050440e+42</td>\n",
       "      <td>1.825296e+45</td>\n",
       "      <td>2.068757e+43</td>\n",
       "      <td>1.639058e+43</td>\n",
       "      <td>7.04643</td>\n",
       "      <td>0.104430</td>\n",
       "      <td>0.104760</td>\n",
       "      <td>3.813160e+44</td>\n",
       "      <td>2.170963e+42</td>\n",
       "      <td>1.872005e+42</td>\n",
       "      <td>1.479760e+45</td>\n",
       "      <td>1.263153e+43</td>\n",
       "      <td>1.208755e+43</td>\n",
       "      <td>6.37686</td>\n",
       "      <td>0.135837</td>\n",
       "      <td>0.153820</td>\n",
       "      <td>3.447715e+44</td>\n",
       "      <td>2.713877e+42</td>\n",
       "      <td>2.497416e+42</td>\n",
       "      <td>1.273855e+45</td>\n",
       "      <td>1.415497e+43</td>\n",
       "      <td>1.228583e+43</td>\n",
       "    </tr>\n",
       "    <tr>\n",
       "      <th>5</th>\n",
       "      <td>SDSSXCS-119</td>\n",
       "      <td>4.93456</td>\n",
       "      <td>0.400268</td>\n",
       "      <td>0.456173</td>\n",
       "      <td>2.049789e+44</td>\n",
       "      <td>5.182032e+42</td>\n",
       "      <td>6.885075e+42</td>\n",
       "      <td>6.654626e+44</td>\n",
       "      <td>4.141700e+43</td>\n",
       "      <td>3.282061e+43</td>\n",
       "      <td>5.41255</td>\n",
       "      <td>0.397709</td>\n",
       "      <td>0.448294</td>\n",
       "      <td>1.239172e+44</td>\n",
       "      <td>3.785057e+42</td>\n",
       "      <td>3.735144e+42</td>\n",
       "      <td>4.215892e+44</td>\n",
       "      <td>2.155310e+43</td>\n",
       "      <td>1.870703e+43</td>\n",
       "      <td>4.91222</td>\n",
       "      <td>0.432241</td>\n",
       "      <td>0.503558</td>\n",
       "      <td>1.821676e+44</td>\n",
       "      <td>5.522211e+42</td>\n",
       "      <td>5.714386e+42</td>\n",
       "      <td>5.900648e+44</td>\n",
       "      <td>3.822404e+43</td>\n",
       "      <td>2.772960e+43</td>\n",
       "    </tr>\n",
       "  </tbody>\n",
       "</table>\n",
       "</div>"
      ],
      "text/plain": [
       "           name   Tx_500   Tx_500-   Tx_500+      Lx52_500     Lx52_500-  \\\n",
       "0   SDSSXCS-124  6.92000  0.116389  0.111642  5.310408e+44  2.494586e+42   \n",
       "1  SDSSXCS-2789  4.54033  0.073600  0.074023  1.029575e+44  5.149604e+41   \n",
       "2   SDSSXCS-290  5.31681  0.297854  0.336308  2.856695e+44  5.917234e+42   \n",
       "3  SDSSXCS-1018  3.90154  0.143544  0.151498  8.044819e+43  1.441322e+42   \n",
       "4   SDSSXCS-134  6.72622  0.116523  0.116565  4.811899e+44  2.458557e+42   \n",
       "5   SDSSXCS-119  4.93456  0.400268  0.456173  2.049789e+44  5.182032e+42   \n",
       "\n",
       "      Lx52_500+     Lxbol_500    Lxbol_500-    Lxbol_500+  Tx_2500  Tx_2500-  \\\n",
       "0  3.193270e+42  2.039754e+45  2.082091e+43  1.712354e+43  7.08946  0.097823   \n",
       "1  6.858712e+41  3.213527e+44  3.914562e+42  3.124017e+42  4.44237  0.057404   \n",
       "2  7.322989e+42  9.632533e+44  4.005991e+43  3.207763e+43  5.41431  0.259989   \n",
       "3  9.241468e+41  2.335851e+44  6.385493e+42  4.924304e+42  4.09555  0.108381   \n",
       "4  3.050440e+42  1.825296e+45  2.068757e+43  1.639058e+43  7.04643  0.104430   \n",
       "5  6.885075e+42  6.654626e+44  4.141700e+43  3.282061e+43  5.41255  0.397709   \n",
       "\n",
       "   Tx_2500+     Lx52_2500    Lx52_2500-    Lx52_2500+    Lxbol_2500  \\\n",
       "0  0.097929  4.008461e+44  2.163312e+42  1.887667e+42  1.557705e+45   \n",
       "1  0.057774  7.125319e+43  4.164749e+41  3.793543e+41  2.201238e+44   \n",
       "2  0.309605  2.033267e+44  4.662931e+42  4.169953e+42  6.920658e+44   \n",
       "3  0.115430  6.395952e+43  8.467201e+41  7.602523e+41  1.899850e+44   \n",
       "4  0.104760  3.813160e+44  2.170963e+42  1.872005e+42  1.479760e+45   \n",
       "5  0.448294  1.239172e+44  3.785057e+42  3.735144e+42  4.215892e+44   \n",
       "\n",
       "    Lxbol_2500-   Lxbol_2500+  Tx_500ce  Tx_500ce-  Tx_500ce+    Lx52_500ce  \\\n",
       "0  1.278003e+43  1.166420e+43   6.78098   0.134306   0.158223  3.684827e+44   \n",
       "1  1.767406e+42  1.642524e+42   4.65452   0.108600   0.113677  6.943669e+43   \n",
       "2  2.211700e+43  1.983518e+43   5.44819   0.407899   0.486340  1.972104e+44   \n",
       "3  3.436098e+42  3.542190e+42   3.93098   0.207281   0.230478  5.048987e+43   \n",
       "4  1.263153e+43  1.208755e+43   6.37686   0.135837   0.153820  3.447715e+44   \n",
       "5  2.155310e+43  1.870703e+43   4.91222   0.432241   0.503558  1.821676e+44   \n",
       "\n",
       "    Lx52_500ce-   Lx52_500ce+   Lxbol_500ce  Lxbol_500ce-  Lxbol_500ce+  \n",
       "0  2.702225e+42  2.572964e+42  1.401501e+45  1.425781e+43  1.280567e+43  \n",
       "1  6.482835e+41  5.773788e+41  2.192642e+44  2.960496e+42  2.652251e+42  \n",
       "2  6.434636e+42  6.092122e+42  6.734043e+44  3.038773e+43  2.687861e+43  \n",
       "3  1.253282e+42  1.066663e+42  1.471118e+44  5.740520e+42  4.871391e+42  \n",
       "4  2.713877e+42  2.497416e+42  1.273855e+45  1.415497e+43  1.228583e+43  \n",
       "5  5.522211e+42  5.714386e+42  5.900648e+44  3.822404e+43  2.772960e+43  "
      ]
     },
     "execution_count": 4,
     "metadata": {},
     "output_type": "execute_result"
    }
   ],
   "source": [
    "sdssxcs_txlx = pd.read_csv(\"../../sample_files/paper_one_results/sdssrm-xcs_txlx_v1.0.0.csv\")\n",
    "sdssxcs_txlx.head(6)"
   ]
  },
  {
   "cell_type": "markdown",
   "id": "b3aa002a-0b64-4485-80db-4a7c05c9297b",
   "metadata": {},
   "source": [
    "### SDSSRM-XCS masses"
   ]
  },
  {
   "cell_type": "code",
   "execution_count": 5,
   "id": "586b0c3a-9163-49f1-af04-7afaeee247cf",
   "metadata": {},
   "outputs": [
    {
     "data": {
      "text/html": [
       "<div>\n",
       "<style scoped>\n",
       "    .dataframe tbody tr th:only-of-type {\n",
       "        vertical-align: middle;\n",
       "    }\n",
       "\n",
       "    .dataframe tbody tr th {\n",
       "        vertical-align: top;\n",
       "    }\n",
       "\n",
       "    .dataframe thead th {\n",
       "        text-align: right;\n",
       "    }\n",
       "</style>\n",
       "<table border=\"1\" class=\"dataframe\">\n",
       "  <thead>\n",
       "    <tr style=\"text-align: right;\">\n",
       "      <th></th>\n",
       "      <th>name</th>\n",
       "      <th>Mhy500</th>\n",
       "      <th>Mhy500-</th>\n",
       "      <th>Mhy500+</th>\n",
       "      <th>Mg500</th>\n",
       "      <th>Mg500-</th>\n",
       "      <th>Mg500+</th>\n",
       "      <th>Mhy2500</th>\n",
       "      <th>Mhy2500-</th>\n",
       "      <th>Mhy2500+</th>\n",
       "      <th>Mg2500</th>\n",
       "      <th>Mg2500-</th>\n",
       "      <th>Mg2500+</th>\n",
       "      <th>Mhy500_wraderr</th>\n",
       "      <th>Mhy500_wraderr-</th>\n",
       "      <th>Mhy500_wraderr+</th>\n",
       "      <th>Mg500_wraderr</th>\n",
       "      <th>Mg500_wraderr-</th>\n",
       "      <th>Mg500_wraderr+</th>\n",
       "      <th>Mhy2500_wraderr</th>\n",
       "      <th>Mhy2500_wraderr-</th>\n",
       "      <th>Mhy2500_wraderr+</th>\n",
       "      <th>Mg2500_wraderr</th>\n",
       "      <th>Mg2500_wraderr-</th>\n",
       "      <th>Mg2500_wraderr+</th>\n",
       "    </tr>\n",
       "  </thead>\n",
       "  <tbody>\n",
       "    <tr>\n",
       "      <th>0</th>\n",
       "      <td>SDSSXCS-124</td>\n",
       "      <td>7.634491</td>\n",
       "      <td>1.286289</td>\n",
       "      <td>1.029318</td>\n",
       "      <td>0.869914</td>\n",
       "      <td>0.002841</td>\n",
       "      <td>0.005951</td>\n",
       "      <td>2.621329</td>\n",
       "      <td>0.112240</td>\n",
       "      <td>0.137975</td>\n",
       "      <td>0.321744</td>\n",
       "      <td>0.000722</td>\n",
       "      <td>0.000734</td>\n",
       "      <td>7.635562</td>\n",
       "      <td>1.285474</td>\n",
       "      <td>1.041261</td>\n",
       "      <td>0.870390</td>\n",
       "      <td>0.015662</td>\n",
       "      <td>0.016223</td>\n",
       "      <td>2.621462</td>\n",
       "      <td>0.113380</td>\n",
       "      <td>0.138668</td>\n",
       "      <td>0.321697</td>\n",
       "      <td>0.007076</td>\n",
       "      <td>0.007250</td>\n",
       "    </tr>\n",
       "    <tr>\n",
       "      <th>1</th>\n",
       "      <td>SDSSXCS-2789</td>\n",
       "      <td>7.820374</td>\n",
       "      <td>1.259755</td>\n",
       "      <td>1.447212</td>\n",
       "      <td>0.218603</td>\n",
       "      <td>0.002491</td>\n",
       "      <td>0.002496</td>\n",
       "      <td>1.602926</td>\n",
       "      <td>0.101929</td>\n",
       "      <td>0.109311</td>\n",
       "      <td>0.097414</td>\n",
       "      <td>0.000324</td>\n",
       "      <td>0.000329</td>\n",
       "      <td>7.823912</td>\n",
       "      <td>1.268244</td>\n",
       "      <td>1.456225</td>\n",
       "      <td>0.218499</td>\n",
       "      <td>0.002874</td>\n",
       "      <td>0.002963</td>\n",
       "      <td>1.602810</td>\n",
       "      <td>0.102195</td>\n",
       "      <td>0.110153</td>\n",
       "      <td>0.097399</td>\n",
       "      <td>0.001819</td>\n",
       "      <td>0.001737</td>\n",
       "    </tr>\n",
       "    <tr>\n",
       "      <th>2</th>\n",
       "      <td>SDSSXCS-290</td>\n",
       "      <td>2.961604</td>\n",
       "      <td>0.369827</td>\n",
       "      <td>0.382523</td>\n",
       "      <td>0.427969</td>\n",
       "      <td>0.002132</td>\n",
       "      <td>0.002098</td>\n",
       "      <td>1.467429</td>\n",
       "      <td>0.175603</td>\n",
       "      <td>0.290465</td>\n",
       "      <td>0.134154</td>\n",
       "      <td>0.000759</td>\n",
       "      <td>0.000773</td>\n",
       "      <td>2.959792</td>\n",
       "      <td>0.390293</td>\n",
       "      <td>0.420849</td>\n",
       "      <td>0.427478</td>\n",
       "      <td>0.019454</td>\n",
       "      <td>0.019887</td>\n",
       "      <td>1.469441</td>\n",
       "      <td>0.177871</td>\n",
       "      <td>0.288247</td>\n",
       "      <td>0.134133</td>\n",
       "      <td>0.005839</td>\n",
       "      <td>0.005993</td>\n",
       "    </tr>\n",
       "    <tr>\n",
       "      <th>3</th>\n",
       "      <td>SDSSXCS-1018</td>\n",
       "      <td>5.067958</td>\n",
       "      <td>1.015270</td>\n",
       "      <td>0.969362</td>\n",
       "      <td>0.210208</td>\n",
       "      <td>0.001929</td>\n",
       "      <td>0.001917</td>\n",
       "      <td>1.128892</td>\n",
       "      <td>0.103503</td>\n",
       "      <td>0.149913</td>\n",
       "      <td>0.084371</td>\n",
       "      <td>0.000350</td>\n",
       "      <td>0.000359</td>\n",
       "      <td>5.072697</td>\n",
       "      <td>1.030805</td>\n",
       "      <td>0.973924</td>\n",
       "      <td>0.210059</td>\n",
       "      <td>0.003374</td>\n",
       "      <td>0.003431</td>\n",
       "      <td>1.128619</td>\n",
       "      <td>0.104011</td>\n",
       "      <td>0.149860</td>\n",
       "      <td>0.084350</td>\n",
       "      <td>0.002327</td>\n",
       "      <td>0.002330</td>\n",
       "    </tr>\n",
       "    <tr>\n",
       "      <th>4</th>\n",
       "      <td>SDSSXCS-134</td>\n",
       "      <td>6.802619</td>\n",
       "      <td>0.782566</td>\n",
       "      <td>0.772819</td>\n",
       "      <td>0.767290</td>\n",
       "      <td>0.002149</td>\n",
       "      <td>0.002170</td>\n",
       "      <td>3.043225</td>\n",
       "      <td>0.113304</td>\n",
       "      <td>0.110341</td>\n",
       "      <td>0.313945</td>\n",
       "      <td>0.000359</td>\n",
       "      <td>0.000367</td>\n",
       "      <td>6.803511</td>\n",
       "      <td>0.788996</td>\n",
       "      <td>0.781372</td>\n",
       "      <td>0.767157</td>\n",
       "      <td>0.010866</td>\n",
       "      <td>0.010814</td>\n",
       "      <td>3.042067</td>\n",
       "      <td>0.125878</td>\n",
       "      <td>0.124549</td>\n",
       "      <td>0.313911</td>\n",
       "      <td>0.007265</td>\n",
       "      <td>0.007068</td>\n",
       "    </tr>\n",
       "    <tr>\n",
       "      <th>5</th>\n",
       "      <td>SDSSXCS-119</td>\n",
       "      <td>NaN</td>\n",
       "      <td>NaN</td>\n",
       "      <td>NaN</td>\n",
       "      <td>NaN</td>\n",
       "      <td>NaN</td>\n",
       "      <td>NaN</td>\n",
       "      <td>NaN</td>\n",
       "      <td>NaN</td>\n",
       "      <td>NaN</td>\n",
       "      <td>NaN</td>\n",
       "      <td>NaN</td>\n",
       "      <td>NaN</td>\n",
       "      <td>NaN</td>\n",
       "      <td>NaN</td>\n",
       "      <td>NaN</td>\n",
       "      <td>NaN</td>\n",
       "      <td>NaN</td>\n",
       "      <td>NaN</td>\n",
       "      <td>NaN</td>\n",
       "      <td>NaN</td>\n",
       "      <td>NaN</td>\n",
       "      <td>NaN</td>\n",
       "      <td>NaN</td>\n",
       "      <td>NaN</td>\n",
       "    </tr>\n",
       "  </tbody>\n",
       "</table>\n",
       "</div>"
      ],
      "text/plain": [
       "           name    Mhy500   Mhy500-   Mhy500+     Mg500    Mg500-    Mg500+  \\\n",
       "0   SDSSXCS-124  7.634491  1.286289  1.029318  0.869914  0.002841  0.005951   \n",
       "1  SDSSXCS-2789  7.820374  1.259755  1.447212  0.218603  0.002491  0.002496   \n",
       "2   SDSSXCS-290  2.961604  0.369827  0.382523  0.427969  0.002132  0.002098   \n",
       "3  SDSSXCS-1018  5.067958  1.015270  0.969362  0.210208  0.001929  0.001917   \n",
       "4   SDSSXCS-134  6.802619  0.782566  0.772819  0.767290  0.002149  0.002170   \n",
       "5   SDSSXCS-119       NaN       NaN       NaN       NaN       NaN       NaN   \n",
       "\n",
       "    Mhy2500  Mhy2500-  Mhy2500+    Mg2500   Mg2500-   Mg2500+  Mhy500_wraderr  \\\n",
       "0  2.621329  0.112240  0.137975  0.321744  0.000722  0.000734        7.635562   \n",
       "1  1.602926  0.101929  0.109311  0.097414  0.000324  0.000329        7.823912   \n",
       "2  1.467429  0.175603  0.290465  0.134154  0.000759  0.000773        2.959792   \n",
       "3  1.128892  0.103503  0.149913  0.084371  0.000350  0.000359        5.072697   \n",
       "4  3.043225  0.113304  0.110341  0.313945  0.000359  0.000367        6.803511   \n",
       "5       NaN       NaN       NaN       NaN       NaN       NaN             NaN   \n",
       "\n",
       "   Mhy500_wraderr-  Mhy500_wraderr+  Mg500_wraderr  Mg500_wraderr-  \\\n",
       "0         1.285474         1.041261       0.870390        0.015662   \n",
       "1         1.268244         1.456225       0.218499        0.002874   \n",
       "2         0.390293         0.420849       0.427478        0.019454   \n",
       "3         1.030805         0.973924       0.210059        0.003374   \n",
       "4         0.788996         0.781372       0.767157        0.010866   \n",
       "5              NaN              NaN            NaN             NaN   \n",
       "\n",
       "   Mg500_wraderr+  Mhy2500_wraderr  Mhy2500_wraderr-  Mhy2500_wraderr+  \\\n",
       "0        0.016223         2.621462          0.113380          0.138668   \n",
       "1        0.002963         1.602810          0.102195          0.110153   \n",
       "2        0.019887         1.469441          0.177871          0.288247   \n",
       "3        0.003431         1.128619          0.104011          0.149860   \n",
       "4        0.010814         3.042067          0.125878          0.124549   \n",
       "5             NaN              NaN               NaN               NaN   \n",
       "\n",
       "   Mg2500_wraderr  Mg2500_wraderr-  Mg2500_wraderr+  \n",
       "0        0.321697         0.007076         0.007250  \n",
       "1        0.097399         0.001819         0.001737  \n",
       "2        0.134133         0.005839         0.005993  \n",
       "3        0.084350         0.002327         0.002330  \n",
       "4        0.313911         0.007265         0.007068  \n",
       "5             NaN              NaN              NaN  "
      ]
     },
     "execution_count": 5,
     "metadata": {},
     "output_type": "execute_result"
    }
   ],
   "source": [
    "sdssxcs_mass = pd.read_csv(\"../../sample_files/paper_one_results/sdssrm-xcs_mass_v1.0.0.csv\")\n",
    "sdssxcs_mass.head(6)"
   ]
  },
  {
   "cell_type": "markdown",
   "id": "0492b9b1-6e41-489b-acdb-4b0524166a47",
   "metadata": {},
   "source": [
    "### Combining tables"
   ]
  },
  {
   "cell_type": "code",
   "execution_count": 6,
   "id": "3ec7a04e-eff4-4dff-b599-3c6c653a033c",
   "metadata": {},
   "outputs": [],
   "source": [
    "sdssxcs_samp = pd.merge(sdssxcs_base, sdssxcs_txlx, left_on='name', right_on='name', how='outer')\n",
    "sdssxcs_samp = pd.merge(sdssxcs_samp, sdssxcs_mass, left_on='name', right_on='name', how='outer')"
   ]
  },
  {
   "cell_type": "markdown",
   "id": "495007b0-a500-4773-ac2b-0f02454cb7c9",
   "metadata": {},
   "source": [
    "### $M^{\\rm{tot}}_{500}$-$M^{\\rm{gas}}_{500}$"
   ]
  },
  {
   "cell_type": "code",
   "execution_count": 7,
   "id": "591fc5e2-ab36-4501-8c3b-abecc13eac90",
   "metadata": {},
   "outputs": [],
   "source": [
    "with open('../../outputs/scaling_relations/sdssrm-xcs_new/mtot-mgas/turner2025_mtot500_mgas500.xgarel', 'rb') as scalo:\n",
    "    mtot500_mgas500 = pickle.load(scalo)"
   ]
  },
  {
   "cell_type": "markdown",
   "id": "1cc7b0c7-76a8-4e11-9160-097a7ce6777f",
   "metadata": {},
   "source": [
    "### $M^{\\rm{tot}}_{2500}$-$M^{\\rm{gas}}_{2500}$"
   ]
  },
  {
   "cell_type": "code",
   "execution_count": 8,
   "id": "01c7d6f4-72cc-46ca-b0f5-7bf93e9472db",
   "metadata": {},
   "outputs": [],
   "source": [
    "with open('../../outputs/scaling_relations/sdssrm-xcs_new/mtot-mgas/turner2025_mtot2500_mgas2500.xgarel', 'rb') as scalo:\n",
    "    mtot2500_mgas2500 = pickle.load(scalo)"
   ]
  },
  {
   "cell_type": "markdown",
   "id": "3bddc514-b130-4ec5-b4ae-2ae592584a80",
   "metadata": {},
   "source": [
    "## Searching for scatter-dominating-clusters using \"leave-one-out\" jack-knifing"
   ]
  },
  {
   "cell_type": "markdown",
   "id": "d774e8c1-81af-484d-bc27-bc78ccd7a680",
   "metadata": {},
   "source": [
    "The goal of this notebook is to measure a set of jackknifed scaling relations - this will be achieved by iteratively excluding every single cluster from the sample, one at a time, and fitting those sub-samples in the same was as the original scaling relation  - any large changes in normalisation, slope, or scatter (from the original values measured with whole sample, and from each other) of these relations will help to inform us which clusters (if any) are the dominant source of overall scatter in the relations."
   ]
  },
  {
   "cell_type": "markdown",
   "id": "e942829f-cbbd-4de8-a2e1-66a0b2828d90",
   "metadata": {},
   "source": [
    "### Setting up input samples"
   ]
  },
  {
   "cell_type": "markdown",
   "id": "4767e5b4-24a3-4570-8a72-c6f8a7ed4f2d",
   "metadata": {},
   "source": [
    "We want to make sure we're only using the clusters which have measurements of the properties we're interested in - **104** of the sample have an $M^{\\rm{tot}}_{500}$ measurement, and **91** have a $M^{\\rm{tot}}_{2500}$ measurement, for instance. To make this more sample selection more generally useful, as it will be used in other jack-knifing notebooks, we use $M_{\\rm{gas}}$ measurements as the test for whether a cluster will be included in a particular sample or not."
   ]
  },
  {
   "cell_type": "markdown",
   "id": "f75b2f4d-e018-4ba0-a5a3-3b6932f9355a",
   "metadata": {},
   "source": [
    "#### Clusters with $R_{500}$ properties"
   ]
  },
  {
   "cell_type": "code",
   "execution_count": 9,
   "id": "2f6f6b47-fcce-43fe-a469-9ef5cd807132",
   "metadata": {},
   "outputs": [],
   "source": [
    "# This is the set of SDSSRM-XCS clusters with R500 gas masses - there will not be a hydrostatic mass if there is no gas mass, and\n",
    "#  we will be using at least one type of mass in all the scaling relations we're assessing\n",
    "sdssxcs_samp_with_gm500 = sdssxcs_samp[np.isfinite(sdssxcs_samp['Mg500_wraderr'])]"
   ]
  },
  {
   "cell_type": "markdown",
   "id": "9953d65d-f94c-4344-b043-b7ff3d01c7c6",
   "metadata": {},
   "source": [
    "#### Clusters with $R_{2500}$ properties"
   ]
  },
  {
   "cell_type": "code",
   "execution_count": 10,
   "id": "0b5fa9b6-79fc-4813-9025-3d0bdf662e9f",
   "metadata": {},
   "outputs": [],
   "source": [
    "# This is the set of SDSSRM-XCS clusters with R2500 gas masses - there will not be a hydrostatic mass if there is no gas mass, and\n",
    "#  we will be using at least one type of mass in all the scaling relations we're assessing\n",
    "sdssxcs_samp_with_gm2500 = sdssxcs_samp[np.isfinite(sdssxcs_samp['Mg2500_wraderr'])]"
   ]
  },
  {
   "cell_type": "markdown",
   "id": "2fe0027c-b92f-4e22-a7a0-76fa88cef279",
   "metadata": {},
   "source": [
    "### Assessing the $M^{\\rm{tot}}_{500}$-$M^{\\rm{gas}}_{500}$ relation"
   ]
  },
  {
   "cell_type": "code",
   "execution_count": 11,
   "id": "8b675523-6d82-4070-aef9-07a9e54d30bd",
   "metadata": {},
   "outputs": [
    {
     "name": "stderr",
     "output_type": "stream",
     "text": [
      "Fitting sub-sample scaling relations:   0%|                                           | 0/104 [00:00<?, ?it/s]R[write to console]: module mix loaded\n",
      "\n"
     ]
    },
    {
     "name": "stdout",
     "output_type": "stream",
     "text": [
      "  |**************************************************| 100%\n"
     ]
    },
    {
     "name": "stderr",
     "output_type": "stream",
     "text": [
      "Fitting sub-sample scaling relations:   1%|▎                                  | 1/104 [00:32<55:43, 32.46s/it]"
     ]
    },
    {
     "name": "stdout",
     "output_type": "stream",
     "text": [
      "  |**************************************************| 100%\n"
     ]
    },
    {
     "name": "stderr",
     "output_type": "stream",
     "text": [
      "Fitting sub-sample scaling relations:   2%|▋                                  | 2/104 [01:03<53:22, 31.40s/it]"
     ]
    },
    {
     "name": "stdout",
     "output_type": "stream",
     "text": [
      "  |**************************************************| 100%\n"
     ]
    },
    {
     "name": "stderr",
     "output_type": "stream",
     "text": [
      "Fitting sub-sample scaling relations:   3%|█                                  | 3/104 [01:34<52:54, 31.43s/it]"
     ]
    },
    {
     "name": "stdout",
     "output_type": "stream",
     "text": [
      "  |**************************************************| 100%\n"
     ]
    },
    {
     "name": "stderr",
     "output_type": "stream",
     "text": [
      "Fitting sub-sample scaling relations:   4%|█▎                                 | 4/104 [02:05<52:20, 31.41s/it]"
     ]
    },
    {
     "name": "stdout",
     "output_type": "stream",
     "text": [
      "  |**************************************************| 100%\n"
     ]
    },
    {
     "name": "stderr",
     "output_type": "stream",
     "text": [
      "Fitting sub-sample scaling relations:   5%|█▋                                 | 5/104 [02:36<51:25, 31.17s/it]"
     ]
    },
    {
     "name": "stdout",
     "output_type": "stream",
     "text": [
      "  |**************************************************| 100%\n"
     ]
    },
    {
     "name": "stderr",
     "output_type": "stream",
     "text": [
      "Fitting sub-sample scaling relations:   6%|██                                 | 6/104 [03:08<51:30, 31.53s/it]"
     ]
    },
    {
     "name": "stdout",
     "output_type": "stream",
     "text": [
      "  |**************************************************| 100%\n"
     ]
    },
    {
     "name": "stderr",
     "output_type": "stream",
     "text": [
      "Fitting sub-sample scaling relations:   7%|██▎                                | 7/104 [03:41<51:21, 31.77s/it]"
     ]
    },
    {
     "name": "stdout",
     "output_type": "stream",
     "text": [
      "  |**************************************************| 100%\n"
     ]
    },
    {
     "name": "stderr",
     "output_type": "stream",
     "text": [
      "Fitting sub-sample scaling relations:   8%|██▋                                | 8/104 [04:13<50:55, 31.83s/it]"
     ]
    },
    {
     "name": "stdout",
     "output_type": "stream",
     "text": [
      "  |**************************************************| 100%\n"
     ]
    },
    {
     "name": "stderr",
     "output_type": "stream",
     "text": [
      "Fitting sub-sample scaling relations:   9%|███                                | 9/104 [04:44<50:18, 31.78s/it]"
     ]
    },
    {
     "name": "stdout",
     "output_type": "stream",
     "text": [
      "  |**************************************************| 100%\n"
     ]
    },
    {
     "name": "stderr",
     "output_type": "stream",
     "text": [
      "Fitting sub-sample scaling relations:  10%|███▎                              | 10/104 [05:16<49:36, 31.67s/it]"
     ]
    },
    {
     "name": "stdout",
     "output_type": "stream",
     "text": [
      "  |**************************************************| 100%\n"
     ]
    },
    {
     "name": "stderr",
     "output_type": "stream",
     "text": [
      "Fitting sub-sample scaling relations:  11%|███▌                              | 11/104 [05:47<49:06, 31.68s/it]"
     ]
    },
    {
     "name": "stdout",
     "output_type": "stream",
     "text": [
      "  |**************************************************| 100%\n"
     ]
    },
    {
     "name": "stderr",
     "output_type": "stream",
     "text": [
      "Fitting sub-sample scaling relations:  12%|███▉                              | 12/104 [06:19<48:33, 31.66s/it]"
     ]
    },
    {
     "name": "stdout",
     "output_type": "stream",
     "text": [
      "  |**************************************************| 100%\n"
     ]
    },
    {
     "name": "stderr",
     "output_type": "stream",
     "text": [
      "Fitting sub-sample scaling relations:  12%|████▎                             | 13/104 [06:51<48:07, 31.73s/it]"
     ]
    },
    {
     "name": "stdout",
     "output_type": "stream",
     "text": [
      "  |**************************************************| 100%\n"
     ]
    },
    {
     "name": "stderr",
     "output_type": "stream",
     "text": [
      "Fitting sub-sample scaling relations:  13%|████▌                             | 14/104 [07:22<47:15, 31.51s/it]"
     ]
    },
    {
     "name": "stdout",
     "output_type": "stream",
     "text": [
      "  |**************************************************| 100%\n"
     ]
    },
    {
     "name": "stderr",
     "output_type": "stream",
     "text": [
      "Fitting sub-sample scaling relations:  14%|████▉                             | 15/104 [07:54<46:59, 31.68s/it]"
     ]
    },
    {
     "name": "stdout",
     "output_type": "stream",
     "text": [
      "  |**************************************************| 100%\n"
     ]
    },
    {
     "name": "stderr",
     "output_type": "stream",
     "text": [
      "Fitting sub-sample scaling relations:  15%|█████▏                            | 16/104 [08:26<46:24, 31.65s/it]"
     ]
    },
    {
     "name": "stdout",
     "output_type": "stream",
     "text": [
      "  |**************************************************| 100%\n"
     ]
    },
    {
     "name": "stderr",
     "output_type": "stream",
     "text": [
      "Fitting sub-sample scaling relations:  16%|█████▌                            | 17/104 [08:58<46:08, 31.82s/it]"
     ]
    },
    {
     "name": "stdout",
     "output_type": "stream",
     "text": [
      "  |**************************************************| 100%\n"
     ]
    },
    {
     "name": "stderr",
     "output_type": "stream",
     "text": [
      "Fitting sub-sample scaling relations:  17%|█████▉                            | 18/104 [09:30<45:51, 32.00s/it]"
     ]
    },
    {
     "name": "stdout",
     "output_type": "stream",
     "text": [
      "  |**************************************************| 100%\n"
     ]
    },
    {
     "name": "stderr",
     "output_type": "stream",
     "text": [
      "Fitting sub-sample scaling relations:  18%|██████▏                           | 19/104 [10:02<45:18, 31.98s/it]"
     ]
    },
    {
     "name": "stdout",
     "output_type": "stream",
     "text": [
      "  |**************************************************| 100%\n"
     ]
    },
    {
     "name": "stderr",
     "output_type": "stream",
     "text": [
      "Fitting sub-sample scaling relations:  19%|██████▌                           | 20/104 [10:34<44:42, 31.94s/it]"
     ]
    },
    {
     "name": "stdout",
     "output_type": "stream",
     "text": [
      "  |**************************************************| 100%\n"
     ]
    },
    {
     "name": "stderr",
     "output_type": "stream",
     "text": [
      "Fitting sub-sample scaling relations:  20%|██████▊                           | 21/104 [11:05<43:59, 31.80s/it]"
     ]
    },
    {
     "name": "stdout",
     "output_type": "stream",
     "text": [
      "  |**************************************************| 100%\n"
     ]
    },
    {
     "name": "stderr",
     "output_type": "stream",
     "text": [
      "Fitting sub-sample scaling relations:  21%|███████▏                          | 22/104 [11:37<43:21, 31.72s/it]"
     ]
    },
    {
     "name": "stdout",
     "output_type": "stream",
     "text": [
      "  |**************************************************| 100%\n"
     ]
    },
    {
     "name": "stderr",
     "output_type": "stream",
     "text": [
      "Fitting sub-sample scaling relations:  22%|███████▌                          | 23/104 [12:09<42:56, 31.81s/it]"
     ]
    },
    {
     "name": "stdout",
     "output_type": "stream",
     "text": [
      "  |**************************************************| 100%\n"
     ]
    },
    {
     "name": "stderr",
     "output_type": "stream",
     "text": [
      "Fitting sub-sample scaling relations:  23%|███████▊                          | 24/104 [12:41<42:26, 31.84s/it]"
     ]
    },
    {
     "name": "stdout",
     "output_type": "stream",
     "text": [
      "  |**************************************************| 100%\n"
     ]
    },
    {
     "name": "stderr",
     "output_type": "stream",
     "text": [
      "Fitting sub-sample scaling relations:  24%|████████▏                         | 25/104 [13:13<41:59, 31.90s/it]"
     ]
    },
    {
     "name": "stdout",
     "output_type": "stream",
     "text": [
      "  |**************************************************| 100%\n"
     ]
    },
    {
     "name": "stderr",
     "output_type": "stream",
     "text": [
      "Fitting sub-sample scaling relations:  25%|████████▌                         | 26/104 [13:45<41:29, 31.92s/it]"
     ]
    },
    {
     "name": "stdout",
     "output_type": "stream",
     "text": [
      "  |**************************************************| 100%\n"
     ]
    },
    {
     "name": "stderr",
     "output_type": "stream",
     "text": [
      "Fitting sub-sample scaling relations:  26%|████████▊                         | 27/104 [14:16<40:46, 31.77s/it]"
     ]
    },
    {
     "name": "stdout",
     "output_type": "stream",
     "text": [
      "  |**************************************************| 100%\n"
     ]
    },
    {
     "name": "stderr",
     "output_type": "stream",
     "text": [
      "Fitting sub-sample scaling relations:  27%|█████████▏                        | 28/104 [14:49<40:36, 32.06s/it]"
     ]
    },
    {
     "name": "stdout",
     "output_type": "stream",
     "text": [
      "  |**************************************************| 100%\n"
     ]
    },
    {
     "name": "stderr",
     "output_type": "stream",
     "text": [
      "Fitting sub-sample scaling relations:  28%|█████████▍                        | 29/104 [15:21<40:09, 32.13s/it]"
     ]
    },
    {
     "name": "stdout",
     "output_type": "stream",
     "text": [
      "  |**************************************************| 100%\n"
     ]
    },
    {
     "name": "stderr",
     "output_type": "stream",
     "text": [
      "Fitting sub-sample scaling relations:  29%|█████████▊                        | 30/104 [15:53<39:23, 31.94s/it]"
     ]
    },
    {
     "name": "stdout",
     "output_type": "stream",
     "text": [
      "  |**************************************************| 100%\n"
     ]
    },
    {
     "name": "stderr",
     "output_type": "stream",
     "text": [
      "Fitting sub-sample scaling relations:  30%|██████████▏                       | 31/104 [16:25<38:48, 31.89s/it]"
     ]
    },
    {
     "name": "stdout",
     "output_type": "stream",
     "text": [
      "  |**************************************************| 100%\n"
     ]
    },
    {
     "name": "stderr",
     "output_type": "stream",
     "text": [
      "Fitting sub-sample scaling relations:  31%|██████████▍                       | 32/104 [16:56<38:10, 31.81s/it]"
     ]
    },
    {
     "name": "stdout",
     "output_type": "stream",
     "text": [
      "  |**************************************************| 100%\n"
     ]
    },
    {
     "name": "stderr",
     "output_type": "stream",
     "text": [
      "Fitting sub-sample scaling relations:  32%|██████████▊                       | 33/104 [17:28<37:40, 31.84s/it]"
     ]
    },
    {
     "name": "stdout",
     "output_type": "stream",
     "text": [
      "  |**************************************************| 100%\n"
     ]
    },
    {
     "name": "stderr",
     "output_type": "stream",
     "text": [
      "Fitting sub-sample scaling relations:  33%|███████████                       | 34/104 [18:01<37:30, 32.15s/it]"
     ]
    },
    {
     "name": "stdout",
     "output_type": "stream",
     "text": [
      "  |**************************************************| 100%\n"
     ]
    },
    {
     "name": "stderr",
     "output_type": "stream",
     "text": [
      "Fitting sub-sample scaling relations:  34%|███████████▍                      | 35/104 [18:33<36:58, 32.15s/it]"
     ]
    },
    {
     "name": "stdout",
     "output_type": "stream",
     "text": [
      "  |**************************************************| 100%\n"
     ]
    },
    {
     "name": "stderr",
     "output_type": "stream",
     "text": [
      "Fitting sub-sample scaling relations:  35%|███████████▊                      | 36/104 [19:05<36:19, 32.05s/it]"
     ]
    },
    {
     "name": "stdout",
     "output_type": "stream",
     "text": [
      "  |**************************************************| 100%\n"
     ]
    },
    {
     "name": "stderr",
     "output_type": "stream",
     "text": [
      "Fitting sub-sample scaling relations:  36%|████████████                      | 37/104 [19:38<35:58, 32.22s/it]"
     ]
    },
    {
     "name": "stdout",
     "output_type": "stream",
     "text": [
      "  |**************************************************| 100%\n"
     ]
    },
    {
     "name": "stderr",
     "output_type": "stream",
     "text": [
      "Fitting sub-sample scaling relations:  37%|████████████▍                     | 38/104 [20:10<35:34, 32.35s/it]"
     ]
    },
    {
     "name": "stdout",
     "output_type": "stream",
     "text": [
      "  |**************************************************| 100%\n"
     ]
    },
    {
     "name": "stderr",
     "output_type": "stream",
     "text": [
      "Fitting sub-sample scaling relations:  38%|████████████▊                     | 39/104 [20:43<35:00, 32.32s/it]"
     ]
    },
    {
     "name": "stdout",
     "output_type": "stream",
     "text": [
      "  |**************************************************| 100%\n"
     ]
    },
    {
     "name": "stderr",
     "output_type": "stream",
     "text": [
      "Fitting sub-sample scaling relations:  38%|█████████████                     | 40/104 [21:15<34:22, 32.22s/it]"
     ]
    },
    {
     "name": "stdout",
     "output_type": "stream",
     "text": [
      "  |**************************************************| 100%\n"
     ]
    },
    {
     "name": "stderr",
     "output_type": "stream",
     "text": [
      "Fitting sub-sample scaling relations:  39%|█████████████▍                    | 41/104 [21:47<33:54, 32.30s/it]"
     ]
    },
    {
     "name": "stdout",
     "output_type": "stream",
     "text": [
      "  |**************************************************| 100%\n"
     ]
    },
    {
     "name": "stderr",
     "output_type": "stream",
     "text": [
      "Fitting sub-sample scaling relations:  40%|█████████████▋                    | 42/104 [22:19<33:15, 32.18s/it]"
     ]
    },
    {
     "name": "stdout",
     "output_type": "stream",
     "text": [
      "  |**************************************************| 100%\n"
     ]
    },
    {
     "name": "stderr",
     "output_type": "stream",
     "text": [
      "Fitting sub-sample scaling relations:  41%|██████████████                    | 43/104 [22:51<32:37, 32.09s/it]"
     ]
    },
    {
     "name": "stdout",
     "output_type": "stream",
     "text": [
      "  |**************************************************| 100%\n"
     ]
    },
    {
     "name": "stderr",
     "output_type": "stream",
     "text": [
      "Fitting sub-sample scaling relations:  42%|██████████████▍                   | 44/104 [23:22<31:49, 31.83s/it]"
     ]
    },
    {
     "name": "stdout",
     "output_type": "stream",
     "text": [
      "  |**************************************************| 100%\n"
     ]
    },
    {
     "name": "stderr",
     "output_type": "stream",
     "text": [
      "Fitting sub-sample scaling relations:  43%|██████████████▋                   | 45/104 [23:53<31:05, 31.62s/it]"
     ]
    },
    {
     "name": "stdout",
     "output_type": "stream",
     "text": [
      "  |**************************************************| 100%\n"
     ]
    },
    {
     "name": "stderr",
     "output_type": "stream",
     "text": [
      "Fitting sub-sample scaling relations:  44%|███████████████                   | 46/104 [24:24<30:26, 31.50s/it]"
     ]
    },
    {
     "name": "stdout",
     "output_type": "stream",
     "text": [
      "  |**************************************************| 100%\n"
     ]
    },
    {
     "name": "stderr",
     "output_type": "stream",
     "text": [
      "Fitting sub-sample scaling relations:  45%|███████████████▎                  | 47/104 [24:56<29:51, 31.42s/it]"
     ]
    },
    {
     "name": "stdout",
     "output_type": "stream",
     "text": [
      "  |**************************************************| 100%\n"
     ]
    },
    {
     "name": "stderr",
     "output_type": "stream",
     "text": [
      "Fitting sub-sample scaling relations:  46%|███████████████▋                  | 48/104 [25:28<29:32, 31.65s/it]"
     ]
    },
    {
     "name": "stdout",
     "output_type": "stream",
     "text": [
      "  |**************************************************| 100%\n"
     ]
    },
    {
     "name": "stderr",
     "output_type": "stream",
     "text": [
      "Fitting sub-sample scaling relations:  47%|████████████████                  | 49/104 [26:00<29:03, 31.70s/it]"
     ]
    },
    {
     "name": "stdout",
     "output_type": "stream",
     "text": [
      "  |**************************************************| 100%\n"
     ]
    },
    {
     "name": "stderr",
     "output_type": "stream",
     "text": [
      "Fitting sub-sample scaling relations:  48%|████████████████▎                 | 50/104 [26:32<28:38, 31.82s/it]"
     ]
    },
    {
     "name": "stdout",
     "output_type": "stream",
     "text": [
      "  |**************************************************| 100%\n"
     ]
    },
    {
     "name": "stderr",
     "output_type": "stream",
     "text": [
      "Fitting sub-sample scaling relations:  49%|████████████████▋                 | 51/104 [27:03<28:00, 31.72s/it]"
     ]
    },
    {
     "name": "stdout",
     "output_type": "stream",
     "text": [
      "  |**************************************************| 100%\n"
     ]
    },
    {
     "name": "stderr",
     "output_type": "stream",
     "text": [
      "Fitting sub-sample scaling relations:  50%|█████████████████                 | 52/104 [27:35<27:29, 31.73s/it]"
     ]
    },
    {
     "name": "stdout",
     "output_type": "stream",
     "text": [
      "  |**************************************************| 100%\n"
     ]
    },
    {
     "name": "stderr",
     "output_type": "stream",
     "text": [
      "Fitting sub-sample scaling relations:  51%|█████████████████▎                | 53/104 [28:07<26:57, 31.72s/it]"
     ]
    },
    {
     "name": "stdout",
     "output_type": "stream",
     "text": [
      "  |**************************************************| 100%\n"
     ]
    },
    {
     "name": "stderr",
     "output_type": "stream",
     "text": [
      "Fitting sub-sample scaling relations:  52%|█████████████████▋                | 54/104 [28:38<26:23, 31.68s/it]"
     ]
    },
    {
     "name": "stdout",
     "output_type": "stream",
     "text": [
      "  |**************************************************| 100%\n"
     ]
    },
    {
     "name": "stderr",
     "output_type": "stream",
     "text": [
      "Fitting sub-sample scaling relations:  53%|█████████████████▉                | 55/104 [29:10<25:57, 31.79s/it]"
     ]
    },
    {
     "name": "stdout",
     "output_type": "stream",
     "text": [
      "  |**************************************************| 100%\n"
     ]
    },
    {
     "name": "stderr",
     "output_type": "stream",
     "text": [
      "Fitting sub-sample scaling relations:  54%|██████████████████▎               | 56/104 [29:42<25:22, 31.71s/it]"
     ]
    },
    {
     "name": "stdout",
     "output_type": "stream",
     "text": [
      "  |**************************************************| 100%\n"
     ]
    },
    {
     "name": "stderr",
     "output_type": "stream",
     "text": [
      "Fitting sub-sample scaling relations:  55%|██████████████████▋               | 57/104 [30:14<24:52, 31.75s/it]"
     ]
    },
    {
     "name": "stdout",
     "output_type": "stream",
     "text": [
      "  |**************************************************| 100%\n"
     ]
    },
    {
     "name": "stderr",
     "output_type": "stream",
     "text": [
      "Fitting sub-sample scaling relations:  56%|██████████████████▉               | 58/104 [30:45<24:13, 31.59s/it]"
     ]
    },
    {
     "name": "stdout",
     "output_type": "stream",
     "text": [
      "  |**************************************************| 100%\n"
     ]
    },
    {
     "name": "stderr",
     "output_type": "stream",
     "text": [
      "Fitting sub-sample scaling relations:  57%|███████████████████▎              | 59/104 [31:16<23:39, 31.55s/it]"
     ]
    },
    {
     "name": "stdout",
     "output_type": "stream",
     "text": [
      "  |**************************************************| 100%\n"
     ]
    },
    {
     "name": "stderr",
     "output_type": "stream",
     "text": [
      "Fitting sub-sample scaling relations:  58%|███████████████████▌              | 60/104 [31:48<23:06, 31.51s/it]"
     ]
    },
    {
     "name": "stdout",
     "output_type": "stream",
     "text": [
      "  |**************************************************| 100%\n"
     ]
    },
    {
     "name": "stderr",
     "output_type": "stream",
     "text": [
      "Fitting sub-sample scaling relations:  59%|███████████████████▉              | 61/104 [32:19<22:34, 31.51s/it]"
     ]
    },
    {
     "name": "stdout",
     "output_type": "stream",
     "text": [
      "  |**************************************************| 100%\n"
     ]
    },
    {
     "name": "stderr",
     "output_type": "stream",
     "text": [
      "Fitting sub-sample scaling relations:  60%|████████████████████▎             | 62/104 [32:51<22:08, 31.62s/it]"
     ]
    },
    {
     "name": "stdout",
     "output_type": "stream",
     "text": [
      "  |**************************************************| 100%\n"
     ]
    },
    {
     "name": "stderr",
     "output_type": "stream",
     "text": [
      "Fitting sub-sample scaling relations:  61%|████████████████████▌             | 63/104 [33:23<21:35, 31.60s/it]"
     ]
    },
    {
     "name": "stdout",
     "output_type": "stream",
     "text": [
      "  |**************************************************| 100%\n"
     ]
    },
    {
     "name": "stderr",
     "output_type": "stream",
     "text": [
      "Fitting sub-sample scaling relations:  62%|████████████████████▉             | 64/104 [33:54<21:02, 31.57s/it]"
     ]
    },
    {
     "name": "stdout",
     "output_type": "stream",
     "text": [
      "  |**************************************************| 100%\n"
     ]
    },
    {
     "name": "stderr",
     "output_type": "stream",
     "text": [
      "Fitting sub-sample scaling relations:  62%|█████████████████████▎            | 65/104 [34:26<20:31, 31.58s/it]"
     ]
    },
    {
     "name": "stdout",
     "output_type": "stream",
     "text": [
      "  |**************************************************| 100%\n"
     ]
    },
    {
     "name": "stderr",
     "output_type": "stream",
     "text": [
      "Fitting sub-sample scaling relations:  63%|█████████████████████▌            | 66/104 [34:57<19:59, 31.56s/it]"
     ]
    },
    {
     "name": "stdout",
     "output_type": "stream",
     "text": [
      "  |**************************************************| 100%\n"
     ]
    },
    {
     "name": "stderr",
     "output_type": "stream",
     "text": [
      "Fitting sub-sample scaling relations:  64%|█████████████████████▉            | 67/104 [35:29<19:27, 31.55s/it]"
     ]
    },
    {
     "name": "stdout",
     "output_type": "stream",
     "text": [
      "  |**************************************************| 100%\n"
     ]
    },
    {
     "name": "stderr",
     "output_type": "stream",
     "text": [
      "Fitting sub-sample scaling relations:  65%|██████████████████████▏           | 68/104 [36:00<18:53, 31.48s/it]"
     ]
    },
    {
     "name": "stdout",
     "output_type": "stream",
     "text": [
      "  |**************************************************| 100%\n"
     ]
    },
    {
     "name": "stderr",
     "output_type": "stream",
     "text": [
      "Fitting sub-sample scaling relations:  66%|██████████████████████▌           | 69/104 [36:32<18:26, 31.61s/it]"
     ]
    },
    {
     "name": "stdout",
     "output_type": "stream",
     "text": [
      "  |**************************************************| 100%\n"
     ]
    },
    {
     "name": "stderr",
     "output_type": "stream",
     "text": [
      "Fitting sub-sample scaling relations:  67%|██████████████████████▉           | 70/104 [37:04<17:56, 31.67s/it]"
     ]
    },
    {
     "name": "stdout",
     "output_type": "stream",
     "text": [
      "  |**************************************************| 100%\n"
     ]
    },
    {
     "name": "stderr",
     "output_type": "stream",
     "text": [
      "Fitting sub-sample scaling relations:  68%|███████████████████████▏          | 71/104 [37:35<17:22, 31.60s/it]"
     ]
    },
    {
     "name": "stdout",
     "output_type": "stream",
     "text": [
      "  |**************************************************| 100%\n"
     ]
    },
    {
     "name": "stderr",
     "output_type": "stream",
     "text": [
      "Fitting sub-sample scaling relations:  69%|███████████████████████▌          | 72/104 [38:07<16:52, 31.65s/it]"
     ]
    },
    {
     "name": "stdout",
     "output_type": "stream",
     "text": [
      "  |**************************************************| 100%\n"
     ]
    },
    {
     "name": "stderr",
     "output_type": "stream",
     "text": [
      "Fitting sub-sample scaling relations:  70%|███████████████████████▊          | 73/104 [38:39<16:23, 31.74s/it]"
     ]
    },
    {
     "name": "stdout",
     "output_type": "stream",
     "text": [
      "  |**************************************************| 100%\n"
     ]
    },
    {
     "name": "stderr",
     "output_type": "stream",
     "text": [
      "Fitting sub-sample scaling relations:  71%|████████████████████████▏         | 74/104 [39:10<15:49, 31.65s/it]"
     ]
    },
    {
     "name": "stdout",
     "output_type": "stream",
     "text": [
      "  |**************************************************| 100%\n"
     ]
    },
    {
     "name": "stderr",
     "output_type": "stream",
     "text": [
      "Fitting sub-sample scaling relations:  72%|████████████████████████▌         | 75/104 [39:41<15:10, 31.38s/it]"
     ]
    },
    {
     "name": "stdout",
     "output_type": "stream",
     "text": [
      "  |**************************************************| 100%\n"
     ]
    },
    {
     "name": "stderr",
     "output_type": "stream",
     "text": [
      "Fitting sub-sample scaling relations:  73%|████████████████████████▊         | 76/104 [40:12<14:36, 31.31s/it]"
     ]
    },
    {
     "name": "stdout",
     "output_type": "stream",
     "text": [
      "  |**************************************************| 100%\n"
     ]
    },
    {
     "name": "stderr",
     "output_type": "stream",
     "text": [
      "Fitting sub-sample scaling relations:  74%|█████████████████████████▏        | 77/104 [40:44<14:04, 31.26s/it]"
     ]
    },
    {
     "name": "stdout",
     "output_type": "stream",
     "text": [
      "  |**************************************************| 100%\n"
     ]
    },
    {
     "name": "stderr",
     "output_type": "stream",
     "text": [
      "Fitting sub-sample scaling relations:  75%|█████████████████████████▌        | 78/104 [41:14<13:29, 31.12s/it]"
     ]
    },
    {
     "name": "stdout",
     "output_type": "stream",
     "text": [
      "  |**************************************************| 100%\n"
     ]
    },
    {
     "name": "stderr",
     "output_type": "stream",
     "text": [
      "Fitting sub-sample scaling relations:  76%|█████████████████████████▊        | 79/104 [41:45<12:56, 31.08s/it]"
     ]
    },
    {
     "name": "stdout",
     "output_type": "stream",
     "text": [
      "  |**************************************************| 100%\n"
     ]
    },
    {
     "name": "stderr",
     "output_type": "stream",
     "text": [
      "Fitting sub-sample scaling relations:  77%|██████████████████████████▏       | 80/104 [42:16<12:23, 30.98s/it]"
     ]
    },
    {
     "name": "stdout",
     "output_type": "stream",
     "text": [
      "  |**************************************************| 100%\n"
     ]
    },
    {
     "name": "stderr",
     "output_type": "stream",
     "text": [
      "Fitting sub-sample scaling relations:  78%|██████████████████████████▍       | 81/104 [42:47<11:52, 31.00s/it]"
     ]
    },
    {
     "name": "stdout",
     "output_type": "stream",
     "text": [
      "  |**************************************************| 100%\n"
     ]
    },
    {
     "name": "stderr",
     "output_type": "stream",
     "text": [
      "Fitting sub-sample scaling relations:  79%|██████████████████████████▊       | 82/104 [43:18<11:23, 31.07s/it]"
     ]
    },
    {
     "name": "stdout",
     "output_type": "stream",
     "text": [
      "  |**************************************************| 100%\n"
     ]
    },
    {
     "name": "stderr",
     "output_type": "stream",
     "text": [
      "Fitting sub-sample scaling relations:  80%|███████████████████████████▏      | 83/104 [43:49<10:51, 31.03s/it]"
     ]
    },
    {
     "name": "stdout",
     "output_type": "stream",
     "text": [
      "  |**************************************************| 100%\n"
     ]
    },
    {
     "name": "stderr",
     "output_type": "stream",
     "text": [
      "Fitting sub-sample scaling relations:  81%|███████████████████████████▍      | 84/104 [44:20<10:20, 31.01s/it]"
     ]
    },
    {
     "name": "stdout",
     "output_type": "stream",
     "text": [
      "  |**************************************************| 100%\n"
     ]
    },
    {
     "name": "stderr",
     "output_type": "stream",
     "text": [
      "Fitting sub-sample scaling relations:  82%|███████████████████████████▊      | 85/104 [44:51<09:46, 30.89s/it]"
     ]
    },
    {
     "name": "stdout",
     "output_type": "stream",
     "text": [
      "  |**************************************************| 100%\n"
     ]
    },
    {
     "name": "stderr",
     "output_type": "stream",
     "text": [
      "Fitting sub-sample scaling relations:  83%|████████████████████████████      | 86/104 [45:21<09:13, 30.72s/it]"
     ]
    },
    {
     "name": "stdout",
     "output_type": "stream",
     "text": [
      "  |**************************************************| 100%\n"
     ]
    },
    {
     "name": "stderr",
     "output_type": "stream",
     "text": [
      "Fitting sub-sample scaling relations:  84%|████████████████████████████▍     | 87/104 [45:51<08:40, 30.61s/it]"
     ]
    },
    {
     "name": "stdout",
     "output_type": "stream",
     "text": [
      "  |**************************************************| 100%\n"
     ]
    },
    {
     "name": "stderr",
     "output_type": "stream",
     "text": [
      "Fitting sub-sample scaling relations:  85%|████████████████████████████▊     | 88/104 [46:22<08:08, 30.52s/it]"
     ]
    },
    {
     "name": "stdout",
     "output_type": "stream",
     "text": [
      "  |**************************************************| 100%\n"
     ]
    },
    {
     "name": "stderr",
     "output_type": "stream",
     "text": [
      "Fitting sub-sample scaling relations:  86%|█████████████████████████████     | 89/104 [46:52<07:36, 30.46s/it]"
     ]
    },
    {
     "name": "stdout",
     "output_type": "stream",
     "text": [
      "  |**************************************************| 100%\n"
     ]
    },
    {
     "name": "stderr",
     "output_type": "stream",
     "text": [
      "Fitting sub-sample scaling relations:  87%|█████████████████████████████▍    | 90/104 [47:22<07:05, 30.43s/it]"
     ]
    },
    {
     "name": "stdout",
     "output_type": "stream",
     "text": [
      "  |**************************************************| 100%\n"
     ]
    },
    {
     "name": "stderr",
     "output_type": "stream",
     "text": [
      "Fitting sub-sample scaling relations:  88%|█████████████████████████████▊    | 91/104 [47:53<06:35, 30.40s/it]"
     ]
    },
    {
     "name": "stdout",
     "output_type": "stream",
     "text": [
      "  |**************************************************| 100%\n"
     ]
    },
    {
     "name": "stderr",
     "output_type": "stream",
     "text": [
      "Fitting sub-sample scaling relations:  88%|██████████████████████████████    | 92/104 [48:23<06:05, 30.42s/it]"
     ]
    },
    {
     "name": "stdout",
     "output_type": "stream",
     "text": [
      "  |**************************************************| 100%\n"
     ]
    },
    {
     "name": "stderr",
     "output_type": "stream",
     "text": [
      "Fitting sub-sample scaling relations:  89%|██████████████████████████████▍   | 93/104 [48:54<05:34, 30.43s/it]"
     ]
    },
    {
     "name": "stdout",
     "output_type": "stream",
     "text": [
      "  |**************************************************| 100%\n"
     ]
    },
    {
     "name": "stderr",
     "output_type": "stream",
     "text": [
      "Fitting sub-sample scaling relations:  90%|██████████████████████████████▋   | 94/104 [49:24<05:04, 30.49s/it]"
     ]
    },
    {
     "name": "stdout",
     "output_type": "stream",
     "text": [
      "  |**************************************************| 100%\n"
     ]
    },
    {
     "name": "stderr",
     "output_type": "stream",
     "text": [
      "Fitting sub-sample scaling relations:  91%|███████████████████████████████   | 95/104 [49:55<04:34, 30.49s/it]"
     ]
    },
    {
     "name": "stdout",
     "output_type": "stream",
     "text": [
      "  |**************************************************| 100%\n"
     ]
    },
    {
     "name": "stderr",
     "output_type": "stream",
     "text": [
      "Fitting sub-sample scaling relations:  92%|███████████████████████████████▍  | 96/104 [50:25<04:03, 30.41s/it]"
     ]
    },
    {
     "name": "stdout",
     "output_type": "stream",
     "text": [
      "  |**************************************************| 100%\n"
     ]
    },
    {
     "name": "stderr",
     "output_type": "stream",
     "text": [
      "Fitting sub-sample scaling relations:  93%|███████████████████████████████▋  | 97/104 [50:55<03:32, 30.32s/it]"
     ]
    },
    {
     "name": "stdout",
     "output_type": "stream",
     "text": [
      "  |**************************************************| 100%\n"
     ]
    },
    {
     "name": "stderr",
     "output_type": "stream",
     "text": [
      "Fitting sub-sample scaling relations:  94%|████████████████████████████████  | 98/104 [51:26<03:02, 30.33s/it]"
     ]
    },
    {
     "name": "stdout",
     "output_type": "stream",
     "text": [
      "  |**************************************************| 100%\n"
     ]
    },
    {
     "name": "stderr",
     "output_type": "stream",
     "text": [
      "Fitting sub-sample scaling relations:  95%|████████████████████████████████▎ | 99/104 [51:56<02:31, 30.32s/it]"
     ]
    },
    {
     "name": "stdout",
     "output_type": "stream",
     "text": [
      "  |**************************************************| 100%\n"
     ]
    },
    {
     "name": "stderr",
     "output_type": "stream",
     "text": [
      "Fitting sub-sample scaling relations:  96%|███████████████████████████████▋ | 100/104 [52:26<02:01, 30.30s/it]"
     ]
    },
    {
     "name": "stdout",
     "output_type": "stream",
     "text": [
      "  |**************************************************| 100%\n"
     ]
    },
    {
     "name": "stderr",
     "output_type": "stream",
     "text": [
      "Fitting sub-sample scaling relations:  97%|████████████████████████████████ | 101/104 [52:56<01:30, 30.23s/it]"
     ]
    },
    {
     "name": "stdout",
     "output_type": "stream",
     "text": [
      "  |**************************************************| 100%\n"
     ]
    },
    {
     "name": "stderr",
     "output_type": "stream",
     "text": [
      "Fitting sub-sample scaling relations:  98%|████████████████████████████████▎| 102/104 [53:26<01:00, 30.21s/it]"
     ]
    },
    {
     "name": "stdout",
     "output_type": "stream",
     "text": [
      "  |**************************************************| 100%\n"
     ]
    },
    {
     "name": "stderr",
     "output_type": "stream",
     "text": [
      "Fitting sub-sample scaling relations:  99%|████████████████████████████████▋| 103/104 [53:57<00:30, 30.30s/it]"
     ]
    },
    {
     "name": "stdout",
     "output_type": "stream",
     "text": [
      "  |**************************************************| 100%\n"
     ]
    },
    {
     "name": "stderr",
     "output_type": "stream",
     "text": [
      "Fitting sub-sample scaling relations: 100%|█████████████████████████████████| 104/104 [54:27<00:00, 31.42s/it]\n"
     ]
    }
   ],
   "source": [
    "l1_mtot500_mgas500_rels, l1_mtot500_mgas500_res = leave_one_jackknife(sdssxcs_samp_with_gm500, mtot500_mgas500, \n",
    "                                                                      x_cols=['Mg500_wraderr', 'Mg500_wraderr-', 'Mg500_wraderr+'],\n",
    "                                                                      y_cols=['Mhy500_wraderr', 'Mhy500_wraderr-', 'Mhy500_wraderr+'],\n",
    "                                                                      x_name=r\"$M^{\\rm{gas}}_{500}$\", x_norm=mgas_norm, dim_hubb_ind=0,\n",
    "                                                                      y_name=r\"$M^{\\rm{tot}}_{500}$\", x_mult=1e+14)"
   ]
  },
  {
   "cell_type": "markdown",
   "id": "55f866d3-0189-47cb-9a16-12a320653e92",
   "metadata": {},
   "source": [
    "One of the outputs of the jackknifing function is a dataframe containing the relation parameters linked to the name of the cluster that was excluded in each case - we save them to disk as well as making use of them later to measure scaling relations with the scatter-dominating clusters removed."
   ]
  },
  {
   "cell_type": "code",
   "execution_count": 12,
   "id": "0d3530b8-fb1d-434a-8c83-6b4228277552",
   "metadata": {},
   "outputs": [
    {
     "data": {
      "text/html": [
       "<div>\n",
       "<style scoped>\n",
       "    .dataframe tbody tr th:only-of-type {\n",
       "        vertical-align: middle;\n",
       "    }\n",
       "\n",
       "    .dataframe tbody tr th {\n",
       "        vertical-align: top;\n",
       "    }\n",
       "\n",
       "    .dataframe thead th {\n",
       "        text-align: right;\n",
       "    }\n",
       "</style>\n",
       "<table border=\"1\" class=\"dataframe\">\n",
       "  <thead>\n",
       "    <tr style=\"text-align: right;\">\n",
       "      <th></th>\n",
       "      <th>dropped_cluster</th>\n",
       "      <th>slope</th>\n",
       "      <th>slope+-</th>\n",
       "      <th>norm</th>\n",
       "      <th>norm+-</th>\n",
       "      <th>scatter</th>\n",
       "      <th>scatter+-</th>\n",
       "      <th>scatter_perc_change</th>\n",
       "    </tr>\n",
       "  </thead>\n",
       "  <tbody>\n",
       "    <tr>\n",
       "      <th>0</th>\n",
       "      <td>SDSSXCS-1018</td>\n",
       "      <td>0.4360</td>\n",
       "      <td>0.0613</td>\n",
       "      <td>2.5337</td>\n",
       "      <td>0.2379</td>\n",
       "      <td>0.2369</td>\n",
       "      <td>0.0196</td>\n",
       "      <td>0.326</td>\n",
       "    </tr>\n",
       "    <tr>\n",
       "      <th>1</th>\n",
       "      <td>SDSSXCS-10401</td>\n",
       "      <td>0.4189</td>\n",
       "      <td>0.0605</td>\n",
       "      <td>2.6271</td>\n",
       "      <td>0.2439</td>\n",
       "      <td>0.2317</td>\n",
       "      <td>0.0194</td>\n",
       "      <td>-1.883</td>\n",
       "    </tr>\n",
       "    <tr>\n",
       "      <th>2</th>\n",
       "      <td>SDSSXCS-110</td>\n",
       "      <td>0.4349</td>\n",
       "      <td>0.0603</td>\n",
       "      <td>2.5232</td>\n",
       "      <td>0.2324</td>\n",
       "      <td>0.2338</td>\n",
       "      <td>0.0194</td>\n",
       "      <td>-0.962</td>\n",
       "    </tr>\n",
       "    <tr>\n",
       "      <th>3</th>\n",
       "      <td>SDSSXCS-11154</td>\n",
       "      <td>0.4344</td>\n",
       "      <td>0.0611</td>\n",
       "      <td>2.5598</td>\n",
       "      <td>0.2393</td>\n",
       "      <td>0.2368</td>\n",
       "      <td>0.0196</td>\n",
       "      <td>0.277</td>\n",
       "    </tr>\n",
       "    <tr>\n",
       "      <th>4</th>\n",
       "      <td>SDSSXCS-1131</td>\n",
       "      <td>0.4332</td>\n",
       "      <td>0.0609</td>\n",
       "      <td>2.5550</td>\n",
       "      <td>0.2377</td>\n",
       "      <td>0.2362</td>\n",
       "      <td>0.0195</td>\n",
       "      <td>0.046</td>\n",
       "    </tr>\n",
       "    <tr>\n",
       "      <th>5</th>\n",
       "      <td>SDSSXCS-11331</td>\n",
       "      <td>0.4327</td>\n",
       "      <td>0.0611</td>\n",
       "      <td>2.5670</td>\n",
       "      <td>0.2403</td>\n",
       "      <td>0.2365</td>\n",
       "      <td>0.0196</td>\n",
       "      <td>0.156</td>\n",
       "    </tr>\n",
       "  </tbody>\n",
       "</table>\n",
       "</div>"
      ],
      "text/plain": [
       "  dropped_cluster   slope  slope+-    norm  norm+-  scatter  scatter+-  \\\n",
       "0    SDSSXCS-1018  0.4360   0.0613  2.5337  0.2379   0.2369     0.0196   \n",
       "1   SDSSXCS-10401  0.4189   0.0605  2.6271  0.2439   0.2317     0.0194   \n",
       "2     SDSSXCS-110  0.4349   0.0603  2.5232  0.2324   0.2338     0.0194   \n",
       "3   SDSSXCS-11154  0.4344   0.0611  2.5598  0.2393   0.2368     0.0196   \n",
       "4    SDSSXCS-1131  0.4332   0.0609  2.5550  0.2377   0.2362     0.0195   \n",
       "5   SDSSXCS-11331  0.4327   0.0611  2.5670  0.2403   0.2365     0.0196   \n",
       "\n",
       "   scatter_perc_change  \n",
       "0                0.326  \n",
       "1               -1.883  \n",
       "2               -0.962  \n",
       "3                0.277  \n",
       "4                0.046  \n",
       "5                0.156  "
      ]
     },
     "execution_count": 12,
     "metadata": {},
     "output_type": "execute_result"
    }
   ],
   "source": [
    "l1_mtot500_mgas500_res.to_csv(\"../../outputs/result_files/exploring_scatter/leave_one_jackknife/mtot-mgas/\"\\\n",
    "                           \"mtot500_mgas500_l1_jackknife_rel_pars.csv\")\n",
    "l1_mtot500_mgas500_res.head(6)"
   ]
  },
  {
   "cell_type": "markdown",
   "id": "755f2a45-5ded-4303-bb84-f31f1d086049",
   "metadata": {},
   "source": [
    "#### Diagnostic distribution of percentage change of scatter"
   ]
  },
  {
   "cell_type": "code",
   "execution_count": 13,
   "id": "544e00fd-4b89-46d8-a5d5-fecdeb2ef546",
   "metadata": {},
   "outputs": [
    {
     "data": {
      "image/png": "[encoded data removed]",
      "text/plain": [
       "<Figure size 500x500 with 1 Axes>"
      ]
     },
     "metadata": {},
     "output_type": "display_data"
    },
    {
     "name": "stdout",
     "output_type": "stream",
     "text": [
      "Median percentage change in scatter of 0.32%\n",
      "90% confidence limits on percentage change in scatter of -1.83% to 0.62%\n",
      "\n"
     ]
    }
   ],
   "source": [
    "plt.figure(figsize=(5, 5))\n",
    "\n",
    "plt.minorticks_on()\n",
    "plt.tick_params(which='both', direction='in', top=True, right=True)\n",
    "\n",
    "# Plotting the distribution of percentage change in scatter values\n",
    "plt.hist(l1_mtot500_mgas500_res['scatter_perc_change'].values, bins='auto', color='seagreen', alpha=0.65, \n",
    "         label=r\"$\\sigma$ change distribution\", histtype='step', linewidth=3)\n",
    "\n",
    "# Calculating the median and specified confidence intervals\n",
    "cur_med = np.median(l1_mtot500_mgas500_res['scatter_perc_change'].values)\n",
    "cur_low = np.percentile(l1_mtot500_mgas500_res['scatter_perc_change'].values, (50-(CONF_PERC/2)))\n",
    "cur_upp = np.percentile(l1_mtot500_mgas500_res['scatter_perc_change'].values, (50+(CONF_PERC/2)))\n",
    "\n",
    "plt.axvline(cur_med, color='black', label='Median')\n",
    "plt.axvline(cur_low, color='black', linestyle='dashed', label='{}% limits'.format(CONF_PERC))\n",
    "plt.axvline(cur_upp, color='black', linestyle='dashed')\n",
    "\n",
    "\n",
    "plt.title(r'$M^{\\rm{tot}}_{500}$-$M^{\\rm{gas}}_{500}$ scatter change with jackknife')\n",
    "plt.ylabel('N', fontsize=14)\n",
    "plt.xlabel(r'$\\dfrac{\\sigma_{\\rm{jackknife}}-\\sigma_{\\rm{original}}}{\\sigma_{\\rm{original}}}$ [%]', fontsize=14)\n",
    "\n",
    "plt.legend()\n",
    "plt.tight_layout()\n",
    "plt.show()\n",
    "\n",
    "print(\"Median percentage change in scatter of {v:.2f}%\".format(v=cur_med))\n",
    "print(\"{c}% confidence limits on percentage change in scatter of {l:.2f}% to \"\\\n",
    "      \"{u:.2f}%\\n\".format(c=CONF_PERC, l=cur_low, u=cur_upp))"
   ]
  },
  {
   "cell_type": "markdown",
   "id": "585e0bb1-4709-4637-8385-dfb8c0b3fbbe",
   "metadata": {},
   "source": [
    "#### Selecting 'scatter-dominating' clusters"
   ]
  },
  {
   "cell_type": "code",
   "execution_count": 14,
   "id": "a5c68d41-eefc-4d4e-9e20-03d13d86e3b8",
   "metadata": {},
   "outputs": [
    {
     "data": {
      "text/html": [
       "<div>\n",
       "<style scoped>\n",
       "    .dataframe tbody tr th:only-of-type {\n",
       "        vertical-align: middle;\n",
       "    }\n",
       "\n",
       "    .dataframe tbody tr th {\n",
       "        vertical-align: top;\n",
       "    }\n",
       "\n",
       "    .dataframe thead th {\n",
       "        text-align: right;\n",
       "    }\n",
       "</style>\n",
       "<table border=\"1\" class=\"dataframe\">\n",
       "  <thead>\n",
       "    <tr style=\"text-align: right;\">\n",
       "      <th></th>\n",
       "      <th>dropped_cluster</th>\n",
       "      <th>slope</th>\n",
       "      <th>slope+-</th>\n",
       "      <th>norm</th>\n",
       "      <th>norm+-</th>\n",
       "      <th>scatter</th>\n",
       "      <th>scatter+-</th>\n",
       "      <th>scatter_perc_change</th>\n",
       "    </tr>\n",
       "  </thead>\n",
       "  <tbody>\n",
       "    <tr>\n",
       "      <th>1</th>\n",
       "      <td>SDSSXCS-10401</td>\n",
       "      <td>0.4189</td>\n",
       "      <td>0.0605</td>\n",
       "      <td>2.6271</td>\n",
       "      <td>0.2439</td>\n",
       "      <td>0.2317</td>\n",
       "      <td>0.0194</td>\n",
       "      <td>-1.883</td>\n",
       "    </tr>\n",
       "    <tr>\n",
       "      <th>34</th>\n",
       "      <td>SDSSXCS-22</td>\n",
       "      <td>0.4445</td>\n",
       "      <td>0.0576</td>\n",
       "      <td>2.5664</td>\n",
       "      <td>0.2256</td>\n",
       "      <td>0.2200</td>\n",
       "      <td>0.0188</td>\n",
       "      <td>-6.812</td>\n",
       "    </tr>\n",
       "    <tr>\n",
       "      <th>36</th>\n",
       "      <td>SDSSXCS-2282</td>\n",
       "      <td>0.4261</td>\n",
       "      <td>0.0593</td>\n",
       "      <td>2.6102</td>\n",
       "      <td>0.2375</td>\n",
       "      <td>0.2285</td>\n",
       "      <td>0.0191</td>\n",
       "      <td>-3.203</td>\n",
       "    </tr>\n",
       "    <tr>\n",
       "      <th>71</th>\n",
       "      <td>SDSSXCS-5159</td>\n",
       "      <td>0.4863</td>\n",
       "      <td>0.0618</td>\n",
       "      <td>2.3607</td>\n",
       "      <td>0.2220</td>\n",
       "      <td>0.2289</td>\n",
       "      <td>0.0187</td>\n",
       "      <td>-3.046</td>\n",
       "    </tr>\n",
       "    <tr>\n",
       "      <th>86</th>\n",
       "      <td>SDSSXCS-6955</td>\n",
       "      <td>0.4184</td>\n",
       "      <td>0.0597</td>\n",
       "      <td>2.6323</td>\n",
       "      <td>0.2411</td>\n",
       "      <td>0.2294</td>\n",
       "      <td>0.0190</td>\n",
       "      <td>-2.830</td>\n",
       "    </tr>\n",
       "    <tr>\n",
       "      <th>94</th>\n",
       "      <td>SDSSXCS-8060</td>\n",
       "      <td>0.4768</td>\n",
       "      <td>0.0599</td>\n",
       "      <td>2.3803</td>\n",
       "      <td>0.2182</td>\n",
       "      <td>0.2247</td>\n",
       "      <td>0.0190</td>\n",
       "      <td>-4.818</td>\n",
       "    </tr>\n",
       "  </tbody>\n",
       "</table>\n",
       "</div>"
      ],
      "text/plain": [
       "   dropped_cluster   slope  slope+-    norm  norm+-  scatter  scatter+-  \\\n",
       "1    SDSSXCS-10401  0.4189   0.0605  2.6271  0.2439   0.2317     0.0194   \n",
       "34      SDSSXCS-22  0.4445   0.0576  2.5664  0.2256   0.2200     0.0188   \n",
       "36    SDSSXCS-2282  0.4261   0.0593  2.6102  0.2375   0.2285     0.0191   \n",
       "71    SDSSXCS-5159  0.4863   0.0618  2.3607  0.2220   0.2289     0.0187   \n",
       "86    SDSSXCS-6955  0.4184   0.0597  2.6323  0.2411   0.2294     0.0190   \n",
       "94    SDSSXCS-8060  0.4768   0.0599  2.3803  0.2182   0.2247     0.0190   \n",
       "\n",
       "    scatter_perc_change  \n",
       "1                -1.883  \n",
       "34               -6.812  \n",
       "36               -3.203  \n",
       "71               -3.046  \n",
       "86               -2.830  \n",
       "94               -4.818  "
      ]
     },
     "execution_count": 14,
     "metadata": {},
     "output_type": "execute_result"
    }
   ],
   "source": [
    "l1_mtot500_mgas500_domin = l1_mtot500_mgas500_res[l1_mtot500_mgas500_res['scatter_perc_change'] < cur_low]\n",
    "l1_mtot500_mgas500_domin"
   ]
  },
  {
   "cell_type": "markdown",
   "id": "3082cdab-3138-432a-999f-6ce6954bb5a1",
   "metadata": {},
   "source": [
    "#### Fitting a new version of the relation without the 'scatter-dominating' clusters"
   ]
  },
  {
   "cell_type": "code",
   "execution_count": 15,
   "id": "17bfe02d-432a-4616-a279-13fd32a45d39",
   "metadata": {},
   "outputs": [
    {
     "name": "stdout",
     "output_type": "stream",
     "text": [
      "  |**************************************************| 100%\n"
     ]
    }
   ],
   "source": [
    "cur_samp_wo_domin = sdssxcs_samp_with_gm500[~sdssxcs_samp_with_gm500['name'].isin(l1_mtot500_mgas500_domin['dropped_cluster'].values)]\n",
    "\n",
    "\n",
    "# Setting up property variables in astropy quantity objects\n",
    "mtot500 = Quantity(cur_samp_wo_domin[['Mhy500_wraderr', 'Mhy500_wraderr-', 'Mhy500_wraderr+']].values*1e+14, 'Msun')\n",
    "mgas500 = Quantity(cur_samp_wo_domin[['Mg500_wraderr', 'Mg500_wraderr-', 'Mg500_wraderr+']].values*1e+14, 'Msun')\n",
    "\n",
    "mtot500_mgas500_wo_domin = scaling_relation_lira(mtot500[:, 0], mtot500[:, 1:], mgas500[:, 0], mgas500[:, 1:], m_norm, mgas_norm, \n",
    "                                                 y_name=r\"$M^{\\rm{tot}}_{500}$\", x_name=r\"$M^{\\rm{gas}}_{500}$\", \n",
    "                                                 point_names=cur_samp_wo_domin['name'].values)\n",
    "mtot500_mgas500_wo_domin.model_colour = 'deeppink'\n",
    "mtot500_mgas500_wo_domin.author = 'Turner et al.'\n",
    "mtot500_mgas500_wo_domin.year = 2025\n",
    "mtot500_mgas500_wo_domin.name = r\"Turner et al. '$\\sigma$ dominating excluded' $M^{\\rm{tot}}_{500}$-$M^{\\rm{gas}}_{500}$\""
   ]
  },
  {
   "cell_type": "code",
   "execution_count": 16,
   "id": "5231724a-4220-42f8-8e6d-948bcdb1a80b",
   "metadata": {},
   "outputs": [
    {
     "name": "stdout",
     "output_type": "stream",
     "text": [
      "Slope of 0.498 ± 0.052\n",
      "\n",
      "Normalisation of 2.421 ± 0.196\n",
      "\n",
      "Scatter of 0.175 ± 0.016\n"
     ]
    }
   ],
   "source": [
    "print(\"Slope of {v:.3f} ± {e:.3f}\\n\".format(v=mtot500_mgas500_wo_domin.pars[0][0], e=mtot500_mgas500_wo_domin.pars[0][1]))\n",
    "print(\"Normalisation of {v:.3f} ± {e:.3f}\\n\".format(v=mtot500_mgas500_wo_domin.pars[1][0], e=mtot500_mgas500_wo_domin.pars[1][1]))\n",
    "print(\"Scatter of {v:.3f} ± {e:.3f}\".format(v=mtot500_mgas500_wo_domin.scatter_par[0], e=mtot500_mgas500_wo_domin.scatter_par[1]))"
   ]
  },
  {
   "cell_type": "markdown",
   "id": "2ceebbda-a849-4fcd-bd30-53da904e69ae",
   "metadata": {},
   "source": [
    "### Assessing the $M^{\\rm{tot}}_{2500}$-$M^{\\rm{gas}}_{2500}$ relation"
   ]
  },
  {
   "cell_type": "code",
   "execution_count": 17,
   "id": "4ec09509-4080-467d-8aa5-20aa48e44859",
   "metadata": {},
   "outputs": [
    {
     "name": "stderr",
     "output_type": "stream",
     "text": [
      "Fitting sub-sample scaling relations:   0%|                                            | 0/91 [00:00<?, ?it/s]"
     ]
    },
    {
     "name": "stdout",
     "output_type": "stream",
     "text": [
      "  |**************************************************| 100%\n"
     ]
    },
    {
     "name": "stderr",
     "output_type": "stream",
     "text": [
      "Fitting sub-sample scaling relations:   1%|▍                                   | 1/91 [00:26<39:25, 26.28s/it]"
     ]
    },
    {
     "name": "stdout",
     "output_type": "stream",
     "text": [
      "  |**************************************************| 100%\n"
     ]
    },
    {
     "name": "stderr",
     "output_type": "stream",
     "text": [
      "Fitting sub-sample scaling relations:   2%|▊                                   | 2/91 [00:52<39:10, 26.41s/it]"
     ]
    },
    {
     "name": "stdout",
     "output_type": "stream",
     "text": [
      "  |**************************************************| 100%\n"
     ]
    },
    {
     "name": "stderr",
     "output_type": "stream",
     "text": [
      "Fitting sub-sample scaling relations:   3%|█▏                                  | 3/91 [01:19<38:42, 26.39s/it]"
     ]
    },
    {
     "name": "stdout",
     "output_type": "stream",
     "text": [
      "  |**************************************************| 100%\n"
     ]
    },
    {
     "name": "stderr",
     "output_type": "stream",
     "text": [
      "Fitting sub-sample scaling relations:   4%|█▌                                  | 4/91 [01:45<38:05, 26.27s/it]"
     ]
    },
    {
     "name": "stdout",
     "output_type": "stream",
     "text": [
      "  |**************************************************| 100%\n"
     ]
    },
    {
     "name": "stderr",
     "output_type": "stream",
     "text": [
      "Fitting sub-sample scaling relations:   5%|█▉                                  | 5/91 [02:11<37:35, 26.23s/it]"
     ]
    },
    {
     "name": "stdout",
     "output_type": "stream",
     "text": [
      "  |**************************************************| 100%\n"
     ]
    },
    {
     "name": "stderr",
     "output_type": "stream",
     "text": [
      "Fitting sub-sample scaling relations:   7%|██▎                                 | 6/91 [02:37<37:04, 26.17s/it]"
     ]
    },
    {
     "name": "stdout",
     "output_type": "stream",
     "text": [
      "  |**************************************************| 100%\n"
     ]
    },
    {
     "name": "stderr",
     "output_type": "stream",
     "text": [
      "Fitting sub-sample scaling relations:   8%|██▊                                 | 7/91 [03:03<36:41, 26.20s/it]"
     ]
    },
    {
     "name": "stdout",
     "output_type": "stream",
     "text": [
      "  |**************************************************| 100%\n"
     ]
    },
    {
     "name": "stderr",
     "output_type": "stream",
     "text": [
      "Fitting sub-sample scaling relations:   9%|███▏                                | 8/91 [03:29<36:16, 26.22s/it]"
     ]
    },
    {
     "name": "stdout",
     "output_type": "stream",
     "text": [
      "  |**************************************************| 100%\n"
     ]
    },
    {
     "name": "stderr",
     "output_type": "stream",
     "text": [
      "Fitting sub-sample scaling relations:  10%|███▌                                | 9/91 [03:55<35:44, 26.15s/it]"
     ]
    },
    {
     "name": "stdout",
     "output_type": "stream",
     "text": [
      "  |**************************************************| 100%\n"
     ]
    },
    {
     "name": "stderr",
     "output_type": "stream",
     "text": [
      "Fitting sub-sample scaling relations:  11%|███▊                               | 10/91 [04:22<35:16, 26.13s/it]"
     ]
    },
    {
     "name": "stdout",
     "output_type": "stream",
     "text": [
      "  |**************************************************| 100%\n"
     ]
    },
    {
     "name": "stderr",
     "output_type": "stream",
     "text": [
      "Fitting sub-sample scaling relations:  12%|████▏                              | 11/91 [04:48<34:52, 26.16s/it]"
     ]
    },
    {
     "name": "stdout",
     "output_type": "stream",
     "text": [
      "  |**************************************************| 100%\n"
     ]
    },
    {
     "name": "stderr",
     "output_type": "stream",
     "text": [
      "Fitting sub-sample scaling relations:  13%|████▌                              | 12/91 [05:14<34:38, 26.31s/it]"
     ]
    },
    {
     "name": "stdout",
     "output_type": "stream",
     "text": [
      "  |**************************************************| 100%\n"
     ]
    },
    {
     "name": "stderr",
     "output_type": "stream",
     "text": [
      "Fitting sub-sample scaling relations:  14%|█████                              | 13/91 [05:41<34:11, 26.30s/it]"
     ]
    },
    {
     "name": "stdout",
     "output_type": "stream",
     "text": [
      "  |**************************************************| 100%\n"
     ]
    },
    {
     "name": "stderr",
     "output_type": "stream",
     "text": [
      "Fitting sub-sample scaling relations:  15%|█████▍                             | 14/91 [06:07<33:41, 26.26s/it]"
     ]
    },
    {
     "name": "stdout",
     "output_type": "stream",
     "text": [
      "  |**************************************************| 100%\n"
     ]
    },
    {
     "name": "stderr",
     "output_type": "stream",
     "text": [
      "Fitting sub-sample scaling relations:  16%|█████▊                             | 15/91 [06:33<33:15, 26.25s/it]"
     ]
    },
    {
     "name": "stdout",
     "output_type": "stream",
     "text": [
      "  |**************************************************| 100%\n"
     ]
    },
    {
     "name": "stderr",
     "output_type": "stream",
     "text": [
      "Fitting sub-sample scaling relations:  18%|██████▏                            | 16/91 [06:59<32:46, 26.23s/it]"
     ]
    },
    {
     "name": "stdout",
     "output_type": "stream",
     "text": [
      "  |**************************************************| 100%\n"
     ]
    },
    {
     "name": "stderr",
     "output_type": "stream",
     "text": [
      "Fitting sub-sample scaling relations:  19%|██████▌                            | 17/91 [07:26<32:26, 26.30s/it]"
     ]
    },
    {
     "name": "stdout",
     "output_type": "stream",
     "text": [
      "  |**************************************************| 100%\n"
     ]
    },
    {
     "name": "stderr",
     "output_type": "stream",
     "text": [
      "Fitting sub-sample scaling relations:  20%|██████▉                            | 18/91 [07:52<31:55, 26.24s/it]"
     ]
    },
    {
     "name": "stdout",
     "output_type": "stream",
     "text": [
      "  |**************************************************| 100%\n"
     ]
    },
    {
     "name": "stderr",
     "output_type": "stream",
     "text": [
      "Fitting sub-sample scaling relations:  21%|███████▎                           | 19/91 [08:18<31:25, 26.19s/it]"
     ]
    },
    {
     "name": "stdout",
     "output_type": "stream",
     "text": [
      "  |**************************************************| 100%\n"
     ]
    },
    {
     "name": "stderr",
     "output_type": "stream",
     "text": [
      "Fitting sub-sample scaling relations:  22%|███████▋                           | 20/91 [08:44<30:53, 26.11s/it]"
     ]
    },
    {
     "name": "stdout",
     "output_type": "stream",
     "text": [
      "  |**************************************************| 100%\n"
     ]
    },
    {
     "name": "stderr",
     "output_type": "stream",
     "text": [
      "Fitting sub-sample scaling relations:  23%|████████                           | 21/91 [09:10<30:28, 26.12s/it]"
     ]
    },
    {
     "name": "stdout",
     "output_type": "stream",
     "text": [
      "  |**************************************************| 100%\n"
     ]
    },
    {
     "name": "stderr",
     "output_type": "stream",
     "text": [
      "Fitting sub-sample scaling relations:  24%|████████▍                          | 22/91 [09:36<29:59, 26.07s/it]"
     ]
    },
    {
     "name": "stdout",
     "output_type": "stream",
     "text": [
      "  |**************************************************| 100%\n"
     ]
    },
    {
     "name": "stderr",
     "output_type": "stream",
     "text": [
      "Fitting sub-sample scaling relations:  25%|████████▊                          | 23/91 [10:02<29:36, 26.12s/it]"
     ]
    },
    {
     "name": "stdout",
     "output_type": "stream",
     "text": [
      "  |**************************************************| 100%\n"
     ]
    },
    {
     "name": "stderr",
     "output_type": "stream",
     "text": [
      "Fitting sub-sample scaling relations:  26%|█████████▏                         | 24/91 [10:28<29:09, 26.11s/it]"
     ]
    },
    {
     "name": "stdout",
     "output_type": "stream",
     "text": [
      "  |**************************************************| 100%\n"
     ]
    },
    {
     "name": "stderr",
     "output_type": "stream",
     "text": [
      "Fitting sub-sample scaling relations:  27%|█████████▌                         | 25/91 [10:54<28:43, 26.12s/it]"
     ]
    },
    {
     "name": "stdout",
     "output_type": "stream",
     "text": [
      "  |**************************************************| 100%\n"
     ]
    },
    {
     "name": "stderr",
     "output_type": "stream",
     "text": [
      "Fitting sub-sample scaling relations:  29%|██████████                         | 26/91 [11:20<28:16, 26.11s/it]"
     ]
    },
    {
     "name": "stdout",
     "output_type": "stream",
     "text": [
      "  |**************************************************| 100%\n"
     ]
    },
    {
     "name": "stderr",
     "output_type": "stream",
     "text": [
      "Fitting sub-sample scaling relations:  30%|██████████▍                        | 27/91 [11:46<27:48, 26.08s/it]"
     ]
    },
    {
     "name": "stdout",
     "output_type": "stream",
     "text": [
      "  |**************************************************| 100%\n"
     ]
    },
    {
     "name": "stderr",
     "output_type": "stream",
     "text": [
      "Fitting sub-sample scaling relations:  31%|██████████▊                        | 28/91 [12:13<27:25, 26.12s/it]"
     ]
    },
    {
     "name": "stdout",
     "output_type": "stream",
     "text": [
      "  |**************************************************| 100%\n"
     ]
    },
    {
     "name": "stderr",
     "output_type": "stream",
     "text": [
      "Fitting sub-sample scaling relations:  32%|███████████▏                       | 29/91 [12:39<26:56, 26.07s/it]"
     ]
    },
    {
     "name": "stdout",
     "output_type": "stream",
     "text": [
      "  |**************************************************| 100%\n"
     ]
    },
    {
     "name": "stderr",
     "output_type": "stream",
     "text": [
      "Fitting sub-sample scaling relations:  33%|███████████▌                       | 30/91 [13:05<26:29, 26.06s/it]"
     ]
    },
    {
     "name": "stdout",
     "output_type": "stream",
     "text": [
      "  |**************************************************| 100%\n"
     ]
    },
    {
     "name": "stderr",
     "output_type": "stream",
     "text": [
      "Fitting sub-sample scaling relations:  34%|███████████▉                       | 31/91 [13:31<26:05, 26.09s/it]"
     ]
    },
    {
     "name": "stdout",
     "output_type": "stream",
     "text": [
      "  |**************************************************| 100%\n"
     ]
    },
    {
     "name": "stderr",
     "output_type": "stream",
     "text": [
      "Fitting sub-sample scaling relations:  35%|████████████▎                      | 32/91 [13:57<25:33, 26.00s/it]"
     ]
    },
    {
     "name": "stdout",
     "output_type": "stream",
     "text": [
      "  |**************************************************| 100%\n"
     ]
    },
    {
     "name": "stderr",
     "output_type": "stream",
     "text": [
      "Fitting sub-sample scaling relations:  36%|████████████▋                      | 33/91 [14:23<25:08, 26.00s/it]"
     ]
    },
    {
     "name": "stdout",
     "output_type": "stream",
     "text": [
      "  |**************************************************| 100%\n"
     ]
    },
    {
     "name": "stderr",
     "output_type": "stream",
     "text": [
      "Fitting sub-sample scaling relations:  37%|█████████████                      | 34/91 [14:48<24:38, 25.94s/it]"
     ]
    },
    {
     "name": "stdout",
     "output_type": "stream",
     "text": [
      "  |**************************************************| 100%\n"
     ]
    },
    {
     "name": "stderr",
     "output_type": "stream",
     "text": [
      "Fitting sub-sample scaling relations:  38%|█████████████▍                     | 35/91 [15:14<24:13, 25.95s/it]"
     ]
    },
    {
     "name": "stdout",
     "output_type": "stream",
     "text": [
      "  |**************************************************| 100%\n"
     ]
    },
    {
     "name": "stderr",
     "output_type": "stream",
     "text": [
      "Fitting sub-sample scaling relations:  40%|█████████████▊                     | 36/91 [15:40<23:46, 25.93s/it]"
     ]
    },
    {
     "name": "stdout",
     "output_type": "stream",
     "text": [
      "  |**************************************************| 100%\n"
     ]
    },
    {
     "name": "stderr",
     "output_type": "stream",
     "text": [
      "Fitting sub-sample scaling relations:  41%|██████████████▏                    | 37/91 [16:06<23:20, 25.93s/it]"
     ]
    },
    {
     "name": "stdout",
     "output_type": "stream",
     "text": [
      "  |**************************************************| 100%\n"
     ]
    },
    {
     "name": "stderr",
     "output_type": "stream",
     "text": [
      "Fitting sub-sample scaling relations:  42%|██████████████▌                    | 38/91 [16:32<22:56, 25.98s/it]"
     ]
    },
    {
     "name": "stdout",
     "output_type": "stream",
     "text": [
      "  |**************************************************| 100%\n"
     ]
    },
    {
     "name": "stderr",
     "output_type": "stream",
     "text": [
      "Fitting sub-sample scaling relations:  43%|███████████████                    | 39/91 [16:58<22:27, 25.92s/it]"
     ]
    },
    {
     "name": "stdout",
     "output_type": "stream",
     "text": [
      "  |**************************************************| 100%\n"
     ]
    },
    {
     "name": "stderr",
     "output_type": "stream",
     "text": [
      "Fitting sub-sample scaling relations:  44%|███████████████▍                   | 40/91 [17:24<22:02, 25.93s/it]"
     ]
    },
    {
     "name": "stdout",
     "output_type": "stream",
     "text": [
      "  |**************************************************| 100%\n"
     ]
    },
    {
     "name": "stderr",
     "output_type": "stream",
     "text": [
      "Fitting sub-sample scaling relations:  45%|███████████████▊                   | 41/91 [17:50<21:37, 25.95s/it]"
     ]
    },
    {
     "name": "stdout",
     "output_type": "stream",
     "text": [
      "  |**************************************************| 100%\n"
     ]
    },
    {
     "name": "stderr",
     "output_type": "stream",
     "text": [
      "Fitting sub-sample scaling relations:  46%|████████████████▏                  | 42/91 [18:16<21:15, 26.04s/it]"
     ]
    },
    {
     "name": "stdout",
     "output_type": "stream",
     "text": [
      "  |**************************************************| 100%\n"
     ]
    },
    {
     "name": "stderr",
     "output_type": "stream",
     "text": [
      "Fitting sub-sample scaling relations:  47%|████████████████▌                  | 43/91 [18:42<20:47, 25.98s/it]"
     ]
    },
    {
     "name": "stdout",
     "output_type": "stream",
     "text": [
      "  |**************************************************| 100%\n"
     ]
    },
    {
     "name": "stderr",
     "output_type": "stream",
     "text": [
      "Fitting sub-sample scaling relations:  48%|████████████████▉                  | 44/91 [19:08<20:21, 25.99s/it]"
     ]
    },
    {
     "name": "stdout",
     "output_type": "stream",
     "text": [
      "  |**************************************************| 100%\n"
     ]
    },
    {
     "name": "stderr",
     "output_type": "stream",
     "text": [
      "Fitting sub-sample scaling relations:  49%|█████████████████▎                 | 45/91 [19:34<19:52, 25.92s/it]"
     ]
    },
    {
     "name": "stdout",
     "output_type": "stream",
     "text": [
      "  |**************************************************| 100%\n"
     ]
    },
    {
     "name": "stderr",
     "output_type": "stream",
     "text": [
      "Fitting sub-sample scaling relations:  51%|█████████████████▋                 | 46/91 [20:00<19:27, 25.94s/it]"
     ]
    },
    {
     "name": "stdout",
     "output_type": "stream",
     "text": [
      "  |**************************************************| 100%\n"
     ]
    },
    {
     "name": "stderr",
     "output_type": "stream",
     "text": [
      "Fitting sub-sample scaling relations:  52%|██████████████████                 | 47/91 [20:26<19:01, 25.94s/it]"
     ]
    },
    {
     "name": "stdout",
     "output_type": "stream",
     "text": [
      "  |**************************************************| 100%\n"
     ]
    },
    {
     "name": "stderr",
     "output_type": "stream",
     "text": [
      "Fitting sub-sample scaling relations:  53%|██████████████████▍                | 48/91 [20:52<18:41, 26.07s/it]"
     ]
    },
    {
     "name": "stdout",
     "output_type": "stream",
     "text": [
      "  |**************************************************| 100%\n"
     ]
    },
    {
     "name": "stderr",
     "output_type": "stream",
     "text": [
      "Fitting sub-sample scaling relations:  54%|██████████████████▊                | 49/91 [21:18<18:15, 26.07s/it]"
     ]
    },
    {
     "name": "stdout",
     "output_type": "stream",
     "text": [
      "  |**************************************************| 100%\n"
     ]
    },
    {
     "name": "stderr",
     "output_type": "stream",
     "text": [
      "Fitting sub-sample scaling relations:  55%|███████████████████▏               | 50/91 [21:44<17:50, 26.11s/it]"
     ]
    },
    {
     "name": "stdout",
     "output_type": "stream",
     "text": [
      "  |**************************************************| 100%\n"
     ]
    },
    {
     "name": "stderr",
     "output_type": "stream",
     "text": [
      "Fitting sub-sample scaling relations:  56%|███████████████████▌               | 51/91 [22:11<17:24, 26.12s/it]"
     ]
    },
    {
     "name": "stdout",
     "output_type": "stream",
     "text": [
      "  |**************************************************| 100%\n"
     ]
    },
    {
     "name": "stderr",
     "output_type": "stream",
     "text": [
      "Fitting sub-sample scaling relations:  57%|████████████████████               | 52/91 [22:37<16:57, 26.10s/it]"
     ]
    },
    {
     "name": "stdout",
     "output_type": "stream",
     "text": [
      "  |**************************************************| 100%\n"
     ]
    },
    {
     "name": "stderr",
     "output_type": "stream",
     "text": [
      "Fitting sub-sample scaling relations:  58%|████████████████████▍              | 53/91 [23:03<16:30, 26.05s/it]"
     ]
    },
    {
     "name": "stdout",
     "output_type": "stream",
     "text": [
      "  |**************************************************| 100%\n"
     ]
    },
    {
     "name": "stderr",
     "output_type": "stream",
     "text": [
      "Fitting sub-sample scaling relations:  59%|████████████████████▊              | 54/91 [23:29<16:03, 26.03s/it]"
     ]
    },
    {
     "name": "stdout",
     "output_type": "stream",
     "text": [
      "  |**************************************************| 100%\n"
     ]
    },
    {
     "name": "stderr",
     "output_type": "stream",
     "text": [
      "Fitting sub-sample scaling relations:  60%|█████████████████████▏             | 55/91 [23:55<15:39, 26.09s/it]"
     ]
    },
    {
     "name": "stdout",
     "output_type": "stream",
     "text": [
      "  |**************************************************| 100%\n"
     ]
    },
    {
     "name": "stderr",
     "output_type": "stream",
     "text": [
      "Fitting sub-sample scaling relations:  62%|█████████████████████▌             | 56/91 [24:21<15:13, 26.09s/it]"
     ]
    },
    {
     "name": "stdout",
     "output_type": "stream",
     "text": [
      "  |**************************************************| 100%\n"
     ]
    },
    {
     "name": "stderr",
     "output_type": "stream",
     "text": [
      "Fitting sub-sample scaling relations:  63%|█████████████████████▉             | 57/91 [24:47<14:48, 26.13s/it]"
     ]
    },
    {
     "name": "stdout",
     "output_type": "stream",
     "text": [
      "  |**************************************************| 100%\n"
     ]
    },
    {
     "name": "stderr",
     "output_type": "stream",
     "text": [
      "Fitting sub-sample scaling relations:  64%|██████████████████████▎            | 58/91 [25:13<14:22, 26.12s/it]"
     ]
    },
    {
     "name": "stdout",
     "output_type": "stream",
     "text": [
      "  |**************************************************| 100%\n"
     ]
    },
    {
     "name": "stderr",
     "output_type": "stream",
     "text": [
      "Fitting sub-sample scaling relations:  65%|██████████████████████▋            | 59/91 [25:39<13:55, 26.11s/it]"
     ]
    },
    {
     "name": "stdout",
     "output_type": "stream",
     "text": [
      "  |**************************************************| 100%\n"
     ]
    },
    {
     "name": "stderr",
     "output_type": "stream",
     "text": [
      "Fitting sub-sample scaling relations:  66%|███████████████████████            | 60/91 [26:05<13:28, 26.07s/it]"
     ]
    },
    {
     "name": "stdout",
     "output_type": "stream",
     "text": [
      "  |**************************************************| 100%\n"
     ]
    },
    {
     "name": "stderr",
     "output_type": "stream",
     "text": [
      "Fitting sub-sample scaling relations:  67%|███████████████████████▍           | 61/91 [26:31<13:02, 26.10s/it]"
     ]
    },
    {
     "name": "stdout",
     "output_type": "stream",
     "text": [
      "  |**************************************************| 100%\n"
     ]
    },
    {
     "name": "stderr",
     "output_type": "stream",
     "text": [
      "Fitting sub-sample scaling relations:  68%|███████████████████████▊           | 62/91 [26:58<12:36, 26.10s/it]"
     ]
    },
    {
     "name": "stdout",
     "output_type": "stream",
     "text": [
      "  |**************************************************| 100%\n"
     ]
    },
    {
     "name": "stderr",
     "output_type": "stream",
     "text": [
      "Fitting sub-sample scaling relations:  69%|████████████████████████▏          | 63/91 [27:24<12:11, 26.11s/it]"
     ]
    },
    {
     "name": "stdout",
     "output_type": "stream",
     "text": [
      "  |**************************************************| 100%\n"
     ]
    },
    {
     "name": "stderr",
     "output_type": "stream",
     "text": [
      "Fitting sub-sample scaling relations:  70%|████████████████████████▌          | 64/91 [27:50<11:45, 26.14s/it]"
     ]
    },
    {
     "name": "stdout",
     "output_type": "stream",
     "text": [
      "  |**************************************************| 100%\n"
     ]
    },
    {
     "name": "stderr",
     "output_type": "stream",
     "text": [
      "Fitting sub-sample scaling relations:  71%|█████████████████████████          | 65/91 [28:16<11:19, 26.13s/it]"
     ]
    },
    {
     "name": "stdout",
     "output_type": "stream",
     "text": [
      "  |**************************************************| 100%\n"
     ]
    },
    {
     "name": "stderr",
     "output_type": "stream",
     "text": [
      "Fitting sub-sample scaling relations:  73%|█████████████████████████▍         | 66/91 [28:42<10:52, 26.10s/it]"
     ]
    },
    {
     "name": "stdout",
     "output_type": "stream",
     "text": [
      "  |**************************************************| 100%\n"
     ]
    },
    {
     "name": "stderr",
     "output_type": "stream",
     "text": [
      "Fitting sub-sample scaling relations:  74%|█████████████████████████▊         | 67/91 [29:08<10:25, 26.05s/it]"
     ]
    },
    {
     "name": "stdout",
     "output_type": "stream",
     "text": [
      "  |**************************************************| 100%\n"
     ]
    },
    {
     "name": "stderr",
     "output_type": "stream",
     "text": [
      "Fitting sub-sample scaling relations:  75%|██████████████████████████▏        | 68/91 [29:34<09:59, 26.07s/it]"
     ]
    },
    {
     "name": "stdout",
     "output_type": "stream",
     "text": [
      "  |**************************************************| 100%\n"
     ]
    },
    {
     "name": "stderr",
     "output_type": "stream",
     "text": [
      "Fitting sub-sample scaling relations:  76%|██████████████████████████▌        | 69/91 [30:00<09:32, 26.03s/it]"
     ]
    },
    {
     "name": "stdout",
     "output_type": "stream",
     "text": [
      "  |**************************************************| 100%\n"
     ]
    },
    {
     "name": "stderr",
     "output_type": "stream",
     "text": [
      "Fitting sub-sample scaling relations:  77%|██████████████████████████▉        | 70/91 [30:26<09:07, 26.09s/it]"
     ]
    },
    {
     "name": "stdout",
     "output_type": "stream",
     "text": [
      "  |**************************************************| 100%\n"
     ]
    },
    {
     "name": "stderr",
     "output_type": "stream",
     "text": [
      "Fitting sub-sample scaling relations:  78%|███████████████████████████▎       | 71/91 [30:52<08:41, 26.07s/it]"
     ]
    },
    {
     "name": "stdout",
     "output_type": "stream",
     "text": [
      "  |**************************************************| 100%\n"
     ]
    },
    {
     "name": "stderr",
     "output_type": "stream",
     "text": [
      "Fitting sub-sample scaling relations:  79%|███████████████████████████▋       | 72/91 [31:18<08:15, 26.07s/it]"
     ]
    },
    {
     "name": "stdout",
     "output_type": "stream",
     "text": [
      "  |**************************************************| 100%\n"
     ]
    },
    {
     "name": "stderr",
     "output_type": "stream",
     "text": [
      "Fitting sub-sample scaling relations:  80%|████████████████████████████       | 73/91 [31:44<07:49, 26.06s/it]"
     ]
    },
    {
     "name": "stdout",
     "output_type": "stream",
     "text": [
      "  |**************************************************| 100%\n"
     ]
    },
    {
     "name": "stderr",
     "output_type": "stream",
     "text": [
      "Fitting sub-sample scaling relations:  81%|████████████████████████████▍      | 74/91 [32:10<07:22, 26.05s/it]"
     ]
    },
    {
     "name": "stdout",
     "output_type": "stream",
     "text": [
      "  |**************************************************| 100%\n"
     ]
    },
    {
     "name": "stderr",
     "output_type": "stream",
     "text": [
      "Fitting sub-sample scaling relations:  82%|████████████████████████████▊      | 75/91 [32:37<06:57, 26.06s/it]"
     ]
    },
    {
     "name": "stdout",
     "output_type": "stream",
     "text": [
      "  |**************************************************| 100%\n"
     ]
    },
    {
     "name": "stderr",
     "output_type": "stream",
     "text": [
      "Fitting sub-sample scaling relations:  84%|█████████████████████████████▏     | 76/91 [33:03<06:31, 26.11s/it]"
     ]
    },
    {
     "name": "stdout",
     "output_type": "stream",
     "text": [
      "  |**************************************************| 100%\n"
     ]
    },
    {
     "name": "stderr",
     "output_type": "stream",
     "text": [
      "Fitting sub-sample scaling relations:  85%|█████████████████████████████▌     | 77/91 [33:29<06:05, 26.12s/it]"
     ]
    },
    {
     "name": "stdout",
     "output_type": "stream",
     "text": [
      "  |**************************************************| 100%\n"
     ]
    },
    {
     "name": "stderr",
     "output_type": "stream",
     "text": [
      "Fitting sub-sample scaling relations:  86%|██████████████████████████████     | 78/91 [33:55<05:39, 26.11s/it]"
     ]
    },
    {
     "name": "stdout",
     "output_type": "stream",
     "text": [
      "  |**************************************************| 100%\n"
     ]
    },
    {
     "name": "stderr",
     "output_type": "stream",
     "text": [
      "Fitting sub-sample scaling relations:  87%|██████████████████████████████▍    | 79/91 [34:21<05:12, 26.02s/it]"
     ]
    },
    {
     "name": "stdout",
     "output_type": "stream",
     "text": [
      "  |**************************************************| 100%\n"
     ]
    },
    {
     "name": "stderr",
     "output_type": "stream",
     "text": [
      "Fitting sub-sample scaling relations:  88%|██████████████████████████████▊    | 80/91 [34:47<04:46, 26.01s/it]"
     ]
    },
    {
     "name": "stdout",
     "output_type": "stream",
     "text": [
      "  |**************************************************| 100%\n"
     ]
    },
    {
     "name": "stderr",
     "output_type": "stream",
     "text": [
      "Fitting sub-sample scaling relations:  89%|███████████████████████████████▏   | 81/91 [35:13<04:19, 25.99s/it]"
     ]
    },
    {
     "name": "stdout",
     "output_type": "stream",
     "text": [
      "  |**************************************************| 100%\n"
     ]
    },
    {
     "name": "stderr",
     "output_type": "stream",
     "text": [
      "Fitting sub-sample scaling relations:  90%|███████████████████████████████▌   | 82/91 [35:39<03:54, 26.00s/it]"
     ]
    },
    {
     "name": "stdout",
     "output_type": "stream",
     "text": [
      "  |**************************************************| 100%\n"
     ]
    },
    {
     "name": "stderr",
     "output_type": "stream",
     "text": [
      "Fitting sub-sample scaling relations:  91%|███████████████████████████████▉   | 83/91 [36:05<03:28, 26.05s/it]"
     ]
    },
    {
     "name": "stdout",
     "output_type": "stream",
     "text": [
      "  |**************************************************| 100%\n"
     ]
    },
    {
     "name": "stderr",
     "output_type": "stream",
     "text": [
      "Fitting sub-sample scaling relations:  92%|████████████████████████████████▎  | 84/91 [36:31<03:02, 26.08s/it]"
     ]
    },
    {
     "name": "stdout",
     "output_type": "stream",
     "text": [
      "  |**************************************************| 100%\n"
     ]
    },
    {
     "name": "stderr",
     "output_type": "stream",
     "text": [
      "Fitting sub-sample scaling relations:  93%|████████████████████████████████▋  | 85/91 [36:57<02:36, 26.05s/it]"
     ]
    },
    {
     "name": "stdout",
     "output_type": "stream",
     "text": [
      "  |**************************************************| 100%\n"
     ]
    },
    {
     "name": "stderr",
     "output_type": "stream",
     "text": [
      "Fitting sub-sample scaling relations:  95%|█████████████████████████████████  | 86/91 [37:23<02:10, 26.06s/it]"
     ]
    },
    {
     "name": "stdout",
     "output_type": "stream",
     "text": [
      "  |**************************************************| 100%\n"
     ]
    },
    {
     "name": "stderr",
     "output_type": "stream",
     "text": [
      "Fitting sub-sample scaling relations:  96%|█████████████████████████████████▍ | 87/91 [37:49<01:44, 26.13s/it]"
     ]
    },
    {
     "name": "stdout",
     "output_type": "stream",
     "text": [
      "  |**************************************************| 100%\n"
     ]
    },
    {
     "name": "stderr",
     "output_type": "stream",
     "text": [
      "Fitting sub-sample scaling relations:  97%|█████████████████████████████████▊ | 88/91 [38:15<01:18, 26.07s/it]"
     ]
    },
    {
     "name": "stdout",
     "output_type": "stream",
     "text": [
      "  |**************************************************| 100%\n"
     ]
    },
    {
     "name": "stderr",
     "output_type": "stream",
     "text": [
      "Fitting sub-sample scaling relations:  98%|██████████████████████████████████▏| 89/91 [38:42<00:52, 26.12s/it]"
     ]
    },
    {
     "name": "stdout",
     "output_type": "stream",
     "text": [
      "  |**************************************************| 100%\n"
     ]
    },
    {
     "name": "stderr",
     "output_type": "stream",
     "text": [
      "Fitting sub-sample scaling relations:  99%|██████████████████████████████████▌| 90/91 [39:07<00:26, 26.06s/it]"
     ]
    },
    {
     "name": "stdout",
     "output_type": "stream",
     "text": [
      "  |**************************************************| 100%\n"
     ]
    },
    {
     "name": "stderr",
     "output_type": "stream",
     "text": [
      "Fitting sub-sample scaling relations: 100%|███████████████████████████████████| 91/91 [39:33<00:00, 26.09s/it]\n"
     ]
    }
   ],
   "source": [
    "l1_mtot2500_mgas2500_rels, l1_mtot2500_mgas2500_res = leave_one_jackknife(sdssxcs_samp_with_gm2500, mtot2500_mgas2500, \n",
    "                                                                      x_cols=['Mg2500_wraderr', 'Mg2500_wraderr-', 'Mg2500_wraderr+'],\n",
    "                                                                      y_cols=['Mhy2500_wraderr', 'Mhy2500_wraderr-', 'Mhy2500_wraderr+'],\n",
    "                                                                      x_name=r\"$M^{\\rm{gas}}_{2500}$\", x_norm=mgas_norm, dim_hubb_ind=0,\n",
    "                                                                      y_name=r\"$M^{\\rm{tot}}_{2500}$\", x_mult=1e+14)"
   ]
  },
  {
   "cell_type": "markdown",
   "id": "44e1c03f-68a9-4441-8569-588a363330d3",
   "metadata": {},
   "source": [
    "One of the outputs of the jackknifing function is a dataframe containing the relation parameters linked to the name of the cluster that was excluded in each case - we save them to disk as well as making use of them later to measure scaling relations with the scatter-dominating clusters removed."
   ]
  },
  {
   "cell_type": "code",
   "execution_count": 18,
   "id": "1f4728a5-74d7-4ca3-87f7-aeb0b04a5b00",
   "metadata": {},
   "outputs": [
    {
     "data": {
      "text/html": [
       "<div>\n",
       "<style scoped>\n",
       "    .dataframe tbody tr th:only-of-type {\n",
       "        vertical-align: middle;\n",
       "    }\n",
       "\n",
       "    .dataframe tbody tr th {\n",
       "        vertical-align: top;\n",
       "    }\n",
       "\n",
       "    .dataframe thead th {\n",
       "        text-align: right;\n",
       "    }\n",
       "</style>\n",
       "<table border=\"1\" class=\"dataframe\">\n",
       "  <thead>\n",
       "    <tr style=\"text-align: right;\">\n",
       "      <th></th>\n",
       "      <th>dropped_cluster</th>\n",
       "      <th>slope</th>\n",
       "      <th>slope+-</th>\n",
       "      <th>norm</th>\n",
       "      <th>norm+-</th>\n",
       "      <th>scatter</th>\n",
       "      <th>scatter+-</th>\n",
       "      <th>scatter_perc_change</th>\n",
       "    </tr>\n",
       "  </thead>\n",
       "  <tbody>\n",
       "    <tr>\n",
       "      <th>0</th>\n",
       "      <td>SDSSXCS-1018</td>\n",
       "      <td>0.5748</td>\n",
       "      <td>0.0454</td>\n",
       "      <td>1.3454</td>\n",
       "      <td>0.0547</td>\n",
       "      <td>0.1510</td>\n",
       "      <td>0.0138</td>\n",
       "      <td>0.733</td>\n",
       "    </tr>\n",
       "    <tr>\n",
       "      <th>1</th>\n",
       "      <td>SDSSXCS-10401</td>\n",
       "      <td>0.5581</td>\n",
       "      <td>0.0449</td>\n",
       "      <td>1.3603</td>\n",
       "      <td>0.0540</td>\n",
       "      <td>0.1464</td>\n",
       "      <td>0.0135</td>\n",
       "      <td>-2.373</td>\n",
       "    </tr>\n",
       "    <tr>\n",
       "      <th>2</th>\n",
       "      <td>SDSSXCS-110</td>\n",
       "      <td>0.5702</td>\n",
       "      <td>0.0449</td>\n",
       "      <td>1.3363</td>\n",
       "      <td>0.0533</td>\n",
       "      <td>0.1483</td>\n",
       "      <td>0.0136</td>\n",
       "      <td>-1.117</td>\n",
       "    </tr>\n",
       "    <tr>\n",
       "      <th>3</th>\n",
       "      <td>SDSSXCS-11154</td>\n",
       "      <td>0.5749</td>\n",
       "      <td>0.0452</td>\n",
       "      <td>1.3496</td>\n",
       "      <td>0.0545</td>\n",
       "      <td>0.1501</td>\n",
       "      <td>0.0137</td>\n",
       "      <td>0.093</td>\n",
       "    </tr>\n",
       "    <tr>\n",
       "      <th>4</th>\n",
       "      <td>SDSSXCS-1131</td>\n",
       "      <td>0.5749</td>\n",
       "      <td>0.0452</td>\n",
       "      <td>1.3454</td>\n",
       "      <td>0.0544</td>\n",
       "      <td>0.1505</td>\n",
       "      <td>0.0137</td>\n",
       "      <td>0.402</td>\n",
       "    </tr>\n",
       "    <tr>\n",
       "      <th>5</th>\n",
       "      <td>SDSSXCS-11331</td>\n",
       "      <td>0.5744</td>\n",
       "      <td>0.0442</td>\n",
       "      <td>1.3562</td>\n",
       "      <td>0.0537</td>\n",
       "      <td>0.1469</td>\n",
       "      <td>0.0136</td>\n",
       "      <td>-2.041</td>\n",
       "    </tr>\n",
       "  </tbody>\n",
       "</table>\n",
       "</div>"
      ],
      "text/plain": [
       "  dropped_cluster   slope  slope+-    norm  norm+-  scatter  scatter+-  \\\n",
       "0    SDSSXCS-1018  0.5748   0.0454  1.3454  0.0547   0.1510     0.0138   \n",
       "1   SDSSXCS-10401  0.5581   0.0449  1.3603  0.0540   0.1464     0.0135   \n",
       "2     SDSSXCS-110  0.5702   0.0449  1.3363  0.0533   0.1483     0.0136   \n",
       "3   SDSSXCS-11154  0.5749   0.0452  1.3496  0.0545   0.1501     0.0137   \n",
       "4    SDSSXCS-1131  0.5749   0.0452  1.3454  0.0544   0.1505     0.0137   \n",
       "5   SDSSXCS-11331  0.5744   0.0442  1.3562  0.0537   0.1469     0.0136   \n",
       "\n",
       "   scatter_perc_change  \n",
       "0                0.733  \n",
       "1               -2.373  \n",
       "2               -1.117  \n",
       "3                0.093  \n",
       "4                0.402  \n",
       "5               -2.041  "
      ]
     },
     "execution_count": 18,
     "metadata": {},
     "output_type": "execute_result"
    }
   ],
   "source": [
    "l1_mtot2500_mgas2500_res.to_csv(\"../../outputs/result_files/exploring_scatter/leave_one_jackknife/mtot-mgas/\"\\\n",
    "                                \"mtot2500_mgas2500_l1_jackknife_rel_pars.csv\")\n",
    "l1_mtot2500_mgas2500_res.head(6)"
   ]
  },
  {
   "cell_type": "markdown",
   "id": "1dd54c93-9b1c-4a0d-a966-9e4ebed3ac88",
   "metadata": {},
   "source": [
    "#### Diagnostic distribution of percentage change of scatter"
   ]
  },
  {
   "cell_type": "code",
   "execution_count": 19,
   "id": "015fea0c-4ef4-4836-a9a6-70f7bc53bfc0",
   "metadata": {},
   "outputs": [
    {
     "data": {
      "image/png": "[encoded data removed]",
      "text/plain": [
       "<Figure size 500x500 with 1 Axes>"
      ]
     },
     "metadata": {},
     "output_type": "display_data"
    },
    {
     "name": "stdout",
     "output_type": "stream",
     "text": [
      "Median percentage change in scatter of 0.42%\n",
      "90% confidence limits on percentage change in scatter of -2.65% to 0.80%\n",
      "\n"
     ]
    }
   ],
   "source": [
    "plt.figure(figsize=(5, 5))\n",
    "\n",
    "plt.minorticks_on()\n",
    "plt.tick_params(which='both', direction='in', top=True, right=True)\n",
    "\n",
    "# Plotting the distribution of percentage change in scatter values\n",
    "plt.hist(l1_mtot2500_mgas2500_res['scatter_perc_change'].values, bins='auto', color='seagreen', alpha=0.65, \n",
    "         label=r\"$\\sigma$ change distribution\", histtype='step', linewidth=3)\n",
    "\n",
    "# Calculating the median and specified confidence intervals\n",
    "cur_med = np.median(l1_mtot2500_mgas2500_res['scatter_perc_change'].values)\n",
    "cur_low = np.percentile(l1_mtot2500_mgas2500_res['scatter_perc_change'].values, (50-(CONF_PERC/2)))\n",
    "cur_upp = np.percentile(l1_mtot2500_mgas2500_res['scatter_perc_change'].values, (50+(CONF_PERC/2)))\n",
    "\n",
    "plt.axvline(cur_med, color='black', label='Median')\n",
    "plt.axvline(cur_low, color='black', linestyle='dashed', label='{}% limits'.format(CONF_PERC))\n",
    "plt.axvline(cur_upp, color='black', linestyle='dashed')\n",
    "\n",
    "\n",
    "plt.title(r'$M^{\\rm{tot}}_{2500}$-$M^{\\rm{gas}}_{2500}$ scatter change with jackknife')\n",
    "plt.ylabel('N', fontsize=14)\n",
    "plt.xlabel(r'$\\dfrac{\\sigma_{\\rm{jackknife}}-\\sigma_{\\rm{original}}}{\\sigma_{\\rm{original}}}$ [%]', fontsize=14)\n",
    "\n",
    "plt.legend()\n",
    "plt.tight_layout()\n",
    "plt.show()\n",
    "\n",
    "print(\"Median percentage change in scatter of {v:.2f}%\".format(v=cur_med))\n",
    "print(\"{c}% confidence limits on percentage change in scatter of {l:.2f}% to \"\\\n",
    "      \"{u:.2f}%\\n\".format(c=CONF_PERC, l=cur_low, u=cur_upp))"
   ]
  },
  {
   "cell_type": "markdown",
   "id": "cb72ab28-723c-4e21-90f1-f91592444c98",
   "metadata": {},
   "source": [
    "#### Selecting 'scatter-dominating' clusters"
   ]
  },
  {
   "cell_type": "code",
   "execution_count": 20,
   "id": "7fe8bc16-e471-4cdd-8267-5255452fe9f9",
   "metadata": {},
   "outputs": [
    {
     "data": {
      "text/html": [
       "<div>\n",
       "<style scoped>\n",
       "    .dataframe tbody tr th:only-of-type {\n",
       "        vertical-align: middle;\n",
       "    }\n",
       "\n",
       "    .dataframe tbody tr th {\n",
       "        vertical-align: top;\n",
       "    }\n",
       "\n",
       "    .dataframe thead th {\n",
       "        text-align: right;\n",
       "    }\n",
       "</style>\n",
       "<table border=\"1\" class=\"dataframe\">\n",
       "  <thead>\n",
       "    <tr style=\"text-align: right;\">\n",
       "      <th></th>\n",
       "      <th>dropped_cluster</th>\n",
       "      <th>slope</th>\n",
       "      <th>slope+-</th>\n",
       "      <th>norm</th>\n",
       "      <th>norm+-</th>\n",
       "      <th>scatter</th>\n",
       "      <th>scatter+-</th>\n",
       "      <th>scatter_perc_change</th>\n",
       "    </tr>\n",
       "  </thead>\n",
       "  <tbody>\n",
       "    <tr>\n",
       "      <th>19</th>\n",
       "      <td>SDSSXCS-176</td>\n",
       "      <td>0.5924</td>\n",
       "      <td>0.0445</td>\n",
       "      <td>1.3279</td>\n",
       "      <td>0.0523</td>\n",
       "      <td>0.1449</td>\n",
       "      <td>0.0134</td>\n",
       "      <td>-3.383</td>\n",
       "    </tr>\n",
       "    <tr>\n",
       "      <th>55</th>\n",
       "      <td>SDSSXCS-457</td>\n",
       "      <td>0.5830</td>\n",
       "      <td>0.0442</td>\n",
       "      <td>1.3565</td>\n",
       "      <td>0.0534</td>\n",
       "      <td>0.1455</td>\n",
       "      <td>0.0134</td>\n",
       "      <td>-2.935</td>\n",
       "    </tr>\n",
       "    <tr>\n",
       "      <th>60</th>\n",
       "      <td>SDSSXCS-5159</td>\n",
       "      <td>0.6121</td>\n",
       "      <td>0.0451</td>\n",
       "      <td>1.3219</td>\n",
       "      <td>0.0517</td>\n",
       "      <td>0.1432</td>\n",
       "      <td>0.0129</td>\n",
       "      <td>-4.490</td>\n",
       "    </tr>\n",
       "    <tr>\n",
       "      <th>61</th>\n",
       "      <td>SDSSXCS-5225</td>\n",
       "      <td>0.5684</td>\n",
       "      <td>0.0438</td>\n",
       "      <td>1.3610</td>\n",
       "      <td>0.0532</td>\n",
       "      <td>0.1445</td>\n",
       "      <td>0.0134</td>\n",
       "      <td>-3.644</td>\n",
       "    </tr>\n",
       "    <tr>\n",
       "      <th>82</th>\n",
       "      <td>SDSSXCS-8060</td>\n",
       "      <td>0.5980</td>\n",
       "      <td>0.0439</td>\n",
       "      <td>1.3245</td>\n",
       "      <td>0.0514</td>\n",
       "      <td>0.1421</td>\n",
       "      <td>0.0132</td>\n",
       "      <td>-5.226</td>\n",
       "    </tr>\n",
       "  </tbody>\n",
       "</table>\n",
       "</div>"
      ],
      "text/plain": [
       "   dropped_cluster   slope  slope+-    norm  norm+-  scatter  scatter+-  \\\n",
       "19     SDSSXCS-176  0.5924   0.0445  1.3279  0.0523   0.1449     0.0134   \n",
       "55     SDSSXCS-457  0.5830   0.0442  1.3565  0.0534   0.1455     0.0134   \n",
       "60    SDSSXCS-5159  0.6121   0.0451  1.3219  0.0517   0.1432     0.0129   \n",
       "61    SDSSXCS-5225  0.5684   0.0438  1.3610  0.0532   0.1445     0.0134   \n",
       "82    SDSSXCS-8060  0.5980   0.0439  1.3245  0.0514   0.1421     0.0132   \n",
       "\n",
       "    scatter_perc_change  \n",
       "19               -3.383  \n",
       "55               -2.935  \n",
       "60               -4.490  \n",
       "61               -3.644  \n",
       "82               -5.226  "
      ]
     },
     "execution_count": 20,
     "metadata": {},
     "output_type": "execute_result"
    }
   ],
   "source": [
    "l1_mtot2500_mgas2500_domin = l1_mtot2500_mgas2500_res[l1_mtot2500_mgas2500_res['scatter_perc_change'] < cur_low]\n",
    "l1_mtot2500_mgas2500_domin"
   ]
  },
  {
   "cell_type": "markdown",
   "id": "7060e3a6-1af5-425e-93ee-05d128776e7f",
   "metadata": {},
   "source": [
    "#### Fitting a new version of the relation without the 'scatter-dominating' clusters"
   ]
  },
  {
   "cell_type": "code",
   "execution_count": 21,
   "id": "d7ffe43d-0926-4bc1-8de4-a7bad333109d",
   "metadata": {},
   "outputs": [
    {
     "name": "stdout",
     "output_type": "stream",
     "text": [
      "  |**************************************************| 100%\n"
     ]
    }
   ],
   "source": [
    "cur_samp_wo_domin = sdssxcs_samp_with_gm2500[~sdssxcs_samp_with_gm2500['name'].isin(l1_mtot2500_mgas2500_domin['dropped_cluster'].values)]\n",
    "\n",
    "\n",
    "# Setting up property variables in astropy quantity objects\n",
    "mtot2500 = Quantity(cur_samp_wo_domin[['Mhy2500_wraderr', 'Mhy2500_wraderr-', 'Mhy2500_wraderr+']].values*1e+14, 'Msun')\n",
    "mgas2500 = Quantity(cur_samp_wo_domin[['Mg2500_wraderr', 'Mg2500_wraderr-', 'Mg2500_wraderr+']].values*1e+14, 'Msun')\n",
    "\n",
    "mtot2500_mgas2500_wo_domin = scaling_relation_lira(mtot2500[:, 0], mtot2500[:, 1:], mgas2500[:, 0], mgas2500[:, 1:], \n",
    "                                                   m_norm, mgas_norm, y_name=r\"$M^{\\rm{tot}}_{2500}$\", \n",
    "                                                   x_name=r\"$M^{\\rm{gas}}_{2500}$\", \n",
    "                                                   point_names=cur_samp_wo_domin['name'].values)\n",
    "mtot2500_mgas2500_wo_domin.model_colour = 'darkmagenta'\n",
    "mtot2500_mgas2500_wo_domin.author = 'Turner et al.'\n",
    "mtot2500_mgas2500_wo_domin.year = 2025\n",
    "mtot2500_mgas2500_wo_domin.name = r\"Turner et al. '$\\sigma$ dominating excluded' $M^{\\rm{tot}}_{2500}$-$M^{\\rm{gas}}_{2500}$\""
   ]
  },
  {
   "cell_type": "code",
   "execution_count": 22,
   "id": "97f80bec-1aa3-4fd8-9f78-88c9c576d98a",
   "metadata": {},
   "outputs": [
    {
     "name": "stdout",
     "output_type": "stream",
     "text": [
      "Slope of 0.662 ± 0.039\n",
      "\n",
      "Normalisation of 1.306 ± 0.044\n",
      "\n",
      "Scatter of 0.114 ± 0.011\n"
     ]
    }
   ],
   "source": [
    "print(\"Slope of {v:.3f} ± {e:.3f}\\n\".format(v=mtot2500_mgas2500_wo_domin.pars[0][0], e=mtot2500_mgas2500_wo_domin.pars[0][1]))\n",
    "print(\"Normalisation of {v:.3f} ± {e:.3f}\\n\".format(v=mtot2500_mgas2500_wo_domin.pars[1][0], e=mtot2500_mgas2500_wo_domin.pars[1][1]))\n",
    "print(\"Scatter of {v:.3f} ± {e:.3f}\".format(v=mtot2500_mgas2500_wo_domin.scatter_par[0], e=mtot2500_mgas2500_wo_domin.scatter_par[1]))"
   ]
  }
 ],
 "metadata": {
  "kernelspec": {
   "display_name": "Python 3 (ipykernel)",
   "language": "python",
   "name": "python3"
  },
  "language_info": {
   "codemirror_mode": {
    "name": "ipython",
    "version": 3
   },
   "file_extension": ".py",
   "mimetype": "text/x-python",
   "name": "python",
   "nbconvert_exporter": "python",
   "pygments_lexer": "ipython3",
   "version": "3.12.5"
  }
 },
 "nbformat": 4,
 "nbformat_minor": 5
}
