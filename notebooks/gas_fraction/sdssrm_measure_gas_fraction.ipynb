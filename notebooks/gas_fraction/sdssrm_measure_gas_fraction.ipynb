{
 "cells": [
  {
   "cell_type": "markdown",
   "id": "12fc8c21-4058-44ed-9b2d-618498bdb435",
   "metadata": {},
   "source": [
    "# SDSSRM-XCS gas fraction: Evolution with mass?"
   ]
  },
  {
   "cell_type": "markdown",
   "id": "117db452-11c0-4a43-8302-18ce15b11986",
   "metadata": {},
   "source": [
    "This section of the project uses the properties measured in the first paper of this series [(Turner et al. 2024)](https://ui.adsabs.harvard.edu/abs/2025MNRAS.tmp...10T/abstract), specifically total/hydrostatic mass ($M_{\\rm{tot}}$, or $M^{\\rm{tot}}_{\\Delta}$ within an overdensity radius $R_{\\Delta}$), and hot gas mass of galaxy clusters and groups ($M_{\\rm{gas}}$, or $M^{\\rm{gas}}_{\\Delta}$), to measure the gas fraction ($f_{\\rm{gas}}$). This is ratio of mass contained in the hot ICM, to the overall halo mass, and in a perfect Universe would be 'set' just by the Universe's overall baryon fraction.\n",
    "\n",
    "That is a simplification however, and in reality a whole host of factors contribute to shifting cluster $f_{\\rm{gas}}$ from the cosmic value, not least of which is the fact that in **this measurement** we are not taking into account all the baryons in a cluster (some are locked in galaxies/stars, some are in cooler phases of the ICM). Other factors include feedback processes, which can have outsized effects on lower-mass clusters and groups, causing their hot ICM to 'puff up' and be pushed to the very outskirts of the halo. Previous work has identified an evolution of the baryon fraction with halo mass.\n",
    "\n",
    "As the first paper of this series produced a dataset with measures of the total and hot-gas masses, and we have already measured $M_{\\rm{tot}}$-$M_{\\rm{gas}}$ scaling relations, we take this opportunity to make a new measure of the gas fraction in clusters\n",
    "\n",
    "Scaling relation fits were performed using the XGA interface to the R scaling-relation fitting package LIRA, see the paper for full details."
   ]
  },
  {
   "cell_type": "markdown",
   "id": "8c14f5bd-4e78-49f6-8b0c-8bacd3929548",
   "metadata": {},
   "source": [
    "## Main takeaways"
   ]
  },
  {
   "cell_type": "markdown",
   "id": "834e64b5-9b3b-4e0c-92d6-f46ad57d5e07",
   "metadata": {},
   "source": [
    "In summary:\n",
    "\n",
    "* We calculate $f_{\\rm{gas}}$ distributions within $R_{2500}$ and $R_{500}$, using hydrostatic and gas masses from the first paper in this series. The $R_{2500}$ and $R_{500}$ distributions contains **91** and **104** clusters respectively.\n",
    "* "
   ]
  },
  {
   "cell_type": "markdown",
   "id": "9a81d382-98bf-40d5-b629-414bc35421e9",
   "metadata": {},
   "source": [
    "## Import Statements"
   ]
  },
  {
   "cell_type": "code",
   "execution_count": 31,
   "id": "b8ace6ca-654a-41c2-bca0-cd7eb260c003",
   "metadata": {},
   "outputs": [],
   "source": [
    "from astropy.units import Quantity\n",
    "from astropy.cosmology import Planck18\n",
    "import numpy as np\n",
    "import pickle\n",
    "import matplotlib.pyplot as plt\n",
    "import pandas as pd\n",
    "\n",
    "# This adds the directory above to the path, allowing me to import the common functions that I've written in\n",
    "#  common.py - this just saves me repeating boring code and makes sure its all consistent\n",
    "import sys\n",
    "sys.path.insert(0, '..')\n",
    "from common import xcs_cosmo"
   ]
  },
  {
   "cell_type": "markdown",
   "id": "8aadcfe5-111b-4a29-8d71-5fa4600030d9",
   "metadata": {},
   "source": [
    "## Loading data files and relations"
   ]
  },
  {
   "cell_type": "markdown",
   "id": "6464bea5-ec59-4c51-8def-da775b83bac8",
   "metadata": {},
   "source": [
    "We load the new SDSSRM-XCS scaling relations between total mass and gas mass, as they contain all the information required to calculate the gas fractions for the SDSSRM-XCS galaxy clusters. The relation data points will be used to create an $f_{\\rm{gas}}$ distribution, and the relation fit models will constrain any mass evolution.\n",
    "\n",
    "The 'base' SDSSRM-XCS sample file is also loaded, so that output gas fraction measurement files can have an entry for every cluster in the SDSSRM-XCS sample, even if we couldn't calculate an $f_{\\rm{gas}}$ value because of a lack of cluster mass measurement."
   ]
  },
  {
   "cell_type": "markdown",
   "id": "1398a783-9ce3-4c9f-a1b9-1f6d73a1f303",
   "metadata": {},
   "source": [
    "### SDSSRM-XCS base sample"
   ]
  },
  {
   "cell_type": "code",
   "execution_count": 32,
   "id": "377a76b5-5925-45ef-9ed1-2a18b70f3b68",
   "metadata": {},
   "outputs": [
    {
     "data": {
      "text/html": [
       "<div>\n",
       "<style scoped>\n",
       "    .dataframe tbody tr th:only-of-type {\n",
       "        vertical-align: middle;\n",
       "    }\n",
       "\n",
       "    .dataframe tbody tr th {\n",
       "        vertical-align: top;\n",
       "    }\n",
       "\n",
       "    .dataframe thead th {\n",
       "        text-align: right;\n",
       "    }\n",
       "</style>\n",
       "<table border=\"1\" class=\"dataframe\">\n",
       "  <thead>\n",
       "    <tr style=\"text-align: right;\">\n",
       "      <th></th>\n",
       "      <th>name</th>\n",
       "      <th>MEM_MATCH_ID</th>\n",
       "      <th>xapa_ra</th>\n",
       "      <th>xapa_dec</th>\n",
       "      <th>rm_ra</th>\n",
       "      <th>rm_dec</th>\n",
       "      <th>z</th>\n",
       "      <th>r500</th>\n",
       "      <th>r500-</th>\n",
       "      <th>r500+</th>\n",
       "      <th>richness</th>\n",
       "      <th>richness_err</th>\n",
       "      <th>XCS_NAME</th>\n",
       "      <th>R_LAMBDA</th>\n",
       "      <th>xmm_targeted</th>\n",
       "      <th>xmm_serendipitous</th>\n",
       "    </tr>\n",
       "  </thead>\n",
       "  <tbody>\n",
       "    <tr>\n",
       "      <th>0</th>\n",
       "      <td>SDSSXCS-124</td>\n",
       "      <td>124</td>\n",
       "      <td>0.80058</td>\n",
       "      <td>-6.09182</td>\n",
       "      <td>0.798261</td>\n",
       "      <td>-6.091694</td>\n",
       "      <td>0.2475</td>\n",
       "      <td>1181.028</td>\n",
       "      <td>21.202</td>\n",
       "      <td>23.203</td>\n",
       "      <td>109.550</td>\n",
       "      <td>4.490</td>\n",
       "      <td>XMMXCS J000312.1-060530.5</td>\n",
       "      <td>1.018410</td>\n",
       "      <td>Y</td>\n",
       "      <td>NaN</td>\n",
       "    </tr>\n",
       "    <tr>\n",
       "      <th>1</th>\n",
       "      <td>SDSSXCS-2789</td>\n",
       "      <td>2789</td>\n",
       "      <td>0.95554</td>\n",
       "      <td>2.06802</td>\n",
       "      <td>0.956981</td>\n",
       "      <td>2.066469</td>\n",
       "      <td>0.1053</td>\n",
       "      <td>1007.861</td>\n",
       "      <td>17.194</td>\n",
       "      <td>17.202</td>\n",
       "      <td>38.904</td>\n",
       "      <td>2.830</td>\n",
       "      <td>XMMXCS J000349.3+020404.8</td>\n",
       "      <td>0.827942</td>\n",
       "      <td>Y</td>\n",
       "      <td>NaN</td>\n",
       "    </tr>\n",
       "    <tr>\n",
       "      <th>2</th>\n",
       "      <td>SDSSXCS-290</td>\n",
       "      <td>290</td>\n",
       "      <td>2.72264</td>\n",
       "      <td>29.16102</td>\n",
       "      <td>2.714137</td>\n",
       "      <td>29.161154</td>\n",
       "      <td>0.3485</td>\n",
       "      <td>913.052</td>\n",
       "      <td>30.879</td>\n",
       "      <td>31.210</td>\n",
       "      <td>105.096</td>\n",
       "      <td>5.994</td>\n",
       "      <td>XMMXCS J001053.4+290939.6</td>\n",
       "      <td>1.009990</td>\n",
       "      <td>Y</td>\n",
       "      <td>NaN</td>\n",
       "    </tr>\n",
       "    <tr>\n",
       "      <th>3</th>\n",
       "      <td>SDSSXCS-1018</td>\n",
       "      <td>1018</td>\n",
       "      <td>4.40633</td>\n",
       "      <td>-0.87619</td>\n",
       "      <td>4.406711</td>\n",
       "      <td>-0.878340</td>\n",
       "      <td>0.2144</td>\n",
       "      <td>902.259</td>\n",
       "      <td>22.445</td>\n",
       "      <td>23.366</td>\n",
       "      <td>56.997</td>\n",
       "      <td>3.219</td>\n",
       "      <td>XMMXCS J001737.5-005234.2</td>\n",
       "      <td>0.893655</td>\n",
       "      <td>NaN</td>\n",
       "      <td>Y</td>\n",
       "    </tr>\n",
       "    <tr>\n",
       "      <th>4</th>\n",
       "      <td>SDSSXCS-134</td>\n",
       "      <td>134</td>\n",
       "      <td>4.90839</td>\n",
       "      <td>3.60982</td>\n",
       "      <td>4.911069</td>\n",
       "      <td>3.599257</td>\n",
       "      <td>0.2773</td>\n",
       "      <td>1123.321</td>\n",
       "      <td>19.219</td>\n",
       "      <td>19.226</td>\n",
       "      <td>108.604</td>\n",
       "      <td>4.792</td>\n",
       "      <td>XMMXCS J001938.0+033635.3</td>\n",
       "      <td>1.016645</td>\n",
       "      <td>Y</td>\n",
       "      <td>NaN</td>\n",
       "    </tr>\n",
       "    <tr>\n",
       "      <th>5</th>\n",
       "      <td>SDSSXCS-119</td>\n",
       "      <td>119</td>\n",
       "      <td>8.46470</td>\n",
       "      <td>-7.86290</td>\n",
       "      <td>8.471426</td>\n",
       "      <td>-7.869543</td>\n",
       "      <td>0.3042</td>\n",
       "      <td>944.275</td>\n",
       "      <td>46.422</td>\n",
       "      <td>46.747</td>\n",
       "      <td>128.192</td>\n",
       "      <td>5.697</td>\n",
       "      <td>XMMXCS J003351.5-075146.4</td>\n",
       "      <td>1.050926</td>\n",
       "      <td>Y</td>\n",
       "      <td>NaN</td>\n",
       "    </tr>\n",
       "  </tbody>\n",
       "</table>\n",
       "</div>"
      ],
      "text/plain": [
       "           name  MEM_MATCH_ID  xapa_ra  xapa_dec     rm_ra     rm_dec       z  \\\n",
       "0   SDSSXCS-124           124  0.80058  -6.09182  0.798261  -6.091694  0.2475   \n",
       "1  SDSSXCS-2789          2789  0.95554   2.06802  0.956981   2.066469  0.1053   \n",
       "2   SDSSXCS-290           290  2.72264  29.16102  2.714137  29.161154  0.3485   \n",
       "3  SDSSXCS-1018          1018  4.40633  -0.87619  4.406711  -0.878340  0.2144   \n",
       "4   SDSSXCS-134           134  4.90839   3.60982  4.911069   3.599257  0.2773   \n",
       "5   SDSSXCS-119           119  8.46470  -7.86290  8.471426  -7.869543  0.3042   \n",
       "\n",
       "       r500   r500-   r500+  richness  richness_err  \\\n",
       "0  1181.028  21.202  23.203   109.550         4.490   \n",
       "1  1007.861  17.194  17.202    38.904         2.830   \n",
       "2   913.052  30.879  31.210   105.096         5.994   \n",
       "3   902.259  22.445  23.366    56.997         3.219   \n",
       "4  1123.321  19.219  19.226   108.604         4.792   \n",
       "5   944.275  46.422  46.747   128.192         5.697   \n",
       "\n",
       "                    XCS_NAME  R_LAMBDA xmm_targeted xmm_serendipitous  \n",
       "0  XMMXCS J000312.1-060530.5  1.018410            Y               NaN  \n",
       "1  XMMXCS J000349.3+020404.8  0.827942            Y               NaN  \n",
       "2  XMMXCS J001053.4+290939.6  1.009990            Y               NaN  \n",
       "3  XMMXCS J001737.5-005234.2  0.893655          NaN                 Y  \n",
       "4  XMMXCS J001938.0+033635.3  1.016645            Y               NaN  \n",
       "5  XMMXCS J003351.5-075146.4  1.050926            Y               NaN  "
      ]
     },
     "execution_count": 32,
     "metadata": {},
     "output_type": "execute_result"
    }
   ],
   "source": [
    "sdssxcs_base = pd.read_csv(\"../../sample_files/SDSSRM-XCS_base_sample.csv\")\n",
    "sdssxcs_base.head(6)"
   ]
  },
  {
   "cell_type": "markdown",
   "id": "d5ee0b64-e4cf-4bfe-948b-ec03503c68cb",
   "metadata": {},
   "source": [
    "### $M^{\\rm{tot}}_{500}$-$M^{\\rm{gas}}_{500}$"
   ]
  },
  {
   "cell_type": "code",
   "execution_count": 2,
   "id": "39d690f3-ecb0-4fdb-a8bc-de7d4d5f3f4f",
   "metadata": {},
   "outputs": [],
   "source": [
    "with open('../../outputs/scaling_relations/sdssrm-xcs_new/mtot-mgas/turner2025_mtot500_mgas500.xgarel', 'rb') as scalo:\n",
    "    mtot500_mgas500 = pickle.load(scalo)"
   ]
  },
  {
   "cell_type": "markdown",
   "id": "a3bd2248-61e7-4e53-add1-30a5c9693224",
   "metadata": {},
   "source": [
    "### $M^{\\rm{tot}}_{2500}$-$M^{\\rm{gas}}_{2500}$"
   ]
  },
  {
   "cell_type": "code",
   "execution_count": 3,
   "id": "3a47238e-2bd9-4756-8d49-01b9fd32258a",
   "metadata": {},
   "outputs": [],
   "source": [
    "with open('../../outputs/scaling_relations/sdssrm-xcs_new/mtot-mgas/turner2025_mtot2500_mgas2500.xgarel', 'rb') as scalo:\n",
    "    mtot2500_mgas2500 = pickle.load(scalo)"
   ]
  },
  {
   "cell_type": "markdown",
   "id": "62f2a14d-d2d2-4440-99e3-1f0c75665413",
   "metadata": {},
   "source": [
    "## Calculating $f_{\\rm{gas}}$ distributions"
   ]
  },
  {
   "cell_type": "markdown",
   "id": "3fee0a5b-a2d8-4cd5-9356-d5365c6cc937",
   "metadata": {},
   "source": [
    "We measure the $f_{\\rm{gas}}$ value for the galaxy clusters in the new SDSSRM-XCS $M_{\\rm{tot}}$-$M_{\\rm{gas}}$ scaling relations - this results in two distributions, one for $f_{\\rm{gas}}$ within $R_{2500}$ and another for $f_{\\rm{gas}}$ within $R_{500}$. We make no attempt to measure an evolution of $f_{\\rm{gas}}$ with halo mass at this point."
   ]
  },
  {
   "cell_type": "code",
   "execution_count": null,
   "id": "4ba0049b-a206-46c9-a34f-a8aa0dcc3960",
   "metadata": {},
   "outputs": [],
   "source": [
    "# Measuring gas fractions is a simple calculation thankfully\n",
    "gfrac_2500 = mtot2500_mgas2500.x_data[:, 0]/mtot2500_mgas2500.y_data[:, 0]\n",
    "\n",
    "# TODO PROPAGATE ERRORS\n",
    "\n",
    "gfrac_500 = mtot500_mgas500.x_data[:, 0]/mtot500_mgas500.y_data[:, 0]"
   ]
  },
  {
   "cell_type": "markdown",
   "id": "47407d46-1bde-4416-8a2b-3150576fdd20",
   "metadata": {},
   "source": [
    "### Visualizing the distributions"
   ]
  },
  {
   "cell_type": "code",
   "execution_count": 4,
   "id": "8fcc9b94-361d-4f0b-8d6a-17c06e09b2c8",
   "metadata": {},
   "outputs": [],
   "source": [
    "# Set up the bins for the fgas histogram; 0-1 in 0.025 wide steps\n",
    "frac_bins = np.linspace(0, 1, 41)"
   ]
  },
  {
   "cell_type": "code",
   "execution_count": 36,
   "id": "ef24d7c6-584b-4744-be17-c8f6b4c00d3f",
   "metadata": {},
   "outputs": [
    {
     "data": {
      "image/png": "[encoded data removed]",
      "text/plain": [
       "<Figure size 550x550 with 1 Axes>"
      ]
     },
     "metadata": {},
     "output_type": "display_data"
    }
   ],
   "source": [
    "plt.figure(figsize=(5.5, 5.5))\n",
    "plt.minorticks_on()\n",
    "plt.tick_params(which='both', direction='in', top=True, right=True)\n",
    "\n",
    "plt.hist(gfrac_2500, bins=frac_bins, color='goldenrod', alpha=0.9, histtype='step', label=r'$R_{2500}$', linewidth=2)\n",
    "plt.hist(gfrac_500, bins=frac_bins, color='cadetblue', alpha=0.4, histtype='stepfilled', label=r'$R_{500}$')\n",
    "\n",
    "plt.xlabel(r\"$𝑓_{\\rm{gas}}$\", fontsize=16)\n",
    "plt.ylabel(r\"N\", fontsize=16)\n",
    "\n",
    "plt.legend(fontsize=15)\n",
    "plt.tight_layout()\n",
    "plt.savefig(\"../../outputs/figures/gas_fraction/gas_frac_dist.pdf\")\n",
    "plt.show()"
   ]
  },
  {
   "cell_type": "markdown",
   "id": "c699b8c6-d5a7-4152-ad4d-155563f58f46",
   "metadata": {},
   "source": [
    "### Outputting gas $f_{\\rm{gas}}$ values"
   ]
  },
  {
   "cell_type": "markdown",
   "id": "f446b569-e855-44cc-81f3-2fa68992e550",
   "metadata": {},
   "source": [
    "We save the calculated $f_{\\rm{gas}}$ values to a results file:"
   ]
  },
  {
   "cell_type": "code",
   "execution_count": 33,
   "id": "0a9d2838-2dec-46e5-93e5-f520b5128d55",
   "metadata": {},
   "outputs": [],
   "source": [
    "fgas_dat = []\n",
    "fgas_col = []\n",
    "fgas_df = pd.DataFrame(fgas_dat, columns=fgas_col)\n",
    "# fgas_df.to_csv(\"../../outputs/result_files/gas_fractions.csv\", index=False)"
   ]
  }
 ],
 "metadata": {
  "kernelspec": {
   "display_name": "Python 3 (ipykernel)",
   "language": "python",
   "name": "python3"
  },
  "language_info": {
   "codemirror_mode": {
    "name": "ipython",
    "version": 3
   },
   "file_extension": ".py",
   "mimetype": "text/x-python",
   "name": "python",
   "nbconvert_exporter": "python",
   "pygments_lexer": "ipython3",
   "version": "3.12.5"
  }
 },
 "nbformat": 4,
 "nbformat_minor": 5
}
