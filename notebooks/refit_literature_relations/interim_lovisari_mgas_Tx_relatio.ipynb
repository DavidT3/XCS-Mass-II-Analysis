{
 "cells": [
  {
   "cell_type": "code",
   "execution_count": 1,
   "id": "67c9cef3",
   "metadata": {},
   "outputs": [],
   "source": [
    "import pandas as pd\n",
    "import numpy as np\n",
    "from astropy.units import Quantity\n",
    "from astropy.cosmology import LambdaCDM\n",
    "\n",
    "from xga.relations.fit import scaling_relation_lira"
   ]
  },
  {
   "cell_type": "code",
   "execution_count": 2,
   "id": "2f40c633",
   "metadata": {},
   "outputs": [
    {
     "data": {
      "text/html": [
       "<div>\n",
       "<style scoped>\n",
       "    .dataframe tbody tr th:only-of-type {\n",
       "        vertical-align: middle;\n",
       "    }\n",
       "\n",
       "    .dataframe tbody tr th {\n",
       "        vertical-align: top;\n",
       "    }\n",
       "\n",
       "    .dataframe thead th {\n",
       "        text-align: right;\n",
       "    }\n",
       "</style>\n",
       "<table border=\"1\" class=\"dataframe\">\n",
       "  <thead>\n",
       "    <tr style=\"text-align: right;\">\n",
       "      <th></th>\n",
       "      <th>PLCKESZ</th>\n",
       "      <th>z</th>\n",
       "      <th>M500</th>\n",
       "      <th>E_M500</th>\n",
       "      <th>e_M500</th>\n",
       "      <th>Mg500</th>\n",
       "      <th>E_Mg500</th>\n",
       "      <th>e_Mg500</th>\n",
       "      <th>kT</th>\n",
       "      <th>E_kT</th>\n",
       "      <th>...</th>\n",
       "      <th>E_Lbolexc</th>\n",
       "      <th>e_Lbolexc</th>\n",
       "      <th>NT</th>\n",
       "      <th>fT</th>\n",
       "      <th>Nsb</th>\n",
       "      <th>fsb</th>\n",
       "      <th>Simbad</th>\n",
       "      <th>NED</th>\n",
       "      <th>_RA</th>\n",
       "      <th>_DE</th>\n",
       "    </tr>\n",
       "  </thead>\n",
       "  <tbody>\n",
       "    <tr>\n",
       "      <th>0</th>\n",
       "      <td>G000.44-41.83</td>\n",
       "      <td>0.165</td>\n",
       "      <td>5.01</td>\n",
       "      <td>0.55</td>\n",
       "      <td>0.48</td>\n",
       "      <td>6.61</td>\n",
       "      <td>0.36</td>\n",
       "      <td>0.33</td>\n",
       "      <td>5.85</td>\n",
       "      <td>0.32</td>\n",
       "      <td>...</td>\n",
       "      <td>0.47</td>\n",
       "      <td>0.47</td>\n",
       "      <td>6</td>\n",
       "      <td>1.00</td>\n",
       "      <td>20</td>\n",
       "      <td>1.21</td>\n",
       "      <td>Simbad</td>\n",
       "      <td>NED</td>\n",
       "      <td>316.051</td>\n",
       "      <td>-41.325</td>\n",
       "    </tr>\n",
       "    <tr>\n",
       "      <th>1</th>\n",
       "      <td>G002.74-56.18</td>\n",
       "      <td>0.141</td>\n",
       "      <td>4.96</td>\n",
       "      <td>0.43</td>\n",
       "      <td>0.28</td>\n",
       "      <td>5.63</td>\n",
       "      <td>0.21</td>\n",
       "      <td>0.14</td>\n",
       "      <td>5.36</td>\n",
       "      <td>0.12</td>\n",
       "      <td>...</td>\n",
       "      <td>0.23</td>\n",
       "      <td>0.23</td>\n",
       "      <td>10</td>\n",
       "      <td>0.94</td>\n",
       "      <td>49</td>\n",
       "      <td>1.08</td>\n",
       "      <td>Simbad</td>\n",
       "      <td>NED</td>\n",
       "      <td>334.681</td>\n",
       "      <td>-38.892</td>\n",
       "    </tr>\n",
       "    <tr>\n",
       "      <th>2</th>\n",
       "      <td>G003.90-59.41</td>\n",
       "      <td>0.151</td>\n",
       "      <td>6.94</td>\n",
       "      <td>0.19</td>\n",
       "      <td>0.19</td>\n",
       "      <td>8.65</td>\n",
       "      <td>0.08</td>\n",
       "      <td>0.08</td>\n",
       "      <td>7.06</td>\n",
       "      <td>0.13</td>\n",
       "      <td>...</td>\n",
       "      <td>0.43</td>\n",
       "      <td>0.43</td>\n",
       "      <td>10</td>\n",
       "      <td>0.98</td>\n",
       "      <td>63</td>\n",
       "      <td>1.08</td>\n",
       "      <td>Simbad</td>\n",
       "      <td>NED</td>\n",
       "      <td>338.618</td>\n",
       "      <td>-37.752</td>\n",
       "    </tr>\n",
       "    <tr>\n",
       "      <th>3</th>\n",
       "      <td>G006.70-35.54</td>\n",
       "      <td>0.089</td>\n",
       "      <td>2.42</td>\n",
       "      <td>0.04</td>\n",
       "      <td>0.03</td>\n",
       "      <td>4.27</td>\n",
       "      <td>0.05</td>\n",
       "      <td>0.08</td>\n",
       "      <td>4.72</td>\n",
       "      <td>0.08</td>\n",
       "      <td>...</td>\n",
       "      <td>0.21</td>\n",
       "      <td>0.21</td>\n",
       "      <td>15</td>\n",
       "      <td>1.14</td>\n",
       "      <td>45</td>\n",
       "      <td>1.18</td>\n",
       "      <td>Simbad</td>\n",
       "      <td>NED</td>\n",
       "      <td>308.691</td>\n",
       "      <td>-35.810</td>\n",
       "    </tr>\n",
       "    <tr>\n",
       "      <th>4</th>\n",
       "      <td>G006.78+30.46</td>\n",
       "      <td>0.203</td>\n",
       "      <td>17.56</td>\n",
       "      <td>0.28</td>\n",
       "      <td>0.27</td>\n",
       "      <td>32.00</td>\n",
       "      <td>0.24</td>\n",
       "      <td>0.22</td>\n",
       "      <td>14.37</td>\n",
       "      <td>0.12</td>\n",
       "      <td>...</td>\n",
       "      <td>0.84</td>\n",
       "      <td>0.84</td>\n",
       "      <td>19</td>\n",
       "      <td>1.26</td>\n",
       "      <td>171</td>\n",
       "      <td>1.62</td>\n",
       "      <td>Simbad</td>\n",
       "      <td>NED</td>\n",
       "      <td>243.952</td>\n",
       "      <td>-6.132</td>\n",
       "    </tr>\n",
       "    <tr>\n",
       "      <th>...</th>\n",
       "      <td>...</td>\n",
       "      <td>...</td>\n",
       "      <td>...</td>\n",
       "      <td>...</td>\n",
       "      <td>...</td>\n",
       "      <td>...</td>\n",
       "      <td>...</td>\n",
       "      <td>...</td>\n",
       "      <td>...</td>\n",
       "      <td>...</td>\n",
       "      <td>...</td>\n",
       "      <td>...</td>\n",
       "      <td>...</td>\n",
       "      <td>...</td>\n",
       "      <td>...</td>\n",
       "      <td>...</td>\n",
       "      <td>...</td>\n",
       "      <td>...</td>\n",
       "      <td>...</td>\n",
       "      <td>...</td>\n",
       "      <td>...</td>\n",
       "    </tr>\n",
       "    <tr>\n",
       "      <th>115</th>\n",
       "      <td>G336.59-55.44</td>\n",
       "      <td>0.097</td>\n",
       "      <td>3.78</td>\n",
       "      <td>0.71</td>\n",
       "      <td>0.52</td>\n",
       "      <td>4.88</td>\n",
       "      <td>0.46</td>\n",
       "      <td>0.36</td>\n",
       "      <td>4.69</td>\n",
       "      <td>0.24</td>\n",
       "      <td>...</td>\n",
       "      <td>0.15</td>\n",
       "      <td>0.15</td>\n",
       "      <td>20</td>\n",
       "      <td>1.05</td>\n",
       "      <td>23</td>\n",
       "      <td>1.19</td>\n",
       "      <td>Simbad</td>\n",
       "      <td>NED</td>\n",
       "      <td>341.597</td>\n",
       "      <td>-52.720</td>\n",
       "    </tr>\n",
       "    <tr>\n",
       "      <th>116</th>\n",
       "      <td>G337.09-25.97</td>\n",
       "      <td>0.260</td>\n",
       "      <td>5.75</td>\n",
       "      <td>0.50</td>\n",
       "      <td>0.41</td>\n",
       "      <td>8.94</td>\n",
       "      <td>0.34</td>\n",
       "      <td>0.30</td>\n",
       "      <td>5.67</td>\n",
       "      <td>0.22</td>\n",
       "      <td>...</td>\n",
       "      <td>0.28</td>\n",
       "      <td>0.28</td>\n",
       "      <td>5</td>\n",
       "      <td>0.56</td>\n",
       "      <td>21</td>\n",
       "      <td>1.16</td>\n",
       "      <td>Simbad</td>\n",
       "      <td>NED</td>\n",
       "      <td>288.583</td>\n",
       "      <td>-59.513</td>\n",
       "    </tr>\n",
       "    <tr>\n",
       "      <th>117</th>\n",
       "      <td>G342.31-34.90</td>\n",
       "      <td>0.232</td>\n",
       "      <td>6.85</td>\n",
       "      <td>0.74</td>\n",
       "      <td>0.62</td>\n",
       "      <td>9.49</td>\n",
       "      <td>0.45</td>\n",
       "      <td>0.40</td>\n",
       "      <td>6.48</td>\n",
       "      <td>1.07</td>\n",
       "      <td>...</td>\n",
       "      <td>1.71</td>\n",
       "      <td>1.71</td>\n",
       "      <td>2</td>\n",
       "      <td>0.59</td>\n",
       "      <td>13</td>\n",
       "      <td>0.92</td>\n",
       "      <td>Simbad</td>\n",
       "      <td>NED</td>\n",
       "      <td>305.801</td>\n",
       "      <td>-55.593</td>\n",
       "    </tr>\n",
       "    <tr>\n",
       "      <th>118</th>\n",
       "      <td>G347.18-27.35</td>\n",
       "      <td>0.237</td>\n",
       "      <td>8.24</td>\n",
       "      <td>0.63</td>\n",
       "      <td>0.73</td>\n",
       "      <td>11.07</td>\n",
       "      <td>0.43</td>\n",
       "      <td>0.50</td>\n",
       "      <td>8.31</td>\n",
       "      <td>0.40</td>\n",
       "      <td>...</td>\n",
       "      <td>0.81</td>\n",
       "      <td>0.81</td>\n",
       "      <td>8</td>\n",
       "      <td>0.96</td>\n",
       "      <td>24</td>\n",
       "      <td>1.21</td>\n",
       "      <td>Simbad</td>\n",
       "      <td>NED</td>\n",
       "      <td>293.715</td>\n",
       "      <td>-50.867</td>\n",
       "    </tr>\n",
       "    <tr>\n",
       "      <th>119</th>\n",
       "      <td>G349.46-59.94</td>\n",
       "      <td>0.347</td>\n",
       "      <td>13.59</td>\n",
       "      <td>0.68</td>\n",
       "      <td>0.65</td>\n",
       "      <td>22.38</td>\n",
       "      <td>0.44</td>\n",
       "      <td>0.42</td>\n",
       "      <td>10.30</td>\n",
       "      <td>0.22</td>\n",
       "      <td>...</td>\n",
       "      <td>0.39</td>\n",
       "      <td>0.39</td>\n",
       "      <td>7</td>\n",
       "      <td>1.00</td>\n",
       "      <td>47</td>\n",
       "      <td>1.14</td>\n",
       "      <td>Simbad</td>\n",
       "      <td>NED</td>\n",
       "      <td>342.206</td>\n",
       "      <td>-44.532</td>\n",
       "    </tr>\n",
       "  </tbody>\n",
       "</table>\n",
       "<p>120 rows × 34 columns</p>\n",
       "</div>"
      ],
      "text/plain": [
       "           PLCKESZ      z   M500  E_M500  e_M500  Mg500  E_Mg500  e_Mg500  \\\n",
       "0    G000.44-41.83  0.165   5.01    0.55    0.48   6.61     0.36     0.33   \n",
       "1    G002.74-56.18  0.141   4.96    0.43    0.28   5.63     0.21     0.14   \n",
       "2    G003.90-59.41  0.151   6.94    0.19    0.19   8.65     0.08     0.08   \n",
       "3    G006.70-35.54  0.089   2.42    0.04    0.03   4.27     0.05     0.08   \n",
       "4    G006.78+30.46  0.203  17.56    0.28    0.27  32.00     0.24     0.22   \n",
       "..             ...    ...    ...     ...     ...    ...      ...      ...   \n",
       "115  G336.59-55.44  0.097   3.78    0.71    0.52   4.88     0.46     0.36   \n",
       "116  G337.09-25.97  0.260   5.75    0.50    0.41   8.94     0.34     0.30   \n",
       "117  G342.31-34.90  0.232   6.85    0.74    0.62   9.49     0.45     0.40   \n",
       "118  G347.18-27.35  0.237   8.24    0.63    0.73  11.07     0.43     0.50   \n",
       "119  G349.46-59.94  0.347  13.59    0.68    0.65  22.38     0.44     0.42   \n",
       "\n",
       "        kT  E_kT  ...  E_Lbolexc  e_Lbolexc  NT    fT  Nsb   fsb  Simbad  NED  \\\n",
       "0     5.85  0.32  ...       0.47       0.47   6  1.00   20  1.21  Simbad  NED   \n",
       "1     5.36  0.12  ...       0.23       0.23  10  0.94   49  1.08  Simbad  NED   \n",
       "2     7.06  0.13  ...       0.43       0.43  10  0.98   63  1.08  Simbad  NED   \n",
       "3     4.72  0.08  ...       0.21       0.21  15  1.14   45  1.18  Simbad  NED   \n",
       "4    14.37  0.12  ...       0.84       0.84  19  1.26  171  1.62  Simbad  NED   \n",
       "..     ...   ...  ...        ...        ...  ..   ...  ...   ...     ...  ...   \n",
       "115   4.69  0.24  ...       0.15       0.15  20  1.05   23  1.19  Simbad  NED   \n",
       "116   5.67  0.22  ...       0.28       0.28   5  0.56   21  1.16  Simbad  NED   \n",
       "117   6.48  1.07  ...       1.71       1.71   2  0.59   13  0.92  Simbad  NED   \n",
       "118   8.31  0.40  ...       0.81       0.81   8  0.96   24  1.21  Simbad  NED   \n",
       "119  10.30  0.22  ...       0.39       0.39   7  1.00   47  1.14  Simbad  NED   \n",
       "\n",
       "         _RA     _DE  \n",
       "0    316.051 -41.325  \n",
       "1    334.681 -38.892  \n",
       "2    338.618 -37.752  \n",
       "3    308.691 -35.810  \n",
       "4    243.952  -6.132  \n",
       "..       ...     ...  \n",
       "115  341.597 -52.720  \n",
       "116  288.583 -59.513  \n",
       "117  305.801 -55.593  \n",
       "118  293.715 -50.867  \n",
       "119  342.206 -44.532  \n",
       "\n",
       "[120 rows x 34 columns]"
      ]
     },
     "execution_count": 2,
     "metadata": {},
     "output_type": "execute_result"
    }
   ],
   "source": [
    "sample = pd.read_csv('../../useful_samples/lovisari_xray.csv')\n",
    "sample"
   ]
  },
  {
   "cell_type": "code",
   "execution_count": 3,
   "id": "582605cf",
   "metadata": {},
   "outputs": [
    {
     "data": {
      "text/plain": [
       "Index(['PLCKESZ', 'z', 'M500', 'E_M500', 'e_M500', 'Mg500', 'E_Mg500',\n",
       "       'e_Mg500', 'kT', 'E_kT', 'e_kT', 'kTexc', 'E_kTexc', 'e_kTexc', 'LX',\n",
       "       'E_LX', 'e_LX', 'LXexc', 'E_LXexc', 'e_LXexc', 'Lbol', 'E_Lbol',\n",
       "       'e_Lbol', 'Lbolexc', 'E_Lbolexc', 'e_Lbolexc', 'NT', 'fT', 'Nsb', 'fsb',\n",
       "       'Simbad', 'NED', '_RA', '_DE'],\n",
       "      dtype='object')"
      ]
     },
     "execution_count": 3,
     "metadata": {},
     "output_type": "execute_result"
    }
   ],
   "source": [
    "sample.columns"
   ]
  },
  {
   "cell_type": "code",
   "execution_count": 4,
   "id": "ebdeaae0",
   "metadata": {},
   "outputs": [],
   "source": [
    "cosmo = LambdaCDM(70, 0.3, 0.7)"
   ]
  },
  {
   "cell_type": "code",
   "execution_count": 5,
   "id": "b8913847",
   "metadata": {
    "scrolled": false
   },
   "outputs": [
    {
     "name": "stdout",
     "output_type": "stream",
     "text": [
      "6.265000000000001 keV\n",
      "8.788019248047677 1e+13 solMass\n"
     ]
    }
   ],
   "source": [
    "efunc = cosmo.efunc(sample['z'].values)\n",
    "tx = Quantity(sample[['kT', 'e_kT', 'E_kT']].values, 'keV')\n",
    "mgas = Quantity(sample[['Mg500', 'e_Mg500', 'E_Mg500']].values*1e+13, 'Msun')*efunc[..., None]\n",
    "\n",
    "t_norm = np.median(tx[:, 0])\n",
    "mg_norm = np.median(mgas[:, 0])\n",
    "print(t_norm)\n",
    "print(mg_norm.to('1e+13Msun'))"
   ]
  },
  {
   "cell_type": "markdown",
   "id": "187a63f2",
   "metadata": {},
   "source": [
    "tx[:, 0], tx[:, 1:], lx[:, 0], lx[:, 1:], t_norm, l_norm, \n",
    "                            y_name=r'$E(z)T_{\\rm{X,500}}$', \n",
    "                            x_name=r'$L^{0.1-2.4keV}_{\\rm{X,500}}$'"
   ]
  },
  {
   "cell_type": "code",
   "execution_count": 6,
   "id": "8f64220d",
   "metadata": {},
   "outputs": [
    {
     "name": "stderr",
     "output_type": "stream",
     "text": [
      "R[write to console]: module mix loaded\n",
      "\n"
     ]
    },
    {
     "name": "stdout",
     "output_type": "stream",
     "text": [
      "  |**************************************************| 100%\n"
     ]
    }
   ],
   "source": [
    "mgas_tx = scaling_relation_lira(mgas[:, 0], mgas[:, 1:], tx[:, 0], tx[:, 1:], mg_norm, t_norm, \n",
    "                                y_name=r\"$E(z)M^{\\rm{gas}}_{500}$\", x_name=r\"$T_{\\rm{X,500}}$\", dim_hubb_ind=1)"
   ]
  },
  {
   "cell_type": "code",
   "execution_count": 7,
   "id": "7464acab",
   "metadata": {},
   "outputs": [
    {
     "data": {
      "image/png": "[encoded data removed]",
      "text/plain": [
       "<Figure size 504x504 with 1 Axes>"
      ]
     },
     "metadata": {
      "needs_background": "light"
     },
     "output_type": "display_data"
    }
   ],
   "source": [
    "mgas_tx.view(figsize=(7, 7))"
   ]
  },
  {
   "cell_type": "code",
   "execution_count": 8,
   "id": "e69e1be6",
   "metadata": {},
   "outputs": [
    {
     "data": {
      "text/plain": [
       "['slope', 'norm']"
      ]
     },
     "execution_count": 8,
     "metadata": {},
     "output_type": "execute_result"
    }
   ],
   "source": [
    "mgas_tx.par_names"
   ]
  },
  {
   "cell_type": "code",
   "execution_count": 9,
   "id": "d57eb342",
   "metadata": {},
   "outputs": [
    {
     "data": {
      "text/plain": [
       "array([[1.97088387, 0.08826349],\n",
       "       [0.97293563, 0.02123864]])"
      ]
     },
     "execution_count": 9,
     "metadata": {},
     "output_type": "execute_result"
    }
   ],
   "source": [
    "mgas_tx.pars"
   ]
  },
  {
   "cell_type": "code",
   "execution_count": 15,
   "id": "f208a94b",
   "metadata": {},
   "outputs": [
    {
     "data": {
      "text/latex": [
       "$8.7880192 \\times 10^{13} \\; \\mathrm{M_{\\odot}}$"
      ],
      "text/plain": [
       "<Quantity 8.78801925e+13 solMass>"
      ]
     },
     "execution_count": 15,
     "metadata": {},
     "output_type": "execute_result"
    }
   ],
   "source": [
    "mgas_tx.y_norm"
   ]
  },
  {
   "cell_type": "code",
   "execution_count": 13,
   "id": "d2cb3bb9",
   "metadata": {},
   "outputs": [
    {
     "data": {
      "text/plain": [
       "6.265000000000001"
      ]
     },
     "execution_count": 13,
     "metadata": {},
     "output_type": "execute_result"
    }
   ],
   "source": [
    "mgas_tx.x_norm.value"
   ]
  },
  {
   "cell_type": "code",
   "execution_count": 10,
   "id": "fd8c780d",
   "metadata": {},
   "outputs": [
    {
     "name": "stdout",
     "output_type": "stream",
     "text": [
      "Removed no burn in\n"
     ]
    },
    {
     "data": {
      "image/png": "[encoded data removed]",
      "text/plain": [
       "<Figure size 720x720 with 6 Axes>"
      ]
     },
     "metadata": {
      "needs_background": "light"
     },
     "output_type": "display_data"
    }
   ],
   "source": [
    "mgas_tx.view_corner()"
   ]
  },
  {
   "cell_type": "code",
   "execution_count": 11,
   "id": "36a316c8",
   "metadata": {},
   "outputs": [],
   "source": [
    "# t_l.save('lovisari_T500vsL_0.12.4_500_xgav0.4.xgarel')"
   ]
  }
 ],
 "metadata": {
  "kernelspec": {
   "display_name": "Python 3 (ipykernel)",
   "language": "python",
   "name": "python3"
  },
  "language_info": {
   "codemirror_mode": {
    "name": "ipython",
    "version": 3
   },
   "file_extension": ".py",
   "mimetype": "text/x-python",
   "name": "python",
   "nbconvert_exporter": "python",
   "pygments_lexer": "ipython3",
   "version": "3.8.12"
  }
 },
 "nbformat": 4,
 "nbformat_minor": 5
}
